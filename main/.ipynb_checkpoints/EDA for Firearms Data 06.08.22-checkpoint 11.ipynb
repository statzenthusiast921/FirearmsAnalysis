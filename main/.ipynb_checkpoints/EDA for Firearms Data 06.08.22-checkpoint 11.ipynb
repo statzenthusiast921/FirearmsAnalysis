{
 "cells": [
  {
   "cell_type": "markdown",
   "metadata": {},
   "source": [
    "# Part 1: Read in datasets/exploratory data analysis"
   ]
  },
  {
   "cell_type": "code",
   "execution_count": 1,
   "metadata": {},
   "outputs": [
    {
     "name": "stdout",
     "output_type": "stream",
     "text": [
      "Dataset #1 Dimensions:  (1400, 4)\n",
      "Dataset #2 Dimensions:  (1850, 20)\n",
      "Dataset #3 Dimensions:  (2666, 27)\n"
     ]
    }
   ],
   "source": [
    "#Import libraries\n",
    "import pandas as pd\n",
    "import numpy as np\n",
    "\n",
    "#Read in data\n",
    "deaths = pd.read_csv(\"/Users/jonzimmerman/Desktop/Data Projects/FirearmsAnalysis/main/firearm_deaths.csv\")\n",
    "ownership = pd.read_excel(\"/Users/jonzimmerman/Desktop/Data Projects/FirearmsAnalysis/main/TL-354-State-Level Estimates of Household Firearm Ownership.xlsx\",sheet_name='State-Level Data & Factor Score')\n",
    "laws = pd.read_excel(\"/Users/jonzimmerman/Desktop/Data Projects/FirearmsAnalysis/main/TL-A243-2 State Firearm Law Database 3.0.xlsx\",sheet_name='Database')\n",
    "\n",
    "print(\"Dataset #1 Dimensions: \", deaths.shape)\n",
    "print(\"Dataset #2 Dimensions: \", ownership.shape)\n",
    "print(\"Dataset #3 Dimensions: \", laws.shape)"
   ]
  },
  {
   "cell_type": "code",
   "execution_count": 2,
   "metadata": {
    "scrolled": true
   },
   "outputs": [
    {
     "data": {
      "text/html": [
       "<div>\n",
       "<style scoped>\n",
       "    .dataframe tbody tr th:only-of-type {\n",
       "        vertical-align: middle;\n",
       "    }\n",
       "\n",
       "    .dataframe tbody tr th {\n",
       "        vertical-align: top;\n",
       "    }\n",
       "\n",
       "    .dataframe thead th {\n",
       "        text-align: right;\n",
       "    }\n",
       "</style>\n",
       "<table border=\"1\" class=\"dataframe\">\n",
       "  <thead>\n",
       "    <tr style=\"text-align: right;\">\n",
       "      <th></th>\n",
       "      <th>State</th>\n",
       "      <th>ST</th>\n",
       "    </tr>\n",
       "  </thead>\n",
       "  <tbody>\n",
       "    <tr>\n",
       "      <th>0</th>\n",
       "      <td>Alabama</td>\n",
       "      <td>AL</td>\n",
       "    </tr>\n",
       "    <tr>\n",
       "      <th>43</th>\n",
       "      <td>Alaska</td>\n",
       "      <td>AK</td>\n",
       "    </tr>\n",
       "    <tr>\n",
       "      <th>92</th>\n",
       "      <td>Arizona</td>\n",
       "      <td>AZ</td>\n",
       "    </tr>\n",
       "    <tr>\n",
       "      <th>144</th>\n",
       "      <td>Arkansas</td>\n",
       "      <td>AR</td>\n",
       "    </tr>\n",
       "    <tr>\n",
       "      <th>193</th>\n",
       "      <td>California</td>\n",
       "      <td>CA</td>\n",
       "    </tr>\n",
       "  </tbody>\n",
       "</table>\n",
       "</div>"
      ],
      "text/plain": [
       "          State  ST\n",
       "0       Alabama  AL\n",
       "43       Alaska  AK\n",
       "92      Arizona  AZ\n",
       "144    Arkansas  AR\n",
       "193  California  CA"
      ]
     },
     "execution_count": 2,
     "metadata": {},
     "output_type": "execute_result"
    }
   ],
   "source": [
    "#Get a states dataset with Full name and abbreviation to make joining easier\n",
    "states_df = laws[['State','State Postal Abbreviation']]\n",
    "states_df = states_df.rename(\n",
    "    columns={\n",
    "        'State Postal Abbreviation': 'ST'\n",
    "    }\n",
    ")\n",
    "\n",
    "states_df.drop_duplicates(inplace=True)\n",
    "states_df.drop(states_df[states_df['State']=='DIstrict of Columbia'].index, inplace=True)\n",
    "states_df.drop(states_df[states_df['State']=='MIssissippi'].index, inplace=True)\n",
    "states_df.head()"
   ]
  },
  {
   "cell_type": "markdown",
   "metadata": {},
   "source": [
    "#### Part 1a: Look at the ownership data"
   ]
  },
  {
   "cell_type": "code",
   "execution_count": 3,
   "metadata": {
    "scrolled": false
   },
   "outputs": [
    {
     "name": "stdout",
     "output_type": "stream",
     "text": [
      "Dataset 1 Dimensions:  (1850, 11)\n",
      "Dataset 2 Dimensions:  (51, 2)\n",
      "Dataset 3 Dimensions:  (1850, 12)\n"
     ]
    },
    {
     "data": {
      "text/html": [
       "<div>\n",
       "<style scoped>\n",
       "    .dataframe tbody tr th:only-of-type {\n",
       "        vertical-align: middle;\n",
       "    }\n",
       "\n",
       "    .dataframe tbody tr th {\n",
       "        vertical-align: top;\n",
       "    }\n",
       "\n",
       "    .dataframe thead th {\n",
       "        text-align: right;\n",
       "    }\n",
       "</style>\n",
       "<table border=\"1\" class=\"dataframe\">\n",
       "  <thead>\n",
       "    <tr style=\"text-align: right;\">\n",
       "      <th></th>\n",
       "      <th>Year</th>\n",
       "      <th>State</th>\n",
       "      <th>universl</th>\n",
       "      <th>permit</th>\n",
       "      <th>BRFSS</th>\n",
       "      <th>GALLUP</th>\n",
       "      <th>GSS</th>\n",
       "      <th>PEW</th>\n",
       "      <th>HuntLic</th>\n",
       "      <th>GunsAmmo</th>\n",
       "      <th>BackChk</th>\n",
       "      <th>ST</th>\n",
       "    </tr>\n",
       "  </thead>\n",
       "  <tbody>\n",
       "    <tr>\n",
       "      <th>0</th>\n",
       "      <td>1980</td>\n",
       "      <td>Alabama</td>\n",
       "      <td>0</td>\n",
       "      <td>0</td>\n",
       "      <td>NaN</td>\n",
       "      <td>0.55395</td>\n",
       "      <td>0.583632</td>\n",
       "      <td>NaN</td>\n",
       "      <td>0.291102</td>\n",
       "      <td>-0.509164</td>\n",
       "      <td>NaN</td>\n",
       "      <td>AL</td>\n",
       "    </tr>\n",
       "    <tr>\n",
       "      <th>1</th>\n",
       "      <td>1981</td>\n",
       "      <td>Alabama</td>\n",
       "      <td>0</td>\n",
       "      <td>0</td>\n",
       "      <td>NaN</td>\n",
       "      <td>NaN</td>\n",
       "      <td>NaN</td>\n",
       "      <td>NaN</td>\n",
       "      <td>0.294962</td>\n",
       "      <td>-0.618954</td>\n",
       "      <td>NaN</td>\n",
       "      <td>AL</td>\n",
       "    </tr>\n",
       "    <tr>\n",
       "      <th>2</th>\n",
       "      <td>1982</td>\n",
       "      <td>Alabama</td>\n",
       "      <td>0</td>\n",
       "      <td>0</td>\n",
       "      <td>NaN</td>\n",
       "      <td>NaN</td>\n",
       "      <td>0.655196</td>\n",
       "      <td>NaN</td>\n",
       "      <td>0.290545</td>\n",
       "      <td>-0.526692</td>\n",
       "      <td>NaN</td>\n",
       "      <td>AL</td>\n",
       "    </tr>\n",
       "    <tr>\n",
       "      <th>3</th>\n",
       "      <td>1983</td>\n",
       "      <td>Alabama</td>\n",
       "      <td>0</td>\n",
       "      <td>0</td>\n",
       "      <td>NaN</td>\n",
       "      <td>0.61144</td>\n",
       "      <td>NaN</td>\n",
       "      <td>NaN</td>\n",
       "      <td>0.284983</td>\n",
       "      <td>-0.713227</td>\n",
       "      <td>NaN</td>\n",
       "      <td>AL</td>\n",
       "    </tr>\n",
       "    <tr>\n",
       "      <th>4</th>\n",
       "      <td>1984</td>\n",
       "      <td>Alabama</td>\n",
       "      <td>0</td>\n",
       "      <td>0</td>\n",
       "      <td>NaN</td>\n",
       "      <td>NaN</td>\n",
       "      <td>0.626933</td>\n",
       "      <td>NaN</td>\n",
       "      <td>0.281622</td>\n",
       "      <td>-0.733305</td>\n",
       "      <td>NaN</td>\n",
       "      <td>AL</td>\n",
       "    </tr>\n",
       "  </tbody>\n",
       "</table>\n",
       "</div>"
      ],
      "text/plain": [
       "   Year    State  universl  permit  BRFSS   GALLUP       GSS  PEW   HuntLic  \\\n",
       "0  1980  Alabama         0       0    NaN  0.55395  0.583632  NaN  0.291102   \n",
       "1  1981  Alabama         0       0    NaN      NaN       NaN  NaN  0.294962   \n",
       "2  1982  Alabama         0       0    NaN      NaN  0.655196  NaN  0.290545   \n",
       "3  1983  Alabama         0       0    NaN  0.61144       NaN  NaN  0.284983   \n",
       "4  1984  Alabama         0       0    NaN      NaN  0.626933  NaN  0.281622   \n",
       "\n",
       "   GunsAmmo  BackChk  ST  \n",
       "0 -0.509164      NaN  AL  \n",
       "1 -0.618954      NaN  AL  \n",
       "2 -0.526692      NaN  AL  \n",
       "3 -0.713227      NaN  AL  \n",
       "4 -0.733305      NaN  AL  "
      ]
     },
     "execution_count": 3,
     "metadata": {},
     "output_type": "execute_result"
    }
   ],
   "source": [
    "#1.) Rename column\n",
    "ownership = ownership.rename(columns={'STATE': 'State'})\n",
    "#2.) Replace -9 with NAN to not screw up calculations\n",
    "ownership = ownership.replace(-9,np.NaN)\n",
    "#3.) Remove columns I'm not using\n",
    "del ownership['FIP'],ownership['HFR'],ownership['Fem_FS_S'],ownership['Male_FS_S'],ownership['HFR_se'], ownership['BS1'], ownership['BS2'], ownership['BS3'], ownership['PewQChng']\n",
    "\n",
    "#4.) Add in State Abbrevs\n",
    "own_df = pd.merge(\n",
    "    ownership,\n",
    "    states_df,\n",
    "    how='left',\n",
    "    on=['State']\n",
    ")\n",
    "print(\"Dataset 1 Dimensions: \", ownership.shape)\n",
    "print(\"Dataset 2 Dimensions: \", states_df.shape)\n",
    "print(\"Dataset 3 Dimensions: \", own_df.shape)\n",
    "\n",
    "own_df.head()"
   ]
  },
  {
   "cell_type": "code",
   "execution_count": 4,
   "metadata": {
    "scrolled": true
   },
   "outputs": [
    {
     "data": {
      "image/png": "[encoded data removed]",
      "text/plain": [
       "<Figure size 432x288 with 2 Axes>"
      ]
     },
     "metadata": {
      "needs_background": "light"
     },
     "output_type": "display_data"
    }
   ],
   "source": [
    "#Combine ownership estimates\n",
    "own_df['avg_own_est'] = own_df[['BRFSS', 'GALLUP','GSS','PEW']].mean(axis=1)\n",
    "\n",
    "import seaborn as sn\n",
    "import matplotlib.pyplot as plt\n",
    "plt.rcParams[\"figure.figsize\"] = [6,4]\n",
    "matrix = own_df[['BRFSS', 'GALLUP','GSS','PEW','avg_own_est']]\n",
    "corrMatrix = matrix.corr()\n",
    "sn.heatmap(corrMatrix, annot=True,cmap=\"RdBu\",vmax=1,vmin=-1)\n",
    "plt.show()"
   ]
  },
  {
   "cell_type": "code",
   "execution_count": 5,
   "metadata": {},
   "outputs": [
    {
     "data": {
      "text/html": [
       "<div>\n",
       "<style scoped>\n",
       "    .dataframe tbody tr th:only-of-type {\n",
       "        vertical-align: middle;\n",
       "    }\n",
       "\n",
       "    .dataframe tbody tr th {\n",
       "        vertical-align: top;\n",
       "    }\n",
       "\n",
       "    .dataframe thead th {\n",
       "        text-align: right;\n",
       "    }\n",
       "</style>\n",
       "<table border=\"1\" class=\"dataframe\">\n",
       "  <thead>\n",
       "    <tr style=\"text-align: right;\">\n",
       "      <th></th>\n",
       "      <th>Year</th>\n",
       "      <th>State</th>\n",
       "      <th>universl</th>\n",
       "      <th>permit</th>\n",
       "      <th>HuntLic</th>\n",
       "      <th>GunsAmmo</th>\n",
       "      <th>BackChk</th>\n",
       "      <th>ST</th>\n",
       "      <th>avg_own_est</th>\n",
       "    </tr>\n",
       "  </thead>\n",
       "  <tbody>\n",
       "    <tr>\n",
       "      <th>0</th>\n",
       "      <td>1980</td>\n",
       "      <td>Alabama</td>\n",
       "      <td>0</td>\n",
       "      <td>0</td>\n",
       "      <td>0.291102</td>\n",
       "      <td>-0.509164</td>\n",
       "      <td>NaN</td>\n",
       "      <td>AL</td>\n",
       "      <td>0.568791</td>\n",
       "    </tr>\n",
       "    <tr>\n",
       "      <th>1</th>\n",
       "      <td>1981</td>\n",
       "      <td>Alabama</td>\n",
       "      <td>0</td>\n",
       "      <td>0</td>\n",
       "      <td>0.294962</td>\n",
       "      <td>-0.618954</td>\n",
       "      <td>NaN</td>\n",
       "      <td>AL</td>\n",
       "      <td>NaN</td>\n",
       "    </tr>\n",
       "    <tr>\n",
       "      <th>2</th>\n",
       "      <td>1982</td>\n",
       "      <td>Alabama</td>\n",
       "      <td>0</td>\n",
       "      <td>0</td>\n",
       "      <td>0.290545</td>\n",
       "      <td>-0.526692</td>\n",
       "      <td>NaN</td>\n",
       "      <td>AL</td>\n",
       "      <td>0.655196</td>\n",
       "    </tr>\n",
       "    <tr>\n",
       "      <th>3</th>\n",
       "      <td>1983</td>\n",
       "      <td>Alabama</td>\n",
       "      <td>0</td>\n",
       "      <td>0</td>\n",
       "      <td>0.284983</td>\n",
       "      <td>-0.713227</td>\n",
       "      <td>NaN</td>\n",
       "      <td>AL</td>\n",
       "      <td>0.611440</td>\n",
       "    </tr>\n",
       "    <tr>\n",
       "      <th>4</th>\n",
       "      <td>1984</td>\n",
       "      <td>Alabama</td>\n",
       "      <td>0</td>\n",
       "      <td>0</td>\n",
       "      <td>0.281622</td>\n",
       "      <td>-0.733305</td>\n",
       "      <td>NaN</td>\n",
       "      <td>AL</td>\n",
       "      <td>0.626933</td>\n",
       "    </tr>\n",
       "  </tbody>\n",
       "</table>\n",
       "</div>"
      ],
      "text/plain": [
       "   Year    State  universl  permit   HuntLic  GunsAmmo  BackChk  ST  \\\n",
       "0  1980  Alabama         0       0  0.291102 -0.509164      NaN  AL   \n",
       "1  1981  Alabama         0       0  0.294962 -0.618954      NaN  AL   \n",
       "2  1982  Alabama         0       0  0.290545 -0.526692      NaN  AL   \n",
       "3  1983  Alabama         0       0  0.284983 -0.713227      NaN  AL   \n",
       "4  1984  Alabama         0       0  0.281622 -0.733305      NaN  AL   \n",
       "\n",
       "   avg_own_est  \n",
       "0     0.568791  \n",
       "1          NaN  \n",
       "2     0.655196  \n",
       "3     0.611440  \n",
       "4     0.626933  "
      ]
     },
     "execution_count": 5,
     "metadata": {},
     "output_type": "execute_result"
    }
   ],
   "source": [
    "#Correlation between ownership estimates is really strong so lets keep the aggregated measure only\n",
    "del own_df['BRFSS'], own_df['GALLUP'], own_df['GSS'], own_df['PEW']\n",
    "own_df.head()"
   ]
  },
  {
   "cell_type": "code",
   "execution_count": 6,
   "metadata": {
    "scrolled": true
   },
   "outputs": [
    {
     "ename": "NameError",
     "evalue": "name 'px' is not defined",
     "output_type": "error",
     "traceback": [
      "\u001b[0;31m---------------------------------------------------------------------------\u001b[0m",
      "\u001b[0;31mNameError\u001b[0m                                 Traceback (most recent call last)",
      "\u001b[0;32m<ipython-input-6-e8e3e8c9b1ed>\u001b[0m in \u001b[0;36m<module>\u001b[0;34m\u001b[0m\n\u001b[1;32m      1\u001b[0m \u001b[0;32mimport\u001b[0m \u001b[0mplotly\u001b[0m\u001b[0;34m\u001b[0m\u001b[0;34m\u001b[0m\u001b[0m\n\u001b[0;32m----> 2\u001b[0;31m \u001b[0mfig\u001b[0m \u001b[0;34m=\u001b[0m \u001b[0mpx\u001b[0m\u001b[0;34m.\u001b[0m\u001b[0mline\u001b[0m\u001b[0;34m(\u001b[0m\u001b[0mown_df\u001b[0m\u001b[0;34m,\u001b[0m\u001b[0mx\u001b[0m\u001b[0;34m=\u001b[0m\u001b[0;34m\"Year\"\u001b[0m\u001b[0;34m,\u001b[0m\u001b[0my\u001b[0m\u001b[0;34m=\u001b[0m\u001b[0;34m'HuntLic'\u001b[0m\u001b[0;34m,\u001b[0m\u001b[0mcolor\u001b[0m\u001b[0;34m=\u001b[0m\u001b[0;34m'State'\u001b[0m\u001b[0;34m)\u001b[0m\u001b[0;34m\u001b[0m\u001b[0;34m\u001b[0m\u001b[0m\n\u001b[0m\u001b[1;32m      3\u001b[0m \u001b[0mfig\u001b[0m\u001b[0;34m.\u001b[0m\u001b[0mshow\u001b[0m\u001b[0;34m(\u001b[0m\u001b[0;34m)\u001b[0m\u001b[0;34m\u001b[0m\u001b[0;34m\u001b[0m\u001b[0m\n",
      "\u001b[0;31mNameError\u001b[0m: name 'px' is not defined"
     ]
    }
   ],
   "source": [
    "import plotly.express as px\n",
    "fig = px.line(own_df,x=\"Year\",y='HuntLic',color='State')\n",
    "fig.show()"
   ]
  },
  {
   "cell_type": "code",
   "execution_count": null,
   "metadata": {
    "scrolled": true
   },
   "outputs": [],
   "source": [
    "#Look at the correlation between gun measures\n",
    "plt.rcParams[\"figure.figsize\"] = [6,4]\n",
    "matrix = own_df[['HuntLic','GunsAmmo','BackChk','avg_own_est']]\n",
    "corrMatrix = matrix.corr()\n",
    "sn.heatmap(corrMatrix, annot=True,cmap=\"RdBu\",vmax=1,vmin=-1)\n",
    "plt.show()"
   ]
  },
  {
   "cell_type": "code",
   "execution_count": null,
   "metadata": {},
   "outputs": [],
   "source": [
    "#Look at measures over time - aggregate to year level\n",
    "test = own_df[['Year','HuntLic','GunsAmmo','BackChk','avg_own_est']]\n",
    "\n",
    "test.loc[:,'HuntLic']=(test['HuntLic']-test['HuntLic'].min())/(test['HuntLic'].max()-test['HuntLic'].min())\n",
    "test.loc[:,'GunsAmmo']=(test['GunsAmmo']-test['GunsAmmo'].min())/(test['GunsAmmo'].max()-test['GunsAmmo'].min())\n",
    "test.loc[:,'BackChk']=(test['BackChk']-test['BackChk'].min())/(test['BackChk'].max()-test['BackChk'].min())\n",
    "test.loc[:,'avg_own_est']=(test['avg_own_est']-test['avg_own_est'].min())/(test['avg_own_est'].max()-test['avg_own_est'].min())\n",
    "\n",
    "\n",
    "test = test.groupby(['Year'], as_index=False).agg(\n",
    "    {\n",
    "        'HuntLic':'mean', \n",
    "        'GunsAmmo':'mean',\n",
    "        'BackChk':'mean',\n",
    "        'avg_own_est':'mean'\n",
    "    }\n",
    ")\n",
    "\n",
    "fig = px.line(test,x=\"Year\",y=['avg_own_est','GunsAmmo','BackChk','avg_own_est'])\n",
    "fig.show()"
   ]
  },
  {
   "cell_type": "markdown",
   "metadata": {},
   "source": [
    "#### Part 1b: Look at the deaths dataset"
   ]
  },
  {
   "cell_type": "code",
   "execution_count": null,
   "metadata": {
    "scrolled": true
   },
   "outputs": [],
   "source": [
    "#Take a look at the deaths dataset - these will be the target variables\n",
    "deaths.head(2)"
   ]
  },
  {
   "cell_type": "code",
   "execution_count": null,
   "metadata": {
    "scrolled": true
   },
   "outputs": [],
   "source": [
    "#Look at trends in states aggregated over time\n",
    "states = ['MO','VA','DC']\n",
    "st_df = deaths[deaths['State'].isin(states)]\n",
    "st_df.head()\n",
    "test = st_df.groupby(['Year'], as_index=False).agg(\n",
    "    {\n",
    "        'Suicides':'mean', \n",
    "        'Homicides':'mean',\n",
    "    }\n",
    ")\n",
    "\n",
    "fig = px.line(test, x=\"Year\", y=[\"Suicides\",\"Homicides\"])\n",
    "fig.show()"
   ]
  },
  {
   "cell_type": "code",
   "execution_count": null,
   "metadata": {
    "scrolled": false
   },
   "outputs": [],
   "source": [
    "test = deaths[deaths['Year']==2010]\n",
    "fig = px.histogram(test, x=[\"Homicides\",\"Suicides\"],\n",
    "            marginal='box')\n",
    "fig.show()"
   ]
  },
  {
   "cell_type": "code",
   "execution_count": null,
   "metadata": {},
   "outputs": [],
   "source": [
    "print(\"Dataset 1 Dimensions: \", own_df.shape)\n",
    "#Join deaths and ownership data\n",
    "own_df = pd.merge(\n",
    "    own_df,\n",
    "    deaths,\n",
    "    how='left',\n",
    "    left_on=['ST','Year'],\n",
    "    right_on=['State','Year']\n",
    ")\n",
    "print(\"Dataset 2 Dimensions: \", deaths.shape)\n",
    "print(\"Dataset 3 Dimensions: \", own_df.shape)\n",
    "\n",
    "own_df.head()"
   ]
  },
  {
   "cell_type": "code",
   "execution_count": null,
   "metadata": {
    "scrolled": true
   },
   "outputs": [],
   "source": [
    "#Clean up own_df\n",
    "#1.) Delete extra state column\n",
    "del own_df['State_y']\n",
    "#2.) Rename first state column\n",
    "own_df = own_df.rename(columns={'State_x': 'State'})\n",
    "#3.) Filter out everything before 1991\n",
    "own_df = own_df[own_df['Year']>=1991]\n",
    "#Display results\n",
    "print(own_df.shape)\n",
    "own_df.head()"
   ]
  },
  {
   "cell_type": "markdown",
   "metadata": {},
   "source": [
    "#### Part 1c: Look at the Laws dataset"
   ]
  },
  {
   "cell_type": "code",
   "execution_count": null,
   "metadata": {},
   "outputs": [],
   "source": [
    "laws.head(2)"
   ]
  },
  {
   "cell_type": "code",
   "execution_count": null,
   "metadata": {
    "scrolled": true
   },
   "outputs": [],
   "source": [
    "#Fix Mississippi and District of Columbia\n",
    "laws['State'] = np.where(laws['State']=='MIssissippi', 'Mississippi', laws['State'])\n",
    "laws['State'] = np.where(laws['State']=='DIstrict of Columbia', 'District of Columbia', laws['State'])"
   ]
  },
  {
   "cell_type": "code",
   "execution_count": null,
   "metadata": {
    "scrolled": true
   },
   "outputs": [],
   "source": [
    "#Clean up the laws dataset\n",
    "\n",
    "#1.) Remove columns were not gonna use\n",
    "del laws['Statutory Citation']\n",
    "del laws['Law Class (num)']\n",
    "del laws['Controlling Law at Beginning of Period (1979)']\n",
    "del laws['Exception Code']\n",
    "del laws['Additional Context and Notes'],\n",
    "del laws['Caveats and Ambiguities']\n",
    "del laws['FIPS Code']\n",
    "del laws['Law Class Subtype']\n",
    "del laws['Supersession Date']\n",
    "del laws['Supersession Date Year']\n",
    "del laws['Supersession Date Month']\n",
    "del laws['Supersession Date Day']\n",
    "del laws['Effective Date Note']\n",
    "del laws['Effective Date Month']\n",
    "del laws['Effective Date Day']\n",
    "del laws['Handguns or Long Guns']\n",
    "\n",
    "\n",
    "#2.) Rename a couple of columns\n",
    "laws = laws.rename(\n",
    "    columns={\n",
    "        'State Postal Abbreviation': 'ST',\n",
    "        'Effective Date Year': 'Year',\n",
    "        'Age for Minimum Age Laws':'min_age',\n",
    "        'Length of Waiting Period (days, handguns)':'wait_days'\n",
    "    }\n",
    ")\n",
    "\n",
    "#3.) Filter data to 1991 and on - matches deaths dataset\n",
    "laws = laws[laws['Year']>=1991]\n",
    "laws['Year'] = laws['Year'].astype(int)\n",
    "\n",
    "#Display results\n",
    "laws.head(2)"
   ]
  },
  {
   "cell_type": "code",
   "execution_count": null,
   "metadata": {},
   "outputs": [],
   "source": [
    "# test = laws[['Law Class','min_age','wait_days']]\n",
    "# test['age_ind'] = np.where(test['Law Class']=='minimum age',1,0)\n",
    "# test['wait_ind'] = np.where(test['Law Class']=='waiting period',1,0)\n",
    "\n",
    "#test['age_ind'].sum() --> 75\n",
    "#test['wait_ind'].sum() --> 57\n",
    "\n",
    "#test2 = test[test['age_ind']==1]\n",
    "#test2['Age for Minimum Age Laws'].unique()\n",
    "#['18', '21', '17', nan, '18/21 depending on seller', '19']\n",
    "\n",
    "#test3 = test[test['wait_ind']==1]\n",
    "#test3['Length of Waiting Period (days, handguns)'].unique()\n",
    "#[nan, '5', '10', '14', '3']\n"
   ]
  },
  {
   "cell_type": "code",
   "execution_count": null,
   "metadata": {},
   "outputs": [],
   "source": [
    "import plotly.express as px\n",
    "\n",
    "test = laws[['Year','Effect']]\n",
    "test = laws.groupby(['Year','Effect']).size().reset_index()\n",
    "test = test.rename(columns={0: 'Count'})\n",
    "test = test.groupby(['Year','Effect']).sum().reset_index()\n",
    "\n",
    "fig = px.line(test,x=\"Year\",y='Count',color='Effect')\n",
    "\n",
    "fig.show()"
   ]
  },
  {
   "cell_type": "code",
   "execution_count": null,
   "metadata": {},
   "outputs": [],
   "source": [
    "test = laws.groupby('Law Class').count().reset_index()\n",
    "test = test[['Law Class','Law ID']]\n",
    "test = test.rename(columns={'Law ID': 'Count'})\n",
    "test = test.sort_values(by=['Count'],ascending=False)\n",
    "\n",
    "fig = px.bar(test,x=\"Law Class\",y='Count')\n",
    "\n",
    "fig.show()"
   ]
  },
  {
   "cell_type": "code",
   "execution_count": null,
   "metadata": {},
   "outputs": [],
   "source": [
    "test = laws[['Law Class','Year']]\n",
    "classes = [\n",
    "    'registration',\n",
    "    'safety training required',\n",
    "    'dealer license',\n",
    "    'firearm sales restrictions',\n",
    "    'permit to purchase'\n",
    "]\n",
    "test = test[~test['Law Class'].isin(classes)]\n",
    "#test = test[test['Law Class']=='waiting period']\n",
    "test = test.groupby(['Year','Law Class']).size().reset_index()\n",
    "test = test.rename(columns={0: 'Count'})\n",
    "test.head()\n",
    "fig = px.line(test,x=\"Year\",y='Count',color='Law Class')\n",
    "\n",
    "fig.show()"
   ]
  },
  {
   "cell_type": "markdown",
   "metadata": {},
   "source": [
    "# Part 2: Clean up and join datasets"
   ]
  },
  {
   "cell_type": "code",
   "execution_count": null,
   "metadata": {},
   "outputs": [],
   "source": [
    "#Join death data on laws data\n",
    "full_law = pd.merge(\n",
    "    laws,\n",
    "    deaths,\n",
    "    how='left',\n",
    "    left_on =['ST','Year'],\n",
    "    right_on=['State','Year']\n",
    ")\n",
    "print(\"Dataset 1 Dimensions: \", laws.shape)\n",
    "print(\"Dataset 2 Dimensions: \", deaths.shape)\n",
    "print(\"Dataset 3 Dimensions: \", full_law.shape)"
   ]
  },
  {
   "cell_type": "code",
   "execution_count": null,
   "metadata": {
    "scrolled": false
   },
   "outputs": [],
   "source": [
    "#Clean up state after join\n",
    "del full_law['State_y']\n",
    "full_law = full_law.rename(\n",
    "    columns={\n",
    "        'State_x': 'State'\n",
    "    }\n",
    ")\n",
    "full_law.head(2)"
   ]
  },
  {
   "cell_type": "code",
   "execution_count": null,
   "metadata": {
    "scrolled": false
   },
   "outputs": [],
   "source": [
    "full_law['Content'][3]"
   ]
  },
  {
   "cell_type": "code",
   "execution_count": null,
   "metadata": {
    "scrolled": false
   },
   "outputs": [],
   "source": [
    "#Clean up content\n",
    "#1.) Lower case\n",
    "full_law['Content_cleaned'] = full_law['Content'].str.lower()\n",
    "\n",
    "#2.) Remove legalese\n",
    "full_law['Content_cleaned'] = full_law['Content_cleaned'].replace('ch. ',\"\",regex=True)\n",
    "# full_law['Content_cleaned'] = full_law['Content_cleaned'].replace('p. ',\"\",regex=True)\n",
    "full_law['Content_cleaned'] = full_law['Content_cleaned'].replace('§',\"\",regex=True)\n",
    "\n",
    "#3.) Remove \\n\n",
    "full_law['Content_cleaned'] = full_law['Content_cleaned'].replace('\\n',\"\",regex=True)\n",
    "\n",
    "#4.) Remove specific punctuation\n",
    "full_law['Content_cleaned'] = full_law['Content_cleaned'].replace(',',\"\",regex=True)\n",
    "full_law['Content_cleaned'] = full_law['Content_cleaned'].replace(';',\"\",regex=True)\n",
    "full_law['Content_cleaned'] = full_law['Content_cleaned'].replace(':',\"\",regex=True)\n",
    "full_law['Content_cleaned'] = full_law['Content_cleaned'].str.replace(r'[^\\w\\s]+', \" \")\n",
    "\n",
    "#5.) Remove stranded letters\n",
    "full_law['Content_cleaned'] = full_law['Content_cleaned'].str.replace(' a ', \" \")\n",
    "full_law['Content_cleaned'] = full_law['Content_cleaned'].str.replace(' b ', \" \")\n",
    "full_law['Content_cleaned'] = full_law['Content_cleaned'].str.replace(' c ', \" \")\n",
    "full_law['Content_cleaned'] = full_law['Content_cleaned'].str.replace(' d ', \" \")\n",
    "full_law['Content_cleaned'] = full_law['Content_cleaned'].str.replace(' i ', \" \")\n",
    "full_law['Content_cleaned'] = full_law['Content_cleaned'].str.replace(' ii ', \" \")\n",
    "full_law['Content_cleaned'] = full_law['Content_cleaned'].str.replace(' iii ', \" \")\n",
    "full_law['Content_cleaned'] = full_law['Content_cleaned'].str.replace(' p ', \" \")\n",
    "\n",
    "\n",
    "\n",
    "#6.) Remove the \\n next line symbol\n",
    "full_law['Content_cleaned'] = full_law['Content_cleaned'].replace(r'\\n',\" \", regex=True) \n",
    "\n",
    "#7.) Remove numbers\n",
    "full_law['Content_cleaned'] = full_law['Content_cleaned'].str.replace('\\d+', \" \")\n",
    "\n",
    "#8.) Remove dashes\n",
    "full_law['Content_cleaned'] = full_law['Content_cleaned'].replace('-', \" \", regex=True)\n",
    "\n",
    "\n",
    "\n",
    "#9.) Remove names of months\n",
    "full_law = full_law.replace(\n",
    "    {'Content_cleaned' : \n",
    "     {'january' : '', \n",
    "      'february' : '', \n",
    "      'march' : '', \n",
    "      'april' : '', \n",
    "      'may' : '', \n",
    "      'june' : '', \n",
    "      'july' : '', \n",
    "      'august' : '', \n",
    "      'september' : '', \n",
    "      'october' : '', \n",
    "      'november' : '', \n",
    "      'december' : '' \n",
    "     }\n",
    "    }\n",
    ")\n",
    "\n",
    "#10.) Excessive spaces\n",
    "full_law['Content_cleaned'] = full_law['Content_cleaned'].replace(r'\\s+', ' ', regex=True)\n",
    "\n",
    "#11.) Remove stop words\n",
    "from nltk.corpus import stopwords\n",
    "stop = stopwords.words('english')\n",
    "full_law['Content_cleaned'] = full_law['Content_cleaned'].apply(lambda x: ' '.join([word for word in x.split() if word not in (stop)]))\n"
   ]
  },
  {
   "cell_type": "code",
   "execution_count": null,
   "metadata": {},
   "outputs": [],
   "source": [
    "# test_df = full_law[full_law['Law ID']==\"AL1012\"]\n",
    "# test_df['Content_cleaned'].values\n",
    "full_law['Content_cleaned'][400]"
   ]
  },
  {
   "cell_type": "code",
   "execution_count": null,
   "metadata": {
    "scrolled": false
   },
   "outputs": [],
   "source": [
    "full_law['Content_cleaned'][4]"
   ]
  },
  {
   "cell_type": "code",
   "execution_count": null,
   "metadata": {},
   "outputs": [],
   "source": [
    "string = 'person minor exceunder circumstances provided section drug addict habitual drunkard shall pistol one possession control'\n",
    "test2 = full_law[full_law['Content_cleaned']==string]\n",
    "test2"
   ]
  },
  {
   "cell_type": "code",
   "execution_count": null,
   "metadata": {
    "scrolled": false
   },
   "outputs": [],
   "source": [
    "#Get the hugging face sentiment analysis model going - LEGAL BERT\n",
    "\n",
    "#!pip install transformers\n",
    "from transformers import pipeline\n",
    "sentiment_pipeline = pipeline(\"sentiment-analysis\", model=\"nlpaueb/legal-bert-small-uncased\")"
   ]
  },
  {
   "cell_type": "code",
   "execution_count": null,
   "metadata": {
    "scrolled": true
   },
   "outputs": [],
   "source": [
    "#Sentiment Analysis\n",
    "#1.) Issues with BERT processing text over 2500 characters long, so just cut it down\n",
    "full_law['len_text'] = full_law['Content_cleaned'].apply(lambda x: len(x))\n",
    "full_law = full_law[full_law['len_text']<2500]\n",
    "\n",
    "#2.) Convert to list since BERT will only work lists\n",
    "col_list = full_law['Content_cleaned'].values.tolist()\n",
    "\n",
    "#3.) Process sentiment analysis and place back into dataframe\n",
    "full_law['sentiment'] = sentiment_pipeline(col_list)\n",
    "\n",
    "#4.) Display results\n",
    "full_law['sentiment'].head()"
   ]
  },
  {
   "cell_type": "code",
   "execution_count": null,
   "metadata": {},
   "outputs": [],
   "source": [
    "#Check # rows after we cut out some overly long texts\n",
    "test = full_law[full_law['len_text']<2500]\n",
    "test.shape[0]\n",
    "#test.head()"
   ]
  },
  {
   "cell_type": "code",
   "execution_count": null,
   "metadata": {
    "scrolled": true
   },
   "outputs": [],
   "source": [
    "#Parse out pieces we want from sentiment column\n",
    "full_law['sentiment_label'] = [x['label'] for x in full_law['sentiment']]\n",
    "full_law['sentiment_score'] = [x['score'] for x in full_law['sentiment']]\n",
    "\n",
    "# #Display results\n",
    "print(full_law['sentiment_label'].head(2))\n",
    "print(full_law['sentiment_score'].head(2))"
   ]
  },
  {
   "cell_type": "code",
   "execution_count": null,
   "metadata": {},
   "outputs": [],
   "source": [
    "#Check out distribution of sentiment score using LEGAL BERT\n",
    "full_law['sentiment_score'].hist()"
   ]
  },
  {
   "cell_type": "code",
   "execution_count": null,
   "metadata": {},
   "outputs": [],
   "source": [
    "#Test this out for Alabama\n",
    "state = full_law[full_law['State']==\"Alabama\"]\n",
    "state.shape"
   ]
  },
  {
   "cell_type": "code",
   "execution_count": null,
   "metadata": {},
   "outputs": [],
   "source": [
    "#Take content column and convert to a list\n",
    "state_docs = state['Content_cleaned'].tolist()\n",
    "state_docs[1]"
   ]
  },
  {
   "cell_type": "code",
   "execution_count": null,
   "metadata": {},
   "outputs": [],
   "source": [
    "# Create the Document Term Matrix\n",
    "from sklearn.feature_extraction.text import CountVectorizer\n",
    "\n",
    "count_vectorizer = CountVectorizer(stop_words='english')\n",
    "count_vectorizer = CountVectorizer()\n",
    "sparse_matrix = count_vectorizer.fit_transform(state_docs)\n",
    "\n",
    "# OPTIONAL: Convert Sparse Matrix to Pandas Dataframe if you want to see the word frequencies.\n",
    "doc_term_matrix = sparse_matrix.todense()\n",
    "df_test = pd.DataFrame(doc_term_matrix, \n",
    "                  columns=count_vectorizer.get_feature_names(), \n",
    "                  #index=['text_1', 'text_2', 'text_3']\n",
    "                      )\n",
    "df_test.head()"
   ]
  },
  {
   "cell_type": "code",
   "execution_count": null,
   "metadata": {},
   "outputs": [],
   "source": [
    "from sklearn.metrics.pairwise import cosine_similarity\n",
    "array = cosine_similarity(df_test, df_test)\n",
    "\n",
    "matrix = pd.DataFrame(array,columns=state['Law ID'].tolist()) \n",
    "matrix"
   ]
  },
  {
   "cell_type": "code",
   "execution_count": null,
   "metadata": {
    "scrolled": true
   },
   "outputs": [],
   "source": [
    "#Cosine similarity matrix of text of laws in Alabama\n",
    "import seaborn as sn\n",
    "import matplotlib.pyplot as plt\n",
    "plt.rcParams[\"figure.figsize\"] = [12,8]\n",
    "\n",
    "corrMatrix = matrix.corr()\n",
    "sn.heatmap(corrMatrix, annot=True,cmap=\"RdBu\",vmax=1,vmin=-1)\n",
    "plt.show()"
   ]
  }
 ],
 "metadata": {
  "kernelspec": {
   "display_name": "Python 3",
   "language": "python",
   "name": "python3"
  },
  "language_info": {
   "codemirror_mode": {
    "name": "ipython",
    "version": 3
   },
   "file_extension": ".py",
   "mimetype": "text/x-python",
   "name": "python",
   "nbconvert_exporter": "python",
   "pygments_lexer": "ipython3",
   "version": "3.8.3"
  }
 },
 "nbformat": 4,
 "nbformat_minor": 2
}
