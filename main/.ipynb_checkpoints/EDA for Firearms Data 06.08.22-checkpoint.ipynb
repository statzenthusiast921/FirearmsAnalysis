{
 "cells": [
  {
   "cell_type": "code",
   "execution_count": 1,
   "metadata": {},
   "outputs": [],
   "source": [
    "#Import libraries\n",
    "import pandas as pd\n",
    "import numpy as np"
   ]
  },
  {
   "cell_type": "code",
   "execution_count": 2,
   "metadata": {},
   "outputs": [
    {
     "name": "stdout",
     "output_type": "stream",
     "text": [
      "Dataset #1 Dimensions:  (1400, 4)\n",
      "Dataset #2 Dimensions:  (1850, 20)\n",
      "Dataset #3 Dimensions:  (2666, 27)\n"
     ]
    }
   ],
   "source": [
    "#Read in data\n",
    "deaths = pd.read_csv(\"/Users/jonzimmerman/Desktop/Data Projects/FirearmsAnalysis/main/firearm_deaths.csv\")\n",
    "ownership = pd.read_excel(\"/Users/jonzimmerman/Desktop/Data Projects/FirearmsAnalysis/main/TL-354-State-Level Estimates of Household Firearm Ownership.xlsx\",sheet_name='State-Level Data & Factor Score')\n",
    "laws = pd.read_excel(\"/Users/jonzimmerman/Desktop/Data Projects/FirearmsAnalysis/main/TL-A243-2 State Firearm Law Database 3.0.xlsx\",sheet_name='Database')\n",
    "\n",
    "print(\"Dataset #1 Dimensions: \", deaths.shape)\n",
    "print(\"Dataset #2 Dimensions: \", ownership.shape)\n",
    "print(\"Dataset #3 Dimensions: \", laws.shape)"
   ]
  },
  {
   "cell_type": "code",
   "execution_count": 3,
   "metadata": {},
   "outputs": [
    {
     "data": {
      "text/html": [
       "<div>\n",
       "<style scoped>\n",
       "    .dataframe tbody tr th:only-of-type {\n",
       "        vertical-align: middle;\n",
       "    }\n",
       "\n",
       "    .dataframe tbody tr th {\n",
       "        vertical-align: top;\n",
       "    }\n",
       "\n",
       "    .dataframe thead th {\n",
       "        text-align: right;\n",
       "    }\n",
       "</style>\n",
       "<table border=\"1\" class=\"dataframe\">\n",
       "  <thead>\n",
       "    <tr style=\"text-align: right;\">\n",
       "      <th></th>\n",
       "      <th>Suicides</th>\n",
       "      <th>Homicides</th>\n",
       "      <th>Year</th>\n",
       "      <th>State</th>\n",
       "    </tr>\n",
       "  </thead>\n",
       "  <tbody>\n",
       "    <tr>\n",
       "      <th>0</th>\n",
       "      <td>10.38</td>\n",
       "      <td>9.90</td>\n",
       "      <td>1991</td>\n",
       "      <td>AL</td>\n",
       "    </tr>\n",
       "    <tr>\n",
       "      <th>1</th>\n",
       "      <td>9.46</td>\n",
       "      <td>9.08</td>\n",
       "      <td>1992</td>\n",
       "      <td>AL</td>\n",
       "    </tr>\n",
       "  </tbody>\n",
       "</table>\n",
       "</div>"
      ],
      "text/plain": [
       "   Suicides  Homicides  Year State\n",
       "0     10.38       9.90  1991    AL\n",
       "1      9.46       9.08  1992    AL"
      ]
     },
     "execution_count": 3,
     "metadata": {},
     "output_type": "execute_result"
    }
   ],
   "source": [
    "deaths.head(2)"
   ]
  },
  {
   "cell_type": "code",
   "execution_count": 4,
   "metadata": {
    "scrolled": false
   },
   "outputs": [
    {
     "data": {
      "text/html": [
       "<div>\n",
       "<style scoped>\n",
       "    .dataframe tbody tr th:only-of-type {\n",
       "        vertical-align: middle;\n",
       "    }\n",
       "\n",
       "    .dataframe tbody tr th {\n",
       "        vertical-align: top;\n",
       "    }\n",
       "\n",
       "    .dataframe thead th {\n",
       "        text-align: right;\n",
       "    }\n",
       "</style>\n",
       "<table border=\"1\" class=\"dataframe\">\n",
       "  <thead>\n",
       "    <tr style=\"text-align: right;\">\n",
       "      <th></th>\n",
       "      <th>FIP</th>\n",
       "      <th>Year</th>\n",
       "      <th>Full_State</th>\n",
       "      <th>HFR</th>\n",
       "      <th>HFR_se</th>\n",
       "      <th>universl</th>\n",
       "      <th>permit</th>\n",
       "      <th>Fem_FS_S</th>\n",
       "      <th>Male_FS_S</th>\n",
       "      <th>BRFSS</th>\n",
       "      <th>GALLUP</th>\n",
       "      <th>GSS</th>\n",
       "      <th>PEW</th>\n",
       "      <th>HuntLic</th>\n",
       "      <th>GunsAmmo</th>\n",
       "      <th>BackChk</th>\n",
       "      <th>PewQChng</th>\n",
       "      <th>BS1</th>\n",
       "      <th>BS2</th>\n",
       "      <th>BS3</th>\n",
       "    </tr>\n",
       "  </thead>\n",
       "  <tbody>\n",
       "    <tr>\n",
       "      <th>0</th>\n",
       "      <td>1</td>\n",
       "      <td>1980</td>\n",
       "      <td>Alabama</td>\n",
       "      <td>0.608</td>\n",
       "      <td>0.031</td>\n",
       "      <td>0</td>\n",
       "      <td>0</td>\n",
       "      <td>0.824324</td>\n",
       "      <td>0.833795</td>\n",
       "      <td>-9.0</td>\n",
       "      <td>0.55395</td>\n",
       "      <td>0.583632</td>\n",
       "      <td>-9.0</td>\n",
       "      <td>0.291102</td>\n",
       "      <td>-0.509164</td>\n",
       "      <td>-9.0</td>\n",
       "      <td>0</td>\n",
       "      <td>0.0</td>\n",
       "      <td>0.0</td>\n",
       "      <td>0.0</td>\n",
       "    </tr>\n",
       "    <tr>\n",
       "      <th>1</th>\n",
       "      <td>1</td>\n",
       "      <td>1981</td>\n",
       "      <td>Alabama</td>\n",
       "      <td>0.597</td>\n",
       "      <td>0.047</td>\n",
       "      <td>0</td>\n",
       "      <td>0</td>\n",
       "      <td>0.692308</td>\n",
       "      <td>0.831126</td>\n",
       "      <td>-9.0</td>\n",
       "      <td>-9.00000</td>\n",
       "      <td>-9.000000</td>\n",
       "      <td>-9.0</td>\n",
       "      <td>0.294962</td>\n",
       "      <td>-0.618954</td>\n",
       "      <td>-9.0</td>\n",
       "      <td>0</td>\n",
       "      <td>1.0</td>\n",
       "      <td>0.0</td>\n",
       "      <td>0.0</td>\n",
       "    </tr>\n",
       "    <tr>\n",
       "      <th>2</th>\n",
       "      <td>1</td>\n",
       "      <td>1982</td>\n",
       "      <td>Alabama</td>\n",
       "      <td>0.661</td>\n",
       "      <td>0.036</td>\n",
       "      <td>0</td>\n",
       "      <td>0</td>\n",
       "      <td>0.771739</td>\n",
       "      <td>0.821429</td>\n",
       "      <td>-9.0</td>\n",
       "      <td>-9.00000</td>\n",
       "      <td>0.655196</td>\n",
       "      <td>-9.0</td>\n",
       "      <td>0.290545</td>\n",
       "      <td>-0.526692</td>\n",
       "      <td>-9.0</td>\n",
       "      <td>0</td>\n",
       "      <td>2.0</td>\n",
       "      <td>0.0</td>\n",
       "      <td>0.0</td>\n",
       "    </tr>\n",
       "  </tbody>\n",
       "</table>\n",
       "</div>"
      ],
      "text/plain": [
       "   FIP  Year Full_State    HFR  HFR_se  universl  permit  Fem_FS_S  Male_FS_S  \\\n",
       "0    1  1980    Alabama  0.608   0.031         0       0  0.824324   0.833795   \n",
       "1    1  1981    Alabama  0.597   0.047         0       0  0.692308   0.831126   \n",
       "2    1  1982    Alabama  0.661   0.036         0       0  0.771739   0.821429   \n",
       "\n",
       "   BRFSS   GALLUP       GSS  PEW   HuntLic  GunsAmmo  BackChk  PewQChng  BS1  \\\n",
       "0   -9.0  0.55395  0.583632 -9.0  0.291102 -0.509164     -9.0         0  0.0   \n",
       "1   -9.0 -9.00000 -9.000000 -9.0  0.294962 -0.618954     -9.0         0  1.0   \n",
       "2   -9.0 -9.00000  0.655196 -9.0  0.290545 -0.526692     -9.0         0  2.0   \n",
       "\n",
       "   BS2  BS3  \n",
       "0  0.0  0.0  \n",
       "1  0.0  0.0  \n",
       "2  0.0  0.0  "
      ]
     },
     "execution_count": 4,
     "metadata": {},
     "output_type": "execute_result"
    }
   ],
   "source": [
    "ownership = ownership.rename(columns={'STATE': 'Full_State'})\n",
    "ownership.head(3)"
   ]
  },
  {
   "cell_type": "code",
   "execution_count": 5,
   "metadata": {},
   "outputs": [
    {
     "data": {
      "text/plain": [
       "0    Alabama\n",
       "1    Alabama\n",
       "2    Alabama\n",
       "3    Alabama\n",
       "4    Alabama\n",
       "Name: State, dtype: object"
      ]
     },
     "execution_count": 5,
     "metadata": {},
     "output_type": "execute_result"
    }
   ],
   "source": [
    "laws['State'][0:5]"
   ]
  },
  {
   "cell_type": "code",
   "execution_count": 6,
   "metadata": {
    "scrolled": true
   },
   "outputs": [
    {
     "data": {
      "text/plain": [
       "Index(['Law ID', 'State', 'State Postal Abbreviation', 'FIPS Code',\n",
       "       'Law Class (num)', 'Law Class', 'Law Class Subtype',\n",
       "       'Handguns or Long Guns', 'Effect', 'Type of Change', 'Effective Date',\n",
       "       'Effective Date Note', 'Effective Date Year', 'Effective Date Month',\n",
       "       'Effective Date Day', 'Statutory Citation', 'Content',\n",
       "       'Supersession Date', 'Supersession Date Year',\n",
       "       'Supersession Date Month', 'Supersession Date Day',\n",
       "       'Controlling Law at Beginning of Period (1979)',\n",
       "       'Age for Minimum Age Laws', 'Length of Waiting Period (days, handguns)',\n",
       "       'Additional Context and Notes', 'Caveats and Ambiguities',\n",
       "       'Exception Code'],\n",
       "      dtype='object')"
      ]
     },
     "execution_count": 6,
     "metadata": {},
     "output_type": "execute_result"
    }
   ],
   "source": [
    "laws.columns"
   ]
  },
  {
   "cell_type": "code",
   "execution_count": 7,
   "metadata": {
    "scrolled": true
   },
   "outputs": [
    {
     "data": {
      "text/plain": [
       "California              88\n",
       "Hawaii                  75\n",
       "Connecticut             69\n",
       "New York                61\n",
       "Delaware                60\n",
       "Florida                 60\n",
       "New Jersey              59\n",
       "Illinois                58\n",
       "District of Columbia    58\n",
       "Massachusetts           57\n",
       "Maryland                57\n",
       "Washington              57\n",
       "Missouri                57\n",
       "Colorado                57\n",
       "Utah                    56\n",
       "Louisiana               54\n",
       "Rhode Island            54\n",
       "Indiana                 54\n",
       "Oregon                  53\n",
       "Pennsylvania            53\n",
       "Idaho                   52\n",
       "Tennessee               52\n",
       "Arizona                 52\n",
       "Virginia                52\n",
       "Georgia                 52\n",
       "Wisconsin               51\n",
       "North Carolina          51\n",
       "Nevada                  51\n",
       "Michigan                50\n",
       "West Virginia           49\n",
       "Wyoming                 49\n",
       "Arkansas                49\n",
       "Alaska                  49\n",
       "Mississippi             48\n",
       "Nebraska                48\n",
       "Texas                   48\n",
       "Oklahoma                48\n",
       "Vermont                 47\n",
       "New Hampshire           46\n",
       "New Mexico              46\n",
       "Ohio                    46\n",
       "Montana                 45\n",
       "Minnesota               44\n",
       "Maine                   44\n",
       "North Dakota            44\n",
       "Kentucky                44\n",
       "Kansas                  44\n",
       "Iowa                    43\n",
       "Alabama                 43\n",
       "South Carolina          41\n",
       "South Dakota            41\n",
       "Name: State, dtype: int64"
      ]
     },
     "execution_count": 7,
     "metadata": {},
     "output_type": "execute_result"
    }
   ],
   "source": [
    "#Fix Mississippi and District of Columbia\n",
    "laws['State'] = np.where(laws['State']=='MIssissippi', 'Mississippi', laws['State'])\n",
    "laws['State'] = np.where(laws['State']=='DIstrict of Columbia', 'District of Columbia', laws['State'])\n",
    "\n",
    "laws['State'].value_counts()"
   ]
  },
  {
   "cell_type": "code",
   "execution_count": 8,
   "metadata": {
    "scrolled": true
   },
   "outputs": [
    {
     "data": {
      "text/html": [
       "<div>\n",
       "<style scoped>\n",
       "    .dataframe tbody tr th:only-of-type {\n",
       "        vertical-align: middle;\n",
       "    }\n",
       "\n",
       "    .dataframe tbody tr th {\n",
       "        vertical-align: top;\n",
       "    }\n",
       "\n",
       "    .dataframe thead th {\n",
       "        text-align: right;\n",
       "    }\n",
       "</style>\n",
       "<table border=\"1\" class=\"dataframe\">\n",
       "  <thead>\n",
       "    <tr style=\"text-align: right;\">\n",
       "      <th></th>\n",
       "      <th>Law ID</th>\n",
       "      <th>Full_State</th>\n",
       "      <th>State_Abbrev</th>\n",
       "      <th>FIPS Code</th>\n",
       "      <th>Law Class</th>\n",
       "      <th>Law Class Subtype</th>\n",
       "      <th>Handguns or Long Guns</th>\n",
       "      <th>Effect</th>\n",
       "      <th>Type of Change</th>\n",
       "      <th>Effective Date</th>\n",
       "      <th>...</th>\n",
       "      <th>Effective Date Day</th>\n",
       "      <th>Content</th>\n",
       "      <th>Supersession Date</th>\n",
       "      <th>Supersession Date Year</th>\n",
       "      <th>Supersession Date Month</th>\n",
       "      <th>Supersession Date Day</th>\n",
       "      <th>Age for Minimum Age Laws</th>\n",
       "      <th>Length of Waiting Period (days, handguns)</th>\n",
       "      <th>Additional Context and Notes</th>\n",
       "      <th>Caveats and Ambiguities</th>\n",
       "    </tr>\n",
       "  </thead>\n",
       "  <tbody>\n",
       "    <tr>\n",
       "      <th>0</th>\n",
       "      <td>AL1001</td>\n",
       "      <td>Alabama</td>\n",
       "      <td>AL</td>\n",
       "      <td>1</td>\n",
       "      <td>background checks</td>\n",
       "      <td>private sales</td>\n",
       "      <td>handgun</td>\n",
       "      <td>NaN</td>\n",
       "      <td>NaN</td>\n",
       "      <td>NaN</td>\n",
       "      <td>...</td>\n",
       "      <td>NaN</td>\n",
       "      <td>No law requiring background checks for private...</td>\n",
       "      <td>NaN</td>\n",
       "      <td>NaN</td>\n",
       "      <td>NaN</td>\n",
       "      <td>NaN</td>\n",
       "      <td>NaN</td>\n",
       "      <td>NaN</td>\n",
       "      <td>NaN</td>\n",
       "      <td>NaN</td>\n",
       "    </tr>\n",
       "    <tr>\n",
       "      <th>1</th>\n",
       "      <td>AL1002</td>\n",
       "      <td>Alabama</td>\n",
       "      <td>AL</td>\n",
       "      <td>1</td>\n",
       "      <td>background checks</td>\n",
       "      <td>sales from dealer</td>\n",
       "      <td>handgun</td>\n",
       "      <td>NaN</td>\n",
       "      <td>NaN</td>\n",
       "      <td>NaN</td>\n",
       "      <td>...</td>\n",
       "      <td>NaN</td>\n",
       "      <td>No law requiring background checks for sales f...</td>\n",
       "      <td>NaN</td>\n",
       "      <td>NaN</td>\n",
       "      <td>NaN</td>\n",
       "      <td>NaN</td>\n",
       "      <td>NaN</td>\n",
       "      <td>NaN</td>\n",
       "      <td>NaN</td>\n",
       "      <td>NaN</td>\n",
       "    </tr>\n",
       "  </tbody>\n",
       "</table>\n",
       "<p>2 rows × 23 columns</p>\n",
       "</div>"
      ],
      "text/plain": [
       "   Law ID Full_State State_Abbrev  FIPS Code          Law Class  \\\n",
       "0  AL1001    Alabama           AL          1  background checks   \n",
       "1  AL1002    Alabama           AL          1  background checks   \n",
       "\n",
       "   Law Class Subtype Handguns or Long Guns Effect Type of Change  \\\n",
       "0      private sales               handgun    NaN            NaN   \n",
       "1  sales from dealer               handgun    NaN            NaN   \n",
       "\n",
       "  Effective Date  ... Effective Date Day  \\\n",
       "0            NaN  ...                NaN   \n",
       "1            NaN  ...                NaN   \n",
       "\n",
       "                                             Content Supersession Date  \\\n",
       "0  No law requiring background checks for private...               NaN   \n",
       "1  No law requiring background checks for sales f...               NaN   \n",
       "\n",
       "   Supersession Date Year Supersession Date Month Supersession Date Day  \\\n",
       "0                     NaN                     NaN                   NaN   \n",
       "1                     NaN                     NaN                   NaN   \n",
       "\n",
       "   Age for Minimum Age Laws  Length of Waiting Period (days, handguns)  \\\n",
       "0                       NaN                                        NaN   \n",
       "1                       NaN                                        NaN   \n",
       "\n",
       "   Additional Context and Notes Caveats and Ambiguities  \n",
       "0                           NaN                     NaN  \n",
       "1                           NaN                     NaN  \n",
       "\n",
       "[2 rows x 23 columns]"
      ]
     },
     "execution_count": 8,
     "metadata": {},
     "output_type": "execute_result"
    }
   ],
   "source": [
    "del laws['Statutory Citation']\n",
    "del laws['Law Class (num)']\n",
    "del laws['Controlling Law at Beginning of Period (1979)']\n",
    "del laws['Exception Code']\n",
    "\n",
    "laws = laws.rename(\n",
    "    columns={\n",
    "        'State Postal Abbreviation': 'State_Abbrev',\n",
    "        'State':'Full_State'\n",
    "    }\n",
    ")\n",
    "laws.head(2)"
   ]
  },
  {
   "cell_type": "code",
   "execution_count": 9,
   "metadata": {},
   "outputs": [],
   "source": [
    "laws = laws[laws['Effective Date Year']>=1991]"
   ]
  },
  {
   "cell_type": "code",
   "execution_count": 10,
   "metadata": {},
   "outputs": [
    {
     "data": {
      "text/html": [
       "<div>\n",
       "<style scoped>\n",
       "    .dataframe tbody tr th:only-of-type {\n",
       "        vertical-align: middle;\n",
       "    }\n",
       "\n",
       "    .dataframe tbody tr th {\n",
       "        vertical-align: top;\n",
       "    }\n",
       "\n",
       "    .dataframe thead th {\n",
       "        text-align: right;\n",
       "    }\n",
       "</style>\n",
       "<table border=\"1\" class=\"dataframe\">\n",
       "  <thead>\n",
       "    <tr style=\"text-align: right;\">\n",
       "      <th></th>\n",
       "      <th>Law ID</th>\n",
       "      <th>Full_State</th>\n",
       "      <th>State_Abbrev</th>\n",
       "      <th>FIPS Code</th>\n",
       "      <th>Law Class</th>\n",
       "      <th>Law Class Subtype</th>\n",
       "      <th>Handguns or Long Guns</th>\n",
       "      <th>Effect</th>\n",
       "      <th>Type of Change</th>\n",
       "      <th>Effective Date</th>\n",
       "      <th>...</th>\n",
       "      <th>Effective Date Day</th>\n",
       "      <th>Content</th>\n",
       "      <th>Supersession Date</th>\n",
       "      <th>Supersession Date Year</th>\n",
       "      <th>Supersession Date Month</th>\n",
       "      <th>Supersession Date Day</th>\n",
       "      <th>Age for Minimum Age Laws</th>\n",
       "      <th>Length of Waiting Period (days, handguns)</th>\n",
       "      <th>Additional Context and Notes</th>\n",
       "      <th>Caveats and Ambiguities</th>\n",
       "    </tr>\n",
       "  </thead>\n",
       "  <tbody>\n",
       "    <tr>\n",
       "      <th>4</th>\n",
       "      <td>AL1005</td>\n",
       "      <td>Alabama</td>\n",
       "      <td>AL</td>\n",
       "      <td>1</td>\n",
       "      <td>castle doctrine</td>\n",
       "      <td>stand your ground</td>\n",
       "      <td>handgun and long gun</td>\n",
       "      <td>Permissive</td>\n",
       "      <td>Modify</td>\n",
       "      <td>2006-06-01</td>\n",
       "      <td>...</td>\n",
       "      <td>1.0</td>\n",
       "      <td>A person who is justified under subsection (a)...</td>\n",
       "      <td>NaN</td>\n",
       "      <td>NaN</td>\n",
       "      <td>NaN</td>\n",
       "      <td>NaN</td>\n",
       "      <td>NaN</td>\n",
       "      <td>NaN</td>\n",
       "      <td>NaN</td>\n",
       "      <td>NaN</td>\n",
       "    </tr>\n",
       "    <tr>\n",
       "      <th>11</th>\n",
       "      <td>AL1012</td>\n",
       "      <td>Alabama</td>\n",
       "      <td>AL</td>\n",
       "      <td>1</td>\n",
       "      <td>minimum age</td>\n",
       "      <td>youth possession</td>\n",
       "      <td>handgun</td>\n",
       "      <td>Restrictive</td>\n",
       "      <td>Implement</td>\n",
       "      <td>2015-10-01</td>\n",
       "      <td>...</td>\n",
       "      <td>1.0</td>\n",
       "      <td>No person who is a minor, except under the cir...</td>\n",
       "      <td>NaN</td>\n",
       "      <td>NaN</td>\n",
       "      <td>NaN</td>\n",
       "      <td>NaN</td>\n",
       "      <td>18</td>\n",
       "      <td>NaN</td>\n",
       "      <td>Restricted to pistols only. Exceptions include...</td>\n",
       "      <td>NaN</td>\n",
       "    </tr>\n",
       "  </tbody>\n",
       "</table>\n",
       "<p>2 rows × 23 columns</p>\n",
       "</div>"
      ],
      "text/plain": [
       "    Law ID Full_State State_Abbrev  FIPS Code        Law Class  \\\n",
       "4   AL1005    Alabama           AL          1  castle doctrine   \n",
       "11  AL1012    Alabama           AL          1      minimum age   \n",
       "\n",
       "    Law Class Subtype Handguns or Long Guns       Effect Type of Change  \\\n",
       "4   stand your ground  handgun and long gun   Permissive         Modify   \n",
       "11   youth possession               handgun  Restrictive      Implement   \n",
       "\n",
       "   Effective Date  ... Effective Date Day  \\\n",
       "4      2006-06-01  ...                1.0   \n",
       "11     2015-10-01  ...                1.0   \n",
       "\n",
       "                                              Content Supersession Date  \\\n",
       "4   A person who is justified under subsection (a)...               NaN   \n",
       "11  No person who is a minor, except under the cir...               NaN   \n",
       "\n",
       "    Supersession Date Year Supersession Date Month Supersession Date Day  \\\n",
       "4                      NaN                     NaN                   NaN   \n",
       "11                     NaN                     NaN                   NaN   \n",
       "\n",
       "    Age for Minimum Age Laws  Length of Waiting Period (days, handguns)  \\\n",
       "4                        NaN                                        NaN   \n",
       "11                        18                                        NaN   \n",
       "\n",
       "                         Additional Context and Notes Caveats and Ambiguities  \n",
       "4                                                 NaN                     NaN  \n",
       "11  Restricted to pistols only. Exceptions include...                     NaN  \n",
       "\n",
       "[2 rows x 23 columns]"
      ]
     },
     "execution_count": 10,
     "metadata": {},
     "output_type": "execute_result"
    }
   ],
   "source": [
    "laws.head(2)"
   ]
  },
  {
   "cell_type": "code",
   "execution_count": 11,
   "metadata": {},
   "outputs": [
    {
     "name": "stdout",
     "output_type": "stream",
     "text": [
      "Dataset 1 Dimensions:  (679, 23)\n",
      "Dataset 2 Dimensions:  (1400, 4)\n",
      "Dataset 3 Dimensions:  (679, 27)\n"
     ]
    }
   ],
   "source": [
    "#Join death data on laws data\n",
    "full_law = pd.merge(\n",
    "    laws,\n",
    "    deaths,\n",
    "    how='left',\n",
    "    left_on =['State_Abbrev','Effective Date Year'],\n",
    "    right_on=['State','Year']\n",
    ")\n",
    "print(\"Dataset 1 Dimensions: \", laws.shape)\n",
    "print(\"Dataset 2 Dimensions: \", deaths.shape)\n",
    "print(\"Dataset 3 Dimensions: \", full_law.shape)"
   ]
  },
  {
   "cell_type": "code",
   "execution_count": 12,
   "metadata": {
    "scrolled": true
   },
   "outputs": [
    {
     "data": {
      "text/plain": [
       "Index(['Law ID', 'Full_State', 'State_Abbrev', 'FIPS Code', 'Law Class',\n",
       "       'Law Class Subtype', 'Handguns or Long Guns', 'Effect',\n",
       "       'Type of Change', 'Effective Date', 'Effective Date Note',\n",
       "       'Effective Date Year', 'Effective Date Month', 'Effective Date Day',\n",
       "       'Content', 'Supersession Date', 'Supersession Date Year',\n",
       "       'Supersession Date Month', 'Supersession Date Day',\n",
       "       'Age for Minimum Age Laws', 'Length of Waiting Period (days, handguns)',\n",
       "       'Additional Context and Notes', 'Caveats and Ambiguities', 'Suicides',\n",
       "       'Homicides', 'Year', 'State'],\n",
       "      dtype='object')"
      ]
     },
     "execution_count": 12,
     "metadata": {},
     "output_type": "execute_result"
    }
   ],
   "source": [
    "full_law.columns"
   ]
  },
  {
   "cell_type": "code",
   "execution_count": 13,
   "metadata": {},
   "outputs": [],
   "source": [
    "del full_law['State'], full_law['Year'], full_law['Law Class Subtype'], full_law['Supersession Date'],full_law['Supersession Date Year'],full_law['Supersession Date Month'],full_law['Supersession Date Day']"
   ]
  },
  {
   "cell_type": "code",
   "execution_count": 14,
   "metadata": {
    "scrolled": true
   },
   "outputs": [
    {
     "data": {
      "text/html": [
       "<div>\n",
       "<style scoped>\n",
       "    .dataframe tbody tr th:only-of-type {\n",
       "        vertical-align: middle;\n",
       "    }\n",
       "\n",
       "    .dataframe tbody tr th {\n",
       "        vertical-align: top;\n",
       "    }\n",
       "\n",
       "    .dataframe thead th {\n",
       "        text-align: right;\n",
       "    }\n",
       "</style>\n",
       "<table border=\"1\" class=\"dataframe\">\n",
       "  <thead>\n",
       "    <tr style=\"text-align: right;\">\n",
       "      <th></th>\n",
       "      <th>Law ID</th>\n",
       "      <th>Full_State</th>\n",
       "      <th>State_Abbrev</th>\n",
       "      <th>FIPS Code</th>\n",
       "      <th>Law Class</th>\n",
       "      <th>Handguns or Long Guns</th>\n",
       "      <th>Effect</th>\n",
       "      <th>Type of Change</th>\n",
       "      <th>Effective Date</th>\n",
       "      <th>Effective Date Note</th>\n",
       "      <th>Effective Date Year</th>\n",
       "      <th>Effective Date Month</th>\n",
       "      <th>Effective Date Day</th>\n",
       "      <th>Content</th>\n",
       "      <th>Age for Minimum Age Laws</th>\n",
       "      <th>Length of Waiting Period (days, handguns)</th>\n",
       "      <th>Additional Context and Notes</th>\n",
       "      <th>Caveats and Ambiguities</th>\n",
       "      <th>Suicides</th>\n",
       "      <th>Homicides</th>\n",
       "    </tr>\n",
       "  </thead>\n",
       "  <tbody>\n",
       "    <tr>\n",
       "      <th>0</th>\n",
       "      <td>AL1005</td>\n",
       "      <td>Alabama</td>\n",
       "      <td>AL</td>\n",
       "      <td>1</td>\n",
       "      <td>castle doctrine</td>\n",
       "      <td>handgun and long gun</td>\n",
       "      <td>Permissive</td>\n",
       "      <td>Modify</td>\n",
       "      <td>2006-06-01</td>\n",
       "      <td>NaN</td>\n",
       "      <td>2006.0</td>\n",
       "      <td>6</td>\n",
       "      <td>1.0</td>\n",
       "      <td>A person who is justified under subsection (a)...</td>\n",
       "      <td>NaN</td>\n",
       "      <td>NaN</td>\n",
       "      <td>NaN</td>\n",
       "      <td>NaN</td>\n",
       "      <td>8.42</td>\n",
       "      <td>7.27</td>\n",
       "    </tr>\n",
       "    <tr>\n",
       "      <th>1</th>\n",
       "      <td>AL1012</td>\n",
       "      <td>Alabama</td>\n",
       "      <td>AL</td>\n",
       "      <td>1</td>\n",
       "      <td>minimum age</td>\n",
       "      <td>handgun</td>\n",
       "      <td>Restrictive</td>\n",
       "      <td>Implement</td>\n",
       "      <td>2015-10-01</td>\n",
       "      <td>NaN</td>\n",
       "      <td>2015.0</td>\n",
       "      <td>10</td>\n",
       "      <td>1.0</td>\n",
       "      <td>No person who is a minor, except under the cir...</td>\n",
       "      <td>18</td>\n",
       "      <td>NaN</td>\n",
       "      <td>Restricted to pistols only. Exceptions include...</td>\n",
       "      <td>NaN</td>\n",
       "      <td>10.34</td>\n",
       "      <td>8.43</td>\n",
       "    </tr>\n",
       "    <tr>\n",
       "      <th>2</th>\n",
       "      <td>AL1016</td>\n",
       "      <td>Alabama</td>\n",
       "      <td>AL</td>\n",
       "      <td>1</td>\n",
       "      <td>registration</td>\n",
       "      <td>handgun</td>\n",
       "      <td>Permissive</td>\n",
       "      <td>Repeal</td>\n",
       "      <td>2015-09-01</td>\n",
       "      <td>NaN</td>\n",
       "      <td>2015.0</td>\n",
       "      <td>9</td>\n",
       "      <td>1.0</td>\n",
       "      <td>(b) All records of pistol, revolver, or maxim ...</td>\n",
       "      <td>NaN</td>\n",
       "      <td>NaN</td>\n",
       "      <td>NaN</td>\n",
       "      <td>NaN</td>\n",
       "      <td>10.34</td>\n",
       "      <td>8.43</td>\n",
       "    </tr>\n",
       "    <tr>\n",
       "      <th>3</th>\n",
       "      <td>AL1019</td>\n",
       "      <td>Alabama</td>\n",
       "      <td>AL</td>\n",
       "      <td>1</td>\n",
       "      <td>waiting period</td>\n",
       "      <td>handgun</td>\n",
       "      <td>Permissive</td>\n",
       "      <td>Repeal</td>\n",
       "      <td>2000-08-01</td>\n",
       "      <td>NaN</td>\n",
       "      <td>2000.0</td>\n",
       "      <td>8</td>\n",
       "      <td>1.0</td>\n",
       "      <td>Repealed.</td>\n",
       "      <td>NaN</td>\n",
       "      <td>NaN</td>\n",
       "      <td>NaN</td>\n",
       "      <td>NaN</td>\n",
       "      <td>9.55</td>\n",
       "      <td>6.58</td>\n",
       "    </tr>\n",
       "    <tr>\n",
       "      <th>4</th>\n",
       "      <td>AL1023</td>\n",
       "      <td>Alabama</td>\n",
       "      <td>AL</td>\n",
       "      <td>1</td>\n",
       "      <td>prohibited possessor</td>\n",
       "      <td>handgun and long gun</td>\n",
       "      <td>Restrictive</td>\n",
       "      <td>Implement</td>\n",
       "      <td>2015-06-04</td>\n",
       "      <td>NaN</td>\n",
       "      <td>2015.0</td>\n",
       "      <td>6</td>\n",
       "      <td>4.0</td>\n",
       "      <td>No person who has been convicted in this state...</td>\n",
       "      <td>NaN</td>\n",
       "      <td>NaN</td>\n",
       "      <td>The restraining order must \"explicitly prohibi...</td>\n",
       "      <td>NaN</td>\n",
       "      <td>10.34</td>\n",
       "      <td>8.43</td>\n",
       "    </tr>\n",
       "  </tbody>\n",
       "</table>\n",
       "</div>"
      ],
      "text/plain": [
       "   Law ID Full_State State_Abbrev  FIPS Code             Law Class  \\\n",
       "0  AL1005    Alabama           AL          1       castle doctrine   \n",
       "1  AL1012    Alabama           AL          1           minimum age   \n",
       "2  AL1016    Alabama           AL          1          registration   \n",
       "3  AL1019    Alabama           AL          1        waiting period   \n",
       "4  AL1023    Alabama           AL          1  prohibited possessor   \n",
       "\n",
       "  Handguns or Long Guns       Effect Type of Change Effective Date  \\\n",
       "0  handgun and long gun   Permissive         Modify     2006-06-01   \n",
       "1               handgun  Restrictive      Implement     2015-10-01   \n",
       "2               handgun   Permissive         Repeal     2015-09-01   \n",
       "3               handgun   Permissive         Repeal     2000-08-01   \n",
       "4  handgun and long gun  Restrictive      Implement     2015-06-04   \n",
       "\n",
       "  Effective Date Note  Effective Date Year Effective Date Month  \\\n",
       "0                 NaN               2006.0                    6   \n",
       "1                 NaN               2015.0                   10   \n",
       "2                 NaN               2015.0                    9   \n",
       "3                 NaN               2000.0                    8   \n",
       "4                 NaN               2015.0                    6   \n",
       "\n",
       "   Effective Date Day                                            Content  \\\n",
       "0                 1.0  A person who is justified under subsection (a)...   \n",
       "1                 1.0  No person who is a minor, except under the cir...   \n",
       "2                 1.0  (b) All records of pistol, revolver, or maxim ...   \n",
       "3                 1.0                                          Repealed.   \n",
       "4                 4.0  No person who has been convicted in this state...   \n",
       "\n",
       "  Age for Minimum Age Laws Length of Waiting Period (days, handguns)  \\\n",
       "0                      NaN                                       NaN   \n",
       "1                       18                                       NaN   \n",
       "2                      NaN                                       NaN   \n",
       "3                      NaN                                       NaN   \n",
       "4                      NaN                                       NaN   \n",
       "\n",
       "                        Additional Context and Notes Caveats and Ambiguities  \\\n",
       "0                                                NaN                     NaN   \n",
       "1  Restricted to pistols only. Exceptions include...                     NaN   \n",
       "2                                                NaN                     NaN   \n",
       "3                                                NaN                     NaN   \n",
       "4  The restraining order must \"explicitly prohibi...                     NaN   \n",
       "\n",
       "   Suicides  Homicides  \n",
       "0      8.42       7.27  \n",
       "1     10.34       8.43  \n",
       "2     10.34       8.43  \n",
       "3      9.55       6.58  \n",
       "4     10.34       8.43  "
      ]
     },
     "execution_count": 14,
     "metadata": {},
     "output_type": "execute_result"
    }
   ],
   "source": [
    "full_law.head()"
   ]
  },
  {
   "cell_type": "code",
   "execution_count": 15,
   "metadata": {
    "scrolled": true
   },
   "outputs": [
    {
     "data": {
      "text/plain": [
       "Implement    469\n",
       "Modify       158\n",
       "Repeal        50\n",
       "See note       2\n",
       "Name: Type of Change, dtype: int64"
      ]
     },
     "execution_count": 15,
     "metadata": {},
     "output_type": "execute_result"
    }
   ],
   "source": [
    "full_law['Type of Change'].value_counts()"
   ]
  },
  {
   "cell_type": "code",
   "execution_count": 16,
   "metadata": {
    "scrolled": true
   },
   "outputs": [
    {
     "data": {
      "text/plain": [
       "1    527\n",
       "0    152\n",
       "Name: Effect_Num, dtype: int64"
      ]
     },
     "execution_count": 16,
     "metadata": {},
     "output_type": "execute_result"
    }
   ],
   "source": [
    "full_law['Effect_Num'] = np.where(full_law['Effect']==\"Restrictive\",1,0)\n",
    "full_law['Effect_Num'].value_counts()"
   ]
  },
  {
   "cell_type": "code",
   "execution_count": 17,
   "metadata": {
    "scrolled": true
   },
   "outputs": [
    {
     "data": {
      "text/plain": [
       "California              34\n",
       "Connecticut             27\n",
       "Washington              21\n",
       "Maryland                20\n",
       "New York                20\n",
       "Hawaii                  19\n",
       "Delaware                19\n",
       "Colorado                18\n",
       "Utah                    18\n",
       "Pennsylvania            17\n",
       "Nevada                  17\n",
       "Florida                 17\n",
       "Arizona                 17\n",
       "Massachusetts           16\n",
       "North Carolina          15\n",
       "Missouri                15\n",
       "Nebraska                14\n",
       "Illinois                14\n",
       "District of Columbia    14\n",
       "Oregon                  14\n",
       "Wisconsin               14\n",
       "Virginia                13\n",
       "Oklahoma                13\n",
       "Wyoming                 13\n",
       "Idaho                   13\n",
       "Georgia                 12\n",
       "New Jersey              12\n",
       "West Virginia           11\n",
       "Michigan                11\n",
       "New Hampshire           11\n",
       "Louisiana               11\n",
       "Vermont                 11\n",
       "Alaska                  11\n",
       "Tennessee               11\n",
       "Kansas                  10\n",
       "South Carolina          10\n",
       "Maine                   10\n",
       "Indiana                 10\n",
       "Kentucky                10\n",
       "Texas                   10\n",
       "Alabama                  9\n",
       "Rhode Island             9\n",
       "Ohio                     9\n",
       "New Mexico               9\n",
       "Montana                  9\n",
       "Arkansas                 8\n",
       "Mississippi              8\n",
       "North Dakota             7\n",
       "Minnesota                7\n",
       "South Dakota             6\n",
       "Iowa                     5\n",
       "Name: Full_State, dtype: int64"
      ]
     },
     "execution_count": 17,
     "metadata": {},
     "output_type": "execute_result"
    }
   ],
   "source": [
    "#Groupby State and Year\n",
    "full_law['Full_State'].value_counts()"
   ]
  },
  {
   "cell_type": "code",
   "execution_count": 18,
   "metadata": {
    "scrolled": true
   },
   "outputs": [
    {
     "data": {
      "text/html": [
       "<div>\n",
       "<style scoped>\n",
       "    .dataframe tbody tr th:only-of-type {\n",
       "        vertical-align: middle;\n",
       "    }\n",
       "\n",
       "    .dataframe tbody tr th {\n",
       "        vertical-align: top;\n",
       "    }\n",
       "\n",
       "    .dataframe thead th {\n",
       "        text-align: right;\n",
       "    }\n",
       "</style>\n",
       "<table border=\"1\" class=\"dataframe\">\n",
       "  <thead>\n",
       "    <tr style=\"text-align: right;\">\n",
       "      <th></th>\n",
       "      <th>Full_State</th>\n",
       "      <th>Effective Date Year</th>\n",
       "      <th>Num_Laws</th>\n",
       "    </tr>\n",
       "  </thead>\n",
       "  <tbody>\n",
       "    <tr>\n",
       "      <th>0</th>\n",
       "      <td>Alabama</td>\n",
       "      <td>1994.0</td>\n",
       "      <td>1</td>\n",
       "    </tr>\n",
       "    <tr>\n",
       "      <th>1</th>\n",
       "      <td>Alabama</td>\n",
       "      <td>1998.0</td>\n",
       "      <td>1</td>\n",
       "    </tr>\n",
       "    <tr>\n",
       "      <th>2</th>\n",
       "      <td>Alabama</td>\n",
       "      <td>2000.0</td>\n",
       "      <td>1</td>\n",
       "    </tr>\n",
       "    <tr>\n",
       "      <th>3</th>\n",
       "      <td>Alabama</td>\n",
       "      <td>2006.0</td>\n",
       "      <td>1</td>\n",
       "    </tr>\n",
       "    <tr>\n",
       "      <th>4</th>\n",
       "      <td>Alabama</td>\n",
       "      <td>2015.0</td>\n",
       "      <td>5</td>\n",
       "    </tr>\n",
       "  </tbody>\n",
       "</table>\n",
       "</div>"
      ],
      "text/plain": [
       "  Full_State  Effective Date Year  Num_Laws\n",
       "0    Alabama               1994.0         1\n",
       "1    Alabama               1998.0         1\n",
       "2    Alabama               2000.0         1\n",
       "3    Alabama               2006.0         1\n",
       "4    Alabama               2015.0         5"
      ]
     },
     "execution_count": 18,
     "metadata": {},
     "output_type": "execute_result"
    }
   ],
   "source": [
    "num_laws = full_law.groupby(['Full_State','Effective Date Year']).size().reset_index()\n",
    "num_laws.rename(columns={ num_laws.columns[2]: \"Num_Laws\" }, inplace = True)\n",
    "num_laws.head(5)"
   ]
  },
  {
   "cell_type": "code",
   "execution_count": 19,
   "metadata": {},
   "outputs": [
    {
     "name": "stdout",
     "output_type": "stream",
     "text": [
      "Dataset 1 Dimensions:  (679, 21)\n",
      "Dataset 2 Dimensions:  (353, 3)\n",
      "Dataset 3 Dimensions:  (679, 22)\n"
     ]
    }
   ],
   "source": [
    "#Join num_laws data on full laws data\n",
    "df = pd.merge(\n",
    "    full_law,\n",
    "    num_laws,\n",
    "    how='left',\n",
    "    left_on =['Full_State','Effective Date Year'],\n",
    "    right_on=['Full_State','Effective Date Year']\n",
    ")\n",
    "print(\"Dataset 1 Dimensions: \", full_law.shape)\n",
    "print(\"Dataset 2 Dimensions: \", num_laws.shape)\n",
    "print(\"Dataset 3 Dimensions: \", df.shape)"
   ]
  },
  {
   "cell_type": "code",
   "execution_count": 22,
   "metadata": {
    "scrolled": false
   },
   "outputs": [
    {
     "data": {
      "text/html": [
       "<div>\n",
       "<style scoped>\n",
       "    .dataframe tbody tr th:only-of-type {\n",
       "        vertical-align: middle;\n",
       "    }\n",
       "\n",
       "    .dataframe tbody tr th {\n",
       "        vertical-align: top;\n",
       "    }\n",
       "\n",
       "    .dataframe thead th {\n",
       "        text-align: right;\n",
       "    }\n",
       "</style>\n",
       "<table border=\"1\" class=\"dataframe\">\n",
       "  <thead>\n",
       "    <tr style=\"text-align: right;\">\n",
       "      <th></th>\n",
       "      <th>Law ID</th>\n",
       "      <th>Full_State</th>\n",
       "      <th>State_Abbrev</th>\n",
       "      <th>FIPS Code</th>\n",
       "      <th>Law Class</th>\n",
       "      <th>Handguns or Long Guns</th>\n",
       "      <th>Effect</th>\n",
       "      <th>Type of Change</th>\n",
       "      <th>Effective Date</th>\n",
       "      <th>Effective Date Note</th>\n",
       "      <th>...</th>\n",
       "      <th>Effective Date Day</th>\n",
       "      <th>Content</th>\n",
       "      <th>Age for Minimum Age Laws</th>\n",
       "      <th>Length of Waiting Period (days, handguns)</th>\n",
       "      <th>Additional Context and Notes</th>\n",
       "      <th>Caveats and Ambiguities</th>\n",
       "      <th>Suicides</th>\n",
       "      <th>Homicides</th>\n",
       "      <th>Effect_Num</th>\n",
       "      <th>Num_Laws</th>\n",
       "    </tr>\n",
       "  </thead>\n",
       "  <tbody>\n",
       "    <tr>\n",
       "      <th>0</th>\n",
       "      <td>AL1005</td>\n",
       "      <td>Alabama</td>\n",
       "      <td>AL</td>\n",
       "      <td>1</td>\n",
       "      <td>castle doctrine</td>\n",
       "      <td>handgun and long gun</td>\n",
       "      <td>Permissive</td>\n",
       "      <td>Modify</td>\n",
       "      <td>2006-06-01</td>\n",
       "      <td>NaN</td>\n",
       "      <td>...</td>\n",
       "      <td>1.0</td>\n",
       "      <td>A person who is justified under subsection (a)...</td>\n",
       "      <td>NaN</td>\n",
       "      <td>NaN</td>\n",
       "      <td>NaN</td>\n",
       "      <td>NaN</td>\n",
       "      <td>8.42</td>\n",
       "      <td>7.27</td>\n",
       "      <td>0</td>\n",
       "      <td>1</td>\n",
       "    </tr>\n",
       "    <tr>\n",
       "      <th>1</th>\n",
       "      <td>AL1012</td>\n",
       "      <td>Alabama</td>\n",
       "      <td>AL</td>\n",
       "      <td>1</td>\n",
       "      <td>minimum age</td>\n",
       "      <td>handgun</td>\n",
       "      <td>Restrictive</td>\n",
       "      <td>Implement</td>\n",
       "      <td>2015-10-01</td>\n",
       "      <td>NaN</td>\n",
       "      <td>...</td>\n",
       "      <td>1.0</td>\n",
       "      <td>No person who is a minor, except under the cir...</td>\n",
       "      <td>18</td>\n",
       "      <td>NaN</td>\n",
       "      <td>Restricted to pistols only. Exceptions include...</td>\n",
       "      <td>NaN</td>\n",
       "      <td>10.34</td>\n",
       "      <td>8.43</td>\n",
       "      <td>1</td>\n",
       "      <td>5</td>\n",
       "    </tr>\n",
       "  </tbody>\n",
       "</table>\n",
       "<p>2 rows × 22 columns</p>\n",
       "</div>"
      ],
      "text/plain": [
       "   Law ID Full_State State_Abbrev  FIPS Code        Law Class  \\\n",
       "0  AL1005    Alabama           AL          1  castle doctrine   \n",
       "1  AL1012    Alabama           AL          1      minimum age   \n",
       "\n",
       "  Handguns or Long Guns       Effect Type of Change Effective Date  \\\n",
       "0  handgun and long gun   Permissive         Modify     2006-06-01   \n",
       "1               handgun  Restrictive      Implement     2015-10-01   \n",
       "\n",
       "  Effective Date Note  ...  Effective Date Day  \\\n",
       "0                 NaN  ...                 1.0   \n",
       "1                 NaN  ...                 1.0   \n",
       "\n",
       "                                             Content  \\\n",
       "0  A person who is justified under subsection (a)...   \n",
       "1  No person who is a minor, except under the cir...   \n",
       "\n",
       "   Age for Minimum Age Laws Length of Waiting Period (days, handguns)  \\\n",
       "0                       NaN                                       NaN   \n",
       "1                        18                                       NaN   \n",
       "\n",
       "                        Additional Context and Notes Caveats and Ambiguities  \\\n",
       "0                                                NaN                     NaN   \n",
       "1  Restricted to pistols only. Exceptions include...                     NaN   \n",
       "\n",
       "  Suicides Homicides  Effect_Num  Num_Laws  \n",
       "0     8.42      7.27           0         1  \n",
       "1    10.34      8.43           1         5  \n",
       "\n",
       "[2 rows x 22 columns]"
      ]
     },
     "execution_count": 22,
     "metadata": {},
     "output_type": "execute_result"
    }
   ],
   "source": [
    "df.head(2)"
   ]
  },
  {
   "cell_type": "code",
   "execution_count": 23,
   "metadata": {},
   "outputs": [
    {
     "name": "stderr",
     "output_type": "stream",
     "text": [
      "<ipython-input-23-9ad363e708f8>:5: FutureWarning: The default value of regex will change from True to False in a future version.\n",
      "  df['Content'] = df['Content'].str.replace(r\"\\(.*\\)\",\"\")\n"
     ]
    }
   ],
   "source": [
    "#Clean up content\n",
    "#1.) Remove the \\n next line symbol\n",
    "df['Content'] = df['Content'].replace(r'\\n',' ', regex=True) \n",
    "#2.) Remove parentheses and internal data\n",
    "df['Content'] = df['Content'].str.replace(r\"\\(.*\\)\",\"\")\n"
   ]
  },
  {
   "cell_type": "code",
   "execution_count": 24,
   "metadata": {
    "scrolled": true
   },
   "outputs": [
    {
     "name": "stderr",
     "output_type": "stream",
     "text": [
      "No model was supplied, defaulted to distilbert-base-uncased-finetuned-sst-2-english (https://huggingface.co/distilbert-base-uncased-finetuned-sst-2-english)\n",
      "All model checkpoint layers were used when initializing TFDistilBertForSequenceClassification.\n",
      "\n",
      "All the layers of TFDistilBertForSequenceClassification were initialized from the model checkpoint at distilbert-base-uncased-finetuned-sst-2-english.\n",
      "If your task is similar to the task the model of the checkpoint was trained on, you can already use TFDistilBertForSequenceClassification for predictions without further training.\n"
     ]
    }
   ],
   "source": [
    "#NLP on gun descriptions - cosine and hugging face pos/neg\n",
    "#%pip install transformers\n",
    "from transformers import pipeline\n",
    "sentiment_pipeline = pipeline(\"sentiment-analysis\")"
   ]
  },
  {
   "cell_type": "code",
   "execution_count": 42,
   "metadata": {},
   "outputs": [
    {
     "data": {
      "text/plain": [
       "0    {'label': 'POSITIVE', 'score': 0.7644837498664...\n",
       "1    {'label': 'NEGATIVE', 'score': 0.9864904880523...\n",
       "2    {'label': 'NEGATIVE', 'score': 0.9995653033256...\n",
       "3    {'label': 'NEGATIVE', 'score': 0.9921448826789...\n",
       "4    {'label': 'NEGATIVE', 'score': 0.9903581738471...\n",
       "Name: sentiment, dtype: object"
      ]
     },
     "execution_count": 42,
     "metadata": {},
     "output_type": "execute_result"
    }
   ],
   "source": [
    "#Sentiment Analysis\n",
    "col_list = df['Content'].values.tolist()\n",
    "df['sentiment'] = sentiment_pipeline(col_list)\n",
    "df['sentiment'].head()"
   ]
  },
  {
   "cell_type": "code",
   "execution_count": 54,
   "metadata": {},
   "outputs": [
    {
     "name": "stdout",
     "output_type": "stream",
     "text": [
      "0    POSITIVE\n",
      "1    NEGATIVE\n",
      "Name: sentiment_label, dtype: object\n",
      "0    0.764484\n",
      "1    0.986490\n",
      "Name: sentiment_score, dtype: float64\n"
     ]
    }
   ],
   "source": [
    "#Parse out pieces we want from sentiment column\n",
    "df['sentiment_label'] = [x['label'] for x in df['sentiment']]\n",
    "df['sentiment_score'] = [x['score'] for x in df['sentiment']]\n",
    "print(df['sentiment_label'].head(2))\n",
    "print(df['sentiment_score'].head(2))"
   ]
  },
  {
   "cell_type": "code",
   "execution_count": null,
   "metadata": {},
   "outputs": [],
   "source": []
  }
 ],
 "metadata": {
  "kernelspec": {
   "display_name": "Python 3",
   "language": "python",
   "name": "python3"
  },
  "language_info": {
   "codemirror_mode": {
    "name": "ipython",
    "version": 3
   },
   "file_extension": ".py",
   "mimetype": "text/x-python",
   "name": "python",
   "nbconvert_exporter": "python",
   "pygments_lexer": "ipython3",
   "version": "3.8.3"
  }
 },
 "nbformat": 4,
 "nbformat_minor": 2
}
