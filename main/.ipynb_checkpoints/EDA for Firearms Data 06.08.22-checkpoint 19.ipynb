{
 "cells": [
  {
   "cell_type": "markdown",
   "metadata": {},
   "source": [
    "# Part 1: Read in datasets/exploratory data analysis"
   ]
  },
  {
   "cell_type": "code",
   "execution_count": 60,
   "metadata": {},
   "outputs": [
    {
     "name": "stdout",
     "output_type": "stream",
     "text": [
      "Dataset #1 Dimensions:  (1400, 4)\n",
      "Dataset #2 Dimensions:  (1850, 20)\n",
      "Dataset #3 Dimensions:  (2666, 27)\n"
     ]
    }
   ],
   "source": [
    "#Import libraries\n",
    "import pandas as pd\n",
    "import numpy as np\n",
    "\n",
    "#Read in data\n",
    "deaths = pd.read_csv(\"/Users/jonzimmerman/Desktop/Data Projects/FirearmsAnalysis/main/firearm_deaths.csv\")\n",
    "ownership = pd.read_excel(\"/Users/jonzimmerman/Desktop/Data Projects/FirearmsAnalysis/main/TL-354-State-Level Estimates of Household Firearm Ownership.xlsx\",sheet_name='State-Level Data & Factor Score')\n",
    "laws = pd.read_excel(\"/Users/jonzimmerman/Desktop/Data Projects/FirearmsAnalysis/main/TL-A243-2 State Firearm Law Database 3.0.xlsx\",sheet_name='Database')\n",
    "\n",
    "print(\"Dataset #1 Dimensions: \", deaths.shape)\n",
    "print(\"Dataset #2 Dimensions: \", ownership.shape)\n",
    "print(\"Dataset #3 Dimensions: \", laws.shape)"
   ]
  },
  {
   "cell_type": "code",
   "execution_count": 61,
   "metadata": {
    "scrolled": true
   },
   "outputs": [
    {
     "data": {
      "text/html": [
       "<div>\n",
       "<style scoped>\n",
       "    .dataframe tbody tr th:only-of-type {\n",
       "        vertical-align: middle;\n",
       "    }\n",
       "\n",
       "    .dataframe tbody tr th {\n",
       "        vertical-align: top;\n",
       "    }\n",
       "\n",
       "    .dataframe thead th {\n",
       "        text-align: right;\n",
       "    }\n",
       "</style>\n",
       "<table border=\"1\" class=\"dataframe\">\n",
       "  <thead>\n",
       "    <tr style=\"text-align: right;\">\n",
       "      <th></th>\n",
       "      <th>State</th>\n",
       "      <th>ST</th>\n",
       "    </tr>\n",
       "  </thead>\n",
       "  <tbody>\n",
       "    <tr>\n",
       "      <th>0</th>\n",
       "      <td>Alabama</td>\n",
       "      <td>AL</td>\n",
       "    </tr>\n",
       "    <tr>\n",
       "      <th>43</th>\n",
       "      <td>Alaska</td>\n",
       "      <td>AK</td>\n",
       "    </tr>\n",
       "    <tr>\n",
       "      <th>92</th>\n",
       "      <td>Arizona</td>\n",
       "      <td>AZ</td>\n",
       "    </tr>\n",
       "    <tr>\n",
       "      <th>144</th>\n",
       "      <td>Arkansas</td>\n",
       "      <td>AR</td>\n",
       "    </tr>\n",
       "    <tr>\n",
       "      <th>193</th>\n",
       "      <td>California</td>\n",
       "      <td>CA</td>\n",
       "    </tr>\n",
       "  </tbody>\n",
       "</table>\n",
       "</div>"
      ],
      "text/plain": [
       "          State  ST\n",
       "0       Alabama  AL\n",
       "43       Alaska  AK\n",
       "92      Arizona  AZ\n",
       "144    Arkansas  AR\n",
       "193  California  CA"
      ]
     },
     "execution_count": 61,
     "metadata": {},
     "output_type": "execute_result"
    }
   ],
   "source": [
    "#Get a states dataset with Full name and abbreviation to make joining easier\n",
    "states_df = laws[['State','State Postal Abbreviation']]\n",
    "states_df = states_df.rename(\n",
    "    columns={\n",
    "        'State Postal Abbreviation': 'ST'\n",
    "    }\n",
    ")\n",
    "\n",
    "states_df.drop_duplicates(inplace=True)\n",
    "states_df.drop(states_df[states_df['State']=='DIstrict of Columbia'].index, inplace=True)\n",
    "states_df.drop(states_df[states_df['State']=='MIssissippi'].index, inplace=True)\n",
    "states_df.head()"
   ]
  },
  {
   "cell_type": "markdown",
   "metadata": {},
   "source": [
    "#### Part 1a: Look at the ownership data"
   ]
  },
  {
   "cell_type": "code",
   "execution_count": 62,
   "metadata": {
    "scrolled": false
   },
   "outputs": [
    {
     "name": "stdout",
     "output_type": "stream",
     "text": [
      "Dataset 1 Dimensions:  (1850, 12)\n",
      "Dataset 2 Dimensions:  (51, 2)\n",
      "Dataset 3 Dimensions:  (1850, 13)\n"
     ]
    },
    {
     "data": {
      "text/html": [
       "<div>\n",
       "<style scoped>\n",
       "    .dataframe tbody tr th:only-of-type {\n",
       "        vertical-align: middle;\n",
       "    }\n",
       "\n",
       "    .dataframe tbody tr th {\n",
       "        vertical-align: top;\n",
       "    }\n",
       "\n",
       "    .dataframe thead th {\n",
       "        text-align: right;\n",
       "    }\n",
       "</style>\n",
       "<table border=\"1\" class=\"dataframe\">\n",
       "  <thead>\n",
       "    <tr style=\"text-align: right;\">\n",
       "      <th></th>\n",
       "      <th>FIP</th>\n",
       "      <th>Year</th>\n",
       "      <th>State</th>\n",
       "      <th>universl</th>\n",
       "      <th>permit</th>\n",
       "      <th>BRFSS</th>\n",
       "      <th>GALLUP</th>\n",
       "      <th>GSS</th>\n",
       "      <th>PEW</th>\n",
       "      <th>HuntLic</th>\n",
       "      <th>GunsAmmo</th>\n",
       "      <th>BackChk</th>\n",
       "      <th>ST</th>\n",
       "    </tr>\n",
       "  </thead>\n",
       "  <tbody>\n",
       "    <tr>\n",
       "      <th>0</th>\n",
       "      <td>1</td>\n",
       "      <td>1980</td>\n",
       "      <td>Alabama</td>\n",
       "      <td>0</td>\n",
       "      <td>0</td>\n",
       "      <td>NaN</td>\n",
       "      <td>0.55395</td>\n",
       "      <td>0.583632</td>\n",
       "      <td>NaN</td>\n",
       "      <td>0.291102</td>\n",
       "      <td>-0.509164</td>\n",
       "      <td>NaN</td>\n",
       "      <td>AL</td>\n",
       "    </tr>\n",
       "    <tr>\n",
       "      <th>1</th>\n",
       "      <td>1</td>\n",
       "      <td>1981</td>\n",
       "      <td>Alabama</td>\n",
       "      <td>0</td>\n",
       "      <td>0</td>\n",
       "      <td>NaN</td>\n",
       "      <td>NaN</td>\n",
       "      <td>NaN</td>\n",
       "      <td>NaN</td>\n",
       "      <td>0.294962</td>\n",
       "      <td>-0.618954</td>\n",
       "      <td>NaN</td>\n",
       "      <td>AL</td>\n",
       "    </tr>\n",
       "    <tr>\n",
       "      <th>2</th>\n",
       "      <td>1</td>\n",
       "      <td>1982</td>\n",
       "      <td>Alabama</td>\n",
       "      <td>0</td>\n",
       "      <td>0</td>\n",
       "      <td>NaN</td>\n",
       "      <td>NaN</td>\n",
       "      <td>0.655196</td>\n",
       "      <td>NaN</td>\n",
       "      <td>0.290545</td>\n",
       "      <td>-0.526692</td>\n",
       "      <td>NaN</td>\n",
       "      <td>AL</td>\n",
       "    </tr>\n",
       "    <tr>\n",
       "      <th>3</th>\n",
       "      <td>1</td>\n",
       "      <td>1983</td>\n",
       "      <td>Alabama</td>\n",
       "      <td>0</td>\n",
       "      <td>0</td>\n",
       "      <td>NaN</td>\n",
       "      <td>0.61144</td>\n",
       "      <td>NaN</td>\n",
       "      <td>NaN</td>\n",
       "      <td>0.284983</td>\n",
       "      <td>-0.713227</td>\n",
       "      <td>NaN</td>\n",
       "      <td>AL</td>\n",
       "    </tr>\n",
       "    <tr>\n",
       "      <th>4</th>\n",
       "      <td>1</td>\n",
       "      <td>1984</td>\n",
       "      <td>Alabama</td>\n",
       "      <td>0</td>\n",
       "      <td>0</td>\n",
       "      <td>NaN</td>\n",
       "      <td>NaN</td>\n",
       "      <td>0.626933</td>\n",
       "      <td>NaN</td>\n",
       "      <td>0.281622</td>\n",
       "      <td>-0.733305</td>\n",
       "      <td>NaN</td>\n",
       "      <td>AL</td>\n",
       "    </tr>\n",
       "  </tbody>\n",
       "</table>\n",
       "</div>"
      ],
      "text/plain": [
       "   FIP  Year    State  universl  permit  BRFSS   GALLUP       GSS  PEW  \\\n",
       "0    1  1980  Alabama         0       0    NaN  0.55395  0.583632  NaN   \n",
       "1    1  1981  Alabama         0       0    NaN      NaN       NaN  NaN   \n",
       "2    1  1982  Alabama         0       0    NaN      NaN  0.655196  NaN   \n",
       "3    1  1983  Alabama         0       0    NaN  0.61144       NaN  NaN   \n",
       "4    1  1984  Alabama         0       0    NaN      NaN  0.626933  NaN   \n",
       "\n",
       "    HuntLic  GunsAmmo  BackChk  ST  \n",
       "0  0.291102 -0.509164      NaN  AL  \n",
       "1  0.294962 -0.618954      NaN  AL  \n",
       "2  0.290545 -0.526692      NaN  AL  \n",
       "3  0.284983 -0.713227      NaN  AL  \n",
       "4  0.281622 -0.733305      NaN  AL  "
      ]
     },
     "execution_count": 62,
     "metadata": {},
     "output_type": "execute_result"
    }
   ],
   "source": [
    "#1.) Rename column\n",
    "ownership = ownership.rename(columns={'STATE': 'State'})\n",
    "#2.) Replace -9 with NAN to not screw up calculations\n",
    "ownership = ownership.replace(-9,np.NaN)\n",
    "#3.) Remove columns I'm not using\n",
    "del ownership['HFR'],ownership['Fem_FS_S'],ownership['Male_FS_S'],ownership['HFR_se'], ownership['BS1'], ownership['BS2'], ownership['BS3'], ownership['PewQChng']\n",
    "\n",
    "#4.) Add in State Abbrevs\n",
    "own_df = pd.merge(\n",
    "    ownership,\n",
    "    states_df,\n",
    "    how='left',\n",
    "    on=['State']\n",
    ")\n",
    "print(\"Dataset 1 Dimensions: \", ownership.shape)\n",
    "print(\"Dataset 2 Dimensions: \", states_df.shape)\n",
    "print(\"Dataset 3 Dimensions: \", own_df.shape)\n",
    "\n",
    "own_df.head()"
   ]
  },
  {
   "cell_type": "code",
   "execution_count": 63,
   "metadata": {
    "scrolled": true
   },
   "outputs": [
    {
     "data": {
      "image/png": "[encoded data removed]",
      "text/plain": [
       "<Figure size 432x288 with 2 Axes>"
      ]
     },
     "metadata": {
      "needs_background": "light"
     },
     "output_type": "display_data"
    }
   ],
   "source": [
    "#Combine ownership estimates\n",
    "own_df['avg_own_est'] = own_df[['BRFSS', 'GALLUP','GSS','PEW']].mean(axis=1)\n",
    "\n",
    "import seaborn as sn\n",
    "import matplotlib.pyplot as plt\n",
    "plt.rcParams[\"figure.figsize\"] = [6,4]\n",
    "matrix = own_df[['BRFSS', 'GALLUP','GSS','PEW','avg_own_est']]\n",
    "corrMatrix = matrix.corr()\n",
    "sn.heatmap(corrMatrix, annot=True,cmap=\"RdBu\",vmax=1,vmin=-1)\n",
    "plt.show()"
   ]
  },
  {
   "cell_type": "code",
   "execution_count": 64,
   "metadata": {},
   "outputs": [
    {
     "data": {
      "text/html": [
       "<div>\n",
       "<style scoped>\n",
       "    .dataframe tbody tr th:only-of-type {\n",
       "        vertical-align: middle;\n",
       "    }\n",
       "\n",
       "    .dataframe tbody tr th {\n",
       "        vertical-align: top;\n",
       "    }\n",
       "\n",
       "    .dataframe thead th {\n",
       "        text-align: right;\n",
       "    }\n",
       "</style>\n",
       "<table border=\"1\" class=\"dataframe\">\n",
       "  <thead>\n",
       "    <tr style=\"text-align: right;\">\n",
       "      <th></th>\n",
       "      <th>FIP</th>\n",
       "      <th>Year</th>\n",
       "      <th>State</th>\n",
       "      <th>universl</th>\n",
       "      <th>permit</th>\n",
       "      <th>HuntLic</th>\n",
       "      <th>GunsAmmo</th>\n",
       "      <th>BackChk</th>\n",
       "      <th>ST</th>\n",
       "      <th>avg_own_est</th>\n",
       "    </tr>\n",
       "  </thead>\n",
       "  <tbody>\n",
       "    <tr>\n",
       "      <th>0</th>\n",
       "      <td>1</td>\n",
       "      <td>1980</td>\n",
       "      <td>Alabama</td>\n",
       "      <td>0</td>\n",
       "      <td>0</td>\n",
       "      <td>0.291102</td>\n",
       "      <td>-0.509164</td>\n",
       "      <td>NaN</td>\n",
       "      <td>AL</td>\n",
       "      <td>0.568791</td>\n",
       "    </tr>\n",
       "    <tr>\n",
       "      <th>1</th>\n",
       "      <td>1</td>\n",
       "      <td>1981</td>\n",
       "      <td>Alabama</td>\n",
       "      <td>0</td>\n",
       "      <td>0</td>\n",
       "      <td>0.294962</td>\n",
       "      <td>-0.618954</td>\n",
       "      <td>NaN</td>\n",
       "      <td>AL</td>\n",
       "      <td>NaN</td>\n",
       "    </tr>\n",
       "    <tr>\n",
       "      <th>2</th>\n",
       "      <td>1</td>\n",
       "      <td>1982</td>\n",
       "      <td>Alabama</td>\n",
       "      <td>0</td>\n",
       "      <td>0</td>\n",
       "      <td>0.290545</td>\n",
       "      <td>-0.526692</td>\n",
       "      <td>NaN</td>\n",
       "      <td>AL</td>\n",
       "      <td>0.655196</td>\n",
       "    </tr>\n",
       "    <tr>\n",
       "      <th>3</th>\n",
       "      <td>1</td>\n",
       "      <td>1983</td>\n",
       "      <td>Alabama</td>\n",
       "      <td>0</td>\n",
       "      <td>0</td>\n",
       "      <td>0.284983</td>\n",
       "      <td>-0.713227</td>\n",
       "      <td>NaN</td>\n",
       "      <td>AL</td>\n",
       "      <td>0.611440</td>\n",
       "    </tr>\n",
       "    <tr>\n",
       "      <th>4</th>\n",
       "      <td>1</td>\n",
       "      <td>1984</td>\n",
       "      <td>Alabama</td>\n",
       "      <td>0</td>\n",
       "      <td>0</td>\n",
       "      <td>0.281622</td>\n",
       "      <td>-0.733305</td>\n",
       "      <td>NaN</td>\n",
       "      <td>AL</td>\n",
       "      <td>0.626933</td>\n",
       "    </tr>\n",
       "  </tbody>\n",
       "</table>\n",
       "</div>"
      ],
      "text/plain": [
       "   FIP  Year    State  universl  permit   HuntLic  GunsAmmo  BackChk  ST  \\\n",
       "0    1  1980  Alabama         0       0  0.291102 -0.509164      NaN  AL   \n",
       "1    1  1981  Alabama         0       0  0.294962 -0.618954      NaN  AL   \n",
       "2    1  1982  Alabama         0       0  0.290545 -0.526692      NaN  AL   \n",
       "3    1  1983  Alabama         0       0  0.284983 -0.713227      NaN  AL   \n",
       "4    1  1984  Alabama         0       0  0.281622 -0.733305      NaN  AL   \n",
       "\n",
       "   avg_own_est  \n",
       "0     0.568791  \n",
       "1          NaN  \n",
       "2     0.655196  \n",
       "3     0.611440  \n",
       "4     0.626933  "
      ]
     },
     "execution_count": 64,
     "metadata": {},
     "output_type": "execute_result"
    }
   ],
   "source": [
    "#Correlation between ownership estimates is really strong so lets keep the aggregated measure only\n",
    "del own_df['BRFSS'], own_df['GALLUP'], own_df['GSS'], own_df['PEW']\n",
    "own_df.head()"
   ]
  },
  {
   "cell_type": "code",
   "execution_count": 65,
   "metadata": {
    "scrolled": true
   },
   "outputs": [
    {
     "data": {
      "application/vnd.plotly.v1+json": {
       "config": {
        "plotlyServerURL": "https://plot.ly"
       },
       "data": [
        {
         "hovertemplate": "State=Alabama<br>Year=%{x}<br>HuntLic=%{y}<extra></extra>",
         "legendgroup": "Alabama",
         "line": {
          "color": "#636efa",
          "dash": "solid"
         },
         "marker": {
          "symbol": "circle"
         },
         "mode": "lines",
         "name": "Alabama",
         "showlegend": true,
         "type": "scattergl",
         "x": [
          1980,
          1981,
          1982,
          1983,
          1984,
          1985,
          1986,
          1987,
          1988,
          1989,
          1990,
          1991,
          1992,
          1993,
          1994,
          1995,
          1996,
          1997,
          1998,
          1999,
          2000,
          2001,
          2002,
          2003,
          2004,
          2005,
          2006,
          2007,
          2008,
          2009,
          2010,
          2011,
          2012,
          2013,
          2014,
          2015,
          2016
         ],
         "xaxis": "x",
         "y": [
          0.291102487,
          0.294961758,
          0.290544843,
          0.28498261,
          0.281621729,
          0.278213793,
          0.27530177,
          0.278851679,
          0.273267002,
          0.26924349,
          0.25521284,
          0.249209578,
          0.248808824,
          0.247217095,
          0.244708732,
          0.250193779,
          0.247112829,
          0.245158404,
          0.24371378,
          0.240077994,
          0.243388897,
          0.244352896,
          0.240564278,
          0.237965596,
          0.239216106,
          0.236232687,
          0.235137633,
          0.228387356,
          0.224664321,
          0.225951896,
          0.225766688,
          0.349485328,
          0.344019977,
          0.344331566,
          0.340475174,
          0.340830801,
          0.341757544
         ],
         "yaxis": "y"
        },
        {
         "hovertemplate": "State=Alaska<br>Year=%{x}<br>HuntLic=%{y}<extra></extra>",
         "legendgroup": "Alaska",
         "line": {
          "color": "#EF553B",
          "dash": "solid"
         },
         "marker": {
          "symbol": "circle"
         },
         "mode": "lines",
         "name": "Alaska",
         "showlegend": true,
         "type": "scattergl",
         "x": [
          1980,
          1981,
          1982,
          1983,
          1984,
          1985,
          1986,
          1987,
          1988,
          1989,
          1990,
          1991,
          1992,
          1993,
          1994,
          1995,
          1996,
          1997,
          1998,
          1999,
          2000,
          2001,
          2002,
          2003,
          2004,
          2005,
          2006,
          2007,
          2008,
          2009,
          2010,
          2011,
          2012,
          2013,
          2014,
          2015,
          2016
         ],
         "xaxis": "x",
         "y": [
          0.528181694,
          0.538709385,
          0.535263094,
          0.532315978,
          0.54663457,
          0.541306133,
          0.583415932,
          0.562773046,
          0.556663256,
          0.592554049,
          0.504226818,
          0.552979892,
          0.528465379,
          0.527466071,
          0.528531807,
          0.554247477,
          0.563529871,
          0.556376262,
          0.552303921,
          0.537979869,
          0.544251007,
          0.521891274,
          0.535283778,
          0.534675174,
          0.52835841,
          0.527194505,
          0.523205688,
          0.524020965,
          0.520731237,
          0.516451807,
          0.529235828,
          0.541219832,
          0.65882709,
          0.574725998,
          0.581888265,
          0.606060979,
          0.657790577
         ],
         "yaxis": "y"
        },
        {
         "hovertemplate": "State=Arizona<br>Year=%{x}<br>HuntLic=%{y}<extra></extra>",
         "legendgroup": "Arizona",
         "line": {
          "color": "#00cc96",
          "dash": "solid"
         },
         "marker": {
          "symbol": "circle"
         },
         "mode": "lines",
         "name": "Arizona",
         "showlegend": true,
         "type": "scattergl",
         "x": [
          1980,
          1981,
          1982,
          1983,
          1984,
          1985,
          1986,
          1987,
          1988,
          1989,
          1990,
          1991,
          1992,
          1993,
          1994,
          1995,
          1996,
          1997,
          1998,
          1999,
          2000,
          2001,
          2002,
          2003,
          2004,
          2005,
          2006,
          2007,
          2008,
          2009,
          2010,
          2011,
          2012,
          2013,
          2014,
          2015,
          2016
         ],
         "xaxis": "x",
         "y": [
          0.389271965,
          0.340846531,
          0.332004876,
          0.338960279,
          0.343327473,
          0.341102062,
          0.338749605,
          0.330003419,
          0.319138771,
          0.306305114,
          0.302540189,
          0.288186641,
          0.285307227,
          0.287109845,
          0.285970711,
          0.27835351,
          0.267651527,
          0.25971398,
          0.253215494,
          0.256541274,
          0.273809177,
          0.271896479,
          0.262135934,
          0.256321913,
          0.25612749,
          0.24900254,
          0.243212951,
          0.247168626,
          0.248850089,
          0.24761532,
          0.243934552,
          0.241434687,
          0.23978726,
          0.239910236,
          0.236577548,
          0.238235122,
          0.243218391
         ],
         "yaxis": "y"
        },
        {
         "hovertemplate": "State=Arkansas<br>Year=%{x}<br>HuntLic=%{y}<extra></extra>",
         "legendgroup": "Arkansas",
         "line": {
          "color": "#ab63fa",
          "dash": "solid"
         },
         "marker": {
          "symbol": "circle"
         },
         "mode": "lines",
         "name": "Arkansas",
         "showlegend": true,
         "type": "scattergl",
         "x": [
          1980,
          1981,
          1982,
          1983,
          1984,
          1985,
          1986,
          1987,
          1988,
          1989,
          1990,
          1991,
          1992,
          1993,
          1994,
          1995,
          1996,
          1997,
          1998,
          1999,
          2000,
          2001,
          2002,
          2003,
          2004,
          2005,
          2006,
          2007,
          2008,
          2009,
          2010,
          2011,
          2012,
          2013,
          2014,
          2015,
          2016
         ],
         "xaxis": "x",
         "y": [
          0.48769766,
          0.494296271,
          0.516793562,
          0.517555327,
          0.461583318,
          0.44929854,
          0.446864236,
          0.455463893,
          0.367929248,
          0.377059716,
          0.372682068,
          0.362050989,
          0.366266654,
          0.363143891,
          0.424175822,
          0.424544541,
          0.436481762,
          0.435839609,
          0.433909473,
          0.408338494,
          0.371828123,
          0.37457018,
          0.37449707,
          0.364340009,
          0.371505212,
          0.360634596,
          0.353977574,
          0.342718014,
          0.329385931,
          0.341894331,
          0.344006444,
          0.361847849,
          0.357273741,
          0.357205549,
          0.358999247,
          0.357544837,
          0.363894877
         ],
         "yaxis": "y"
        },
        {
         "hovertemplate": "State=California<br>Year=%{x}<br>HuntLic=%{y}<extra></extra>",
         "legendgroup": "California",
         "line": {
          "color": "#FFA15A",
          "dash": "solid"
         },
         "marker": {
          "symbol": "circle"
         },
         "mode": "lines",
         "name": "California",
         "showlegend": true,
         "type": "scattergl",
         "x": [
          1980,
          1981,
          1982,
          1983,
          1984,
          1985,
          1986,
          1987,
          1988,
          1989,
          1990,
          1991,
          1992,
          1993,
          1994,
          1995,
          1996,
          1997,
          1998,
          1999,
          2000,
          2001,
          2002,
          2003,
          2004,
          2005,
          2006,
          2007,
          2008,
          2009,
          2010,
          2011,
          2012,
          2013,
          2014,
          2015,
          2016
         ],
         "xaxis": "x",
         "y": [
          0.19155594,
          0.192523315,
          0.180185766,
          0.185925099,
          0.19048166,
          0.182298923,
          0.161027775,
          0.186736479,
          0.192093665,
          null,
          0.151720196,
          0.154076373,
          0.151101858,
          0.152914096,
          0.173162217,
          0.169532647,
          0.167788171,
          0.162568085,
          0.097368633,
          0.157187944,
          0.157698424,
          0.156527749,
          0.156495978,
          0.154670221,
          0.154942574,
          0.153424526,
          0.150769144,
          0.150088249,
          0.149238724,
          0.149415851,
          0.148455205,
          0.146927323,
          0.150334464,
          0.145863724,
          0.146260652,
          0.145829198,
          0.160670983
         ],
         "yaxis": "y"
        },
        {
         "hovertemplate": "State=Colorado<br>Year=%{x}<br>HuntLic=%{y}<extra></extra>",
         "legendgroup": "Colorado",
         "line": {
          "color": "#19d3f3",
          "dash": "solid"
         },
         "marker": {
          "symbol": "circle"
         },
         "mode": "lines",
         "name": "Colorado",
         "showlegend": true,
         "type": "scattergl",
         "x": [
          1980,
          1981,
          1982,
          1983,
          1984,
          1985,
          1986,
          1987,
          1988,
          1989,
          1990,
          1991,
          1992,
          1993,
          1994,
          1995,
          1996,
          1997,
          1998,
          1999,
          2000,
          2001,
          2002,
          2003,
          2004,
          2005,
          2006,
          2007,
          2008,
          2009,
          2010,
          2011,
          2012,
          2013,
          2014,
          2015,
          2016
         ],
         "xaxis": "x",
         "y": [
          0.402154139,
          0.406779477,
          0.411737329,
          0.407414551,
          0.350842428,
          0.342175299,
          0.332986736,
          0.366820653,
          0.341680688,
          0.343102409,
          0.363078752,
          0.357609763,
          0.339688437,
          0.337619691,
          0.321379755,
          0.330690974,
          0.324817381,
          0.308378974,
          0.298953988,
          0.284735719,
          0.275683996,
          0.290429276,
          0.293903886,
          0.293020681,
          0.291173581,
          0.289739402,
          0.304514331,
          0.301097412,
          0.29363851,
          0.291193298,
          0.28517456,
          0.282643797,
          0.283777632,
          0.283346271,
          0.280480072,
          0.279511205,
          0.281930716
         ],
         "yaxis": "y"
        },
        {
         "hovertemplate": "State=Connecticut<br>Year=%{x}<br>HuntLic=%{y}<extra></extra>",
         "legendgroup": "Connecticut",
         "line": {
          "color": "#FF6692",
          "dash": "solid"
         },
         "marker": {
          "symbol": "circle"
         },
         "mode": "lines",
         "name": "Connecticut",
         "showlegend": true,
         "type": "scattergl",
         "x": [
          1980,
          1981,
          1982,
          1983,
          1984,
          1985,
          1986,
          1987,
          1988,
          1989,
          1990,
          1991,
          1992,
          1993,
          1994,
          1995,
          1996,
          1997,
          1998,
          1999,
          2000,
          2001,
          2002,
          2003,
          2004,
          2005,
          2006,
          2007,
          2008,
          2009,
          2010,
          2011,
          2012,
          2013,
          2014,
          2015,
          2016
         ],
         "xaxis": "x",
         "y": [
          0.186244448,
          0.190033402,
          0.195018441,
          0.209547868,
          0.202082654,
          0.205812615,
          0.204902858,
          0.206818884,
          0.209937821,
          0.213045938,
          0.216825854,
          0.221593342,
          0.210141971,
          0.208477715,
          0.209877157,
          0.210327996,
          0.206427034,
          0.203471637,
          0.203158816,
          0.201243007,
          0.199880601,
          0.199097542,
          0.198200826,
          0.19154013,
          0.197139401,
          0.19092141,
          0.189826121,
          0.186723033,
          0.184907405,
          0.184485695,
          0.181767418,
          0.185498292,
          0.190410676,
          0.184855438,
          0.178247315,
          0.185960914,
          0.188096983
         ],
         "yaxis": "y"
        },
        {
         "hovertemplate": "State=Delaware<br>Year=%{x}<br>HuntLic=%{y}<extra></extra>",
         "legendgroup": "Delaware",
         "line": {
          "color": "#B6E880",
          "dash": "solid"
         },
         "marker": {
          "symbol": "circle"
         },
         "mode": "lines",
         "name": "Delaware",
         "showlegend": true,
         "type": "scattergl",
         "x": [
          1980,
          1981,
          1982,
          1983,
          1984,
          1985,
          1986,
          1987,
          1988,
          1989,
          1990,
          1991,
          1992,
          1993,
          1994,
          1995,
          1996,
          1997,
          1998,
          1999,
          2000,
          2001,
          2002,
          2003,
          2004,
          2005,
          2006,
          2007,
          2008,
          2009,
          2010,
          2011,
          2012,
          2013,
          2014,
          2015,
          2016
         ],
         "xaxis": "x",
         "y": [
          0.203054825,
          0.248685492,
          0.243847171,
          0.235054186,
          0.239900381,
          0.240054379,
          0.234642786,
          0.239471776,
          0.250583562,
          0.252203221,
          0.238983871,
          0.24677783,
          0.230990898,
          0.222140374,
          0.227930955,
          0.211318688,
          0.211176524,
          0.20938968,
          0.207717149,
          0.20177409,
          0.201278456,
          0.19572225,
          0.200152639,
          0.187252346,
          0.197162965,
          0.184220441,
          0.172227921,
          0.174059084,
          0.211428647,
          0.207068415,
          0.213453435,
          0.208266437,
          0.203722015,
          0.200173933,
          0.163349357,
          0.230213445,
          0.231977338
         ],
         "yaxis": "y"
        },
        {
         "hovertemplate": "State=Florida<br>Year=%{x}<br>HuntLic=%{y}<extra></extra>",
         "legendgroup": "Florida",
         "line": {
          "color": "#FF97FF",
          "dash": "solid"
         },
         "marker": {
          "symbol": "circle"
         },
         "mode": "lines",
         "name": "Florida",
         "showlegend": true,
         "type": "scattergl",
         "x": [
          1980,
          1981,
          1982,
          1983,
          1984,
          1985,
          1986,
          1987,
          1988,
          1989,
          1990,
          1991,
          1992,
          1993,
          1994,
          1995,
          1996,
          1997,
          1998,
          1999,
          2000,
          2001,
          2002,
          2003,
          2004,
          2005,
          2006,
          2007,
          2008,
          2009,
          2010,
          2011,
          2012,
          2013,
          2014,
          2015,
          2016
         ],
         "xaxis": "x",
         "y": [
          0.205119815,
          0.206867269,
          0.207085398,
          0.205155352,
          0.200909111,
          0.201383657,
          0.195845613,
          0.195454051,
          0.195005565,
          0.181652217,
          0.170109007,
          0.161151377,
          0.158441191,
          0.155467954,
          0.152992051,
          0.1502322,
          0.148737635,
          0.15769759,
          0.145871594,
          0.142661829,
          0.140561412,
          0.142631084,
          0.140855152,
          0.135706381,
          0.137888168,
          0.132481328,
          0.132218824,
          0.125310694,
          0.120542746,
          0.090198913,
          0.128398359,
          0.128425566,
          0.127366837,
          0.134633736,
          0.130990815,
          0.134126342,
          0.127688819
         ],
         "yaxis": "y"
        },
        {
         "hovertemplate": "State=Georgia<br>Year=%{x}<br>HuntLic=%{y}<extra></extra>",
         "legendgroup": "Georgia",
         "line": {
          "color": "#FECB52",
          "dash": "solid"
         },
         "marker": {
          "symbol": "circle"
         },
         "mode": "lines",
         "name": "Georgia",
         "showlegend": true,
         "type": "scattergl",
         "x": [
          1980,
          1981,
          1982,
          1983,
          1984,
          1985,
          1986,
          1987,
          1988,
          1989,
          1990,
          1991,
          1992,
          1993,
          1994,
          1995,
          1996,
          1997,
          1998,
          1999,
          2000,
          2001,
          2002,
          2003,
          2004,
          2005,
          2006,
          2007,
          2008,
          2009,
          2010,
          2011,
          2012,
          2013,
          2014,
          2015,
          2016
         ],
         "xaxis": "x",
         "y": [
          0.396189286,
          0.396636735,
          0.386114759,
          0.384664077,
          0.38292258,
          0.384807406,
          0.38512186,
          0.390423787,
          0.384048545,
          0.383364552,
          0.382569953,
          0.376022876,
          0.377545103,
          0.369924319,
          0.364525228,
          0.361404922,
          0.352268091,
          0.336224694,
          0.326242109,
          0.320066444,
          0.31450425,
          0.313863405,
          0.321122964,
          0.317778132,
          0.316308136,
          0.312335569,
          0.314257025,
          0.310976754,
          0.345768251,
          1.076257185,
          0.344257648,
          0.332645437,
          0.305472485,
          0.294463825,
          0.296059582,
          0.299277042,
          0.354964361
         ],
         "yaxis": "y"
        },
        {
         "hovertemplate": "State=Hawaii<br>Year=%{x}<br>HuntLic=%{y}<extra></extra>",
         "legendgroup": "Hawaii",
         "line": {
          "color": "#636efa",
          "dash": "solid"
         },
         "marker": {
          "symbol": "circle"
         },
         "mode": "lines",
         "name": "Hawaii",
         "showlegend": true,
         "type": "scattergl",
         "x": [
          1980,
          1981,
          1982,
          1983,
          1984,
          1985,
          1986,
          1987,
          1988,
          1989,
          1990,
          1991,
          1992,
          1993,
          1994,
          1995,
          1996,
          1997,
          1998,
          1999,
          2000,
          2001,
          2002,
          2003,
          2004,
          2005,
          2006,
          2007,
          2008,
          2009,
          2010,
          2011,
          2012,
          2013,
          2014,
          2015,
          2016
         ],
         "xaxis": "x",
         "y": [
          0.108089096,
          0.110156981,
          0.108039649,
          0.107169563,
          0.106784423,
          0.104548583,
          0.108335367,
          0.106450715,
          0.109759998,
          0.104727136,
          0.108451987,
          0.09403416,
          0.094406245,
          0.093903028,
          0.095834821,
          0.094510243,
          0.094853504,
          0.092193766,
          0.092038136,
          0.089112324,
          0.088727924,
          0.086467699,
          0.086280118,
          0.082830345,
          0.085122144,
          0.081487522,
          0.077782371,
          0.077719016,
          0.082202054,
          0.074162268,
          0.074327065,
          0.08198956,
          0.085043346,
          0.084690784,
          0.07304418,
          0.087623058,
          0.089928685
         ],
         "yaxis": "y"
        },
        {
         "hovertemplate": "State=Idaho<br>Year=%{x}<br>HuntLic=%{y}<extra></extra>",
         "legendgroup": "Idaho",
         "line": {
          "color": "#EF553B",
          "dash": "solid"
         },
         "marker": {
          "symbol": "circle"
         },
         "mode": "lines",
         "name": "Idaho",
         "showlegend": true,
         "type": "scattergl",
         "x": [
          1980,
          1981,
          1982,
          1983,
          1984,
          1985,
          1986,
          1987,
          1988,
          1989,
          1990,
          1991,
          1992,
          1993,
          1994,
          1995,
          1996,
          1997,
          1998,
          1999,
          2000,
          2001,
          2002,
          2003,
          2004,
          2005,
          2006,
          2007,
          2008,
          2009,
          2010,
          2011,
          2012,
          2013,
          2014,
          2015,
          2016
         ],
         "xaxis": "x",
         "y": [
          0.723936905,
          0.75289486,
          0.722420127,
          0.718344413,
          0.713882489,
          0.707772192,
          0.71968082,
          0.723951735,
          0.71586143,
          0.758035747,
          0.765795624,
          0.752149556,
          0.733838742,
          0.745532013,
          0.720753911,
          0.69247292,
          0.816717903,
          0.835608604,
          0.77914868,
          0.78714445,
          0.765529862,
          0.737615258,
          0.733038609,
          0.730333903,
          0.71936747,
          0.713557825,
          0.71233179,
          0.728461393,
          0.723702995,
          0.719004322,
          0.735482414,
          0.726595313,
          0.740237067,
          0.730019945,
          0.745507195,
          0.746208361,
          0.714829614
         ],
         "yaxis": "y"
        },
        {
         "hovertemplate": "State=Illinois<br>Year=%{x}<br>HuntLic=%{y}<extra></extra>",
         "legendgroup": "Illinois",
         "line": {
          "color": "#00cc96",
          "dash": "solid"
         },
         "marker": {
          "symbol": "circle"
         },
         "mode": "lines",
         "name": "Illinois",
         "showlegend": true,
         "type": "scattergl",
         "x": [
          1980,
          1981,
          1982,
          1983,
          1984,
          1985,
          1986,
          1987,
          1988,
          1989,
          1990,
          1991,
          1992,
          1993,
          1994,
          1995,
          1996,
          1997,
          1998,
          1999,
          2000,
          2001,
          2002,
          2003,
          2004,
          2005,
          2006,
          2007,
          2008,
          2009,
          2010,
          2011,
          2012,
          2013,
          2014,
          2015,
          2016
         ],
         "xaxis": "x",
         "y": [
          0.214251936,
          0.214945556,
          0.218545416,
          0.220405488,
          0.221420917,
          0.21912319,
          0.218921894,
          0.221449254,
          0.230311617,
          0.23487651,
          0.237154333,
          0.265321401,
          0.284739147,
          0.278458536,
          0.32928804,
          0.308718748,
          0.316327636,
          0.313015009,
          0.301534518,
          0.260039714,
          0.259407937,
          0.295561758,
          0.298436843,
          0.290218098,
          0.297674748,
          0.289597212,
          0.303356883,
          0.308875583,
          0.320991013,
          0.320366573,
          0.322923258,
          0.327555606,
          0.324256528,
          0.319156031,
          0.318325787,
          0.319187592,
          0.334341167
         ],
         "yaxis": "y"
        },
        {
         "hovertemplate": "State=Indiana<br>Year=%{x}<br>HuntLic=%{y}<extra></extra>",
         "legendgroup": "Indiana",
         "line": {
          "color": "#ab63fa",
          "dash": "solid"
         },
         "marker": {
          "symbol": "circle"
         },
         "mode": "lines",
         "name": "Indiana",
         "showlegend": true,
         "type": "scattergl",
         "x": [
          1980,
          1981,
          1982,
          1983,
          1984,
          1985,
          1986,
          1987,
          1988,
          1989,
          1990,
          1991,
          1992,
          1993,
          1994,
          1995,
          1996,
          1997,
          1998,
          1999,
          2000,
          2001,
          2002,
          2003,
          2004,
          2005,
          2006,
          2007,
          2008,
          2009,
          2010,
          2011,
          2012,
          2013,
          2014,
          2015,
          2016
         ],
         "xaxis": "x",
         "y": [
          0.298304367,
          0.310743566,
          0.314046676,
          0.315403218,
          0.310858613,
          0.306543534,
          0.287535909,
          0.30008478,
          0.310056299,
          0.308208743,
          0.323399926,
          0.327660567,
          0.343040543,
          0.338197292,
          0.339360701,
          0.340608294,
          0.346447526,
          0.344300321,
          0.325432391,
          0.32329856,
          0.319696461,
          0.315456092,
          0.308791779,
          0.260929758,
          0.306877512,
          0.25922072,
          0.277159188,
          0.258802056,
          0.26220298,
          0.261501428,
          0.258381768,
          0.263936004,
          0.270685647,
          0.267829614,
          0.26877167,
          0.246891314,
          0.248126708
         ],
         "yaxis": "y"
        },
        {
         "hovertemplate": "State=Iowa<br>Year=%{x}<br>HuntLic=%{y}<extra></extra>",
         "legendgroup": "Iowa",
         "line": {
          "color": "#FFA15A",
          "dash": "solid"
         },
         "marker": {
          "symbol": "circle"
         },
         "mode": "lines",
         "name": "Iowa",
         "showlegend": true,
         "type": "scattergl",
         "x": [
          1980,
          1981,
          1982,
          1983,
          1984,
          1985,
          1986,
          1987,
          1988,
          1989,
          1990,
          1991,
          1992,
          1993,
          1994,
          1995,
          1996,
          1997,
          1998,
          1999,
          2000,
          2001,
          2002,
          2003,
          2004,
          2005,
          2006,
          2007,
          2008,
          2009,
          2010,
          2011,
          2012,
          2013,
          2014,
          2015,
          2016
         ],
         "xaxis": "x",
         "y": [
          0.472723703,
          0.484551723,
          0.489761765,
          0.47988145,
          0.476408615,
          0.280110061,
          0.461722144,
          0.473053464,
          0.491054317,
          0.493885679,
          0.513250704,
          0.502952348,
          0.496236254,
          0.483227572,
          0.473420473,
          0.490697668,
          0.489218351,
          0.492340217,
          0.498770266,
          0.506943244,
          0.503686275,
          0.50025667,
          0.506622785,
          0.511019383,
          0.504956164,
          0.509080281,
          0.530945607,
          0.536308571,
          0.543367072,
          0.534841213,
          0.529609932,
          0.53007155,
          0.525665397,
          0.507653621,
          0.503088981,
          0.495899375,
          0.417568069
         ],
         "yaxis": "y"
        },
        {
         "hovertemplate": "State=Kansas<br>Year=%{x}<br>HuntLic=%{y}<extra></extra>",
         "legendgroup": "Kansas",
         "line": {
          "color": "#19d3f3",
          "dash": "solid"
         },
         "marker": {
          "symbol": "circle"
         },
         "mode": "lines",
         "name": "Kansas",
         "showlegend": true,
         "type": "scattergl",
         "x": [
          1980,
          1981,
          1982,
          1983,
          1984,
          1985,
          1986,
          1987,
          1988,
          1989,
          1990,
          1991,
          1992,
          1993,
          1994,
          1995,
          1996,
          1997,
          1998,
          1999,
          2000,
          2001,
          2002,
          2003,
          2004,
          2005,
          2006,
          2007,
          2008,
          2009,
          2010,
          2011,
          2012,
          2013,
          2014,
          2015,
          2016
         ],
         "xaxis": "x",
         "y": [
          0.314007251,
          0.310040303,
          0.314354999,
          0.32122743,
          0.317765095,
          0.30558643,
          0.311880233,
          0.326228373,
          0.32352854,
          0.254901415,
          0.25256508,
          0.254352615,
          0.245548075,
          0.240871203,
          0.243697775,
          0.238953567,
          0.229303874,
          0.229610123,
          0.365417875,
          0.378716595,
          0.382329122,
          0.378289333,
          0.387308682,
          0.381852096,
          0.385830067,
          0.380298395,
          0.368492331,
          0.363183738,
          0.359007121,
          0.356327298,
          0.360564683,
          0.359504849,
          0.366885799,
          0.339953989,
          0.34037765,
          0.35170957,
          0.353712213
         ],
         "yaxis": "y"
        },
        {
         "hovertemplate": "State=Kentucky<br>Year=%{x}<br>HuntLic=%{y}<extra></extra>",
         "legendgroup": "Kentucky",
         "line": {
          "color": "#FF6692",
          "dash": "solid"
         },
         "marker": {
          "symbol": "circle"
         },
         "mode": "lines",
         "name": "Kentucky",
         "showlegend": true,
         "type": "scattergl",
         "x": [
          1980,
          1981,
          1982,
          1983,
          1984,
          1985,
          1986,
          1987,
          1988,
          1989,
          1990,
          1991,
          1992,
          1993,
          1994,
          1995,
          1996,
          1997,
          1998,
          1999,
          2000,
          2001,
          2002,
          2003,
          2004,
          2005,
          2006,
          2007,
          2008,
          2009,
          2010,
          2011,
          2012,
          2013,
          2014,
          2015,
          2016
         ],
         "xaxis": "x",
         "y": [
          0.312149582,
          0.343177589,
          0.345730752,
          0.347815725,
          0.346693178,
          0.348053792,
          0.361624982,
          0.369412894,
          0.382054571,
          0.368802779,
          0.373914345,
          0.371379184,
          0.367473279,
          0.366214573,
          0.358423311,
          0.359858336,
          0.357983868,
          0.376815661,
          0.380889344,
          0.416571492,
          0.404467809,
          0.4000227,
          0.392550827,
          0.38441015,
          0.389880016,
          0.381385087,
          0.375117069,
          0.356860271,
          0.357243255,
          0.356116226,
          0.339216649,
          0.331010808,
          0.344597754,
          0.332542927,
          0.334849067,
          0.337633,
          0.342384215
         ],
         "yaxis": "y"
        },
        {
         "hovertemplate": "State=Louisiana<br>Year=%{x}<br>HuntLic=%{y}<extra></extra>",
         "legendgroup": "Louisiana",
         "line": {
          "color": "#B6E880",
          "dash": "solid"
         },
         "marker": {
          "symbol": "circle"
         },
         "mode": "lines",
         "name": "Louisiana",
         "showlegend": true,
         "type": "scattergl",
         "x": [
          1980,
          1981,
          1982,
          1983,
          1984,
          1985,
          1986,
          1987,
          1988,
          1989,
          1990,
          1991,
          1992,
          1993,
          1994,
          1995,
          1996,
          1997,
          1998,
          1999,
          2000,
          2001,
          2002,
          2003,
          2004,
          2005,
          2006,
          2007,
          2008,
          2009,
          2010,
          2011,
          2012,
          2013,
          2014,
          2015,
          2016
         ],
         "xaxis": "x",
         "y": [
          0.364932073,
          0.371575701,
          0.373798343,
          0.376185669,
          0.370204241,
          0.296338555,
          0.343039291,
          0.349556801,
          0.343101701,
          0.337880767,
          0.357787965,
          0.357069428,
          0.353603974,
          0.353715023,
          0.350455856,
          0.351093211,
          0.242025521,
          0.358701673,
          0.363413766,
          0.363111575,
          0.369903885,
          0.238284258,
          0.361343741,
          0.352554987,
          0.359155393,
          0.350407446,
          0.363328348,
          0.409163811,
          0.225552654,
          0.232116345,
          0.233963555,
          0.236189595,
          0.348985867,
          0.353575538,
          0.359435297,
          0.361784624,
          0.365110403
         ],
         "yaxis": "y"
        },
        {
         "hovertemplate": "State=Maine<br>Year=%{x}<br>HuntLic=%{y}<extra></extra>",
         "legendgroup": "Maine",
         "line": {
          "color": "#FF97FF",
          "dash": "solid"
         },
         "marker": {
          "symbol": "circle"
         },
         "mode": "lines",
         "name": "Maine",
         "showlegend": true,
         "type": "scattergl",
         "x": [
          1980,
          1981,
          1982,
          1983,
          1984,
          1985,
          1986,
          1987,
          1988,
          1989,
          1990,
          1991,
          1992,
          1993,
          1994,
          1995,
          1996,
          1997,
          1998,
          1999,
          2000,
          2001,
          2002,
          2003,
          2004,
          2005,
          2006,
          2007,
          2008,
          2009,
          2010,
          2011,
          2012,
          2013,
          2014,
          2015,
          2016
         ],
         "xaxis": "x",
         "y": [
          0.425958855,
          0.414902395,
          0.42023792,
          0.427177702,
          0.400235321,
          0.42021882,
          0.430333432,
          0.413629338,
          0.415536248,
          0.421213292,
          0.412113948,
          0.405110411,
          0.380378022,
          0.384015853,
          0.378285936,
          0.378595525,
          0.376246531,
          0.368079151,
          0.35831533,
          0.362151971,
          0.362777017,
          0.361921329,
          0.40337074,
          0.40841496,
          0.400639785,
          0.406509951,
          0.400847119,
          0.395901888,
          0.419130485,
          0.41927531,
          0.419175691,
          0.410848571,
          0.410933069,
          0.403532675,
          0.400490043,
          0.406261381,
          0.410557932
         ],
         "yaxis": "y"
        },
        {
         "hovertemplate": "State=Maryland<br>Year=%{x}<br>HuntLic=%{y}<extra></extra>",
         "legendgroup": "Maryland",
         "line": {
          "color": "#FECB52",
          "dash": "solid"
         },
         "marker": {
          "symbol": "circle"
         },
         "mode": "lines",
         "name": "Maryland",
         "showlegend": true,
         "type": "scattergl",
         "x": [
          1980,
          1981,
          1982,
          1983,
          1984,
          1985,
          1986,
          1987,
          1988,
          1989,
          1990,
          1991,
          1992,
          1993,
          1994,
          1995,
          1996,
          1997,
          1998,
          1999,
          2000,
          2001,
          2002,
          2003,
          2004,
          2005,
          2006,
          2007,
          2008,
          2009,
          2010,
          2011,
          2012,
          2013,
          2014,
          2015,
          2016
         ],
         "xaxis": "x",
         "y": [
          0.283997946,
          0.272798955,
          0.272479605,
          0.264666851,
          0.280244535,
          0.277753204,
          0.280367341,
          0.281130019,
          0.282030743,
          0.206857976,
          0.205890449,
          0.208389788,
          0.208037579,
          0.205050137,
          0.196354097,
          0.201041873,
          0.194681872,
          0.191663835,
          0.192331831,
          0.188121758,
          0.188574073,
          0.190550351,
          0.236550825,
          0.219386158,
          0.234267965,
          0.217492815,
          0.158192999,
          0.215992464,
          0.212766088,
          0.223700273,
          0.215825185,
          0.216291788,
          0.21416461,
          0,
          0.221007308,
          0.216985248,
          0.131343064
         ],
         "yaxis": "y"
        },
        {
         "hovertemplate": "State=Massachusetts<br>Year=%{x}<br>HuntLic=%{y}<extra></extra>",
         "legendgroup": "Massachusetts",
         "line": {
          "color": "#636efa",
          "dash": "solid"
         },
         "marker": {
          "symbol": "circle"
         },
         "mode": "lines",
         "name": "Massachusetts",
         "showlegend": true,
         "type": "scattergl",
         "x": [
          1980,
          1981,
          1982,
          1983,
          1984,
          1985,
          1986,
          1987,
          1988,
          1989,
          1990,
          1991,
          1992,
          1993,
          1994,
          1995,
          1996,
          1997,
          1998,
          1999,
          2000,
          2001,
          2002,
          2003,
          2004,
          2005,
          2006,
          2007,
          2008,
          2009,
          2010,
          2011,
          2012,
          2013,
          2014,
          2015,
          2016
         ],
         "xaxis": "x",
         "y": [
          0.17590495,
          0.181107593,
          0.183326374,
          0.182675714,
          0.176191055,
          0.180786078,
          0.179076307,
          0.174030772,
          0.18851975,
          0.180814663,
          0.185903903,
          0.185693765,
          0.18507497,
          0.207512481,
          0.206918858,
          0.20324095,
          0.199237897,
          0.20211648,
          0.195986093,
          0.193695168,
          0.193748314,
          0.177763346,
          0.184267883,
          0.178607967,
          0.184376699,
          0.178876586,
          0.188630838,
          0.180008849,
          0.177961892,
          0.177533041,
          0.179024494,
          0.182558447,
          0.234053102,
          0.178069505,
          0.187783534,
          0.185203677,
          0.186968768
         ],
         "yaxis": "y"
        },
        {
         "hovertemplate": "State=Michigan<br>Year=%{x}<br>HuntLic=%{y}<extra></extra>",
         "legendgroup": "Michigan",
         "line": {
          "color": "#EF553B",
          "dash": "solid"
         },
         "marker": {
          "symbol": "circle"
         },
         "mode": "lines",
         "name": "Michigan",
         "showlegend": true,
         "type": "scattergl",
         "x": [
          1980,
          1981,
          1982,
          1983,
          1984,
          1985,
          1986,
          1987,
          1988,
          1989,
          1990,
          1991,
          1992,
          1993,
          1994,
          1995,
          1996,
          1997,
          1998,
          1999,
          2000,
          2001,
          2002,
          2003,
          2004,
          2005,
          2006,
          2007,
          2008,
          2009,
          2010,
          2011,
          2012,
          2013,
          2014,
          2015,
          2016
         ],
         "xaxis": "x",
         "y": [
          0.389263492,
          0.381208166,
          0.397638428,
          0.394963901,
          0.372614808,
          0.381312739,
          0.378765129,
          0.396581956,
          0.454525511,
          0.458397447,
          0.461245077,
          0.467120683,
          0.467802302,
          0.470804132,
          0.450317986,
          0.455537898,
          0.449989785,
          0.510577924,
          0.488974168,
          0.491163403,
          0.473421952,
          0.473236167,
          0.472101637,
          0.470770294,
          0.471170983,
          0.4705364,
          0.461430785,
          0.445454511,
          0.447778298,
          0.443891368,
          0.442960433,
          0.44690123,
          0.44632095,
          0.439276573,
          0.434425193,
          0.433061378,
          0.431214054
         ],
         "yaxis": "y"
        },
        {
         "hovertemplate": "State=Minnesota<br>Year=%{x}<br>HuntLic=%{y}<extra></extra>",
         "legendgroup": "Minnesota",
         "line": {
          "color": "#00cc96",
          "dash": "solid"
         },
         "marker": {
          "symbol": "circle"
         },
         "mode": "lines",
         "name": "Minnesota",
         "showlegend": true,
         "type": "scattergl",
         "x": [
          1980,
          1981,
          1982,
          1983,
          1984,
          1985,
          1986,
          1987,
          1988,
          1989,
          1990,
          1991,
          1992,
          1993,
          1994,
          1995,
          1996,
          1997,
          1998,
          1999,
          2000,
          2001,
          2002,
          2003,
          2004,
          2005,
          2006,
          2007,
          2008,
          2009,
          2010,
          2011,
          2012,
          2013,
          2014,
          2015,
          2016
         ],
         "xaxis": "x",
         "y": [
          0.413593731,
          0.476426981,
          0.482343685,
          0.46325597,
          0.487925395,
          0.478396415,
          0.47594343,
          0.480019512,
          0.482378592,
          0.468909705,
          0.422667968,
          0.479455353,
          0.487297694,
          0.481067578,
          0.467808231,
          0.421675193,
          0.423341838,
          0.464889142,
          0.462179809,
          0.486445494,
          0.496091476,
          0.49602093,
          0.556662296,
          0.522482249,
          0.552886887,
          0.519102163,
          0.514543486,
          0.508624388,
          0.52018255,
          0.518496257,
          0.510934837,
          0.517760003,
          0.508599088,
          0.529070823,
          0.522012404,
          0.528339075,
          0.511176787
         ],
         "yaxis": "y"
        },
        {
         "hovertemplate": "State=Mississippi<br>Year=%{x}<br>HuntLic=%{y}<extra></extra>",
         "legendgroup": "Mississippi",
         "line": {
          "color": "#ab63fa",
          "dash": "solid"
         },
         "marker": {
          "symbol": "circle"
         },
         "mode": "lines",
         "name": "Mississippi",
         "showlegend": true,
         "type": "scattergl",
         "x": [
          1980,
          1981,
          1982,
          1983,
          1984,
          1985,
          1986,
          1987,
          1988,
          1989,
          1990,
          1991,
          1992,
          1993,
          1994,
          1995,
          1996,
          1997,
          1998,
          1999,
          2000,
          2001,
          2002,
          2003,
          2004,
          2005,
          2006,
          2007,
          2008,
          2009,
          2010,
          2011,
          2012,
          2013,
          2014,
          2015,
          2016
         ],
         "xaxis": "x",
         "y": [
          0.348666858,
          0.348853598,
          0.314199545,
          0.350937191,
          0.320410681,
          0.320500961,
          0.31721156,
          0.318796843,
          0.321114771,
          0.320222103,
          0.31779864,
          0.318222409,
          0.317614011,
          0.323234452,
          0.308383122,
          0.296384984,
          0.289244652,
          0.298013903,
          0.294585447,
          0.294181368,
          0.296858264,
          0.29786866,
          0.292996475,
          0.28606128,
          0.29145447,
          0.284203045,
          0.284187871,
          0.279464912,
          0.285308988,
          0.290622904,
          0.305593989,
          0.266686883,
          0.260356622,
          0.25610754,
          0.289573533,
          0.348449996,
          0.337964941
         ],
         "yaxis": "y"
        },
        {
         "hovertemplate": "State=Missouri<br>Year=%{x}<br>HuntLic=%{y}<extra></extra>",
         "legendgroup": "Missouri",
         "line": {
          "color": "#FFA15A",
          "dash": "solid"
         },
         "marker": {
          "symbol": "circle"
         },
         "mode": "lines",
         "name": "Missouri",
         "showlegend": true,
         "type": "scattergl",
         "x": [
          1980,
          1981,
          1982,
          1983,
          1984,
          1985,
          1986,
          1987,
          1988,
          1989,
          1990,
          1991,
          1992,
          1993,
          1994,
          1995,
          1996,
          1997,
          1998,
          1999,
          2000,
          2001,
          2002,
          2003,
          2004,
          2005,
          2006,
          2007,
          2008,
          2009,
          2010,
          2011,
          2012,
          2013,
          2014,
          2015,
          2016
         ],
         "xaxis": "x",
         "y": [
          0.419826356,
          0.417254209,
          0.414155081,
          0.418325759,
          0.452843794,
          0.422513203,
          0.423113286,
          0.435149324,
          0.447948987,
          0.451764202,
          0.451334329,
          0.444312217,
          0.443168868,
          0.441226905,
          0.434142415,
          0.436120381,
          0.439047109,
          0.447474796,
          0.439360757,
          0.439256267,
          0.435808479,
          0.439540655,
          0.445303579,
          0.453776319,
          0.442469997,
          0.450595286,
          0.536032172,
          0.531210435,
          0.529093557,
          0.527361168,
          0.524665784,
          0.528290209,
          0.532493597,
          0.529760514,
          0.53221971,
          0.53795742,
          0.536197292
         ],
         "yaxis": "y"
        },
        {
         "hovertemplate": "State=Montana<br>Year=%{x}<br>HuntLic=%{y}<extra></extra>",
         "legendgroup": "Montana",
         "line": {
          "color": "#19d3f3",
          "dash": "solid"
         },
         "marker": {
          "symbol": "circle"
         },
         "mode": "lines",
         "name": "Montana",
         "showlegend": true,
         "type": "scattergl",
         "x": [
          1980,
          1981,
          1982,
          1983,
          1984,
          1985,
          1986,
          1987,
          1988,
          1989,
          1990,
          1991,
          1992,
          1993,
          1994,
          1995,
          1996,
          1997,
          1998,
          1999,
          2000,
          2001,
          2002,
          2003,
          2004,
          2005,
          2006,
          2007,
          2008,
          2009,
          2010,
          2011,
          2012,
          2013,
          2014,
          2015,
          2016
         ],
         "xaxis": "x",
         "y": [
          0.923785103,
          0.920507696,
          0.974616389,
          1.138083636,
          1.035560082,
          0.992357659,
          0.993818934,
          0.998176429,
          0.767664464,
          0.760037986,
          0.754992414,
          0.761305127,
          0.762541709,
          0.9210861,
          0.908623922,
          0.905851713,
          0.894564295,
          0.860367162,
          0.812539086,
          0.820245422,
          0.819780372,
          0.818781159,
          0.948108306,
          0.965125382,
          0.938712267,
          0.954559082,
          0.955521981,
          0.951866113,
          0.956858352,
          0.953172044,
          0.948900342,
          0.959378879,
          0.961170727,
          0.924736841,
          0.902049297,
          0.897365215,
          0.90278916
         ],
         "yaxis": "y"
        },
        {
         "hovertemplate": "State=Nebraska<br>Year=%{x}<br>HuntLic=%{y}<extra></extra>",
         "legendgroup": "Nebraska",
         "line": {
          "color": "#FF6692",
          "dash": "solid"
         },
         "marker": {
          "symbol": "circle"
         },
         "mode": "lines",
         "name": "Nebraska",
         "showlegend": true,
         "type": "scattergl",
         "x": [
          1980,
          1981,
          1982,
          1983,
          1984,
          1985,
          1986,
          1987,
          1988,
          1989,
          1990,
          1991,
          1992,
          1993,
          1994,
          1995,
          1996,
          1997,
          1998,
          1999,
          2000,
          2001,
          2002,
          2003,
          2004,
          2005,
          2006,
          2007,
          2008,
          2009,
          2010,
          2011,
          2012,
          2013,
          2014,
          2015,
          2016
         ],
         "xaxis": "x",
         "y": [
          0.449162456,
          0.459016331,
          0.461784669,
          0.450326385,
          0.451994249,
          0.434224472,
          0.441149426,
          0.446670538,
          0.458088083,
          0.444702627,
          0.474517692,
          0.453139402,
          0.450695942,
          0.443402729,
          0.443129463,
          0.455079362,
          0.455687648,
          0.451430927,
          0.454030268,
          0.455591514,
          0.459436728,
          0.458152524,
          0.442693888,
          0.445810446,
          0.440018817,
          0.442908989,
          0.442233245,
          0.440145899,
          0.462876892,
          0.460790412,
          0.463492944,
          0.455145476,
          0.455469883,
          0.447798979,
          0.442354013,
          0.425618987,
          0.419125287
         ],
         "yaxis": "y"
        },
        {
         "hovertemplate": "State=Nevada<br>Year=%{x}<br>HuntLic=%{y}<extra></extra>",
         "legendgroup": "Nevada",
         "line": {
          "color": "#B6E880",
          "dash": "solid"
         },
         "marker": {
          "symbol": "circle"
         },
         "mode": "lines",
         "name": "Nevada",
         "showlegend": true,
         "type": "scattergl",
         "x": [
          1980,
          1981,
          1982,
          1983,
          1984,
          1985,
          1986,
          1987,
          1988,
          1989,
          1990,
          1991,
          1992,
          1993,
          1994,
          1995,
          1996,
          1997,
          1998,
          1999,
          2000,
          2001,
          2002,
          2003,
          2004,
          2005,
          2006,
          2007,
          2008,
          2009,
          2010,
          2011,
          2012,
          2013,
          2014,
          2015,
          2016
         ],
         "xaxis": "x",
         "y": [
          0.343733797,
          0.341404513,
          0.356213869,
          0.316570154,
          0.314576524,
          0.329407762,
          0.32948314,
          0.332002396,
          0.349323834,
          0.306850667,
          0.288932632,
          0.269511031,
          0.257144439,
          0.183278903,
          0.226080058,
          0.232570696,
          0.224217031,
          0.21642165,
          0.221137963,
          0.215099337,
          0.214945958,
          0.205459513,
          0.19506439,
          0.183724211,
          0.187759679,
          0.176665636,
          0.194238151,
          0.20001261,
          0.210029532,
          0.208812022,
          0.200392091,
          0.197623029,
          0.198168912,
          0.194766036,
          0.187686751,
          0.202738498,
          0.203245618
         ],
         "yaxis": "y"
        },
        {
         "hovertemplate": "State=New Hampshire<br>Year=%{x}<br>HuntLic=%{y}<extra></extra>",
         "legendgroup": "New Hampshire",
         "line": {
          "color": "#FF97FF",
          "dash": "solid"
         },
         "marker": {
          "symbol": "circle"
         },
         "mode": "lines",
         "name": "New Hampshire",
         "showlegend": true,
         "type": "scattergl",
         "x": [
          1980,
          1981,
          1982,
          1983,
          1984,
          1985,
          1986,
          1987,
          1988,
          1989,
          1990,
          1991,
          1992,
          1993,
          1994,
          1995,
          1996,
          1997,
          1998,
          1999,
          2000,
          2001,
          2002,
          2003,
          2004,
          2005,
          2006,
          2007,
          2008,
          2009,
          2010,
          2011,
          2012,
          2013,
          2014,
          2015,
          2016
         ],
         "xaxis": "x",
         "y": [
          0.311000121,
          0.325407394,
          0.315997819,
          0.32939182,
          0.347245925,
          0.323001796,
          0.333204053,
          0.321024463,
          0.339112595,
          0.34244192,
          0.338154619,
          0.330264088,
          0.325774992,
          0.32575433,
          0.32758059,
          0.329018931,
          0.344813942,
          0.336938,
          0.341875226,
          0.436156717,
          0.414655465,
          0.403731331,
          0.391188789,
          0.383965319,
          0.387987039,
          0.381197637,
          0.377970828,
          0.374786676,
          0.376480182,
          0.376452148,
          0.378266673,
          0.375193077,
          0.375931874,
          0.367563199,
          0.362885972,
          0.370048412,
          0.375266086
         ],
         "yaxis": "y"
        },
        {
         "hovertemplate": "State=New Jersey<br>Year=%{x}<br>HuntLic=%{y}<extra></extra>",
         "legendgroup": "New Jersey",
         "line": {
          "color": "#FECB52",
          "dash": "solid"
         },
         "marker": {
          "symbol": "circle"
         },
         "mode": "lines",
         "name": "New Jersey",
         "showlegend": true,
         "type": "scattergl",
         "x": [
          1980,
          1981,
          1982,
          1983,
          1984,
          1985,
          1986,
          1987,
          1988,
          1989,
          1990,
          1991,
          1992,
          1993,
          1994,
          1995,
          1996,
          1997,
          1998,
          1999,
          2000,
          2001,
          2002,
          2003,
          2004,
          2005,
          2006,
          2007,
          2008,
          2009,
          2010,
          2011,
          2012,
          2013,
          2014,
          2015,
          2016
         ],
         "xaxis": "x",
         "y": [
          0.179688139,
          0.177349288,
          0.178112572,
          0.178050977,
          0.187194131,
          0.195556541,
          0.195141226,
          0.19286708,
          0.194129877,
          0.194811894,
          0.195034771,
          0.198514583,
          0.197372186,
          0.198232194,
          0.196651229,
          0.194705343,
          0.194853162,
          0.191526924,
          0.190483494,
          0.18083748,
          0.166984768,
          0.169831539,
          0.181752255,
          0.176157466,
          0.180888038,
          0.175641879,
          0.176157308,
          0.17603268,
          0.1772088,
          0.176757776,
          0.185965946,
          0.185502878,
          0.185570324,
          0.180400825,
          0.173338658,
          0.175341812,
          0.178784759
         ],
         "yaxis": "y"
        },
        {
         "hovertemplate": "State=New Mexico<br>Year=%{x}<br>HuntLic=%{y}<extra></extra>",
         "legendgroup": "New Mexico",
         "line": {
          "color": "#636efa",
          "dash": "solid"
         },
         "marker": {
          "symbol": "circle"
         },
         "mode": "lines",
         "name": "New Mexico",
         "showlegend": true,
         "type": "scattergl",
         "x": [
          1980,
          1981,
          1982,
          1983,
          1984,
          1985,
          1986,
          1987,
          1988,
          1989,
          1990,
          1991,
          1992,
          1993,
          1994,
          1995,
          1996,
          1997,
          1998,
          1999,
          2000,
          2001,
          2002,
          2003,
          2004,
          2005,
          2006,
          2007,
          2008,
          2009,
          2010,
          2011,
          2012,
          2013,
          2014,
          2015,
          2016
         ],
         "xaxis": "x",
         "y": [
          0.328351858,
          0.327734049,
          0.326661918,
          0.319490125,
          0.308055436,
          0.312181834,
          0.319167235,
          0.31408454,
          0.309276781,
          0.312038229,
          0.301771126,
          0.295647225,
          0.28865397,
          0.294362332,
          0.365134595,
          0.418548581,
          0.400428775,
          0.262992754,
          0.393323432,
          0.336501485,
          0.336684009,
          0.403459698,
          0.452263428,
          0.388955928,
          0.44646562,
          0.383411002,
          0.383937036,
          0.373311438,
          0.304106045,
          0.297500242,
          0.33760117,
          0.314912975,
          0.31660648,
          1.116874313,
          0.303688158,
          0.323814855,
          0.319267721
         ],
         "yaxis": "y"
        },
        {
         "hovertemplate": "State=New York<br>Year=%{x}<br>HuntLic=%{y}<extra></extra>",
         "legendgroup": "New York",
         "line": {
          "color": "#EF553B",
          "dash": "solid"
         },
         "marker": {
          "symbol": "circle"
         },
         "mode": "lines",
         "name": "New York",
         "showlegend": true,
         "type": "scattergl",
         "x": [
          1980,
          1981,
          1982,
          1983,
          1984,
          1985,
          1986,
          1987,
          1988,
          1989,
          1990,
          1991,
          1992,
          1993,
          1994,
          1995,
          1996,
          1997,
          1998,
          1999,
          2000,
          2001,
          2002,
          2003,
          2004,
          2005,
          2006,
          2007,
          2008,
          2009,
          2010,
          2011,
          2012,
          2013,
          2014,
          2015,
          2016
         ],
         "xaxis": "x",
         "y": [
          0.248588166,
          0.257171046,
          0.263974628,
          0.270116421,
          0.266119156,
          0.269026554,
          0.261252155,
          0.268302452,
          0.28192086,
          0.284353003,
          0.271256728,
          0.27986224,
          0.281558287,
          0.284210181,
          0.291700136,
          0.27371019,
          0.266203563,
          0.284374282,
          0.278629056,
          0.291583048,
          0.298281893,
          0.298758147,
          0.188423602,
          0.267633771,
          0.188257593,
          0.26793665,
          0.260557256,
          0.214520161,
          0.21292631,
          0.209743385,
          0.209005571,
          0.186995631,
          0.228572876,
          0.226502948,
          0.228914855,
          0.232692241,
          0.227165948
         ],
         "yaxis": "y"
        },
        {
         "hovertemplate": "State=North Carolina<br>Year=%{x}<br>HuntLic=%{y}<extra></extra>",
         "legendgroup": "North Carolina",
         "line": {
          "color": "#00cc96",
          "dash": "solid"
         },
         "marker": {
          "symbol": "circle"
         },
         "mode": "lines",
         "name": "North Carolina",
         "showlegend": true,
         "type": "scattergl",
         "x": [
          1980,
          1981,
          1982,
          1983,
          1984,
          1985,
          1986,
          1987,
          1988,
          1989,
          1990,
          1991,
          1992,
          1993,
          1994,
          1995,
          1996,
          1997,
          1998,
          1999,
          2000,
          2001,
          2002,
          2003,
          2004,
          2005,
          2006,
          2007,
          2008,
          2009,
          2010,
          2011,
          2012,
          2013,
          2014,
          2015,
          2016
         ],
         "xaxis": "x",
         "y": [
          0.302515725,
          0.29391524,
          0.288002593,
          0.289356006,
          0.270599045,
          0.263267975,
          0.25830066,
          0.254758048,
          0.248876701,
          0.258682005,
          0.254799001,
          0.266191357,
          0.255828998,
          0.252101582,
          0.249690136,
          0.246862935,
          0.2470234,
          0.240601777,
          0.24508934,
          0.245561488,
          0.240479007,
          0.237791324,
          0.238004711,
          0.236280906,
          0.23482585,
          0.2324099,
          0.2307269,
          0.226118896,
          0.231575547,
          0.233807166,
          0.18919799,
          0.187441798,
          0.180880613,
          0.181251593,
          0.181449421,
          0.179223418,
          0.181990217
         ],
         "yaxis": "y"
        },
        {
         "hovertemplate": "State=North Dakota<br>Year=%{x}<br>HuntLic=%{y}<extra></extra>",
         "legendgroup": "North Dakota",
         "line": {
          "color": "#ab63fa",
          "dash": "solid"
         },
         "marker": {
          "symbol": "circle"
         },
         "mode": "lines",
         "name": "North Dakota",
         "showlegend": true,
         "type": "scattergl",
         "x": [
          1980,
          1981,
          1982,
          1983,
          1984,
          1985,
          1986,
          1987,
          1988,
          1989,
          1990,
          1991,
          1992,
          1993,
          1994,
          1995,
          1996,
          1997,
          1998,
          1999,
          2000,
          2001,
          2002,
          2003,
          2004,
          2005,
          2006,
          2007,
          2008,
          2009,
          2010,
          2011,
          2012,
          2013,
          2014,
          2015,
          2016
         ],
         "xaxis": "x",
         "y": [
          0.628986282,
          0.626064292,
          0.706472647,
          0.714327255,
          0.714009947,
          0.723140279,
          0.74201543,
          0.77769204,
          0.778207822,
          0.741738368,
          0.758762698,
          0.767857212,
          0.795023278,
          0.813181776,
          0.745531158,
          0.736944687,
          0.752608904,
          0.759539021,
          0.744673762,
          0.740902196,
          0.757419442,
          0.771674885,
          0.804693534,
          0.816274155,
          0.800603537,
          0.811667403,
          0.822904243,
          0.845388548,
          0.849003231,
          0.85124428,
          0.857521356,
          0.842612535,
          0.827938277,
          0.793318087,
          0.765868024,
          0.722502644,
          0.724354447
         ],
         "yaxis": "y"
        },
        {
         "hovertemplate": "State=Ohio<br>Year=%{x}<br>HuntLic=%{y}<extra></extra>",
         "legendgroup": "Ohio",
         "line": {
          "color": "#FFA15A",
          "dash": "solid"
         },
         "marker": {
          "symbol": "circle"
         },
         "mode": "lines",
         "name": "Ohio",
         "showlegend": true,
         "type": "scattergl",
         "x": [
          1980,
          1981,
          1982,
          1983,
          1984,
          1985,
          1986,
          1987,
          1988,
          1989,
          1990,
          1991,
          1992,
          1993,
          1994,
          1995,
          1996,
          1997,
          1998,
          1999,
          2000,
          2001,
          2002,
          2003,
          2004,
          2005,
          2006,
          2007,
          2008,
          2009,
          2010,
          2011,
          2012,
          2013,
          2014,
          2015,
          2016
         ],
         "xaxis": "x",
         "y": [
          0.253809824,
          0.260739479,
          0.262148216,
          0.275414956,
          0.270167224,
          0.272217366,
          0.272095894,
          0.273584089,
          0.275941639,
          0.305921213,
          0.296373277,
          0.299541193,
          0.30481601,
          0.321166023,
          0.315315821,
          0.317498851,
          0.319206283,
          0.323500608,
          0.332614087,
          0.324199164,
          0.305688878,
          0.298673623,
          0.306104242,
          0.311408715,
          0.305510797,
          0.311020928,
          0.31466451,
          0.303792093,
          0.305488868,
          0.310114011,
          0.297737411,
          0.182304453,
          0.183374266,
          0.180739024,
          0.303519972,
          0.300455104,
          0.292689941
         ],
         "yaxis": "y"
        },
        {
         "hovertemplate": "State=Oklahoma<br>Year=%{x}<br>HuntLic=%{y}<extra></extra>",
         "legendgroup": "Oklahoma",
         "line": {
          "color": "#19d3f3",
          "dash": "solid"
         },
         "marker": {
          "symbol": "circle"
         },
         "mode": "lines",
         "name": "Oklahoma",
         "showlegend": true,
         "type": "scattergl",
         "x": [
          1980,
          1981,
          1982,
          1983,
          1984,
          1985,
          1986,
          1987,
          1988,
          1989,
          1990,
          1991,
          1992,
          1993,
          1994,
          1995,
          1996,
          1997,
          1998,
          1999,
          2000,
          2001,
          2002,
          2003,
          2004,
          2005,
          2006,
          2007,
          2008,
          2009,
          2010,
          2011,
          2012,
          2013,
          2014,
          2015,
          2016
         ],
         "xaxis": "x",
         "y": [
          0.402196304,
          0.408880447,
          0.362228215,
          0.364962062,
          0.354084782,
          0.349025385,
          0.328952638,
          0.334761639,
          0.335592967,
          0.332416863,
          0.337879063,
          0.323865333,
          0.327913142,
          0.318082225,
          0.316879693,
          0.294954866,
          0.288238162,
          0.294693045,
          0.297837646,
          0.301669596,
          0.300138174,
          0.303068537,
          0.309514425,
          0.298923723,
          0.307923223,
          0.297077228,
          0.284178287,
          0.272900505,
          0.265734963,
          0.26556454,
          0.269701924,
          0.275132925,
          0.272020566,
          0.264727985,
          0.26579762,
          0.274516806,
          0.273669137
         ],
         "yaxis": "y"
        },
        {
         "hovertemplate": "State=Oregon<br>Year=%{x}<br>HuntLic=%{y}<extra></extra>",
         "legendgroup": "Oregon",
         "line": {
          "color": "#FF6692",
          "dash": "solid"
         },
         "marker": {
          "symbol": "circle"
         },
         "mode": "lines",
         "name": "Oregon",
         "showlegend": true,
         "type": "scattergl",
         "x": [
          1980,
          1981,
          1982,
          1983,
          1984,
          1985,
          1986,
          1987,
          1988,
          1989,
          1990,
          1991,
          1992,
          1993,
          1994,
          1995,
          1996,
          1997,
          1998,
          1999,
          2000,
          2001,
          2002,
          2003,
          2004,
          2005,
          2006,
          2007,
          2008,
          2009,
          2010,
          2011,
          2012,
          2013,
          2014,
          2015,
          2016
         ],
         "xaxis": "x",
         "y": [
          0.585644625,
          0.603501641,
          0.595939014,
          0.581722985,
          0.603754793,
          0.598317756,
          0.604467922,
          0.589122332,
          0.576223673,
          0.574957649,
          0.592923597,
          0.5662337,
          0.590372536,
          0.586126382,
          0.568600823,
          0.647271413,
          0.623578285,
          0.622904089,
          0.627857272,
          0.642150448,
          0.620979119,
          0.61172784,
          0.618676197,
          0.60869804,
          0.613800512,
          0.603127865,
          0.587666622,
          0.582776336,
          0.576955966,
          0.573929485,
          0.258976177,
          0.568799735,
          0.560302378,
          0.554413669,
          0.547914123,
          0.556358299,
          0.543547621
         ],
         "yaxis": "y"
        },
        {
         "hovertemplate": "State=Pennsylvania<br>Year=%{x}<br>HuntLic=%{y}<extra></extra>",
         "legendgroup": "Pennsylvania",
         "line": {
          "color": "#B6E880",
          "dash": "solid"
         },
         "marker": {
          "symbol": "circle"
         },
         "mode": "lines",
         "name": "Pennsylvania",
         "showlegend": true,
         "type": "scattergl",
         "x": [
          1980,
          1981,
          1982,
          1983,
          1984,
          1985,
          1986,
          1987,
          1988,
          1989,
          1990,
          1991,
          1992,
          1993,
          1994,
          1995,
          1996,
          1997,
          1998,
          1999,
          2000,
          2001,
          2002,
          2003,
          2004,
          2005,
          2006,
          2007,
          2008,
          2009,
          2010,
          2011,
          2012,
          2013,
          2014,
          2015,
          2016
         ],
         "xaxis": "x",
         "y": [
          0.402975293,
          0.410806283,
          0.426775967,
          0.419473362,
          0.430834754,
          0.41880789,
          0.418775853,
          0.419426568,
          0.421122976,
          0.432542614,
          0.43313219,
          0.445684471,
          0.446967131,
          0.435111049,
          0.433189369,
          0.43524631,
          0.432494578,
          0.449634079,
          0.434364884,
          0.441588969,
          0.432091932,
          0.443016375,
          0.4410294,
          0.463648031,
          0.439611163,
          0.462243189,
          0.454240265,
          0.462552946,
          0.445077166,
          0.439295316,
          0.436817054,
          0.435810945,
          0.447797829,
          0.42692396,
          0.447804974,
          0.445508548,
          0.447366143
         ],
         "yaxis": "y"
        },
        {
         "hovertemplate": "State=Rhode Island<br>Year=%{x}<br>HuntLic=%{y}<extra></extra>",
         "legendgroup": "Rhode Island",
         "line": {
          "color": "#FF97FF",
          "dash": "solid"
         },
         "marker": {
          "symbol": "circle"
         },
         "mode": "lines",
         "name": "Rhode Island",
         "showlegend": true,
         "type": "scattergl",
         "x": [
          1980,
          1981,
          1982,
          1983,
          1984,
          1985,
          1986,
          1987,
          1988,
          1989,
          1990,
          1991,
          1992,
          1993,
          1994,
          1995,
          1996,
          1997,
          1998,
          1999,
          2000,
          2001,
          2002,
          2003,
          2004,
          2005,
          2006,
          2007,
          2008,
          2009,
          2010,
          2011,
          2012,
          2013,
          2014,
          2015,
          2016
         ],
         "xaxis": "x",
         "y": [
          0.131270624,
          0.132276677,
          0.135807767,
          0.136303723,
          0.138247233,
          0.132503086,
          0.135757951,
          0.129837831,
          0.141895131,
          0.142148174,
          0.141356126,
          0.152361446,
          0.171905989,
          0.175944561,
          0.172559518,
          0.175007382,
          0.152546009,
          0.170341146,
          0.173810598,
          0.175391413,
          0.174760625,
          0.17351812,
          0.1657043,
          0.170091165,
          0.165041129,
          0.170363782,
          0.171104512,
          0.1645109,
          0.173278698,
          0.173390245,
          0.173479095,
          0,
          0.084521969,
          0.082388358,
          0.084901688,
          0.16719145,
          0.084038345
         ],
         "yaxis": "y"
        },
        {
         "hovertemplate": "State=South Carolina<br>Year=%{x}<br>HuntLic=%{y}<extra></extra>",
         "legendgroup": "South Carolina",
         "line": {
          "color": "#FECB52",
          "dash": "solid"
         },
         "marker": {
          "symbol": "circle"
         },
         "mode": "lines",
         "name": "South Carolina",
         "showlegend": true,
         "type": "scattergl",
         "x": [
          1980,
          1981,
          1982,
          1983,
          1984,
          1985,
          1986,
          1987,
          1988,
          1989,
          1990,
          1991,
          1992,
          1993,
          1994,
          1995,
          1996,
          1997,
          1998,
          1999,
          2000,
          2001,
          2002,
          2003,
          2004,
          2005,
          2006,
          2007,
          2008,
          2009,
          2010,
          2011,
          2012,
          2013,
          2014,
          2015,
          2016
         ],
         "xaxis": "x",
         "y": [
          0.293703585,
          0.291568101,
          0.279270483,
          0.273188902,
          0.263845975,
          0.312044286,
          0.261160386,
          0.260710229,
          0.254255375,
          0.256899585,
          0.24654577,
          0.247228814,
          0.247760841,
          0.245667609,
          0.244816766,
          0.238621733,
          0.238276864,
          0.23625778,
          0.232411534,
          0.229274884,
          0.224988862,
          0.224969728,
          0.224687032,
          0.219787769,
          0.22191867,
          0.216681355,
          0.304822497,
          0.309013447,
          0.321897668,
          0.325014336,
          0.331792162,
          0.33398872,
          0.343640002,
          0.266928942,
          0.276290322,
          0.272676968,
          0.275578394
         ],
         "yaxis": "y"
        },
        {
         "hovertemplate": "State=South Dakota<br>Year=%{x}<br>HuntLic=%{y}<extra></extra>",
         "legendgroup": "South Dakota",
         "line": {
          "color": "#636efa",
          "dash": "solid"
         },
         "marker": {
          "symbol": "circle"
         },
         "mode": "lines",
         "name": "South Dakota",
         "showlegend": true,
         "type": "scattergl",
         "x": [
          1980,
          1981,
          1982,
          1983,
          1984,
          1985,
          1986,
          1987,
          1988,
          1989,
          1990,
          1991,
          1992,
          1993,
          1994,
          1995,
          1996,
          1997,
          1998,
          1999,
          2000,
          2001,
          2002,
          2003,
          2004,
          2005,
          2006,
          2007,
          2008,
          2009,
          2010,
          2011,
          2012,
          2013,
          2014,
          2015,
          2016
         ],
         "xaxis": "x",
         "y": [
          0.709866544,
          0.708731945,
          0.661381924,
          0.714696928,
          0.735299934,
          0.721614871,
          0.730222986,
          0.735660741,
          0.702363859,
          0.749326283,
          0.733723752,
          0.731186563,
          0.718236188,
          0.760401417,
          0.76690126,
          0.777603373,
          0.687363125,
          0.684198409,
          0.657854361,
          0.660661459,
          0.564226791,
          0.565850943,
          0.570336344,
          0.56534706,
          0.566482565,
          0.5610426,
          0.57017202,
          0.573132494,
          0.576558974,
          0.588190071,
          0.596822961,
          0.597182926,
          0.587618013,
          0.578954428,
          0.566441195,
          0.556341825,
          0.571343419
         ],
         "yaxis": "y"
        },
        {
         "hovertemplate": "State=Tennessee<br>Year=%{x}<br>HuntLic=%{y}<extra></extra>",
         "legendgroup": "Tennessee",
         "line": {
          "color": "#EF553B",
          "dash": "solid"
         },
         "marker": {
          "symbol": "circle"
         },
         "mode": "lines",
         "name": "Tennessee",
         "showlegend": true,
         "type": "scattergl",
         "x": [
          1980,
          1981,
          1982,
          1983,
          1984,
          1985,
          1986,
          1987,
          1988,
          1989,
          1990,
          1991,
          1992,
          1993,
          1994,
          1995,
          1996,
          1997,
          1998,
          1999,
          2000,
          2001,
          2002,
          2003,
          2004,
          2005,
          2006,
          2007,
          2008,
          2009,
          2010,
          2011,
          2012,
          2013,
          2014,
          2015,
          2016
         ],
         "xaxis": "x",
         "y": [
          0.419784856,
          0.437479872,
          0.409495467,
          0.414583086,
          0.415130105,
          0.417997422,
          0.450194351,
          0.437653575,
          0.433110999,
          0.432005914,
          0.433908861,
          0.440910812,
          0.434114352,
          0.411113439,
          0.409364405,
          0.409479822,
          0.400907561,
          0.398918604,
          0.39180724,
          0.378044834,
          0.375892215,
          0.427294206,
          0.434487331,
          0.402307687,
          0.430243949,
          0.397469041,
          0.45522829,
          0.412750456,
          0.331445903,
          0.352820549,
          0.340459041,
          0.334522813,
          0.327303856,
          0.3185001,
          0.323674959,
          0.329902038,
          0.334626655
         ],
         "yaxis": "y"
        },
        {
         "hovertemplate": "State=Texas<br>Year=%{x}<br>HuntLic=%{y}<extra></extra>",
         "legendgroup": "Texas",
         "line": {
          "color": "#00cc96",
          "dash": "solid"
         },
         "marker": {
          "symbol": "circle"
         },
         "mode": "lines",
         "name": "Texas",
         "showlegend": true,
         "type": "scattergl",
         "x": [
          1980,
          1981,
          1982,
          1983,
          1984,
          1985,
          1986,
          1987,
          1988,
          1989,
          1990,
          1991,
          1992,
          1993,
          1994,
          1995,
          1996,
          1997,
          1998,
          1999,
          2000,
          2001,
          2002,
          2003,
          2004,
          2005,
          2006,
          2007,
          2008,
          2009,
          2010,
          2011,
          2012,
          2013,
          2014,
          2015,
          2016
         ],
         "xaxis": "x",
         "y": [
          0.286264124,
          0.284676609,
          0.299773471,
          0.300613717,
          0.288798761,
          0.280924667,
          0.283943025,
          0.291782915,
          0.293575677,
          0.29268647,
          0.283854783,
          0.275991564,
          0.281612531,
          0.282834482,
          0.279223236,
          0.279102177,
          0.273383709,
          0.246396327,
          0.24325623,
          0.239929816,
          0.237702247,
          0.237846556,
          0.235788988,
          0.235850535,
          0.232054764,
          0.231949972,
          0.22905937,
          0.239764975,
          0.243038896,
          0.242773226,
          0.245568978,
          0.233736703,
          0.229385027,
          0.229950358,
          0.226564062,
          0.231227034,
          0.234763821
         ],
         "yaxis": "y"
        },
        {
         "hovertemplate": "State=Utah<br>Year=%{x}<br>HuntLic=%{y}<extra></extra>",
         "legendgroup": "Utah",
         "line": {
          "color": "#ab63fa",
          "dash": "solid"
         },
         "marker": {
          "symbol": "circle"
         },
         "mode": "lines",
         "name": "Utah",
         "showlegend": true,
         "type": "scattergl",
         "x": [
          1980,
          1981,
          1982,
          1983,
          1984,
          1985,
          1986,
          1987,
          1988,
          1989,
          1990,
          1991,
          1992,
          1993,
          1994,
          1995,
          1996,
          1997,
          1998,
          1999,
          2000,
          2001,
          2002,
          2003,
          2004,
          2005,
          2006,
          2007,
          2008,
          2009,
          2010,
          2011,
          2012,
          2013,
          2014,
          2015,
          2016
         ],
         "xaxis": "x",
         "y": [
          0.499687583,
          0.448441138,
          0.452008154,
          0.45165213,
          0.423950592,
          0.423646057,
          0.420519082,
          0.412517032,
          0.427511852,
          0.421797532,
          0.444100444,
          0.436826252,
          0.467322029,
          0.488311347,
          0.43917376,
          0.442743579,
          0.429373194,
          0.462916345,
          0.438271184,
          0.412715452,
          0.382728464,
          0.333255746,
          0.305607295,
          0.30974556,
          0.300683355,
          0.303534166,
          0.30197552,
          0.291890417,
          0.309013567,
          0.305568163,
          0.316208029,
          0.343889922,
          0.348522242,
          0.346092062,
          0.337948274,
          0.334611099,
          0.338414036
         ],
         "yaxis": "y"
        },
        {
         "hovertemplate": "State=Vermont<br>Year=%{x}<br>HuntLic=%{y}<extra></extra>",
         "legendgroup": "Vermont",
         "line": {
          "color": "#FFA15A",
          "dash": "solid"
         },
         "marker": {
          "symbol": "circle"
         },
         "mode": "lines",
         "name": "Vermont",
         "showlegend": true,
         "type": "scattergl",
         "x": [
          1980,
          1981,
          1982,
          1983,
          1984,
          1985,
          1986,
          1987,
          1988,
          1989,
          1990,
          1991,
          1992,
          1993,
          1994,
          1995,
          1996,
          1997,
          1998,
          1999,
          2000,
          2001,
          2002,
          2003,
          2004,
          2005,
          2006,
          2007,
          2008,
          2009,
          2010,
          2011,
          2012,
          2013,
          2014,
          2015,
          2016
         ],
         "xaxis": "x",
         "y": [
          0.550518856,
          0.553408175,
          0.497994221,
          0.456075849,
          0.454659053,
          0.472447054,
          0.425215299,
          0.409235685,
          0.409449521,
          0.45847340599999997,
          0.45330247,
          0.471915693,
          0.478725745,
          0.47828338,
          0.471243686,
          0.486161577,
          0.491667307,
          0.498681755,
          0.523712565,
          0.542716415,
          0.565286567,
          0.542100831,
          0.524005267,
          0.516651379,
          0.522109258,
          0.515253515,
          0.491949862,
          0.469730412,
          0.486079163,
          0.496868882,
          0.496501896,
          0.518247136,
          0.523679161,
          0.519888639,
          0.49580806,
          0.515469202,
          0.511055219
         ],
         "yaxis": "y"
        },
        {
         "hovertemplate": "State=Virginia<br>Year=%{x}<br>HuntLic=%{y}<extra></extra>",
         "legendgroup": "Virginia",
         "line": {
          "color": "#19d3f3",
          "dash": "solid"
         },
         "marker": {
          "symbol": "circle"
         },
         "mode": "lines",
         "name": "Virginia",
         "showlegend": true,
         "type": "scattergl",
         "x": [
          1980,
          1981,
          1982,
          1983,
          1984,
          1985,
          1986,
          1987,
          1988,
          1989,
          1990,
          1991,
          1992,
          1993,
          1994,
          1995,
          1996,
          1997,
          1998,
          1999,
          2000,
          2001,
          2002,
          2003,
          2004,
          2005,
          2006,
          2007,
          2008,
          2009,
          2010,
          2011,
          2012,
          2013,
          2014,
          2015,
          2016
         ],
         "xaxis": "x",
         "y": [
          0.399867327,
          0.383645686,
          0.384544383,
          0.384418893,
          0.378099753,
          0.373755445,
          0.376648081,
          0.37881079,
          0.391450596,
          0.374009067,
          0.370273491,
          0.358518238,
          0.370747162,
          0.360868417,
          0.360729349,
          0.361807275,
          0.35797223,
          0.348931698,
          0.34110952,
          0.33509582,
          0.329072874,
          0.326274078,
          0.326103179,
          0.321882861,
          0.321961047,
          0.317388259,
          0.316065051,
          0.309503913,
          0.308146736,
          0.306384234,
          0.306998471,
          0.306517437,
          0.300814593,
          0.305060878,
          0.305037203,
          0.306653034,
          0.308196003
         ],
         "yaxis": "y"
        },
        {
         "hovertemplate": "State=Washington<br>Year=%{x}<br>HuntLic=%{y}<extra></extra>",
         "legendgroup": "Washington",
         "line": {
          "color": "#FF6692",
          "dash": "solid"
         },
         "marker": {
          "symbol": "circle"
         },
         "mode": "lines",
         "name": "Washington",
         "showlegend": true,
         "type": "scattergl",
         "x": [
          1980,
          1981,
          1982,
          1983,
          1984,
          1985,
          1986,
          1987,
          1988,
          1989,
          1990,
          1991,
          1992,
          1993,
          1994,
          1995,
          1996,
          1997,
          1998,
          1999,
          2000,
          2001,
          2002,
          2003,
          2004,
          2005,
          2006,
          2007,
          2008,
          2009,
          2010,
          2011,
          2012,
          2013,
          2014,
          2015,
          2016
         ],
         "xaxis": "x",
         "y": [
          0.46242996,
          0.457234743,
          0.435728387,
          0.418469674,
          0.413002849,
          0.396736027,
          0.375546042,
          0.3809378,
          0.373431895,
          0.367240388,
          0.367056447,
          0.366183817,
          0.355676579,
          0.361037817,
          0.350524177,
          0.374752236,
          0.337448072,
          0.323527741,
          0.317956188,
          0.355290818,
          0.264726274,
          0.241249871,
          0.359175125,
          0.377860774,
          0.355485272,
          0.37320676,
          0.373897906,
          0.37694193,
          0.350737366,
          0.340133537,
          0.334766312,
          0.335040577,
          0.331960793,
          0.323351963,
          0.305250428,
          0.305378638,
          0.302174518
         ],
         "yaxis": "y"
        },
        {
         "hovertemplate": "State=West Virginia<br>Year=%{x}<br>HuntLic=%{y}<extra></extra>",
         "legendgroup": "West Virginia",
         "line": {
          "color": "#B6E880",
          "dash": "solid"
         },
         "marker": {
          "symbol": "circle"
         },
         "mode": "lines",
         "name": "West Virginia",
         "showlegend": true,
         "type": "scattergl",
         "x": [
          1980,
          1981,
          1982,
          1983,
          1984,
          1985,
          1986,
          1987,
          1988,
          1989,
          1990,
          1991,
          1992,
          1993,
          1994,
          1995,
          1996,
          1997,
          1998,
          1999,
          2000,
          2001,
          2002,
          2003,
          2004,
          2005,
          2006,
          2007,
          2008,
          2009,
          2010,
          2011,
          2012,
          2013,
          2014,
          2015,
          2016
         ],
         "xaxis": "x",
         "y": [
          0.467465667,
          0.471059039,
          0.481047677,
          0.485040387,
          0.489468769,
          0.505099613,
          0.498888807,
          0.509668328,
          0.519726172,
          0.529754385,
          0.582425695,
          0.63153632,
          0.602886167,
          0.595788258,
          0.595320974,
          0.57827619,
          0.358493764,
          0.360380897,
          0.358855323,
          0.362768095,
          0.359140005,
          0.588163181,
          0.602828307,
          0.634315915,
          0.600996234,
          0.63288626,
          0.636814456,
          0.556043392,
          0.566249389,
          0.565104409,
          0.559022968,
          0.57224243,
          0.574174732,
          0.550876473,
          0.543744085,
          0.554362445,
          0.560737982
         ],
         "yaxis": "y"
        },
        {
         "hovertemplate": "State=Wisconsin<br>Year=%{x}<br>HuntLic=%{y}<extra></extra>",
         "legendgroup": "Wisconsin",
         "line": {
          "color": "#FF97FF",
          "dash": "solid"
         },
         "marker": {
          "symbol": "circle"
         },
         "mode": "lines",
         "name": "Wisconsin",
         "showlegend": true,
         "type": "scattergl",
         "x": [
          1980,
          1981,
          1982,
          1983,
          1984,
          1985,
          1986,
          1987,
          1988,
          1989,
          1990,
          1991,
          1992,
          1993,
          1994,
          1995,
          1996,
          1997,
          1998,
          1999,
          2000,
          2001,
          2002,
          2003,
          2004,
          2005,
          2006,
          2007,
          2008,
          2009,
          2010,
          2011,
          2012,
          2013,
          2014,
          2015,
          2016
         ],
         "xaxis": "x",
         "y": [
          0.486869774,
          0.499027212,
          0.508443655,
          0.511886103,
          0.514566754,
          0.558552853,
          0.541750071,
          0.533552884,
          0.537400722,
          0.535296211,
          0.549762205,
          0.585571876,
          0.596897768,
          0.597632049,
          0.573440835,
          0.584022639,
          0.617169878,
          0.597184325,
          0.587712446,
          0.685698244,
          0.691546704,
          0.710132511,
          0.673847748,
          0.686741868,
          0.669626727,
          0.682583505,
          0.71917788,
          0.730625241,
          0.719313189,
          0.717517634,
          0.694148943,
          0.70305196,
          0.710207485,
          0.697732688,
          0.689422292,
          0.699406523,
          0.695162831
         ],
         "yaxis": "y"
        },
        {
         "hovertemplate": "State=Wyoming<br>Year=%{x}<br>HuntLic=%{y}<extra></extra>",
         "legendgroup": "Wyoming",
         "line": {
          "color": "#FECB52",
          "dash": "solid"
         },
         "marker": {
          "symbol": "circle"
         },
         "mode": "lines",
         "name": "Wyoming",
         "showlegend": true,
         "type": "scattergl",
         "x": [
          1980,
          1981,
          1982,
          1983,
          1984,
          1985,
          1986,
          1987,
          1988,
          1989,
          1990,
          1991,
          1992,
          1993,
          1994,
          1995,
          1996,
          1997,
          1998,
          1999,
          2000,
          2001,
          2002,
          2003,
          2004,
          2005,
          2006,
          2007,
          2008,
          2009,
          2010,
          2011,
          2012,
          2013,
          2014,
          2015,
          2016
         ],
         "xaxis": "x",
         "y": [
          0.688648391,
          0.684807362,
          0.695012634,
          0.693938634,
          0.692101529,
          0.65814239,
          0.647696446,
          0.644987138,
          0.660766049,
          0.677543313,
          0.686254541,
          0.717733669,
          0.711832345,
          0.695136878,
          0.604462081,
          0.58741813,
          0.573147072,
          0.569589779,
          0.598688437,
          0.595545846,
          0.603309611,
          0.581297577,
          0.575253639,
          0.550976867,
          0.570095551,
          0.545211434,
          0.558646487,
          0.553576307,
          0.560387256,
          0.553433499,
          0.560767597,
          0.542044605,
          0.545626784,
          0.542697225,
          0.538760611,
          0.544356361,
          0.538438852
         ],
         "yaxis": "y"
        }
       ],
       "layout": {
        "legend": {
         "title": {
          "text": "State"
         },
         "tracegroupgap": 0
        },
        "margin": {
         "t": 60
        },
        "template": {
         "data": {
          "bar": [
           {
            "error_x": {
             "color": "#2a3f5f"
            },
            "error_y": {
             "color": "#2a3f5f"
            },
            "marker": {
             "line": {
              "color": "#E5ECF6",
              "width": 0.5
             },
             "pattern": {
              "fillmode": "overlay",
              "size": 10,
              "solidity": 0.2
             }
            },
            "type": "bar"
           }
          ],
          "barpolar": [
           {
            "marker": {
             "line": {
              "color": "#E5ECF6",
              "width": 0.5
             },
             "pattern": {
              "fillmode": "overlay",
              "size": 10,
              "solidity": 0.2
             }
            },
            "type": "barpolar"
           }
          ],
          "carpet": [
           {
            "aaxis": {
             "endlinecolor": "#2a3f5f",
             "gridcolor": "white",
             "linecolor": "white",
             "minorgridcolor": "white",
             "startlinecolor": "#2a3f5f"
            },
            "baxis": {
             "endlinecolor": "#2a3f5f",
             "gridcolor": "white",
             "linecolor": "white",
             "minorgridcolor": "white",
             "startlinecolor": "#2a3f5f"
            },
            "type": "carpet"
           }
          ],
          "choropleth": [
           {
            "colorbar": {
             "outlinewidth": 0,
             "ticks": ""
            },
            "type": "choropleth"
           }
          ],
          "contour": [
           {
            "colorbar": {
             "outlinewidth": 0,
             "ticks": ""
            },
            "colorscale": [
             [
              0,
              "#0d0887"
             ],
             [
              0.1111111111111111,
              "#46039f"
             ],
             [
              0.2222222222222222,
              "#7201a8"
             ],
             [
              0.3333333333333333,
              "#9c179e"
             ],
             [
              0.4444444444444444,
              "#bd3786"
             ],
             [
              0.5555555555555556,
              "#d8576b"
             ],
             [
              0.6666666666666666,
              "#ed7953"
             ],
             [
              0.7777777777777778,
              "#fb9f3a"
             ],
             [
              0.8888888888888888,
              "#fdca26"
             ],
             [
              1,
              "#f0f921"
             ]
            ],
            "type": "contour"
           }
          ],
          "contourcarpet": [
           {
            "colorbar": {
             "outlinewidth": 0,
             "ticks": ""
            },
            "type": "contourcarpet"
           }
          ],
          "heatmap": [
           {
            "colorbar": {
             "outlinewidth": 0,
             "ticks": ""
            },
            "colorscale": [
             [
              0,
              "#0d0887"
             ],
             [
              0.1111111111111111,
              "#46039f"
             ],
             [
              0.2222222222222222,
              "#7201a8"
             ],
             [
              0.3333333333333333,
              "#9c179e"
             ],
             [
              0.4444444444444444,
              "#bd3786"
             ],
             [
              0.5555555555555556,
              "#d8576b"
             ],
             [
              0.6666666666666666,
              "#ed7953"
             ],
             [
              0.7777777777777778,
              "#fb9f3a"
             ],
             [
              0.8888888888888888,
              "#fdca26"
             ],
             [
              1,
              "#f0f921"
             ]
            ],
            "type": "heatmap"
           }
          ],
          "heatmapgl": [
           {
            "colorbar": {
             "outlinewidth": 0,
             "ticks": ""
            },
            "colorscale": [
             [
              0,
              "#0d0887"
             ],
             [
              0.1111111111111111,
              "#46039f"
             ],
             [
              0.2222222222222222,
              "#7201a8"
             ],
             [
              0.3333333333333333,
              "#9c179e"
             ],
             [
              0.4444444444444444,
              "#bd3786"
             ],
             [
              0.5555555555555556,
              "#d8576b"
             ],
             [
              0.6666666666666666,
              "#ed7953"
             ],
             [
              0.7777777777777778,
              "#fb9f3a"
             ],
             [
              0.8888888888888888,
              "#fdca26"
             ],
             [
              1,
              "#f0f921"
             ]
            ],
            "type": "heatmapgl"
           }
          ],
          "histogram": [
           {
            "marker": {
             "pattern": {
              "fillmode": "overlay",
              "size": 10,
              "solidity": 0.2
             }
            },
            "type": "histogram"
           }
          ],
          "histogram2d": [
           {
            "colorbar": {
             "outlinewidth": 0,
             "ticks": ""
            },
            "colorscale": [
             [
              0,
              "#0d0887"
             ],
             [
              0.1111111111111111,
              "#46039f"
             ],
             [
              0.2222222222222222,
              "#7201a8"
             ],
             [
              0.3333333333333333,
              "#9c179e"
             ],
             [
              0.4444444444444444,
              "#bd3786"
             ],
             [
              0.5555555555555556,
              "#d8576b"
             ],
             [
              0.6666666666666666,
              "#ed7953"
             ],
             [
              0.7777777777777778,
              "#fb9f3a"
             ],
             [
              0.8888888888888888,
              "#fdca26"
             ],
             [
              1,
              "#f0f921"
             ]
            ],
            "type": "histogram2d"
           }
          ],
          "histogram2dcontour": [
           {
            "colorbar": {
             "outlinewidth": 0,
             "ticks": ""
            },
            "colorscale": [
             [
              0,
              "#0d0887"
             ],
             [
              0.1111111111111111,
              "#46039f"
             ],
             [
              0.2222222222222222,
              "#7201a8"
             ],
             [
              0.3333333333333333,
              "#9c179e"
             ],
             [
              0.4444444444444444,
              "#bd3786"
             ],
             [
              0.5555555555555556,
              "#d8576b"
             ],
             [
              0.6666666666666666,
              "#ed7953"
             ],
             [
              0.7777777777777778,
              "#fb9f3a"
             ],
             [
              0.8888888888888888,
              "#fdca26"
             ],
             [
              1,
              "#f0f921"
             ]
            ],
            "type": "histogram2dcontour"
           }
          ],
          "mesh3d": [
           {
            "colorbar": {
             "outlinewidth": 0,
             "ticks": ""
            },
            "type": "mesh3d"
           }
          ],
          "parcoords": [
           {
            "line": {
             "colorbar": {
              "outlinewidth": 0,
              "ticks": ""
             }
            },
            "type": "parcoords"
           }
          ],
          "pie": [
           {
            "automargin": true,
            "type": "pie"
           }
          ],
          "scatter": [
           {
            "marker": {
             "colorbar": {
              "outlinewidth": 0,
              "ticks": ""
             }
            },
            "type": "scatter"
           }
          ],
          "scatter3d": [
           {
            "line": {
             "colorbar": {
              "outlinewidth": 0,
              "ticks": ""
             }
            },
            "marker": {
             "colorbar": {
              "outlinewidth": 0,
              "ticks": ""
             }
            },
            "type": "scatter3d"
           }
          ],
          "scattercarpet": [
           {
            "marker": {
             "colorbar": {
              "outlinewidth": 0,
              "ticks": ""
             }
            },
            "type": "scattercarpet"
           }
          ],
          "scattergeo": [
           {
            "marker": {
             "colorbar": {
              "outlinewidth": 0,
              "ticks": ""
             }
            },
            "type": "scattergeo"
           }
          ],
          "scattergl": [
           {
            "marker": {
             "colorbar": {
              "outlinewidth": 0,
              "ticks": ""
             }
            },
            "type": "scattergl"
           }
          ],
          "scattermapbox": [
           {
            "marker": {
             "colorbar": {
              "outlinewidth": 0,
              "ticks": ""
             }
            },
            "type": "scattermapbox"
           }
          ],
          "scatterpolar": [
           {
            "marker": {
             "colorbar": {
              "outlinewidth": 0,
              "ticks": ""
             }
            },
            "type": "scatterpolar"
           }
          ],
          "scatterpolargl": [
           {
            "marker": {
             "colorbar": {
              "outlinewidth": 0,
              "ticks": ""
             }
            },
            "type": "scatterpolargl"
           }
          ],
          "scatterternary": [
           {
            "marker": {
             "colorbar": {
              "outlinewidth": 0,
              "ticks": ""
             }
            },
            "type": "scatterternary"
           }
          ],
          "surface": [
           {
            "colorbar": {
             "outlinewidth": 0,
             "ticks": ""
            },
            "colorscale": [
             [
              0,
              "#0d0887"
             ],
             [
              0.1111111111111111,
              "#46039f"
             ],
             [
              0.2222222222222222,
              "#7201a8"
             ],
             [
              0.3333333333333333,
              "#9c179e"
             ],
             [
              0.4444444444444444,
              "#bd3786"
             ],
             [
              0.5555555555555556,
              "#d8576b"
             ],
             [
              0.6666666666666666,
              "#ed7953"
             ],
             [
              0.7777777777777778,
              "#fb9f3a"
             ],
             [
              0.8888888888888888,
              "#fdca26"
             ],
             [
              1,
              "#f0f921"
             ]
            ],
            "type": "surface"
           }
          ],
          "table": [
           {
            "cells": {
             "fill": {
              "color": "#EBF0F8"
             },
             "line": {
              "color": "white"
             }
            },
            "header": {
             "fill": {
              "color": "#C8D4E3"
             },
             "line": {
              "color": "white"
             }
            },
            "type": "table"
           }
          ]
         },
         "layout": {
          "annotationdefaults": {
           "arrowcolor": "#2a3f5f",
           "arrowhead": 0,
           "arrowwidth": 1
          },
          "autotypenumbers": "strict",
          "coloraxis": {
           "colorbar": {
            "outlinewidth": 0,
            "ticks": ""
           }
          },
          "colorscale": {
           "diverging": [
            [
             0,
             "#8e0152"
            ],
            [
             0.1,
             "#c51b7d"
            ],
            [
             0.2,
             "#de77ae"
            ],
            [
             0.3,
             "#f1b6da"
            ],
            [
             0.4,
             "#fde0ef"
            ],
            [
             0.5,
             "#f7f7f7"
            ],
            [
             0.6,
             "#e6f5d0"
            ],
            [
             0.7,
             "#b8e186"
            ],
            [
             0.8,
             "#7fbc41"
            ],
            [
             0.9,
             "#4d9221"
            ],
            [
             1,
             "#276419"
            ]
           ],
           "sequential": [
            [
             0,
             "#0d0887"
            ],
            [
             0.1111111111111111,
             "#46039f"
            ],
            [
             0.2222222222222222,
             "#7201a8"
            ],
            [
             0.3333333333333333,
             "#9c179e"
            ],
            [
             0.4444444444444444,
             "#bd3786"
            ],
            [
             0.5555555555555556,
             "#d8576b"
            ],
            [
             0.6666666666666666,
             "#ed7953"
            ],
            [
             0.7777777777777778,
             "#fb9f3a"
            ],
            [
             0.8888888888888888,
             "#fdca26"
            ],
            [
             1,
             "#f0f921"
            ]
           ],
           "sequentialminus": [
            [
             0,
             "#0d0887"
            ],
            [
             0.1111111111111111,
             "#46039f"
            ],
            [
             0.2222222222222222,
             "#7201a8"
            ],
            [
             0.3333333333333333,
             "#9c179e"
            ],
            [
             0.4444444444444444,
             "#bd3786"
            ],
            [
             0.5555555555555556,
             "#d8576b"
            ],
            [
             0.6666666666666666,
             "#ed7953"
            ],
            [
             0.7777777777777778,
             "#fb9f3a"
            ],
            [
             0.8888888888888888,
             "#fdca26"
            ],
            [
             1,
             "#f0f921"
            ]
           ]
          },
          "colorway": [
           "#636efa",
           "#EF553B",
           "#00cc96",
           "#ab63fa",
           "#FFA15A",
           "#19d3f3",
           "#FF6692",
           "#B6E880",
           "#FF97FF",
           "#FECB52"
          ],
          "font": {
           "color": "#2a3f5f"
          },
          "geo": {
           "bgcolor": "white",
           "lakecolor": "white",
           "landcolor": "#E5ECF6",
           "showlakes": true,
           "showland": true,
           "subunitcolor": "white"
          },
          "hoverlabel": {
           "align": "left"
          },
          "hovermode": "closest",
          "mapbox": {
           "style": "light"
          },
          "paper_bgcolor": "white",
          "plot_bgcolor": "#E5ECF6",
          "polar": {
           "angularaxis": {
            "gridcolor": "white",
            "linecolor": "white",
            "ticks": ""
           },
           "bgcolor": "#E5ECF6",
           "radialaxis": {
            "gridcolor": "white",
            "linecolor": "white",
            "ticks": ""
           }
          },
          "scene": {
           "xaxis": {
            "backgroundcolor": "#E5ECF6",
            "gridcolor": "white",
            "gridwidth": 2,
            "linecolor": "white",
            "showbackground": true,
            "ticks": "",
            "zerolinecolor": "white"
           },
           "yaxis": {
            "backgroundcolor": "#E5ECF6",
            "gridcolor": "white",
            "gridwidth": 2,
            "linecolor": "white",
            "showbackground": true,
            "ticks": "",
            "zerolinecolor": "white"
           },
           "zaxis": {
            "backgroundcolor": "#E5ECF6",
            "gridcolor": "white",
            "gridwidth": 2,
            "linecolor": "white",
            "showbackground": true,
            "ticks": "",
            "zerolinecolor": "white"
           }
          },
          "shapedefaults": {
           "line": {
            "color": "#2a3f5f"
           }
          },
          "ternary": {
           "aaxis": {
            "gridcolor": "white",
            "linecolor": "white",
            "ticks": ""
           },
           "baxis": {
            "gridcolor": "white",
            "linecolor": "white",
            "ticks": ""
           },
           "bgcolor": "#E5ECF6",
           "caxis": {
            "gridcolor": "white",
            "linecolor": "white",
            "ticks": ""
           }
          },
          "title": {
           "x": 0.05
          },
          "xaxis": {
           "automargin": true,
           "gridcolor": "white",
           "linecolor": "white",
           "ticks": "",
           "title": {
            "standoff": 15
           },
           "zerolinecolor": "white",
           "zerolinewidth": 2
          },
          "yaxis": {
           "automargin": true,
           "gridcolor": "white",
           "linecolor": "white",
           "ticks": "",
           "title": {
            "standoff": 15
           },
           "zerolinecolor": "white",
           "zerolinewidth": 2
          }
         }
        },
        "xaxis": {
         "anchor": "y",
         "domain": [
          0,
          1
         ],
         "title": {
          "text": "Year"
         }
        },
        "yaxis": {
         "anchor": "x",
         "domain": [
          0,
          1
         ],
         "title": {
          "text": "HuntLic"
         }
        }
       }
      },
      "text/html": [
       "<div>                            <div id=\"e4f20030-b726-4ca1-84e3-4ffd03241b78\" class=\"plotly-graph-div\" style=\"height:525px; width:100%;\"></div>            <script type=\"text/javascript\">                require([\"plotly\"], function(Plotly) {                    window.PLOTLYENV=window.PLOTLYENV || {};                                    if (document.getElementById(\"e4f20030-b726-4ca1-84e3-4ffd03241b78\")) {                    Plotly.newPlot(                        \"e4f20030-b726-4ca1-84e3-4ffd03241b78\",                        [{\"hovertemplate\":\"State=Alabama<br>Year=%{x}<br>HuntLic=%{y}<extra></extra>\",\"legendgroup\":\"Alabama\",\"line\":{\"color\":\"#636efa\",\"dash\":\"solid\"},\"marker\":{\"symbol\":\"circle\"},\"mode\":\"lines\",\"name\":\"Alabama\",\"showlegend\":true,\"x\":[1980,1981,1982,1983,1984,1985,1986,1987,1988,1989,1990,1991,1992,1993,1994,1995,1996,1997,1998,1999,2000,2001,2002,2003,2004,2005,2006,2007,2008,2009,2010,2011,2012,2013,2014,2015,2016],\"xaxis\":\"x\",\"y\":[0.291102487,0.294961758,0.290544843,0.28498261,0.281621729,0.278213793,0.27530177,0.278851679,0.273267002,0.26924349,0.25521284,0.249209578,0.248808824,0.247217095,0.244708732,0.250193779,0.247112829,0.245158404,0.24371378,0.240077994,0.243388897,0.244352896,0.240564278,0.237965596,0.239216106,0.236232687,0.235137633,0.228387356,0.224664321,0.225951896,0.225766688,0.349485328,0.344019977,0.344331566,0.340475174,0.340830801,0.341757544],\"yaxis\":\"y\",\"type\":\"scattergl\"},{\"hovertemplate\":\"State=Alaska<br>Year=%{x}<br>HuntLic=%{y}<extra></extra>\",\"legendgroup\":\"Alaska\",\"line\":{\"color\":\"#EF553B\",\"dash\":\"solid\"},\"marker\":{\"symbol\":\"circle\"},\"mode\":\"lines\",\"name\":\"Alaska\",\"showlegend\":true,\"x\":[1980,1981,1982,1983,1984,1985,1986,1987,1988,1989,1990,1991,1992,1993,1994,1995,1996,1997,1998,1999,2000,2001,2002,2003,2004,2005,2006,2007,2008,2009,2010,2011,2012,2013,2014,2015,2016],\"xaxis\":\"x\",\"y\":[0.528181694,0.538709385,0.535263094,0.532315978,0.54663457,0.541306133,0.583415932,0.562773046,0.556663256,0.592554049,0.504226818,0.552979892,0.528465379,0.527466071,0.528531807,0.554247477,0.563529871,0.556376262,0.552303921,0.537979869,0.544251007,0.521891274,0.535283778,0.534675174,0.52835841,0.527194505,0.523205688,0.524020965,0.520731237,0.516451807,0.529235828,0.541219832,0.65882709,0.574725998,0.581888265,0.606060979,0.657790577],\"yaxis\":\"y\",\"type\":\"scattergl\"},{\"hovertemplate\":\"State=Arizona<br>Year=%{x}<br>HuntLic=%{y}<extra></extra>\",\"legendgroup\":\"Arizona\",\"line\":{\"color\":\"#00cc96\",\"dash\":\"solid\"},\"marker\":{\"symbol\":\"circle\"},\"mode\":\"lines\",\"name\":\"Arizona\",\"showlegend\":true,\"x\":[1980,1981,1982,1983,1984,1985,1986,1987,1988,1989,1990,1991,1992,1993,1994,1995,1996,1997,1998,1999,2000,2001,2002,2003,2004,2005,2006,2007,2008,2009,2010,2011,2012,2013,2014,2015,2016],\"xaxis\":\"x\",\"y\":[0.389271965,0.340846531,0.332004876,0.338960279,0.343327473,0.341102062,0.338749605,0.330003419,0.319138771,0.306305114,0.302540189,0.288186641,0.285307227,0.287109845,0.285970711,0.27835351,0.267651527,0.25971398,0.253215494,0.256541274,0.273809177,0.271896479,0.262135934,0.256321913,0.25612749,0.24900254,0.243212951,0.247168626,0.248850089,0.24761532,0.243934552,0.241434687,0.23978726,0.239910236,0.236577548,0.238235122,0.243218391],\"yaxis\":\"y\",\"type\":\"scattergl\"},{\"hovertemplate\":\"State=Arkansas<br>Year=%{x}<br>HuntLic=%{y}<extra></extra>\",\"legendgroup\":\"Arkansas\",\"line\":{\"color\":\"#ab63fa\",\"dash\":\"solid\"},\"marker\":{\"symbol\":\"circle\"},\"mode\":\"lines\",\"name\":\"Arkansas\",\"showlegend\":true,\"x\":[1980,1981,1982,1983,1984,1985,1986,1987,1988,1989,1990,1991,1992,1993,1994,1995,1996,1997,1998,1999,2000,2001,2002,2003,2004,2005,2006,2007,2008,2009,2010,2011,2012,2013,2014,2015,2016],\"xaxis\":\"x\",\"y\":[0.48769766,0.494296271,0.516793562,0.517555327,0.461583318,0.44929854,0.446864236,0.455463893,0.367929248,0.377059716,0.372682068,0.362050989,0.366266654,0.363143891,0.424175822,0.424544541,0.436481762,0.435839609,0.433909473,0.408338494,0.371828123,0.37457018,0.37449707,0.364340009,0.371505212,0.360634596,0.353977574,0.342718014,0.329385931,0.341894331,0.344006444,0.361847849,0.357273741,0.357205549,0.358999247,0.357544837,0.363894877],\"yaxis\":\"y\",\"type\":\"scattergl\"},{\"hovertemplate\":\"State=California<br>Year=%{x}<br>HuntLic=%{y}<extra></extra>\",\"legendgroup\":\"California\",\"line\":{\"color\":\"#FFA15A\",\"dash\":\"solid\"},\"marker\":{\"symbol\":\"circle\"},\"mode\":\"lines\",\"name\":\"California\",\"showlegend\":true,\"x\":[1980,1981,1982,1983,1984,1985,1986,1987,1988,1989,1990,1991,1992,1993,1994,1995,1996,1997,1998,1999,2000,2001,2002,2003,2004,2005,2006,2007,2008,2009,2010,2011,2012,2013,2014,2015,2016],\"xaxis\":\"x\",\"y\":[0.19155594,0.192523315,0.180185766,0.185925099,0.19048166,0.182298923,0.161027775,0.186736479,0.192093665,null,0.151720196,0.154076373,0.151101858,0.152914096,0.173162217,0.169532647,0.167788171,0.162568085,0.097368633,0.157187944,0.157698424,0.156527749,0.156495978,0.154670221,0.154942574,0.153424526,0.150769144,0.150088249,0.149238724,0.149415851,0.148455205,0.146927323,0.150334464,0.145863724,0.146260652,0.145829198,0.160670983],\"yaxis\":\"y\",\"type\":\"scattergl\"},{\"hovertemplate\":\"State=Colorado<br>Year=%{x}<br>HuntLic=%{y}<extra></extra>\",\"legendgroup\":\"Colorado\",\"line\":{\"color\":\"#19d3f3\",\"dash\":\"solid\"},\"marker\":{\"symbol\":\"circle\"},\"mode\":\"lines\",\"name\":\"Colorado\",\"showlegend\":true,\"x\":[1980,1981,1982,1983,1984,1985,1986,1987,1988,1989,1990,1991,1992,1993,1994,1995,1996,1997,1998,1999,2000,2001,2002,2003,2004,2005,2006,2007,2008,2009,2010,2011,2012,2013,2014,2015,2016],\"xaxis\":\"x\",\"y\":[0.402154139,0.406779477,0.411737329,0.407414551,0.350842428,0.342175299,0.332986736,0.366820653,0.341680688,0.343102409,0.363078752,0.357609763,0.339688437,0.337619691,0.321379755,0.330690974,0.324817381,0.308378974,0.298953988,0.284735719,0.275683996,0.290429276,0.293903886,0.293020681,0.291173581,0.289739402,0.304514331,0.301097412,0.29363851,0.291193298,0.28517456,0.282643797,0.283777632,0.283346271,0.280480072,0.279511205,0.281930716],\"yaxis\":\"y\",\"type\":\"scattergl\"},{\"hovertemplate\":\"State=Connecticut<br>Year=%{x}<br>HuntLic=%{y}<extra></extra>\",\"legendgroup\":\"Connecticut\",\"line\":{\"color\":\"#FF6692\",\"dash\":\"solid\"},\"marker\":{\"symbol\":\"circle\"},\"mode\":\"lines\",\"name\":\"Connecticut\",\"showlegend\":true,\"x\":[1980,1981,1982,1983,1984,1985,1986,1987,1988,1989,1990,1991,1992,1993,1994,1995,1996,1997,1998,1999,2000,2001,2002,2003,2004,2005,2006,2007,2008,2009,2010,2011,2012,2013,2014,2015,2016],\"xaxis\":\"x\",\"y\":[0.186244448,0.190033402,0.195018441,0.209547868,0.202082654,0.205812615,0.204902858,0.206818884,0.209937821,0.213045938,0.216825854,0.221593342,0.210141971,0.208477715,0.209877157,0.210327996,0.206427034,0.203471637,0.203158816,0.201243007,0.199880601,0.199097542,0.198200826,0.19154013,0.197139401,0.19092141,0.189826121,0.186723033,0.184907405,0.184485695,0.181767418,0.185498292,0.190410676,0.184855438,0.178247315,0.185960914,0.188096983],\"yaxis\":\"y\",\"type\":\"scattergl\"},{\"hovertemplate\":\"State=Delaware<br>Year=%{x}<br>HuntLic=%{y}<extra></extra>\",\"legendgroup\":\"Delaware\",\"line\":{\"color\":\"#B6E880\",\"dash\":\"solid\"},\"marker\":{\"symbol\":\"circle\"},\"mode\":\"lines\",\"name\":\"Delaware\",\"showlegend\":true,\"x\":[1980,1981,1982,1983,1984,1985,1986,1987,1988,1989,1990,1991,1992,1993,1994,1995,1996,1997,1998,1999,2000,2001,2002,2003,2004,2005,2006,2007,2008,2009,2010,2011,2012,2013,2014,2015,2016],\"xaxis\":\"x\",\"y\":[0.203054825,0.248685492,0.243847171,0.235054186,0.239900381,0.240054379,0.234642786,0.239471776,0.250583562,0.252203221,0.238983871,0.24677783,0.230990898,0.222140374,0.227930955,0.211318688,0.211176524,0.20938968,0.207717149,0.20177409,0.201278456,0.19572225,0.200152639,0.187252346,0.197162965,0.184220441,0.172227921,0.174059084,0.211428647,0.207068415,0.213453435,0.208266437,0.203722015,0.200173933,0.163349357,0.230213445,0.231977338],\"yaxis\":\"y\",\"type\":\"scattergl\"},{\"hovertemplate\":\"State=Florida<br>Year=%{x}<br>HuntLic=%{y}<extra></extra>\",\"legendgroup\":\"Florida\",\"line\":{\"color\":\"#FF97FF\",\"dash\":\"solid\"},\"marker\":{\"symbol\":\"circle\"},\"mode\":\"lines\",\"name\":\"Florida\",\"showlegend\":true,\"x\":[1980,1981,1982,1983,1984,1985,1986,1987,1988,1989,1990,1991,1992,1993,1994,1995,1996,1997,1998,1999,2000,2001,2002,2003,2004,2005,2006,2007,2008,2009,2010,2011,2012,2013,2014,2015,2016],\"xaxis\":\"x\",\"y\":[0.205119815,0.206867269,0.207085398,0.205155352,0.200909111,0.201383657,0.195845613,0.195454051,0.195005565,0.181652217,0.170109007,0.161151377,0.158441191,0.155467954,0.152992051,0.1502322,0.148737635,0.15769759,0.145871594,0.142661829,0.140561412,0.142631084,0.140855152,0.135706381,0.137888168,0.132481328,0.132218824,0.125310694,0.120542746,0.090198913,0.128398359,0.128425566,0.127366837,0.134633736,0.130990815,0.134126342,0.127688819],\"yaxis\":\"y\",\"type\":\"scattergl\"},{\"hovertemplate\":\"State=Georgia<br>Year=%{x}<br>HuntLic=%{y}<extra></extra>\",\"legendgroup\":\"Georgia\",\"line\":{\"color\":\"#FECB52\",\"dash\":\"solid\"},\"marker\":{\"symbol\":\"circle\"},\"mode\":\"lines\",\"name\":\"Georgia\",\"showlegend\":true,\"x\":[1980,1981,1982,1983,1984,1985,1986,1987,1988,1989,1990,1991,1992,1993,1994,1995,1996,1997,1998,1999,2000,2001,2002,2003,2004,2005,2006,2007,2008,2009,2010,2011,2012,2013,2014,2015,2016],\"xaxis\":\"x\",\"y\":[0.396189286,0.396636735,0.386114759,0.384664077,0.38292258,0.384807406,0.38512186,0.390423787,0.384048545,0.383364552,0.382569953,0.376022876,0.377545103,0.369924319,0.364525228,0.361404922,0.352268091,0.336224694,0.326242109,0.320066444,0.31450425,0.313863405,0.321122964,0.317778132,0.316308136,0.312335569,0.314257025,0.310976754,0.345768251,1.076257185,0.344257648,0.332645437,0.305472485,0.294463825,0.296059582,0.299277042,0.354964361],\"yaxis\":\"y\",\"type\":\"scattergl\"},{\"hovertemplate\":\"State=Hawaii<br>Year=%{x}<br>HuntLic=%{y}<extra></extra>\",\"legendgroup\":\"Hawaii\",\"line\":{\"color\":\"#636efa\",\"dash\":\"solid\"},\"marker\":{\"symbol\":\"circle\"},\"mode\":\"lines\",\"name\":\"Hawaii\",\"showlegend\":true,\"x\":[1980,1981,1982,1983,1984,1985,1986,1987,1988,1989,1990,1991,1992,1993,1994,1995,1996,1997,1998,1999,2000,2001,2002,2003,2004,2005,2006,2007,2008,2009,2010,2011,2012,2013,2014,2015,2016],\"xaxis\":\"x\",\"y\":[0.108089096,0.110156981,0.108039649,0.107169563,0.106784423,0.104548583,0.108335367,0.106450715,0.109759998,0.104727136,0.108451987,0.09403416,0.094406245,0.093903028,0.095834821,0.094510243,0.094853504,0.092193766,0.092038136,0.089112324,0.088727924,0.086467699,0.086280118,0.082830345,0.085122144,0.081487522,0.077782371,0.077719016,0.082202054,0.074162268,0.074327065,0.08198956,0.085043346,0.084690784,0.07304418,0.087623058,0.089928685],\"yaxis\":\"y\",\"type\":\"scattergl\"},{\"hovertemplate\":\"State=Idaho<br>Year=%{x}<br>HuntLic=%{y}<extra></extra>\",\"legendgroup\":\"Idaho\",\"line\":{\"color\":\"#EF553B\",\"dash\":\"solid\"},\"marker\":{\"symbol\":\"circle\"},\"mode\":\"lines\",\"name\":\"Idaho\",\"showlegend\":true,\"x\":[1980,1981,1982,1983,1984,1985,1986,1987,1988,1989,1990,1991,1992,1993,1994,1995,1996,1997,1998,1999,2000,2001,2002,2003,2004,2005,2006,2007,2008,2009,2010,2011,2012,2013,2014,2015,2016],\"xaxis\":\"x\",\"y\":[0.723936905,0.75289486,0.722420127,0.718344413,0.713882489,0.707772192,0.71968082,0.723951735,0.71586143,0.758035747,0.765795624,0.752149556,0.733838742,0.745532013,0.720753911,0.69247292,0.816717903,0.835608604,0.77914868,0.78714445,0.765529862,0.737615258,0.733038609,0.730333903,0.71936747,0.713557825,0.71233179,0.728461393,0.723702995,0.719004322,0.735482414,0.726595313,0.740237067,0.730019945,0.745507195,0.746208361,0.714829614],\"yaxis\":\"y\",\"type\":\"scattergl\"},{\"hovertemplate\":\"State=Illinois<br>Year=%{x}<br>HuntLic=%{y}<extra></extra>\",\"legendgroup\":\"Illinois\",\"line\":{\"color\":\"#00cc96\",\"dash\":\"solid\"},\"marker\":{\"symbol\":\"circle\"},\"mode\":\"lines\",\"name\":\"Illinois\",\"showlegend\":true,\"x\":[1980,1981,1982,1983,1984,1985,1986,1987,1988,1989,1990,1991,1992,1993,1994,1995,1996,1997,1998,1999,2000,2001,2002,2003,2004,2005,2006,2007,2008,2009,2010,2011,2012,2013,2014,2015,2016],\"xaxis\":\"x\",\"y\":[0.214251936,0.214945556,0.218545416,0.220405488,0.221420917,0.21912319,0.218921894,0.221449254,0.230311617,0.23487651,0.237154333,0.265321401,0.284739147,0.278458536,0.32928804,0.308718748,0.316327636,0.313015009,0.301534518,0.260039714,0.259407937,0.295561758,0.298436843,0.290218098,0.297674748,0.289597212,0.303356883,0.308875583,0.320991013,0.320366573,0.322923258,0.327555606,0.324256528,0.319156031,0.318325787,0.319187592,0.334341167],\"yaxis\":\"y\",\"type\":\"scattergl\"},{\"hovertemplate\":\"State=Indiana<br>Year=%{x}<br>HuntLic=%{y}<extra></extra>\",\"legendgroup\":\"Indiana\",\"line\":{\"color\":\"#ab63fa\",\"dash\":\"solid\"},\"marker\":{\"symbol\":\"circle\"},\"mode\":\"lines\",\"name\":\"Indiana\",\"showlegend\":true,\"x\":[1980,1981,1982,1983,1984,1985,1986,1987,1988,1989,1990,1991,1992,1993,1994,1995,1996,1997,1998,1999,2000,2001,2002,2003,2004,2005,2006,2007,2008,2009,2010,2011,2012,2013,2014,2015,2016],\"xaxis\":\"x\",\"y\":[0.298304367,0.310743566,0.314046676,0.315403218,0.310858613,0.306543534,0.287535909,0.30008478,0.310056299,0.308208743,0.323399926,0.327660567,0.343040543,0.338197292,0.339360701,0.340608294,0.346447526,0.344300321,0.325432391,0.32329856,0.319696461,0.315456092,0.308791779,0.260929758,0.306877512,0.25922072,0.277159188,0.258802056,0.26220298,0.261501428,0.258381768,0.263936004,0.270685647,0.267829614,0.26877167,0.246891314,0.248126708],\"yaxis\":\"y\",\"type\":\"scattergl\"},{\"hovertemplate\":\"State=Iowa<br>Year=%{x}<br>HuntLic=%{y}<extra></extra>\",\"legendgroup\":\"Iowa\",\"line\":{\"color\":\"#FFA15A\",\"dash\":\"solid\"},\"marker\":{\"symbol\":\"circle\"},\"mode\":\"lines\",\"name\":\"Iowa\",\"showlegend\":true,\"x\":[1980,1981,1982,1983,1984,1985,1986,1987,1988,1989,1990,1991,1992,1993,1994,1995,1996,1997,1998,1999,2000,2001,2002,2003,2004,2005,2006,2007,2008,2009,2010,2011,2012,2013,2014,2015,2016],\"xaxis\":\"x\",\"y\":[0.472723703,0.484551723,0.489761765,0.47988145,0.476408615,0.280110061,0.461722144,0.473053464,0.491054317,0.493885679,0.513250704,0.502952348,0.496236254,0.483227572,0.473420473,0.490697668,0.489218351,0.492340217,0.498770266,0.506943244,0.503686275,0.50025667,0.506622785,0.511019383,0.504956164,0.509080281,0.530945607,0.536308571,0.543367072,0.534841213,0.529609932,0.53007155,0.525665397,0.507653621,0.503088981,0.495899375,0.417568069],\"yaxis\":\"y\",\"type\":\"scattergl\"},{\"hovertemplate\":\"State=Kansas<br>Year=%{x}<br>HuntLic=%{y}<extra></extra>\",\"legendgroup\":\"Kansas\",\"line\":{\"color\":\"#19d3f3\",\"dash\":\"solid\"},\"marker\":{\"symbol\":\"circle\"},\"mode\":\"lines\",\"name\":\"Kansas\",\"showlegend\":true,\"x\":[1980,1981,1982,1983,1984,1985,1986,1987,1988,1989,1990,1991,1992,1993,1994,1995,1996,1997,1998,1999,2000,2001,2002,2003,2004,2005,2006,2007,2008,2009,2010,2011,2012,2013,2014,2015,2016],\"xaxis\":\"x\",\"y\":[0.314007251,0.310040303,0.314354999,0.32122743,0.317765095,0.30558643,0.311880233,0.326228373,0.32352854,0.254901415,0.25256508,0.254352615,0.245548075,0.240871203,0.243697775,0.238953567,0.229303874,0.229610123,0.365417875,0.378716595,0.382329122,0.378289333,0.387308682,0.381852096,0.385830067,0.380298395,0.368492331,0.363183738,0.359007121,0.356327298,0.360564683,0.359504849,0.366885799,0.339953989,0.34037765,0.35170957,0.353712213],\"yaxis\":\"y\",\"type\":\"scattergl\"},{\"hovertemplate\":\"State=Kentucky<br>Year=%{x}<br>HuntLic=%{y}<extra></extra>\",\"legendgroup\":\"Kentucky\",\"line\":{\"color\":\"#FF6692\",\"dash\":\"solid\"},\"marker\":{\"symbol\":\"circle\"},\"mode\":\"lines\",\"name\":\"Kentucky\",\"showlegend\":true,\"x\":[1980,1981,1982,1983,1984,1985,1986,1987,1988,1989,1990,1991,1992,1993,1994,1995,1996,1997,1998,1999,2000,2001,2002,2003,2004,2005,2006,2007,2008,2009,2010,2011,2012,2013,2014,2015,2016],\"xaxis\":\"x\",\"y\":[0.312149582,0.343177589,0.345730752,0.347815725,0.346693178,0.348053792,0.361624982,0.369412894,0.382054571,0.368802779,0.373914345,0.371379184,0.367473279,0.366214573,0.358423311,0.359858336,0.357983868,0.376815661,0.380889344,0.416571492,0.404467809,0.4000227,0.392550827,0.38441015,0.389880016,0.381385087,0.375117069,0.356860271,0.357243255,0.356116226,0.339216649,0.331010808,0.344597754,0.332542927,0.334849067,0.337633,0.342384215],\"yaxis\":\"y\",\"type\":\"scattergl\"},{\"hovertemplate\":\"State=Louisiana<br>Year=%{x}<br>HuntLic=%{y}<extra></extra>\",\"legendgroup\":\"Louisiana\",\"line\":{\"color\":\"#B6E880\",\"dash\":\"solid\"},\"marker\":{\"symbol\":\"circle\"},\"mode\":\"lines\",\"name\":\"Louisiana\",\"showlegend\":true,\"x\":[1980,1981,1982,1983,1984,1985,1986,1987,1988,1989,1990,1991,1992,1993,1994,1995,1996,1997,1998,1999,2000,2001,2002,2003,2004,2005,2006,2007,2008,2009,2010,2011,2012,2013,2014,2015,2016],\"xaxis\":\"x\",\"y\":[0.364932073,0.371575701,0.373798343,0.376185669,0.370204241,0.296338555,0.343039291,0.349556801,0.343101701,0.337880767,0.357787965,0.357069428,0.353603974,0.353715023,0.350455856,0.351093211,0.242025521,0.358701673,0.363413766,0.363111575,0.369903885,0.238284258,0.361343741,0.352554987,0.359155393,0.350407446,0.363328348,0.409163811,0.225552654,0.232116345,0.233963555,0.236189595,0.348985867,0.353575538,0.359435297,0.361784624,0.365110403],\"yaxis\":\"y\",\"type\":\"scattergl\"},{\"hovertemplate\":\"State=Maine<br>Year=%{x}<br>HuntLic=%{y}<extra></extra>\",\"legendgroup\":\"Maine\",\"line\":{\"color\":\"#FF97FF\",\"dash\":\"solid\"},\"marker\":{\"symbol\":\"circle\"},\"mode\":\"lines\",\"name\":\"Maine\",\"showlegend\":true,\"x\":[1980,1981,1982,1983,1984,1985,1986,1987,1988,1989,1990,1991,1992,1993,1994,1995,1996,1997,1998,1999,2000,2001,2002,2003,2004,2005,2006,2007,2008,2009,2010,2011,2012,2013,2014,2015,2016],\"xaxis\":\"x\",\"y\":[0.425958855,0.414902395,0.42023792,0.427177702,0.400235321,0.42021882,0.430333432,0.413629338,0.415536248,0.421213292,0.412113948,0.405110411,0.380378022,0.384015853,0.378285936,0.378595525,0.376246531,0.368079151,0.35831533,0.362151971,0.362777017,0.361921329,0.40337074,0.40841496,0.400639785,0.406509951,0.400847119,0.395901888,0.419130485,0.41927531,0.419175691,0.410848571,0.410933069,0.403532675,0.400490043,0.406261381,0.410557932],\"yaxis\":\"y\",\"type\":\"scattergl\"},{\"hovertemplate\":\"State=Maryland<br>Year=%{x}<br>HuntLic=%{y}<extra></extra>\",\"legendgroup\":\"Maryland\",\"line\":{\"color\":\"#FECB52\",\"dash\":\"solid\"},\"marker\":{\"symbol\":\"circle\"},\"mode\":\"lines\",\"name\":\"Maryland\",\"showlegend\":true,\"x\":[1980,1981,1982,1983,1984,1985,1986,1987,1988,1989,1990,1991,1992,1993,1994,1995,1996,1997,1998,1999,2000,2001,2002,2003,2004,2005,2006,2007,2008,2009,2010,2011,2012,2013,2014,2015,2016],\"xaxis\":\"x\",\"y\":[0.283997946,0.272798955,0.272479605,0.264666851,0.280244535,0.277753204,0.280367341,0.281130019,0.282030743,0.206857976,0.205890449,0.208389788,0.208037579,0.205050137,0.196354097,0.201041873,0.194681872,0.191663835,0.192331831,0.188121758,0.188574073,0.190550351,0.236550825,0.219386158,0.234267965,0.217492815,0.158192999,0.215992464,0.212766088,0.223700273,0.215825185,0.216291788,0.21416461,0.0,0.221007308,0.216985248,0.131343064],\"yaxis\":\"y\",\"type\":\"scattergl\"},{\"hovertemplate\":\"State=Massachusetts<br>Year=%{x}<br>HuntLic=%{y}<extra></extra>\",\"legendgroup\":\"Massachusetts\",\"line\":{\"color\":\"#636efa\",\"dash\":\"solid\"},\"marker\":{\"symbol\":\"circle\"},\"mode\":\"lines\",\"name\":\"Massachusetts\",\"showlegend\":true,\"x\":[1980,1981,1982,1983,1984,1985,1986,1987,1988,1989,1990,1991,1992,1993,1994,1995,1996,1997,1998,1999,2000,2001,2002,2003,2004,2005,2006,2007,2008,2009,2010,2011,2012,2013,2014,2015,2016],\"xaxis\":\"x\",\"y\":[0.17590495,0.181107593,0.183326374,0.182675714,0.176191055,0.180786078,0.179076307,0.174030772,0.18851975,0.180814663,0.185903903,0.185693765,0.18507497,0.207512481,0.206918858,0.20324095,0.199237897,0.20211648,0.195986093,0.193695168,0.193748314,0.177763346,0.184267883,0.178607967,0.184376699,0.178876586,0.188630838,0.180008849,0.177961892,0.177533041,0.179024494,0.182558447,0.234053102,0.178069505,0.187783534,0.185203677,0.186968768],\"yaxis\":\"y\",\"type\":\"scattergl\"},{\"hovertemplate\":\"State=Michigan<br>Year=%{x}<br>HuntLic=%{y}<extra></extra>\",\"legendgroup\":\"Michigan\",\"line\":{\"color\":\"#EF553B\",\"dash\":\"solid\"},\"marker\":{\"symbol\":\"circle\"},\"mode\":\"lines\",\"name\":\"Michigan\",\"showlegend\":true,\"x\":[1980,1981,1982,1983,1984,1985,1986,1987,1988,1989,1990,1991,1992,1993,1994,1995,1996,1997,1998,1999,2000,2001,2002,2003,2004,2005,2006,2007,2008,2009,2010,2011,2012,2013,2014,2015,2016],\"xaxis\":\"x\",\"y\":[0.389263492,0.381208166,0.397638428,0.394963901,0.372614808,0.381312739,0.378765129,0.396581956,0.454525511,0.458397447,0.461245077,0.467120683,0.467802302,0.470804132,0.450317986,0.455537898,0.449989785,0.510577924,0.488974168,0.491163403,0.473421952,0.473236167,0.472101637,0.470770294,0.471170983,0.4705364,0.461430785,0.445454511,0.447778298,0.443891368,0.442960433,0.44690123,0.44632095,0.439276573,0.434425193,0.433061378,0.431214054],\"yaxis\":\"y\",\"type\":\"scattergl\"},{\"hovertemplate\":\"State=Minnesota<br>Year=%{x}<br>HuntLic=%{y}<extra></extra>\",\"legendgroup\":\"Minnesota\",\"line\":{\"color\":\"#00cc96\",\"dash\":\"solid\"},\"marker\":{\"symbol\":\"circle\"},\"mode\":\"lines\",\"name\":\"Minnesota\",\"showlegend\":true,\"x\":[1980,1981,1982,1983,1984,1985,1986,1987,1988,1989,1990,1991,1992,1993,1994,1995,1996,1997,1998,1999,2000,2001,2002,2003,2004,2005,2006,2007,2008,2009,2010,2011,2012,2013,2014,2015,2016],\"xaxis\":\"x\",\"y\":[0.413593731,0.476426981,0.482343685,0.46325597,0.487925395,0.478396415,0.47594343,0.480019512,0.482378592,0.468909705,0.422667968,0.479455353,0.487297694,0.481067578,0.467808231,0.421675193,0.423341838,0.464889142,0.462179809,0.486445494,0.496091476,0.49602093,0.556662296,0.522482249,0.552886887,0.519102163,0.514543486,0.508624388,0.52018255,0.518496257,0.510934837,0.517760003,0.508599088,0.529070823,0.522012404,0.528339075,0.511176787],\"yaxis\":\"y\",\"type\":\"scattergl\"},{\"hovertemplate\":\"State=Mississippi<br>Year=%{x}<br>HuntLic=%{y}<extra></extra>\",\"legendgroup\":\"Mississippi\",\"line\":{\"color\":\"#ab63fa\",\"dash\":\"solid\"},\"marker\":{\"symbol\":\"circle\"},\"mode\":\"lines\",\"name\":\"Mississippi\",\"showlegend\":true,\"x\":[1980,1981,1982,1983,1984,1985,1986,1987,1988,1989,1990,1991,1992,1993,1994,1995,1996,1997,1998,1999,2000,2001,2002,2003,2004,2005,2006,2007,2008,2009,2010,2011,2012,2013,2014,2015,2016],\"xaxis\":\"x\",\"y\":[0.348666858,0.348853598,0.314199545,0.350937191,0.320410681,0.320500961,0.31721156,0.318796843,0.321114771,0.320222103,0.31779864,0.318222409,0.317614011,0.323234452,0.308383122,0.296384984,0.289244652,0.298013903,0.294585447,0.294181368,0.296858264,0.29786866,0.292996475,0.28606128,0.29145447,0.284203045,0.284187871,0.279464912,0.285308988,0.290622904,0.305593989,0.266686883,0.260356622,0.25610754,0.289573533,0.348449996,0.337964941],\"yaxis\":\"y\",\"type\":\"scattergl\"},{\"hovertemplate\":\"State=Missouri<br>Year=%{x}<br>HuntLic=%{y}<extra></extra>\",\"legendgroup\":\"Missouri\",\"line\":{\"color\":\"#FFA15A\",\"dash\":\"solid\"},\"marker\":{\"symbol\":\"circle\"},\"mode\":\"lines\",\"name\":\"Missouri\",\"showlegend\":true,\"x\":[1980,1981,1982,1983,1984,1985,1986,1987,1988,1989,1990,1991,1992,1993,1994,1995,1996,1997,1998,1999,2000,2001,2002,2003,2004,2005,2006,2007,2008,2009,2010,2011,2012,2013,2014,2015,2016],\"xaxis\":\"x\",\"y\":[0.419826356,0.417254209,0.414155081,0.418325759,0.452843794,0.422513203,0.423113286,0.435149324,0.447948987,0.451764202,0.451334329,0.444312217,0.443168868,0.441226905,0.434142415,0.436120381,0.439047109,0.447474796,0.439360757,0.439256267,0.435808479,0.439540655,0.445303579,0.453776319,0.442469997,0.450595286,0.536032172,0.531210435,0.529093557,0.527361168,0.524665784,0.528290209,0.532493597,0.529760514,0.53221971,0.53795742,0.536197292],\"yaxis\":\"y\",\"type\":\"scattergl\"},{\"hovertemplate\":\"State=Montana<br>Year=%{x}<br>HuntLic=%{y}<extra></extra>\",\"legendgroup\":\"Montana\",\"line\":{\"color\":\"#19d3f3\",\"dash\":\"solid\"},\"marker\":{\"symbol\":\"circle\"},\"mode\":\"lines\",\"name\":\"Montana\",\"showlegend\":true,\"x\":[1980,1981,1982,1983,1984,1985,1986,1987,1988,1989,1990,1991,1992,1993,1994,1995,1996,1997,1998,1999,2000,2001,2002,2003,2004,2005,2006,2007,2008,2009,2010,2011,2012,2013,2014,2015,2016],\"xaxis\":\"x\",\"y\":[0.923785103,0.920507696,0.974616389,1.138083636,1.035560082,0.992357659,0.993818934,0.998176429,0.767664464,0.760037986,0.754992414,0.761305127,0.762541709,0.9210861,0.908623922,0.905851713,0.894564295,0.860367162,0.812539086,0.820245422,0.819780372,0.818781159,0.948108306,0.965125382,0.938712267,0.954559082,0.955521981,0.951866113,0.956858352,0.953172044,0.948900342,0.959378879,0.961170727,0.924736841,0.902049297,0.897365215,0.90278916],\"yaxis\":\"y\",\"type\":\"scattergl\"},{\"hovertemplate\":\"State=Nebraska<br>Year=%{x}<br>HuntLic=%{y}<extra></extra>\",\"legendgroup\":\"Nebraska\",\"line\":{\"color\":\"#FF6692\",\"dash\":\"solid\"},\"marker\":{\"symbol\":\"circle\"},\"mode\":\"lines\",\"name\":\"Nebraska\",\"showlegend\":true,\"x\":[1980,1981,1982,1983,1984,1985,1986,1987,1988,1989,1990,1991,1992,1993,1994,1995,1996,1997,1998,1999,2000,2001,2002,2003,2004,2005,2006,2007,2008,2009,2010,2011,2012,2013,2014,2015,2016],\"xaxis\":\"x\",\"y\":[0.449162456,0.459016331,0.461784669,0.450326385,0.451994249,0.434224472,0.441149426,0.446670538,0.458088083,0.444702627,0.474517692,0.453139402,0.450695942,0.443402729,0.443129463,0.455079362,0.455687648,0.451430927,0.454030268,0.455591514,0.459436728,0.458152524,0.442693888,0.445810446,0.440018817,0.442908989,0.442233245,0.440145899,0.462876892,0.460790412,0.463492944,0.455145476,0.455469883,0.447798979,0.442354013,0.425618987,0.419125287],\"yaxis\":\"y\",\"type\":\"scattergl\"},{\"hovertemplate\":\"State=Nevada<br>Year=%{x}<br>HuntLic=%{y}<extra></extra>\",\"legendgroup\":\"Nevada\",\"line\":{\"color\":\"#B6E880\",\"dash\":\"solid\"},\"marker\":{\"symbol\":\"circle\"},\"mode\":\"lines\",\"name\":\"Nevada\",\"showlegend\":true,\"x\":[1980,1981,1982,1983,1984,1985,1986,1987,1988,1989,1990,1991,1992,1993,1994,1995,1996,1997,1998,1999,2000,2001,2002,2003,2004,2005,2006,2007,2008,2009,2010,2011,2012,2013,2014,2015,2016],\"xaxis\":\"x\",\"y\":[0.343733797,0.341404513,0.356213869,0.316570154,0.314576524,0.329407762,0.32948314,0.332002396,0.349323834,0.306850667,0.288932632,0.269511031,0.257144439,0.183278903,0.226080058,0.232570696,0.224217031,0.21642165,0.221137963,0.215099337,0.214945958,0.205459513,0.19506439,0.183724211,0.187759679,0.176665636,0.194238151,0.20001261,0.210029532,0.208812022,0.200392091,0.197623029,0.198168912,0.194766036,0.187686751,0.202738498,0.203245618],\"yaxis\":\"y\",\"type\":\"scattergl\"},{\"hovertemplate\":\"State=New Hampshire<br>Year=%{x}<br>HuntLic=%{y}<extra></extra>\",\"legendgroup\":\"New Hampshire\",\"line\":{\"color\":\"#FF97FF\",\"dash\":\"solid\"},\"marker\":{\"symbol\":\"circle\"},\"mode\":\"lines\",\"name\":\"New Hampshire\",\"showlegend\":true,\"x\":[1980,1981,1982,1983,1984,1985,1986,1987,1988,1989,1990,1991,1992,1993,1994,1995,1996,1997,1998,1999,2000,2001,2002,2003,2004,2005,2006,2007,2008,2009,2010,2011,2012,2013,2014,2015,2016],\"xaxis\":\"x\",\"y\":[0.311000121,0.325407394,0.315997819,0.32939182,0.347245925,0.323001796,0.333204053,0.321024463,0.339112595,0.34244192,0.338154619,0.330264088,0.325774992,0.32575433,0.32758059,0.329018931,0.344813942,0.336938,0.341875226,0.436156717,0.414655465,0.403731331,0.391188789,0.383965319,0.387987039,0.381197637,0.377970828,0.374786676,0.376480182,0.376452148,0.378266673,0.375193077,0.375931874,0.367563199,0.362885972,0.370048412,0.375266086],\"yaxis\":\"y\",\"type\":\"scattergl\"},{\"hovertemplate\":\"State=New Jersey<br>Year=%{x}<br>HuntLic=%{y}<extra></extra>\",\"legendgroup\":\"New Jersey\",\"line\":{\"color\":\"#FECB52\",\"dash\":\"solid\"},\"marker\":{\"symbol\":\"circle\"},\"mode\":\"lines\",\"name\":\"New Jersey\",\"showlegend\":true,\"x\":[1980,1981,1982,1983,1984,1985,1986,1987,1988,1989,1990,1991,1992,1993,1994,1995,1996,1997,1998,1999,2000,2001,2002,2003,2004,2005,2006,2007,2008,2009,2010,2011,2012,2013,2014,2015,2016],\"xaxis\":\"x\",\"y\":[0.179688139,0.177349288,0.178112572,0.178050977,0.187194131,0.195556541,0.195141226,0.19286708,0.194129877,0.194811894,0.195034771,0.198514583,0.197372186,0.198232194,0.196651229,0.194705343,0.194853162,0.191526924,0.190483494,0.18083748,0.166984768,0.169831539,0.181752255,0.176157466,0.180888038,0.175641879,0.176157308,0.17603268,0.1772088,0.176757776,0.185965946,0.185502878,0.185570324,0.180400825,0.173338658,0.175341812,0.178784759],\"yaxis\":\"y\",\"type\":\"scattergl\"},{\"hovertemplate\":\"State=New Mexico<br>Year=%{x}<br>HuntLic=%{y}<extra></extra>\",\"legendgroup\":\"New Mexico\",\"line\":{\"color\":\"#636efa\",\"dash\":\"solid\"},\"marker\":{\"symbol\":\"circle\"},\"mode\":\"lines\",\"name\":\"New Mexico\",\"showlegend\":true,\"x\":[1980,1981,1982,1983,1984,1985,1986,1987,1988,1989,1990,1991,1992,1993,1994,1995,1996,1997,1998,1999,2000,2001,2002,2003,2004,2005,2006,2007,2008,2009,2010,2011,2012,2013,2014,2015,2016],\"xaxis\":\"x\",\"y\":[0.328351858,0.327734049,0.326661918,0.319490125,0.308055436,0.312181834,0.319167235,0.31408454,0.309276781,0.312038229,0.301771126,0.295647225,0.28865397,0.294362332,0.365134595,0.418548581,0.400428775,0.262992754,0.393323432,0.336501485,0.336684009,0.403459698,0.452263428,0.388955928,0.44646562,0.383411002,0.383937036,0.373311438,0.304106045,0.297500242,0.33760117,0.314912975,0.31660648,1.116874313,0.303688158,0.323814855,0.319267721],\"yaxis\":\"y\",\"type\":\"scattergl\"},{\"hovertemplate\":\"State=New York<br>Year=%{x}<br>HuntLic=%{y}<extra></extra>\",\"legendgroup\":\"New York\",\"line\":{\"color\":\"#EF553B\",\"dash\":\"solid\"},\"marker\":{\"symbol\":\"circle\"},\"mode\":\"lines\",\"name\":\"New York\",\"showlegend\":true,\"x\":[1980,1981,1982,1983,1984,1985,1986,1987,1988,1989,1990,1991,1992,1993,1994,1995,1996,1997,1998,1999,2000,2001,2002,2003,2004,2005,2006,2007,2008,2009,2010,2011,2012,2013,2014,2015,2016],\"xaxis\":\"x\",\"y\":[0.248588166,0.257171046,0.263974628,0.270116421,0.266119156,0.269026554,0.261252155,0.268302452,0.28192086,0.284353003,0.271256728,0.27986224,0.281558287,0.284210181,0.291700136,0.27371019,0.266203563,0.284374282,0.278629056,0.291583048,0.298281893,0.298758147,0.188423602,0.267633771,0.188257593,0.26793665,0.260557256,0.214520161,0.21292631,0.209743385,0.209005571,0.186995631,0.228572876,0.226502948,0.228914855,0.232692241,0.227165948],\"yaxis\":\"y\",\"type\":\"scattergl\"},{\"hovertemplate\":\"State=North Carolina<br>Year=%{x}<br>HuntLic=%{y}<extra></extra>\",\"legendgroup\":\"North Carolina\",\"line\":{\"color\":\"#00cc96\",\"dash\":\"solid\"},\"marker\":{\"symbol\":\"circle\"},\"mode\":\"lines\",\"name\":\"North Carolina\",\"showlegend\":true,\"x\":[1980,1981,1982,1983,1984,1985,1986,1987,1988,1989,1990,1991,1992,1993,1994,1995,1996,1997,1998,1999,2000,2001,2002,2003,2004,2005,2006,2007,2008,2009,2010,2011,2012,2013,2014,2015,2016],\"xaxis\":\"x\",\"y\":[0.302515725,0.29391524,0.288002593,0.289356006,0.270599045,0.263267975,0.25830066,0.254758048,0.248876701,0.258682005,0.254799001,0.266191357,0.255828998,0.252101582,0.249690136,0.246862935,0.2470234,0.240601777,0.24508934,0.245561488,0.240479007,0.237791324,0.238004711,0.236280906,0.23482585,0.2324099,0.2307269,0.226118896,0.231575547,0.233807166,0.18919799,0.187441798,0.180880613,0.181251593,0.181449421,0.179223418,0.181990217],\"yaxis\":\"y\",\"type\":\"scattergl\"},{\"hovertemplate\":\"State=North Dakota<br>Year=%{x}<br>HuntLic=%{y}<extra></extra>\",\"legendgroup\":\"North Dakota\",\"line\":{\"color\":\"#ab63fa\",\"dash\":\"solid\"},\"marker\":{\"symbol\":\"circle\"},\"mode\":\"lines\",\"name\":\"North Dakota\",\"showlegend\":true,\"x\":[1980,1981,1982,1983,1984,1985,1986,1987,1988,1989,1990,1991,1992,1993,1994,1995,1996,1997,1998,1999,2000,2001,2002,2003,2004,2005,2006,2007,2008,2009,2010,2011,2012,2013,2014,2015,2016],\"xaxis\":\"x\",\"y\":[0.628986282,0.626064292,0.706472647,0.714327255,0.714009947,0.723140279,0.74201543,0.77769204,0.778207822,0.741738368,0.758762698,0.767857212,0.795023278,0.813181776,0.745531158,0.736944687,0.752608904,0.759539021,0.744673762,0.740902196,0.757419442,0.771674885,0.804693534,0.816274155,0.800603537,0.811667403,0.822904243,0.845388548,0.849003231,0.85124428,0.857521356,0.842612535,0.827938277,0.793318087,0.765868024,0.722502644,0.724354447],\"yaxis\":\"y\",\"type\":\"scattergl\"},{\"hovertemplate\":\"State=Ohio<br>Year=%{x}<br>HuntLic=%{y}<extra></extra>\",\"legendgroup\":\"Ohio\",\"line\":{\"color\":\"#FFA15A\",\"dash\":\"solid\"},\"marker\":{\"symbol\":\"circle\"},\"mode\":\"lines\",\"name\":\"Ohio\",\"showlegend\":true,\"x\":[1980,1981,1982,1983,1984,1985,1986,1987,1988,1989,1990,1991,1992,1993,1994,1995,1996,1997,1998,1999,2000,2001,2002,2003,2004,2005,2006,2007,2008,2009,2010,2011,2012,2013,2014,2015,2016],\"xaxis\":\"x\",\"y\":[0.253809824,0.260739479,0.262148216,0.275414956,0.270167224,0.272217366,0.272095894,0.273584089,0.275941639,0.305921213,0.296373277,0.299541193,0.30481601,0.321166023,0.315315821,0.317498851,0.319206283,0.323500608,0.332614087,0.324199164,0.305688878,0.298673623,0.306104242,0.311408715,0.305510797,0.311020928,0.31466451,0.303792093,0.305488868,0.310114011,0.297737411,0.182304453,0.183374266,0.180739024,0.303519972,0.300455104,0.292689941],\"yaxis\":\"y\",\"type\":\"scattergl\"},{\"hovertemplate\":\"State=Oklahoma<br>Year=%{x}<br>HuntLic=%{y}<extra></extra>\",\"legendgroup\":\"Oklahoma\",\"line\":{\"color\":\"#19d3f3\",\"dash\":\"solid\"},\"marker\":{\"symbol\":\"circle\"},\"mode\":\"lines\",\"name\":\"Oklahoma\",\"showlegend\":true,\"x\":[1980,1981,1982,1983,1984,1985,1986,1987,1988,1989,1990,1991,1992,1993,1994,1995,1996,1997,1998,1999,2000,2001,2002,2003,2004,2005,2006,2007,2008,2009,2010,2011,2012,2013,2014,2015,2016],\"xaxis\":\"x\",\"y\":[0.402196304,0.408880447,0.362228215,0.364962062,0.354084782,0.349025385,0.328952638,0.334761639,0.335592967,0.332416863,0.337879063,0.323865333,0.327913142,0.318082225,0.316879693,0.294954866,0.288238162,0.294693045,0.297837646,0.301669596,0.300138174,0.303068537,0.309514425,0.298923723,0.307923223,0.297077228,0.284178287,0.272900505,0.265734963,0.26556454,0.269701924,0.275132925,0.272020566,0.264727985,0.26579762,0.274516806,0.273669137],\"yaxis\":\"y\",\"type\":\"scattergl\"},{\"hovertemplate\":\"State=Oregon<br>Year=%{x}<br>HuntLic=%{y}<extra></extra>\",\"legendgroup\":\"Oregon\",\"line\":{\"color\":\"#FF6692\",\"dash\":\"solid\"},\"marker\":{\"symbol\":\"circle\"},\"mode\":\"lines\",\"name\":\"Oregon\",\"showlegend\":true,\"x\":[1980,1981,1982,1983,1984,1985,1986,1987,1988,1989,1990,1991,1992,1993,1994,1995,1996,1997,1998,1999,2000,2001,2002,2003,2004,2005,2006,2007,2008,2009,2010,2011,2012,2013,2014,2015,2016],\"xaxis\":\"x\",\"y\":[0.585644625,0.603501641,0.595939014,0.581722985,0.603754793,0.598317756,0.604467922,0.589122332,0.576223673,0.574957649,0.592923597,0.5662337,0.590372536,0.586126382,0.568600823,0.647271413,0.623578285,0.622904089,0.627857272,0.642150448,0.620979119,0.61172784,0.618676197,0.60869804,0.613800512,0.603127865,0.587666622,0.582776336,0.576955966,0.573929485,0.258976177,0.568799735,0.560302378,0.554413669,0.547914123,0.556358299,0.543547621],\"yaxis\":\"y\",\"type\":\"scattergl\"},{\"hovertemplate\":\"State=Pennsylvania<br>Year=%{x}<br>HuntLic=%{y}<extra></extra>\",\"legendgroup\":\"Pennsylvania\",\"line\":{\"color\":\"#B6E880\",\"dash\":\"solid\"},\"marker\":{\"symbol\":\"circle\"},\"mode\":\"lines\",\"name\":\"Pennsylvania\",\"showlegend\":true,\"x\":[1980,1981,1982,1983,1984,1985,1986,1987,1988,1989,1990,1991,1992,1993,1994,1995,1996,1997,1998,1999,2000,2001,2002,2003,2004,2005,2006,2007,2008,2009,2010,2011,2012,2013,2014,2015,2016],\"xaxis\":\"x\",\"y\":[0.402975293,0.410806283,0.426775967,0.419473362,0.430834754,0.41880789,0.418775853,0.419426568,0.421122976,0.432542614,0.43313219,0.445684471,0.446967131,0.435111049,0.433189369,0.43524631,0.432494578,0.449634079,0.434364884,0.441588969,0.432091932,0.443016375,0.4410294,0.463648031,0.439611163,0.462243189,0.454240265,0.462552946,0.445077166,0.439295316,0.436817054,0.435810945,0.447797829,0.42692396,0.447804974,0.445508548,0.447366143],\"yaxis\":\"y\",\"type\":\"scattergl\"},{\"hovertemplate\":\"State=Rhode Island<br>Year=%{x}<br>HuntLic=%{y}<extra></extra>\",\"legendgroup\":\"Rhode Island\",\"line\":{\"color\":\"#FF97FF\",\"dash\":\"solid\"},\"marker\":{\"symbol\":\"circle\"},\"mode\":\"lines\",\"name\":\"Rhode Island\",\"showlegend\":true,\"x\":[1980,1981,1982,1983,1984,1985,1986,1987,1988,1989,1990,1991,1992,1993,1994,1995,1996,1997,1998,1999,2000,2001,2002,2003,2004,2005,2006,2007,2008,2009,2010,2011,2012,2013,2014,2015,2016],\"xaxis\":\"x\",\"y\":[0.131270624,0.132276677,0.135807767,0.136303723,0.138247233,0.132503086,0.135757951,0.129837831,0.141895131,0.142148174,0.141356126,0.152361446,0.171905989,0.175944561,0.172559518,0.175007382,0.152546009,0.170341146,0.173810598,0.175391413,0.174760625,0.17351812,0.1657043,0.170091165,0.165041129,0.170363782,0.171104512,0.1645109,0.173278698,0.173390245,0.173479095,0.0,0.084521969,0.082388358,0.084901688,0.16719145,0.084038345],\"yaxis\":\"y\",\"type\":\"scattergl\"},{\"hovertemplate\":\"State=South Carolina<br>Year=%{x}<br>HuntLic=%{y}<extra></extra>\",\"legendgroup\":\"South Carolina\",\"line\":{\"color\":\"#FECB52\",\"dash\":\"solid\"},\"marker\":{\"symbol\":\"circle\"},\"mode\":\"lines\",\"name\":\"South Carolina\",\"showlegend\":true,\"x\":[1980,1981,1982,1983,1984,1985,1986,1987,1988,1989,1990,1991,1992,1993,1994,1995,1996,1997,1998,1999,2000,2001,2002,2003,2004,2005,2006,2007,2008,2009,2010,2011,2012,2013,2014,2015,2016],\"xaxis\":\"x\",\"y\":[0.293703585,0.291568101,0.279270483,0.273188902,0.263845975,0.312044286,0.261160386,0.260710229,0.254255375,0.256899585,0.24654577,0.247228814,0.247760841,0.245667609,0.244816766,0.238621733,0.238276864,0.23625778,0.232411534,0.229274884,0.224988862,0.224969728,0.224687032,0.219787769,0.22191867,0.216681355,0.304822497,0.309013447,0.321897668,0.325014336,0.331792162,0.33398872,0.343640002,0.266928942,0.276290322,0.272676968,0.275578394],\"yaxis\":\"y\",\"type\":\"scattergl\"},{\"hovertemplate\":\"State=South Dakota<br>Year=%{x}<br>HuntLic=%{y}<extra></extra>\",\"legendgroup\":\"South Dakota\",\"line\":{\"color\":\"#636efa\",\"dash\":\"solid\"},\"marker\":{\"symbol\":\"circle\"},\"mode\":\"lines\",\"name\":\"South Dakota\",\"showlegend\":true,\"x\":[1980,1981,1982,1983,1984,1985,1986,1987,1988,1989,1990,1991,1992,1993,1994,1995,1996,1997,1998,1999,2000,2001,2002,2003,2004,2005,2006,2007,2008,2009,2010,2011,2012,2013,2014,2015,2016],\"xaxis\":\"x\",\"y\":[0.709866544,0.708731945,0.661381924,0.714696928,0.735299934,0.721614871,0.730222986,0.735660741,0.702363859,0.749326283,0.733723752,0.731186563,0.718236188,0.760401417,0.76690126,0.777603373,0.687363125,0.684198409,0.657854361,0.660661459,0.564226791,0.565850943,0.570336344,0.56534706,0.566482565,0.5610426,0.57017202,0.573132494,0.576558974,0.588190071,0.596822961,0.597182926,0.587618013,0.578954428,0.566441195,0.556341825,0.571343419],\"yaxis\":\"y\",\"type\":\"scattergl\"},{\"hovertemplate\":\"State=Tennessee<br>Year=%{x}<br>HuntLic=%{y}<extra></extra>\",\"legendgroup\":\"Tennessee\",\"line\":{\"color\":\"#EF553B\",\"dash\":\"solid\"},\"marker\":{\"symbol\":\"circle\"},\"mode\":\"lines\",\"name\":\"Tennessee\",\"showlegend\":true,\"x\":[1980,1981,1982,1983,1984,1985,1986,1987,1988,1989,1990,1991,1992,1993,1994,1995,1996,1997,1998,1999,2000,2001,2002,2003,2004,2005,2006,2007,2008,2009,2010,2011,2012,2013,2014,2015,2016],\"xaxis\":\"x\",\"y\":[0.419784856,0.437479872,0.409495467,0.414583086,0.415130105,0.417997422,0.450194351,0.437653575,0.433110999,0.432005914,0.433908861,0.440910812,0.434114352,0.411113439,0.409364405,0.409479822,0.400907561,0.398918604,0.39180724,0.378044834,0.375892215,0.427294206,0.434487331,0.402307687,0.430243949,0.397469041,0.45522829,0.412750456,0.331445903,0.352820549,0.340459041,0.334522813,0.327303856,0.3185001,0.323674959,0.329902038,0.334626655],\"yaxis\":\"y\",\"type\":\"scattergl\"},{\"hovertemplate\":\"State=Texas<br>Year=%{x}<br>HuntLic=%{y}<extra></extra>\",\"legendgroup\":\"Texas\",\"line\":{\"color\":\"#00cc96\",\"dash\":\"solid\"},\"marker\":{\"symbol\":\"circle\"},\"mode\":\"lines\",\"name\":\"Texas\",\"showlegend\":true,\"x\":[1980,1981,1982,1983,1984,1985,1986,1987,1988,1989,1990,1991,1992,1993,1994,1995,1996,1997,1998,1999,2000,2001,2002,2003,2004,2005,2006,2007,2008,2009,2010,2011,2012,2013,2014,2015,2016],\"xaxis\":\"x\",\"y\":[0.286264124,0.284676609,0.299773471,0.300613717,0.288798761,0.280924667,0.283943025,0.291782915,0.293575677,0.29268647,0.283854783,0.275991564,0.281612531,0.282834482,0.279223236,0.279102177,0.273383709,0.246396327,0.24325623,0.239929816,0.237702247,0.237846556,0.235788988,0.235850535,0.232054764,0.231949972,0.22905937,0.239764975,0.243038896,0.242773226,0.245568978,0.233736703,0.229385027,0.229950358,0.226564062,0.231227034,0.234763821],\"yaxis\":\"y\",\"type\":\"scattergl\"},{\"hovertemplate\":\"State=Utah<br>Year=%{x}<br>HuntLic=%{y}<extra></extra>\",\"legendgroup\":\"Utah\",\"line\":{\"color\":\"#ab63fa\",\"dash\":\"solid\"},\"marker\":{\"symbol\":\"circle\"},\"mode\":\"lines\",\"name\":\"Utah\",\"showlegend\":true,\"x\":[1980,1981,1982,1983,1984,1985,1986,1987,1988,1989,1990,1991,1992,1993,1994,1995,1996,1997,1998,1999,2000,2001,2002,2003,2004,2005,2006,2007,2008,2009,2010,2011,2012,2013,2014,2015,2016],\"xaxis\":\"x\",\"y\":[0.499687583,0.448441138,0.452008154,0.45165213,0.423950592,0.423646057,0.420519082,0.412517032,0.427511852,0.421797532,0.444100444,0.436826252,0.467322029,0.488311347,0.43917376,0.442743579,0.429373194,0.462916345,0.438271184,0.412715452,0.382728464,0.333255746,0.305607295,0.30974556,0.300683355,0.303534166,0.30197552,0.291890417,0.309013567,0.305568163,0.316208029,0.343889922,0.348522242,0.346092062,0.337948274,0.334611099,0.338414036],\"yaxis\":\"y\",\"type\":\"scattergl\"},{\"hovertemplate\":\"State=Vermont<br>Year=%{x}<br>HuntLic=%{y}<extra></extra>\",\"legendgroup\":\"Vermont\",\"line\":{\"color\":\"#FFA15A\",\"dash\":\"solid\"},\"marker\":{\"symbol\":\"circle\"},\"mode\":\"lines\",\"name\":\"Vermont\",\"showlegend\":true,\"x\":[1980,1981,1982,1983,1984,1985,1986,1987,1988,1989,1990,1991,1992,1993,1994,1995,1996,1997,1998,1999,2000,2001,2002,2003,2004,2005,2006,2007,2008,2009,2010,2011,2012,2013,2014,2015,2016],\"xaxis\":\"x\",\"y\":[0.550518856,0.553408175,0.497994221,0.456075849,0.454659053,0.472447054,0.425215299,0.409235685,0.409449521,0.45847340599999997,0.45330247,0.471915693,0.478725745,0.47828338,0.471243686,0.486161577,0.491667307,0.498681755,0.523712565,0.542716415,0.565286567,0.542100831,0.524005267,0.516651379,0.522109258,0.515253515,0.491949862,0.469730412,0.486079163,0.496868882,0.496501896,0.518247136,0.523679161,0.519888639,0.49580806,0.515469202,0.511055219],\"yaxis\":\"y\",\"type\":\"scattergl\"},{\"hovertemplate\":\"State=Virginia<br>Year=%{x}<br>HuntLic=%{y}<extra></extra>\",\"legendgroup\":\"Virginia\",\"line\":{\"color\":\"#19d3f3\",\"dash\":\"solid\"},\"marker\":{\"symbol\":\"circle\"},\"mode\":\"lines\",\"name\":\"Virginia\",\"showlegend\":true,\"x\":[1980,1981,1982,1983,1984,1985,1986,1987,1988,1989,1990,1991,1992,1993,1994,1995,1996,1997,1998,1999,2000,2001,2002,2003,2004,2005,2006,2007,2008,2009,2010,2011,2012,2013,2014,2015,2016],\"xaxis\":\"x\",\"y\":[0.399867327,0.383645686,0.384544383,0.384418893,0.378099753,0.373755445,0.376648081,0.37881079,0.391450596,0.374009067,0.370273491,0.358518238,0.370747162,0.360868417,0.360729349,0.361807275,0.35797223,0.348931698,0.34110952,0.33509582,0.329072874,0.326274078,0.326103179,0.321882861,0.321961047,0.317388259,0.316065051,0.309503913,0.308146736,0.306384234,0.306998471,0.306517437,0.300814593,0.305060878,0.305037203,0.306653034,0.308196003],\"yaxis\":\"y\",\"type\":\"scattergl\"},{\"hovertemplate\":\"State=Washington<br>Year=%{x}<br>HuntLic=%{y}<extra></extra>\",\"legendgroup\":\"Washington\",\"line\":{\"color\":\"#FF6692\",\"dash\":\"solid\"},\"marker\":{\"symbol\":\"circle\"},\"mode\":\"lines\",\"name\":\"Washington\",\"showlegend\":true,\"x\":[1980,1981,1982,1983,1984,1985,1986,1987,1988,1989,1990,1991,1992,1993,1994,1995,1996,1997,1998,1999,2000,2001,2002,2003,2004,2005,2006,2007,2008,2009,2010,2011,2012,2013,2014,2015,2016],\"xaxis\":\"x\",\"y\":[0.46242996,0.457234743,0.435728387,0.418469674,0.413002849,0.396736027,0.375546042,0.3809378,0.373431895,0.367240388,0.367056447,0.366183817,0.355676579,0.361037817,0.350524177,0.374752236,0.337448072,0.323527741,0.317956188,0.355290818,0.264726274,0.241249871,0.359175125,0.377860774,0.355485272,0.37320676,0.373897906,0.37694193,0.350737366,0.340133537,0.334766312,0.335040577,0.331960793,0.323351963,0.305250428,0.305378638,0.302174518],\"yaxis\":\"y\",\"type\":\"scattergl\"},{\"hovertemplate\":\"State=West Virginia<br>Year=%{x}<br>HuntLic=%{y}<extra></extra>\",\"legendgroup\":\"West Virginia\",\"line\":{\"color\":\"#B6E880\",\"dash\":\"solid\"},\"marker\":{\"symbol\":\"circle\"},\"mode\":\"lines\",\"name\":\"West Virginia\",\"showlegend\":true,\"x\":[1980,1981,1982,1983,1984,1985,1986,1987,1988,1989,1990,1991,1992,1993,1994,1995,1996,1997,1998,1999,2000,2001,2002,2003,2004,2005,2006,2007,2008,2009,2010,2011,2012,2013,2014,2015,2016],\"xaxis\":\"x\",\"y\":[0.467465667,0.471059039,0.481047677,0.485040387,0.489468769,0.505099613,0.498888807,0.509668328,0.519726172,0.529754385,0.582425695,0.63153632,0.602886167,0.595788258,0.595320974,0.57827619,0.358493764,0.360380897,0.358855323,0.362768095,0.359140005,0.588163181,0.602828307,0.634315915,0.600996234,0.63288626,0.636814456,0.556043392,0.566249389,0.565104409,0.559022968,0.57224243,0.574174732,0.550876473,0.543744085,0.554362445,0.560737982],\"yaxis\":\"y\",\"type\":\"scattergl\"},{\"hovertemplate\":\"State=Wisconsin<br>Year=%{x}<br>HuntLic=%{y}<extra></extra>\",\"legendgroup\":\"Wisconsin\",\"line\":{\"color\":\"#FF97FF\",\"dash\":\"solid\"},\"marker\":{\"symbol\":\"circle\"},\"mode\":\"lines\",\"name\":\"Wisconsin\",\"showlegend\":true,\"x\":[1980,1981,1982,1983,1984,1985,1986,1987,1988,1989,1990,1991,1992,1993,1994,1995,1996,1997,1998,1999,2000,2001,2002,2003,2004,2005,2006,2007,2008,2009,2010,2011,2012,2013,2014,2015,2016],\"xaxis\":\"x\",\"y\":[0.486869774,0.499027212,0.508443655,0.511886103,0.514566754,0.558552853,0.541750071,0.533552884,0.537400722,0.535296211,0.549762205,0.585571876,0.596897768,0.597632049,0.573440835,0.584022639,0.617169878,0.597184325,0.587712446,0.685698244,0.691546704,0.710132511,0.673847748,0.686741868,0.669626727,0.682583505,0.71917788,0.730625241,0.719313189,0.717517634,0.694148943,0.70305196,0.710207485,0.697732688,0.689422292,0.699406523,0.695162831],\"yaxis\":\"y\",\"type\":\"scattergl\"},{\"hovertemplate\":\"State=Wyoming<br>Year=%{x}<br>HuntLic=%{y}<extra></extra>\",\"legendgroup\":\"Wyoming\",\"line\":{\"color\":\"#FECB52\",\"dash\":\"solid\"},\"marker\":{\"symbol\":\"circle\"},\"mode\":\"lines\",\"name\":\"Wyoming\",\"showlegend\":true,\"x\":[1980,1981,1982,1983,1984,1985,1986,1987,1988,1989,1990,1991,1992,1993,1994,1995,1996,1997,1998,1999,2000,2001,2002,2003,2004,2005,2006,2007,2008,2009,2010,2011,2012,2013,2014,2015,2016],\"xaxis\":\"x\",\"y\":[0.688648391,0.684807362,0.695012634,0.693938634,0.692101529,0.65814239,0.647696446,0.644987138,0.660766049,0.677543313,0.686254541,0.717733669,0.711832345,0.695136878,0.604462081,0.58741813,0.573147072,0.569589779,0.598688437,0.595545846,0.603309611,0.581297577,0.575253639,0.550976867,0.570095551,0.545211434,0.558646487,0.553576307,0.560387256,0.553433499,0.560767597,0.542044605,0.545626784,0.542697225,0.538760611,0.544356361,0.538438852],\"yaxis\":\"y\",\"type\":\"scattergl\"}],                        {\"template\":{\"data\":{\"bar\":[{\"error_x\":{\"color\":\"#2a3f5f\"},\"error_y\":{\"color\":\"#2a3f5f\"},\"marker\":{\"line\":{\"color\":\"#E5ECF6\",\"width\":0.5},\"pattern\":{\"fillmode\":\"overlay\",\"size\":10,\"solidity\":0.2}},\"type\":\"bar\"}],\"barpolar\":[{\"marker\":{\"line\":{\"color\":\"#E5ECF6\",\"width\":0.5},\"pattern\":{\"fillmode\":\"overlay\",\"size\":10,\"solidity\":0.2}},\"type\":\"barpolar\"}],\"carpet\":[{\"aaxis\":{\"endlinecolor\":\"#2a3f5f\",\"gridcolor\":\"white\",\"linecolor\":\"white\",\"minorgridcolor\":\"white\",\"startlinecolor\":\"#2a3f5f\"},\"baxis\":{\"endlinecolor\":\"#2a3f5f\",\"gridcolor\":\"white\",\"linecolor\":\"white\",\"minorgridcolor\":\"white\",\"startlinecolor\":\"#2a3f5f\"},\"type\":\"carpet\"}],\"choropleth\":[{\"colorbar\":{\"outlinewidth\":0,\"ticks\":\"\"},\"type\":\"choropleth\"}],\"contour\":[{\"colorbar\":{\"outlinewidth\":0,\"ticks\":\"\"},\"colorscale\":[[0.0,\"#0d0887\"],[0.1111111111111111,\"#46039f\"],[0.2222222222222222,\"#7201a8\"],[0.3333333333333333,\"#9c179e\"],[0.4444444444444444,\"#bd3786\"],[0.5555555555555556,\"#d8576b\"],[0.6666666666666666,\"#ed7953\"],[0.7777777777777778,\"#fb9f3a\"],[0.8888888888888888,\"#fdca26\"],[1.0,\"#f0f921\"]],\"type\":\"contour\"}],\"contourcarpet\":[{\"colorbar\":{\"outlinewidth\":0,\"ticks\":\"\"},\"type\":\"contourcarpet\"}],\"heatmap\":[{\"colorbar\":{\"outlinewidth\":0,\"ticks\":\"\"},\"colorscale\":[[0.0,\"#0d0887\"],[0.1111111111111111,\"#46039f\"],[0.2222222222222222,\"#7201a8\"],[0.3333333333333333,\"#9c179e\"],[0.4444444444444444,\"#bd3786\"],[0.5555555555555556,\"#d8576b\"],[0.6666666666666666,\"#ed7953\"],[0.7777777777777778,\"#fb9f3a\"],[0.8888888888888888,\"#fdca26\"],[1.0,\"#f0f921\"]],\"type\":\"heatmap\"}],\"heatmapgl\":[{\"colorbar\":{\"outlinewidth\":0,\"ticks\":\"\"},\"colorscale\":[[0.0,\"#0d0887\"],[0.1111111111111111,\"#46039f\"],[0.2222222222222222,\"#7201a8\"],[0.3333333333333333,\"#9c179e\"],[0.4444444444444444,\"#bd3786\"],[0.5555555555555556,\"#d8576b\"],[0.6666666666666666,\"#ed7953\"],[0.7777777777777778,\"#fb9f3a\"],[0.8888888888888888,\"#fdca26\"],[1.0,\"#f0f921\"]],\"type\":\"heatmapgl\"}],\"histogram\":[{\"marker\":{\"pattern\":{\"fillmode\":\"overlay\",\"size\":10,\"solidity\":0.2}},\"type\":\"histogram\"}],\"histogram2d\":[{\"colorbar\":{\"outlinewidth\":0,\"ticks\":\"\"},\"colorscale\":[[0.0,\"#0d0887\"],[0.1111111111111111,\"#46039f\"],[0.2222222222222222,\"#7201a8\"],[0.3333333333333333,\"#9c179e\"],[0.4444444444444444,\"#bd3786\"],[0.5555555555555556,\"#d8576b\"],[0.6666666666666666,\"#ed7953\"],[0.7777777777777778,\"#fb9f3a\"],[0.8888888888888888,\"#fdca26\"],[1.0,\"#f0f921\"]],\"type\":\"histogram2d\"}],\"histogram2dcontour\":[{\"colorbar\":{\"outlinewidth\":0,\"ticks\":\"\"},\"colorscale\":[[0.0,\"#0d0887\"],[0.1111111111111111,\"#46039f\"],[0.2222222222222222,\"#7201a8\"],[0.3333333333333333,\"#9c179e\"],[0.4444444444444444,\"#bd3786\"],[0.5555555555555556,\"#d8576b\"],[0.6666666666666666,\"#ed7953\"],[0.7777777777777778,\"#fb9f3a\"],[0.8888888888888888,\"#fdca26\"],[1.0,\"#f0f921\"]],\"type\":\"histogram2dcontour\"}],\"mesh3d\":[{\"colorbar\":{\"outlinewidth\":0,\"ticks\":\"\"},\"type\":\"mesh3d\"}],\"parcoords\":[{\"line\":{\"colorbar\":{\"outlinewidth\":0,\"ticks\":\"\"}},\"type\":\"parcoords\"}],\"pie\":[{\"automargin\":true,\"type\":\"pie\"}],\"scatter\":[{\"marker\":{\"colorbar\":{\"outlinewidth\":0,\"ticks\":\"\"}},\"type\":\"scatter\"}],\"scatter3d\":[{\"line\":{\"colorbar\":{\"outlinewidth\":0,\"ticks\":\"\"}},\"marker\":{\"colorbar\":{\"outlinewidth\":0,\"ticks\":\"\"}},\"type\":\"scatter3d\"}],\"scattercarpet\":[{\"marker\":{\"colorbar\":{\"outlinewidth\":0,\"ticks\":\"\"}},\"type\":\"scattercarpet\"}],\"scattergeo\":[{\"marker\":{\"colorbar\":{\"outlinewidth\":0,\"ticks\":\"\"}},\"type\":\"scattergeo\"}],\"scattergl\":[{\"marker\":{\"colorbar\":{\"outlinewidth\":0,\"ticks\":\"\"}},\"type\":\"scattergl\"}],\"scattermapbox\":[{\"marker\":{\"colorbar\":{\"outlinewidth\":0,\"ticks\":\"\"}},\"type\":\"scattermapbox\"}],\"scatterpolar\":[{\"marker\":{\"colorbar\":{\"outlinewidth\":0,\"ticks\":\"\"}},\"type\":\"scatterpolar\"}],\"scatterpolargl\":[{\"marker\":{\"colorbar\":{\"outlinewidth\":0,\"ticks\":\"\"}},\"type\":\"scatterpolargl\"}],\"scatterternary\":[{\"marker\":{\"colorbar\":{\"outlinewidth\":0,\"ticks\":\"\"}},\"type\":\"scatterternary\"}],\"surface\":[{\"colorbar\":{\"outlinewidth\":0,\"ticks\":\"\"},\"colorscale\":[[0.0,\"#0d0887\"],[0.1111111111111111,\"#46039f\"],[0.2222222222222222,\"#7201a8\"],[0.3333333333333333,\"#9c179e\"],[0.4444444444444444,\"#bd3786\"],[0.5555555555555556,\"#d8576b\"],[0.6666666666666666,\"#ed7953\"],[0.7777777777777778,\"#fb9f3a\"],[0.8888888888888888,\"#fdca26\"],[1.0,\"#f0f921\"]],\"type\":\"surface\"}],\"table\":[{\"cells\":{\"fill\":{\"color\":\"#EBF0F8\"},\"line\":{\"color\":\"white\"}},\"header\":{\"fill\":{\"color\":\"#C8D4E3\"},\"line\":{\"color\":\"white\"}},\"type\":\"table\"}]},\"layout\":{\"annotationdefaults\":{\"arrowcolor\":\"#2a3f5f\",\"arrowhead\":0,\"arrowwidth\":1},\"autotypenumbers\":\"strict\",\"coloraxis\":{\"colorbar\":{\"outlinewidth\":0,\"ticks\":\"\"}},\"colorscale\":{\"diverging\":[[0,\"#8e0152\"],[0.1,\"#c51b7d\"],[0.2,\"#de77ae\"],[0.3,\"#f1b6da\"],[0.4,\"#fde0ef\"],[0.5,\"#f7f7f7\"],[0.6,\"#e6f5d0\"],[0.7,\"#b8e186\"],[0.8,\"#7fbc41\"],[0.9,\"#4d9221\"],[1,\"#276419\"]],\"sequential\":[[0.0,\"#0d0887\"],[0.1111111111111111,\"#46039f\"],[0.2222222222222222,\"#7201a8\"],[0.3333333333333333,\"#9c179e\"],[0.4444444444444444,\"#bd3786\"],[0.5555555555555556,\"#d8576b\"],[0.6666666666666666,\"#ed7953\"],[0.7777777777777778,\"#fb9f3a\"],[0.8888888888888888,\"#fdca26\"],[1.0,\"#f0f921\"]],\"sequentialminus\":[[0.0,\"#0d0887\"],[0.1111111111111111,\"#46039f\"],[0.2222222222222222,\"#7201a8\"],[0.3333333333333333,\"#9c179e\"],[0.4444444444444444,\"#bd3786\"],[0.5555555555555556,\"#d8576b\"],[0.6666666666666666,\"#ed7953\"],[0.7777777777777778,\"#fb9f3a\"],[0.8888888888888888,\"#fdca26\"],[1.0,\"#f0f921\"]]},\"colorway\":[\"#636efa\",\"#EF553B\",\"#00cc96\",\"#ab63fa\",\"#FFA15A\",\"#19d3f3\",\"#FF6692\",\"#B6E880\",\"#FF97FF\",\"#FECB52\"],\"font\":{\"color\":\"#2a3f5f\"},\"geo\":{\"bgcolor\":\"white\",\"lakecolor\":\"white\",\"landcolor\":\"#E5ECF6\",\"showlakes\":true,\"showland\":true,\"subunitcolor\":\"white\"},\"hoverlabel\":{\"align\":\"left\"},\"hovermode\":\"closest\",\"mapbox\":{\"style\":\"light\"},\"paper_bgcolor\":\"white\",\"plot_bgcolor\":\"#E5ECF6\",\"polar\":{\"angularaxis\":{\"gridcolor\":\"white\",\"linecolor\":\"white\",\"ticks\":\"\"},\"bgcolor\":\"#E5ECF6\",\"radialaxis\":{\"gridcolor\":\"white\",\"linecolor\":\"white\",\"ticks\":\"\"}},\"scene\":{\"xaxis\":{\"backgroundcolor\":\"#E5ECF6\",\"gridcolor\":\"white\",\"gridwidth\":2,\"linecolor\":\"white\",\"showbackground\":true,\"ticks\":\"\",\"zerolinecolor\":\"white\"},\"yaxis\":{\"backgroundcolor\":\"#E5ECF6\",\"gridcolor\":\"white\",\"gridwidth\":2,\"linecolor\":\"white\",\"showbackground\":true,\"ticks\":\"\",\"zerolinecolor\":\"white\"},\"zaxis\":{\"backgroundcolor\":\"#E5ECF6\",\"gridcolor\":\"white\",\"gridwidth\":2,\"linecolor\":\"white\",\"showbackground\":true,\"ticks\":\"\",\"zerolinecolor\":\"white\"}},\"shapedefaults\":{\"line\":{\"color\":\"#2a3f5f\"}},\"ternary\":{\"aaxis\":{\"gridcolor\":\"white\",\"linecolor\":\"white\",\"ticks\":\"\"},\"baxis\":{\"gridcolor\":\"white\",\"linecolor\":\"white\",\"ticks\":\"\"},\"bgcolor\":\"#E5ECF6\",\"caxis\":{\"gridcolor\":\"white\",\"linecolor\":\"white\",\"ticks\":\"\"}},\"title\":{\"x\":0.05},\"xaxis\":{\"automargin\":true,\"gridcolor\":\"white\",\"linecolor\":\"white\",\"ticks\":\"\",\"title\":{\"standoff\":15},\"zerolinecolor\":\"white\",\"zerolinewidth\":2},\"yaxis\":{\"automargin\":true,\"gridcolor\":\"white\",\"linecolor\":\"white\",\"ticks\":\"\",\"title\":{\"standoff\":15},\"zerolinecolor\":\"white\",\"zerolinewidth\":2}}},\"xaxis\":{\"anchor\":\"y\",\"domain\":[0.0,1.0],\"title\":{\"text\":\"Year\"}},\"yaxis\":{\"anchor\":\"x\",\"domain\":[0.0,1.0],\"title\":{\"text\":\"HuntLic\"}},\"legend\":{\"title\":{\"text\":\"State\"},\"tracegroupgap\":0},\"margin\":{\"t\":60}},                        {\"responsive\": true}                    ).then(function(){\n",
       "                            \n",
       "var gd = document.getElementById('e4f20030-b726-4ca1-84e3-4ffd03241b78');\n",
       "var x = new MutationObserver(function (mutations, observer) {{\n",
       "        var display = window.getComputedStyle(gd).display;\n",
       "        if (!display || display === 'none') {{\n",
       "            console.log([gd, 'removed!']);\n",
       "            Plotly.purge(gd);\n",
       "            observer.disconnect();\n",
       "        }}\n",
       "}});\n",
       "\n",
       "// Listen for the removal of the full notebook cells\n",
       "var notebookContainer = gd.closest('#notebook-container');\n",
       "if (notebookContainer) {{\n",
       "    x.observe(notebookContainer, {childList: true});\n",
       "}}\n",
       "\n",
       "// Listen for the clearing of the current output cell\n",
       "var outputEl = gd.closest('.output');\n",
       "if (outputEl) {{\n",
       "    x.observe(outputEl, {childList: true});\n",
       "}}\n",
       "\n",
       "                        })                };                });            </script>        </div>"
      ]
     },
     "metadata": {},
     "output_type": "display_data"
    }
   ],
   "source": [
    "import plotly.express as px\n",
    "fig = px.line(own_df,x=\"Year\",y='HuntLic',color='State')\n",
    "fig.show()"
   ]
  },
  {
   "cell_type": "code",
   "execution_count": 66,
   "metadata": {
    "scrolled": true
   },
   "outputs": [
    {
     "data": {
      "image/png": "[encoded data removed]",
      "text/plain": [
       "<Figure size 432x288 with 2 Axes>"
      ]
     },
     "metadata": {
      "needs_background": "light"
     },
     "output_type": "display_data"
    }
   ],
   "source": [
    "#Look at the correlation between gun measures\n",
    "plt.rcParams[\"figure.figsize\"] = [6,4]\n",
    "matrix = own_df[['HuntLic','GunsAmmo','BackChk','avg_own_est']]\n",
    "corrMatrix = matrix.corr()\n",
    "sn.heatmap(corrMatrix, annot=True,cmap=\"RdBu\",vmax=1,vmin=-1)\n",
    "plt.show()"
   ]
  },
  {
   "cell_type": "code",
   "execution_count": 67,
   "metadata": {},
   "outputs": [
    {
     "name": "stderr",
     "output_type": "stream",
     "text": [
      "/Library/Frameworks/Python.framework/Versions/3.8/lib/python3.8/site-packages/pandas/core/indexing.py:1773: SettingWithCopyWarning:\n",
      "\n",
      "\n",
      "A value is trying to be set on a copy of a slice from a DataFrame.\n",
      "Try using .loc[row_indexer,col_indexer] = value instead\n",
      "\n",
      "See the caveats in the documentation: https://pandas.pydata.org/pandas-docs/stable/user_guide/indexing.html#returning-a-view-versus-a-copy\n",
      "\n"
     ]
    },
    {
     "data": {
      "application/vnd.plotly.v1+json": {
       "config": {
        "plotlyServerURL": "https://plot.ly"
       },
       "data": [
        {
         "hovertemplate": "variable=avg_own_est<br>Year=%{x}<br>value=%{y}<extra></extra>",
         "legendgroup": "avg_own_est",
         "line": {
          "color": "#636efa",
          "dash": "solid"
         },
         "marker": {
          "symbol": "circle"
         },
         "mode": "lines",
         "name": "avg_own_est",
         "orientation": "v",
         "showlegend": true,
         "type": "scatter",
         "x": [
          1980,
          1981,
          1982,
          1983,
          1984,
          1985,
          1986,
          1987,
          1988,
          1989,
          1990,
          1991,
          1992,
          1993,
          1994,
          1995,
          1996,
          1997,
          1998,
          1999,
          2000,
          2001,
          2002,
          2003,
          2004,
          2005,
          2006,
          2007,
          2008,
          2009,
          2010,
          2011,
          2012,
          2013,
          2014,
          2015,
          2016
         ],
         "xaxis": "x",
         "y": [
          0.5939160843038601,
          null,
          0.5614260706089378,
          0.562869410299758,
          0.563834637851678,
          0.5664840027461922,
          0.5529418041763712,
          0.5305234677284623,
          0.6364154988011667,
          0.6507302389926318,
          0.6148669871300197,
          0.6248438758632385,
          null,
          0.5953892649658113,
          0.5075727986784797,
          null,
          0.5034326023958401,
          0.5270858106758115,
          0.4320871268302915,
          0.4764793385042067,
          0.5215360427606033,
          0.4309176610160448,
          0.42924361072255607,
          0.4588672867768402,
          0.4564476960780762,
          null,
          0.38809609426045394,
          0.49013879950663397,
          0.4004554848250613,
          0.4859469147118806,
          0.4363349749987013,
          0.48788057895918047,
          0.5099556682297492,
          0.5785182734121526,
          0.36314345714283064,
          0.5234753180944824,
          0.5269560688095128
         ],
         "yaxis": "y"
        },
        {
         "hovertemplate": "variable=GunsAmmo<br>Year=%{x}<br>value=%{y}<extra></extra>",
         "legendgroup": "GunsAmmo",
         "line": {
          "color": "#EF553B",
          "dash": "solid"
         },
         "marker": {
          "symbol": "circle"
         },
         "mode": "lines",
         "name": "GunsAmmo",
         "orientation": "v",
         "showlegend": true,
         "type": "scatter",
         "x": [
          1980,
          1981,
          1982,
          1983,
          1984,
          1985,
          1986,
          1987,
          1988,
          1989,
          1990,
          1991,
          1992,
          1993,
          1994,
          1995,
          1996,
          1997,
          1998,
          1999,
          2000,
          2001,
          2002,
          2003,
          2004,
          2005,
          2006,
          2007,
          2008,
          2009,
          2010,
          2011,
          2012,
          2013,
          2014,
          2015,
          2016
         ],
         "xaxis": "x",
         "y": [
          0.4683739391625585,
          0.46837393917066544,
          0.4683739391679631,
          0.468373939149047,
          0.4683739391598562,
          0.46837393915445164,
          0.4683739391652608,
          0.46837393915445164,
          0.4683739391598562,
          0.4683739391598562,
          0.4683739391652608,
          0.4683739391517493,
          0.46837393915445164,
          0.4683739391517493,
          0.46837393915445164,
          0.4683739391625585,
          0.4683739391598562,
          0.4683739391598562,
          0.4683739391652608,
          0.46837393915445164,
          0.46837393915715386,
          0.4683739391463447,
          0.4683739391652608,
          0.4683739391598562,
          0.4683739391598562,
          0.4683739391652608,
          0.4683739391625585,
          0.4683739391625585,
          0.4683739391517493,
          0.46837393915715386,
          0.46837393915445164,
          0.46837393915715386,
          0.46837393915445164,
          0.4683739391652608,
          0.4683739391652608,
          0.46837393915715386,
          0.46837393915715386
         ],
         "yaxis": "y"
        },
        {
         "hovertemplate": "variable=BackChk<br>Year=%{x}<br>value=%{y}<extra></extra>",
         "legendgroup": "BackChk",
         "line": {
          "color": "#00cc96",
          "dash": "solid"
         },
         "marker": {
          "symbol": "circle"
         },
         "mode": "lines",
         "name": "BackChk",
         "orientation": "v",
         "showlegend": true,
         "type": "scatter",
         "x": [
          1980,
          1981,
          1982,
          1983,
          1984,
          1985,
          1986,
          1987,
          1988,
          1989,
          1990,
          1991,
          1992,
          1993,
          1994,
          1995,
          1996,
          1997,
          1998,
          1999,
          2000,
          2001,
          2002,
          2003,
          2004,
          2005,
          2006,
          2007,
          2008,
          2009,
          2010,
          2011,
          2012,
          2013,
          2014,
          2015,
          2016
         ],
         "xaxis": "x",
         "y": [
          null,
          null,
          null,
          null,
          null,
          null,
          null,
          null,
          null,
          null,
          null,
          null,
          null,
          null,
          null,
          null,
          null,
          null,
          null,
          0.3752139987868506,
          0.3752139988045595,
          0.3752139987868506,
          0.3752139988001323,
          0.3752139987868506,
          0.37521399877799616,
          0.37521399878242334,
          0.3752139987824234,
          0.3752139988089867,
          0.3752139988001323,
          0.3752139987868506,
          0.37521399877799616,
          0.3752139988001323,
          0.3752139987957051,
          0.37521399877799616,
          0.37521399879570505,
          0.3752139988001323,
          0.37521399879127787
         ],
         "yaxis": "y"
        }
       ],
       "layout": {
        "legend": {
         "title": {
          "text": "variable"
         },
         "tracegroupgap": 0
        },
        "margin": {
         "t": 60
        },
        "template": {
         "data": {
          "bar": [
           {
            "error_x": {
             "color": "#2a3f5f"
            },
            "error_y": {
             "color": "#2a3f5f"
            },
            "marker": {
             "line": {
              "color": "#E5ECF6",
              "width": 0.5
             },
             "pattern": {
              "fillmode": "overlay",
              "size": 10,
              "solidity": 0.2
             }
            },
            "type": "bar"
           }
          ],
          "barpolar": [
           {
            "marker": {
             "line": {
              "color": "#E5ECF6",
              "width": 0.5
             },
             "pattern": {
              "fillmode": "overlay",
              "size": 10,
              "solidity": 0.2
             }
            },
            "type": "barpolar"
           }
          ],
          "carpet": [
           {
            "aaxis": {
             "endlinecolor": "#2a3f5f",
             "gridcolor": "white",
             "linecolor": "white",
             "minorgridcolor": "white",
             "startlinecolor": "#2a3f5f"
            },
            "baxis": {
             "endlinecolor": "#2a3f5f",
             "gridcolor": "white",
             "linecolor": "white",
             "minorgridcolor": "white",
             "startlinecolor": "#2a3f5f"
            },
            "type": "carpet"
           }
          ],
          "choropleth": [
           {
            "colorbar": {
             "outlinewidth": 0,
             "ticks": ""
            },
            "type": "choropleth"
           }
          ],
          "contour": [
           {
            "colorbar": {
             "outlinewidth": 0,
             "ticks": ""
            },
            "colorscale": [
             [
              0,
              "#0d0887"
             ],
             [
              0.1111111111111111,
              "#46039f"
             ],
             [
              0.2222222222222222,
              "#7201a8"
             ],
             [
              0.3333333333333333,
              "#9c179e"
             ],
             [
              0.4444444444444444,
              "#bd3786"
             ],
             [
              0.5555555555555556,
              "#d8576b"
             ],
             [
              0.6666666666666666,
              "#ed7953"
             ],
             [
              0.7777777777777778,
              "#fb9f3a"
             ],
             [
              0.8888888888888888,
              "#fdca26"
             ],
             [
              1,
              "#f0f921"
             ]
            ],
            "type": "contour"
           }
          ],
          "contourcarpet": [
           {
            "colorbar": {
             "outlinewidth": 0,
             "ticks": ""
            },
            "type": "contourcarpet"
           }
          ],
          "heatmap": [
           {
            "colorbar": {
             "outlinewidth": 0,
             "ticks": ""
            },
            "colorscale": [
             [
              0,
              "#0d0887"
             ],
             [
              0.1111111111111111,
              "#46039f"
             ],
             [
              0.2222222222222222,
              "#7201a8"
             ],
             [
              0.3333333333333333,
              "#9c179e"
             ],
             [
              0.4444444444444444,
              "#bd3786"
             ],
             [
              0.5555555555555556,
              "#d8576b"
             ],
             [
              0.6666666666666666,
              "#ed7953"
             ],
             [
              0.7777777777777778,
              "#fb9f3a"
             ],
             [
              0.8888888888888888,
              "#fdca26"
             ],
             [
              1,
              "#f0f921"
             ]
            ],
            "type": "heatmap"
           }
          ],
          "heatmapgl": [
           {
            "colorbar": {
             "outlinewidth": 0,
             "ticks": ""
            },
            "colorscale": [
             [
              0,
              "#0d0887"
             ],
             [
              0.1111111111111111,
              "#46039f"
             ],
             [
              0.2222222222222222,
              "#7201a8"
             ],
             [
              0.3333333333333333,
              "#9c179e"
             ],
             [
              0.4444444444444444,
              "#bd3786"
             ],
             [
              0.5555555555555556,
              "#d8576b"
             ],
             [
              0.6666666666666666,
              "#ed7953"
             ],
             [
              0.7777777777777778,
              "#fb9f3a"
             ],
             [
              0.8888888888888888,
              "#fdca26"
             ],
             [
              1,
              "#f0f921"
             ]
            ],
            "type": "heatmapgl"
           }
          ],
          "histogram": [
           {
            "marker": {
             "pattern": {
              "fillmode": "overlay",
              "size": 10,
              "solidity": 0.2
             }
            },
            "type": "histogram"
           }
          ],
          "histogram2d": [
           {
            "colorbar": {
             "outlinewidth": 0,
             "ticks": ""
            },
            "colorscale": [
             [
              0,
              "#0d0887"
             ],
             [
              0.1111111111111111,
              "#46039f"
             ],
             [
              0.2222222222222222,
              "#7201a8"
             ],
             [
              0.3333333333333333,
              "#9c179e"
             ],
             [
              0.4444444444444444,
              "#bd3786"
             ],
             [
              0.5555555555555556,
              "#d8576b"
             ],
             [
              0.6666666666666666,
              "#ed7953"
             ],
             [
              0.7777777777777778,
              "#fb9f3a"
             ],
             [
              0.8888888888888888,
              "#fdca26"
             ],
             [
              1,
              "#f0f921"
             ]
            ],
            "type": "histogram2d"
           }
          ],
          "histogram2dcontour": [
           {
            "colorbar": {
             "outlinewidth": 0,
             "ticks": ""
            },
            "colorscale": [
             [
              0,
              "#0d0887"
             ],
             [
              0.1111111111111111,
              "#46039f"
             ],
             [
              0.2222222222222222,
              "#7201a8"
             ],
             [
              0.3333333333333333,
              "#9c179e"
             ],
             [
              0.4444444444444444,
              "#bd3786"
             ],
             [
              0.5555555555555556,
              "#d8576b"
             ],
             [
              0.6666666666666666,
              "#ed7953"
             ],
             [
              0.7777777777777778,
              "#fb9f3a"
             ],
             [
              0.8888888888888888,
              "#fdca26"
             ],
             [
              1,
              "#f0f921"
             ]
            ],
            "type": "histogram2dcontour"
           }
          ],
          "mesh3d": [
           {
            "colorbar": {
             "outlinewidth": 0,
             "ticks": ""
            },
            "type": "mesh3d"
           }
          ],
          "parcoords": [
           {
            "line": {
             "colorbar": {
              "outlinewidth": 0,
              "ticks": ""
             }
            },
            "type": "parcoords"
           }
          ],
          "pie": [
           {
            "automargin": true,
            "type": "pie"
           }
          ],
          "scatter": [
           {
            "marker": {
             "colorbar": {
              "outlinewidth": 0,
              "ticks": ""
             }
            },
            "type": "scatter"
           }
          ],
          "scatter3d": [
           {
            "line": {
             "colorbar": {
              "outlinewidth": 0,
              "ticks": ""
             }
            },
            "marker": {
             "colorbar": {
              "outlinewidth": 0,
              "ticks": ""
             }
            },
            "type": "scatter3d"
           }
          ],
          "scattercarpet": [
           {
            "marker": {
             "colorbar": {
              "outlinewidth": 0,
              "ticks": ""
             }
            },
            "type": "scattercarpet"
           }
          ],
          "scattergeo": [
           {
            "marker": {
             "colorbar": {
              "outlinewidth": 0,
              "ticks": ""
             }
            },
            "type": "scattergeo"
           }
          ],
          "scattergl": [
           {
            "marker": {
             "colorbar": {
              "outlinewidth": 0,
              "ticks": ""
             }
            },
            "type": "scattergl"
           }
          ],
          "scattermapbox": [
           {
            "marker": {
             "colorbar": {
              "outlinewidth": 0,
              "ticks": ""
             }
            },
            "type": "scattermapbox"
           }
          ],
          "scatterpolar": [
           {
            "marker": {
             "colorbar": {
              "outlinewidth": 0,
              "ticks": ""
             }
            },
            "type": "scatterpolar"
           }
          ],
          "scatterpolargl": [
           {
            "marker": {
             "colorbar": {
              "outlinewidth": 0,
              "ticks": ""
             }
            },
            "type": "scatterpolargl"
           }
          ],
          "scatterternary": [
           {
            "marker": {
             "colorbar": {
              "outlinewidth": 0,
              "ticks": ""
             }
            },
            "type": "scatterternary"
           }
          ],
          "surface": [
           {
            "colorbar": {
             "outlinewidth": 0,
             "ticks": ""
            },
            "colorscale": [
             [
              0,
              "#0d0887"
             ],
             [
              0.1111111111111111,
              "#46039f"
             ],
             [
              0.2222222222222222,
              "#7201a8"
             ],
             [
              0.3333333333333333,
              "#9c179e"
             ],
             [
              0.4444444444444444,
              "#bd3786"
             ],
             [
              0.5555555555555556,
              "#d8576b"
             ],
             [
              0.6666666666666666,
              "#ed7953"
             ],
             [
              0.7777777777777778,
              "#fb9f3a"
             ],
             [
              0.8888888888888888,
              "#fdca26"
             ],
             [
              1,
              "#f0f921"
             ]
            ],
            "type": "surface"
           }
          ],
          "table": [
           {
            "cells": {
             "fill": {
              "color": "#EBF0F8"
             },
             "line": {
              "color": "white"
             }
            },
            "header": {
             "fill": {
              "color": "#C8D4E3"
             },
             "line": {
              "color": "white"
             }
            },
            "type": "table"
           }
          ]
         },
         "layout": {
          "annotationdefaults": {
           "arrowcolor": "#2a3f5f",
           "arrowhead": 0,
           "arrowwidth": 1
          },
          "autotypenumbers": "strict",
          "coloraxis": {
           "colorbar": {
            "outlinewidth": 0,
            "ticks": ""
           }
          },
          "colorscale": {
           "diverging": [
            [
             0,
             "#8e0152"
            ],
            [
             0.1,
             "#c51b7d"
            ],
            [
             0.2,
             "#de77ae"
            ],
            [
             0.3,
             "#f1b6da"
            ],
            [
             0.4,
             "#fde0ef"
            ],
            [
             0.5,
             "#f7f7f7"
            ],
            [
             0.6,
             "#e6f5d0"
            ],
            [
             0.7,
             "#b8e186"
            ],
            [
             0.8,
             "#7fbc41"
            ],
            [
             0.9,
             "#4d9221"
            ],
            [
             1,
             "#276419"
            ]
           ],
           "sequential": [
            [
             0,
             "#0d0887"
            ],
            [
             0.1111111111111111,
             "#46039f"
            ],
            [
             0.2222222222222222,
             "#7201a8"
            ],
            [
             0.3333333333333333,
             "#9c179e"
            ],
            [
             0.4444444444444444,
             "#bd3786"
            ],
            [
             0.5555555555555556,
             "#d8576b"
            ],
            [
             0.6666666666666666,
             "#ed7953"
            ],
            [
             0.7777777777777778,
             "#fb9f3a"
            ],
            [
             0.8888888888888888,
             "#fdca26"
            ],
            [
             1,
             "#f0f921"
            ]
           ],
           "sequentialminus": [
            [
             0,
             "#0d0887"
            ],
            [
             0.1111111111111111,
             "#46039f"
            ],
            [
             0.2222222222222222,
             "#7201a8"
            ],
            [
             0.3333333333333333,
             "#9c179e"
            ],
            [
             0.4444444444444444,
             "#bd3786"
            ],
            [
             0.5555555555555556,
             "#d8576b"
            ],
            [
             0.6666666666666666,
             "#ed7953"
            ],
            [
             0.7777777777777778,
             "#fb9f3a"
            ],
            [
             0.8888888888888888,
             "#fdca26"
            ],
            [
             1,
             "#f0f921"
            ]
           ]
          },
          "colorway": [
           "#636efa",
           "#EF553B",
           "#00cc96",
           "#ab63fa",
           "#FFA15A",
           "#19d3f3",
           "#FF6692",
           "#B6E880",
           "#FF97FF",
           "#FECB52"
          ],
          "font": {
           "color": "#2a3f5f"
          },
          "geo": {
           "bgcolor": "white",
           "lakecolor": "white",
           "landcolor": "#E5ECF6",
           "showlakes": true,
           "showland": true,
           "subunitcolor": "white"
          },
          "hoverlabel": {
           "align": "left"
          },
          "hovermode": "closest",
          "mapbox": {
           "style": "light"
          },
          "paper_bgcolor": "white",
          "plot_bgcolor": "#E5ECF6",
          "polar": {
           "angularaxis": {
            "gridcolor": "white",
            "linecolor": "white",
            "ticks": ""
           },
           "bgcolor": "#E5ECF6",
           "radialaxis": {
            "gridcolor": "white",
            "linecolor": "white",
            "ticks": ""
           }
          },
          "scene": {
           "xaxis": {
            "backgroundcolor": "#E5ECF6",
            "gridcolor": "white",
            "gridwidth": 2,
            "linecolor": "white",
            "showbackground": true,
            "ticks": "",
            "zerolinecolor": "white"
           },
           "yaxis": {
            "backgroundcolor": "#E5ECF6",
            "gridcolor": "white",
            "gridwidth": 2,
            "linecolor": "white",
            "showbackground": true,
            "ticks": "",
            "zerolinecolor": "white"
           },
           "zaxis": {
            "backgroundcolor": "#E5ECF6",
            "gridcolor": "white",
            "gridwidth": 2,
            "linecolor": "white",
            "showbackground": true,
            "ticks": "",
            "zerolinecolor": "white"
           }
          },
          "shapedefaults": {
           "line": {
            "color": "#2a3f5f"
           }
          },
          "ternary": {
           "aaxis": {
            "gridcolor": "white",
            "linecolor": "white",
            "ticks": ""
           },
           "baxis": {
            "gridcolor": "white",
            "linecolor": "white",
            "ticks": ""
           },
           "bgcolor": "#E5ECF6",
           "caxis": {
            "gridcolor": "white",
            "linecolor": "white",
            "ticks": ""
           }
          },
          "title": {
           "x": 0.05
          },
          "xaxis": {
           "automargin": true,
           "gridcolor": "white",
           "linecolor": "white",
           "ticks": "",
           "title": {
            "standoff": 15
           },
           "zerolinecolor": "white",
           "zerolinewidth": 2
          },
          "yaxis": {
           "automargin": true,
           "gridcolor": "white",
           "linecolor": "white",
           "ticks": "",
           "title": {
            "standoff": 15
           },
           "zerolinecolor": "white",
           "zerolinewidth": 2
          }
         }
        },
        "xaxis": {
         "anchor": "y",
         "domain": [
          0,
          1
         ],
         "title": {
          "text": "Year"
         }
        },
        "yaxis": {
         "anchor": "x",
         "domain": [
          0,
          1
         ],
         "title": {
          "text": "value"
         }
        }
       }
      },
      "text/html": [
       "<div>                            <div id=\"5936835e-c8f6-420f-b00d-f0c576b432a2\" class=\"plotly-graph-div\" style=\"height:525px; width:100%;\"></div>            <script type=\"text/javascript\">                require([\"plotly\"], function(Plotly) {                    window.PLOTLYENV=window.PLOTLYENV || {};                                    if (document.getElementById(\"5936835e-c8f6-420f-b00d-f0c576b432a2\")) {                    Plotly.newPlot(                        \"5936835e-c8f6-420f-b00d-f0c576b432a2\",                        [{\"hovertemplate\":\"variable=avg_own_est<br>Year=%{x}<br>value=%{y}<extra></extra>\",\"legendgroup\":\"avg_own_est\",\"line\":{\"color\":\"#636efa\",\"dash\":\"solid\"},\"marker\":{\"symbol\":\"circle\"},\"mode\":\"lines\",\"name\":\"avg_own_est\",\"orientation\":\"v\",\"showlegend\":true,\"x\":[1980,1981,1982,1983,1984,1985,1986,1987,1988,1989,1990,1991,1992,1993,1994,1995,1996,1997,1998,1999,2000,2001,2002,2003,2004,2005,2006,2007,2008,2009,2010,2011,2012,2013,2014,2015,2016],\"xaxis\":\"x\",\"y\":[0.5939160843038601,null,0.5614260706089378,0.562869410299758,0.563834637851678,0.5664840027461922,0.5529418041763712,0.5305234677284623,0.6364154988011667,0.6507302389926318,0.6148669871300197,0.6248438758632385,null,0.5953892649658113,0.5075727986784797,null,0.5034326023958401,0.5270858106758115,0.4320871268302915,0.4764793385042067,0.5215360427606033,0.4309176610160448,0.42924361072255607,0.4588672867768402,0.4564476960780762,null,0.38809609426045394,0.49013879950663397,0.4004554848250613,0.4859469147118806,0.4363349749987013,0.48788057895918047,0.5099556682297492,0.5785182734121526,0.36314345714283064,0.5234753180944824,0.5269560688095128],\"yaxis\":\"y\",\"type\":\"scatter\"},{\"hovertemplate\":\"variable=GunsAmmo<br>Year=%{x}<br>value=%{y}<extra></extra>\",\"legendgroup\":\"GunsAmmo\",\"line\":{\"color\":\"#EF553B\",\"dash\":\"solid\"},\"marker\":{\"symbol\":\"circle\"},\"mode\":\"lines\",\"name\":\"GunsAmmo\",\"orientation\":\"v\",\"showlegend\":true,\"x\":[1980,1981,1982,1983,1984,1985,1986,1987,1988,1989,1990,1991,1992,1993,1994,1995,1996,1997,1998,1999,2000,2001,2002,2003,2004,2005,2006,2007,2008,2009,2010,2011,2012,2013,2014,2015,2016],\"xaxis\":\"x\",\"y\":[0.4683739391625585,0.46837393917066544,0.4683739391679631,0.468373939149047,0.4683739391598562,0.46837393915445164,0.4683739391652608,0.46837393915445164,0.4683739391598562,0.4683739391598562,0.4683739391652608,0.4683739391517493,0.46837393915445164,0.4683739391517493,0.46837393915445164,0.4683739391625585,0.4683739391598562,0.4683739391598562,0.4683739391652608,0.46837393915445164,0.46837393915715386,0.4683739391463447,0.4683739391652608,0.4683739391598562,0.4683739391598562,0.4683739391652608,0.4683739391625585,0.4683739391625585,0.4683739391517493,0.46837393915715386,0.46837393915445164,0.46837393915715386,0.46837393915445164,0.4683739391652608,0.4683739391652608,0.46837393915715386,0.46837393915715386],\"yaxis\":\"y\",\"type\":\"scatter\"},{\"hovertemplate\":\"variable=BackChk<br>Year=%{x}<br>value=%{y}<extra></extra>\",\"legendgroup\":\"BackChk\",\"line\":{\"color\":\"#00cc96\",\"dash\":\"solid\"},\"marker\":{\"symbol\":\"circle\"},\"mode\":\"lines\",\"name\":\"BackChk\",\"orientation\":\"v\",\"showlegend\":true,\"x\":[1980,1981,1982,1983,1984,1985,1986,1987,1988,1989,1990,1991,1992,1993,1994,1995,1996,1997,1998,1999,2000,2001,2002,2003,2004,2005,2006,2007,2008,2009,2010,2011,2012,2013,2014,2015,2016],\"xaxis\":\"x\",\"y\":[null,null,null,null,null,null,null,null,null,null,null,null,null,null,null,null,null,null,null,0.3752139987868506,0.3752139988045595,0.3752139987868506,0.3752139988001323,0.3752139987868506,0.37521399877799616,0.37521399878242334,0.3752139987824234,0.3752139988089867,0.3752139988001323,0.3752139987868506,0.37521399877799616,0.3752139988001323,0.3752139987957051,0.37521399877799616,0.37521399879570505,0.3752139988001323,0.37521399879127787],\"yaxis\":\"y\",\"type\":\"scatter\"}],                        {\"template\":{\"data\":{\"bar\":[{\"error_x\":{\"color\":\"#2a3f5f\"},\"error_y\":{\"color\":\"#2a3f5f\"},\"marker\":{\"line\":{\"color\":\"#E5ECF6\",\"width\":0.5},\"pattern\":{\"fillmode\":\"overlay\",\"size\":10,\"solidity\":0.2}},\"type\":\"bar\"}],\"barpolar\":[{\"marker\":{\"line\":{\"color\":\"#E5ECF6\",\"width\":0.5},\"pattern\":{\"fillmode\":\"overlay\",\"size\":10,\"solidity\":0.2}},\"type\":\"barpolar\"}],\"carpet\":[{\"aaxis\":{\"endlinecolor\":\"#2a3f5f\",\"gridcolor\":\"white\",\"linecolor\":\"white\",\"minorgridcolor\":\"white\",\"startlinecolor\":\"#2a3f5f\"},\"baxis\":{\"endlinecolor\":\"#2a3f5f\",\"gridcolor\":\"white\",\"linecolor\":\"white\",\"minorgridcolor\":\"white\",\"startlinecolor\":\"#2a3f5f\"},\"type\":\"carpet\"}],\"choropleth\":[{\"colorbar\":{\"outlinewidth\":0,\"ticks\":\"\"},\"type\":\"choropleth\"}],\"contour\":[{\"colorbar\":{\"outlinewidth\":0,\"ticks\":\"\"},\"colorscale\":[[0.0,\"#0d0887\"],[0.1111111111111111,\"#46039f\"],[0.2222222222222222,\"#7201a8\"],[0.3333333333333333,\"#9c179e\"],[0.4444444444444444,\"#bd3786\"],[0.5555555555555556,\"#d8576b\"],[0.6666666666666666,\"#ed7953\"],[0.7777777777777778,\"#fb9f3a\"],[0.8888888888888888,\"#fdca26\"],[1.0,\"#f0f921\"]],\"type\":\"contour\"}],\"contourcarpet\":[{\"colorbar\":{\"outlinewidth\":0,\"ticks\":\"\"},\"type\":\"contourcarpet\"}],\"heatmap\":[{\"colorbar\":{\"outlinewidth\":0,\"ticks\":\"\"},\"colorscale\":[[0.0,\"#0d0887\"],[0.1111111111111111,\"#46039f\"],[0.2222222222222222,\"#7201a8\"],[0.3333333333333333,\"#9c179e\"],[0.4444444444444444,\"#bd3786\"],[0.5555555555555556,\"#d8576b\"],[0.6666666666666666,\"#ed7953\"],[0.7777777777777778,\"#fb9f3a\"],[0.8888888888888888,\"#fdca26\"],[1.0,\"#f0f921\"]],\"type\":\"heatmap\"}],\"heatmapgl\":[{\"colorbar\":{\"outlinewidth\":0,\"ticks\":\"\"},\"colorscale\":[[0.0,\"#0d0887\"],[0.1111111111111111,\"#46039f\"],[0.2222222222222222,\"#7201a8\"],[0.3333333333333333,\"#9c179e\"],[0.4444444444444444,\"#bd3786\"],[0.5555555555555556,\"#d8576b\"],[0.6666666666666666,\"#ed7953\"],[0.7777777777777778,\"#fb9f3a\"],[0.8888888888888888,\"#fdca26\"],[1.0,\"#f0f921\"]],\"type\":\"heatmapgl\"}],\"histogram\":[{\"marker\":{\"pattern\":{\"fillmode\":\"overlay\",\"size\":10,\"solidity\":0.2}},\"type\":\"histogram\"}],\"histogram2d\":[{\"colorbar\":{\"outlinewidth\":0,\"ticks\":\"\"},\"colorscale\":[[0.0,\"#0d0887\"],[0.1111111111111111,\"#46039f\"],[0.2222222222222222,\"#7201a8\"],[0.3333333333333333,\"#9c179e\"],[0.4444444444444444,\"#bd3786\"],[0.5555555555555556,\"#d8576b\"],[0.6666666666666666,\"#ed7953\"],[0.7777777777777778,\"#fb9f3a\"],[0.8888888888888888,\"#fdca26\"],[1.0,\"#f0f921\"]],\"type\":\"histogram2d\"}],\"histogram2dcontour\":[{\"colorbar\":{\"outlinewidth\":0,\"ticks\":\"\"},\"colorscale\":[[0.0,\"#0d0887\"],[0.1111111111111111,\"#46039f\"],[0.2222222222222222,\"#7201a8\"],[0.3333333333333333,\"#9c179e\"],[0.4444444444444444,\"#bd3786\"],[0.5555555555555556,\"#d8576b\"],[0.6666666666666666,\"#ed7953\"],[0.7777777777777778,\"#fb9f3a\"],[0.8888888888888888,\"#fdca26\"],[1.0,\"#f0f921\"]],\"type\":\"histogram2dcontour\"}],\"mesh3d\":[{\"colorbar\":{\"outlinewidth\":0,\"ticks\":\"\"},\"type\":\"mesh3d\"}],\"parcoords\":[{\"line\":{\"colorbar\":{\"outlinewidth\":0,\"ticks\":\"\"}},\"type\":\"parcoords\"}],\"pie\":[{\"automargin\":true,\"type\":\"pie\"}],\"scatter\":[{\"marker\":{\"colorbar\":{\"outlinewidth\":0,\"ticks\":\"\"}},\"type\":\"scatter\"}],\"scatter3d\":[{\"line\":{\"colorbar\":{\"outlinewidth\":0,\"ticks\":\"\"}},\"marker\":{\"colorbar\":{\"outlinewidth\":0,\"ticks\":\"\"}},\"type\":\"scatter3d\"}],\"scattercarpet\":[{\"marker\":{\"colorbar\":{\"outlinewidth\":0,\"ticks\":\"\"}},\"type\":\"scattercarpet\"}],\"scattergeo\":[{\"marker\":{\"colorbar\":{\"outlinewidth\":0,\"ticks\":\"\"}},\"type\":\"scattergeo\"}],\"scattergl\":[{\"marker\":{\"colorbar\":{\"outlinewidth\":0,\"ticks\":\"\"}},\"type\":\"scattergl\"}],\"scattermapbox\":[{\"marker\":{\"colorbar\":{\"outlinewidth\":0,\"ticks\":\"\"}},\"type\":\"scattermapbox\"}],\"scatterpolar\":[{\"marker\":{\"colorbar\":{\"outlinewidth\":0,\"ticks\":\"\"}},\"type\":\"scatterpolar\"}],\"scatterpolargl\":[{\"marker\":{\"colorbar\":{\"outlinewidth\":0,\"ticks\":\"\"}},\"type\":\"scatterpolargl\"}],\"scatterternary\":[{\"marker\":{\"colorbar\":{\"outlinewidth\":0,\"ticks\":\"\"}},\"type\":\"scatterternary\"}],\"surface\":[{\"colorbar\":{\"outlinewidth\":0,\"ticks\":\"\"},\"colorscale\":[[0.0,\"#0d0887\"],[0.1111111111111111,\"#46039f\"],[0.2222222222222222,\"#7201a8\"],[0.3333333333333333,\"#9c179e\"],[0.4444444444444444,\"#bd3786\"],[0.5555555555555556,\"#d8576b\"],[0.6666666666666666,\"#ed7953\"],[0.7777777777777778,\"#fb9f3a\"],[0.8888888888888888,\"#fdca26\"],[1.0,\"#f0f921\"]],\"type\":\"surface\"}],\"table\":[{\"cells\":{\"fill\":{\"color\":\"#EBF0F8\"},\"line\":{\"color\":\"white\"}},\"header\":{\"fill\":{\"color\":\"#C8D4E3\"},\"line\":{\"color\":\"white\"}},\"type\":\"table\"}]},\"layout\":{\"annotationdefaults\":{\"arrowcolor\":\"#2a3f5f\",\"arrowhead\":0,\"arrowwidth\":1},\"autotypenumbers\":\"strict\",\"coloraxis\":{\"colorbar\":{\"outlinewidth\":0,\"ticks\":\"\"}},\"colorscale\":{\"diverging\":[[0,\"#8e0152\"],[0.1,\"#c51b7d\"],[0.2,\"#de77ae\"],[0.3,\"#f1b6da\"],[0.4,\"#fde0ef\"],[0.5,\"#f7f7f7\"],[0.6,\"#e6f5d0\"],[0.7,\"#b8e186\"],[0.8,\"#7fbc41\"],[0.9,\"#4d9221\"],[1,\"#276419\"]],\"sequential\":[[0.0,\"#0d0887\"],[0.1111111111111111,\"#46039f\"],[0.2222222222222222,\"#7201a8\"],[0.3333333333333333,\"#9c179e\"],[0.4444444444444444,\"#bd3786\"],[0.5555555555555556,\"#d8576b\"],[0.6666666666666666,\"#ed7953\"],[0.7777777777777778,\"#fb9f3a\"],[0.8888888888888888,\"#fdca26\"],[1.0,\"#f0f921\"]],\"sequentialminus\":[[0.0,\"#0d0887\"],[0.1111111111111111,\"#46039f\"],[0.2222222222222222,\"#7201a8\"],[0.3333333333333333,\"#9c179e\"],[0.4444444444444444,\"#bd3786\"],[0.5555555555555556,\"#d8576b\"],[0.6666666666666666,\"#ed7953\"],[0.7777777777777778,\"#fb9f3a\"],[0.8888888888888888,\"#fdca26\"],[1.0,\"#f0f921\"]]},\"colorway\":[\"#636efa\",\"#EF553B\",\"#00cc96\",\"#ab63fa\",\"#FFA15A\",\"#19d3f3\",\"#FF6692\",\"#B6E880\",\"#FF97FF\",\"#FECB52\"],\"font\":{\"color\":\"#2a3f5f\"},\"geo\":{\"bgcolor\":\"white\",\"lakecolor\":\"white\",\"landcolor\":\"#E5ECF6\",\"showlakes\":true,\"showland\":true,\"subunitcolor\":\"white\"},\"hoverlabel\":{\"align\":\"left\"},\"hovermode\":\"closest\",\"mapbox\":{\"style\":\"light\"},\"paper_bgcolor\":\"white\",\"plot_bgcolor\":\"#E5ECF6\",\"polar\":{\"angularaxis\":{\"gridcolor\":\"white\",\"linecolor\":\"white\",\"ticks\":\"\"},\"bgcolor\":\"#E5ECF6\",\"radialaxis\":{\"gridcolor\":\"white\",\"linecolor\":\"white\",\"ticks\":\"\"}},\"scene\":{\"xaxis\":{\"backgroundcolor\":\"#E5ECF6\",\"gridcolor\":\"white\",\"gridwidth\":2,\"linecolor\":\"white\",\"showbackground\":true,\"ticks\":\"\",\"zerolinecolor\":\"white\"},\"yaxis\":{\"backgroundcolor\":\"#E5ECF6\",\"gridcolor\":\"white\",\"gridwidth\":2,\"linecolor\":\"white\",\"showbackground\":true,\"ticks\":\"\",\"zerolinecolor\":\"white\"},\"zaxis\":{\"backgroundcolor\":\"#E5ECF6\",\"gridcolor\":\"white\",\"gridwidth\":2,\"linecolor\":\"white\",\"showbackground\":true,\"ticks\":\"\",\"zerolinecolor\":\"white\"}},\"shapedefaults\":{\"line\":{\"color\":\"#2a3f5f\"}},\"ternary\":{\"aaxis\":{\"gridcolor\":\"white\",\"linecolor\":\"white\",\"ticks\":\"\"},\"baxis\":{\"gridcolor\":\"white\",\"linecolor\":\"white\",\"ticks\":\"\"},\"bgcolor\":\"#E5ECF6\",\"caxis\":{\"gridcolor\":\"white\",\"linecolor\":\"white\",\"ticks\":\"\"}},\"title\":{\"x\":0.05},\"xaxis\":{\"automargin\":true,\"gridcolor\":\"white\",\"linecolor\":\"white\",\"ticks\":\"\",\"title\":{\"standoff\":15},\"zerolinecolor\":\"white\",\"zerolinewidth\":2},\"yaxis\":{\"automargin\":true,\"gridcolor\":\"white\",\"linecolor\":\"white\",\"ticks\":\"\",\"title\":{\"standoff\":15},\"zerolinecolor\":\"white\",\"zerolinewidth\":2}}},\"xaxis\":{\"anchor\":\"y\",\"domain\":[0.0,1.0],\"title\":{\"text\":\"Year\"}},\"yaxis\":{\"anchor\":\"x\",\"domain\":[0.0,1.0],\"title\":{\"text\":\"value\"}},\"legend\":{\"title\":{\"text\":\"variable\"},\"tracegroupgap\":0},\"margin\":{\"t\":60}},                        {\"responsive\": true}                    ).then(function(){\n",
       "                            \n",
       "var gd = document.getElementById('5936835e-c8f6-420f-b00d-f0c576b432a2');\n",
       "var x = new MutationObserver(function (mutations, observer) {{\n",
       "        var display = window.getComputedStyle(gd).display;\n",
       "        if (!display || display === 'none') {{\n",
       "            console.log([gd, 'removed!']);\n",
       "            Plotly.purge(gd);\n",
       "            observer.disconnect();\n",
       "        }}\n",
       "}});\n",
       "\n",
       "// Listen for the removal of the full notebook cells\n",
       "var notebookContainer = gd.closest('#notebook-container');\n",
       "if (notebookContainer) {{\n",
       "    x.observe(notebookContainer, {childList: true});\n",
       "}}\n",
       "\n",
       "// Listen for the clearing of the current output cell\n",
       "var outputEl = gd.closest('.output');\n",
       "if (outputEl) {{\n",
       "    x.observe(outputEl, {childList: true});\n",
       "}}\n",
       "\n",
       "                        })                };                });            </script>        </div>"
      ]
     },
     "metadata": {},
     "output_type": "display_data"
    }
   ],
   "source": [
    "#Look at measures over time - aggregate to year level\n",
    "test = own_df[['Year','HuntLic','GunsAmmo','BackChk','avg_own_est']]\n",
    "\n",
    "test.loc[:,'HuntLic']=(test['HuntLic']-test['HuntLic'].min())/(test['HuntLic'].max()-test['HuntLic'].min())\n",
    "test.loc[:,'GunsAmmo']=(test['GunsAmmo']-test['GunsAmmo'].min())/(test['GunsAmmo'].max()-test['GunsAmmo'].min())\n",
    "test.loc[:,'BackChk']=(test['BackChk']-test['BackChk'].min())/(test['BackChk'].max()-test['BackChk'].min())\n",
    "test.loc[:,'avg_own_est']=(test['avg_own_est']-test['avg_own_est'].min())/(test['avg_own_est'].max()-test['avg_own_est'].min())\n",
    "\n",
    "\n",
    "test = test.groupby(['Year'], as_index=False).agg(\n",
    "    {\n",
    "        'HuntLic':'mean', \n",
    "        'GunsAmmo':'mean',\n",
    "        'BackChk':'mean',\n",
    "        'avg_own_est':'mean'\n",
    "    }\n",
    ")\n",
    "\n",
    "fig = px.line(test,x=\"Year\",y=['avg_own_est','GunsAmmo','BackChk','avg_own_est'])\n",
    "fig.show()"
   ]
  },
  {
   "cell_type": "markdown",
   "metadata": {},
   "source": [
    "#### Part 1b: Look at the deaths dataset"
   ]
  },
  {
   "cell_type": "code",
   "execution_count": 68,
   "metadata": {
    "scrolled": true
   },
   "outputs": [
    {
     "data": {
      "text/html": [
       "<div>\n",
       "<style scoped>\n",
       "    .dataframe tbody tr th:only-of-type {\n",
       "        vertical-align: middle;\n",
       "    }\n",
       "\n",
       "    .dataframe tbody tr th {\n",
       "        vertical-align: top;\n",
       "    }\n",
       "\n",
       "    .dataframe thead th {\n",
       "        text-align: right;\n",
       "    }\n",
       "</style>\n",
       "<table border=\"1\" class=\"dataframe\">\n",
       "  <thead>\n",
       "    <tr style=\"text-align: right;\">\n",
       "      <th></th>\n",
       "      <th>Suicides</th>\n",
       "      <th>Homicides</th>\n",
       "      <th>Year</th>\n",
       "      <th>State</th>\n",
       "    </tr>\n",
       "  </thead>\n",
       "  <tbody>\n",
       "    <tr>\n",
       "      <th>0</th>\n",
       "      <td>10.38</td>\n",
       "      <td>9.90</td>\n",
       "      <td>1991</td>\n",
       "      <td>AL</td>\n",
       "    </tr>\n",
       "    <tr>\n",
       "      <th>1</th>\n",
       "      <td>9.46</td>\n",
       "      <td>9.08</td>\n",
       "      <td>1992</td>\n",
       "      <td>AL</td>\n",
       "    </tr>\n",
       "  </tbody>\n",
       "</table>\n",
       "</div>"
      ],
      "text/plain": [
       "   Suicides  Homicides  Year State\n",
       "0     10.38       9.90  1991    AL\n",
       "1      9.46       9.08  1992    AL"
      ]
     },
     "execution_count": 68,
     "metadata": {},
     "output_type": "execute_result"
    }
   ],
   "source": [
    "#Take a look at the deaths dataset - these will be the target variables\n",
    "deaths.head(2)"
   ]
  },
  {
   "cell_type": "code",
   "execution_count": 69,
   "metadata": {
    "scrolled": true
   },
   "outputs": [
    {
     "data": {
      "application/vnd.plotly.v1+json": {
       "config": {
        "plotlyServerURL": "https://plot.ly"
       },
       "data": [
        {
         "hovertemplate": "variable=Suicides<br>Year=%{x}<br>value=%{y}<extra></extra>",
         "legendgroup": "Suicides",
         "line": {
          "color": "#636efa",
          "dash": "solid"
         },
         "marker": {
          "symbol": "circle"
         },
         "mode": "lines",
         "name": "Suicides",
         "orientation": "v",
         "showlegend": true,
         "type": "scatter",
         "x": [
          1991,
          1992,
          1993,
          1994,
          1995,
          1996,
          1997,
          1998,
          1999,
          2000,
          2001,
          2002,
          2003,
          2004,
          2005,
          2006,
          2007,
          2008,
          2009,
          2010,
          2011,
          2012,
          2013,
          2014,
          2015,
          2016,
          2017,
          2018
         ],
         "xaxis": "x",
         "y": [
          8.925,
          8.25,
          8.254999999999999,
          8.875,
          8.32,
          8.735,
          7.775,
          7.7,
          7.395,
          7.28,
          6.98,
          7.05,
          6.58,
          6.609999999999999,
          6.895,
          6.859999999999999,
          6.8100000000000005,
          6.6899999999999995,
          7.035,
          7.405,
          7.66,
          7.8500000000000005,
          7.865,
          8.105,
          8.28,
          8.85,
          9.21,
          9.295
         ],
         "yaxis": "y"
        },
        {
         "hovertemplate": "variable=Homicides<br>Year=%{x}<br>value=%{y}<extra></extra>",
         "legendgroup": "Homicides",
         "line": {
          "color": "#EF553B",
          "dash": "solid"
         },
         "marker": {
          "symbol": "circle"
         },
         "mode": "lines",
         "name": "Homicides",
         "orientation": "v",
         "showlegend": true,
         "type": "scatter",
         "x": [
          1991,
          1992,
          1993,
          1994,
          1995,
          1996,
          1997,
          1998,
          1999,
          2000,
          2001,
          2002,
          2003,
          2004,
          2005,
          2006,
          2007,
          2008,
          2009,
          2010,
          2011,
          2012,
          2013,
          2014,
          2015,
          2016,
          2017,
          2018
         ],
         "xaxis": "x",
         "y": [
          6.54,
          6.765000000000001,
          7.16,
          7.025,
          5.71,
          5.380000000000001,
          5.28,
          4.625,
          4.15,
          4.41,
          4.33,
          4.185,
          4.17,
          4.175,
          4.855,
          4.37,
          4.234999999999999,
          4.7,
          4.475,
          4.545,
          4.015,
          4.04,
          3.935,
          4.225,
          5.605,
          6.154999999999999,
          6.885,
          6.875
         ],
         "yaxis": "y"
        }
       ],
       "layout": {
        "legend": {
         "title": {
          "text": "variable"
         },
         "tracegroupgap": 0
        },
        "margin": {
         "t": 60
        },
        "template": {
         "data": {
          "bar": [
           {
            "error_x": {
             "color": "#2a3f5f"
            },
            "error_y": {
             "color": "#2a3f5f"
            },
            "marker": {
             "line": {
              "color": "#E5ECF6",
              "width": 0.5
             },
             "pattern": {
              "fillmode": "overlay",
              "size": 10,
              "solidity": 0.2
             }
            },
            "type": "bar"
           }
          ],
          "barpolar": [
           {
            "marker": {
             "line": {
              "color": "#E5ECF6",
              "width": 0.5
             },
             "pattern": {
              "fillmode": "overlay",
              "size": 10,
              "solidity": 0.2
             }
            },
            "type": "barpolar"
           }
          ],
          "carpet": [
           {
            "aaxis": {
             "endlinecolor": "#2a3f5f",
             "gridcolor": "white",
             "linecolor": "white",
             "minorgridcolor": "white",
             "startlinecolor": "#2a3f5f"
            },
            "baxis": {
             "endlinecolor": "#2a3f5f",
             "gridcolor": "white",
             "linecolor": "white",
             "minorgridcolor": "white",
             "startlinecolor": "#2a3f5f"
            },
            "type": "carpet"
           }
          ],
          "choropleth": [
           {
            "colorbar": {
             "outlinewidth": 0,
             "ticks": ""
            },
            "type": "choropleth"
           }
          ],
          "contour": [
           {
            "colorbar": {
             "outlinewidth": 0,
             "ticks": ""
            },
            "colorscale": [
             [
              0,
              "#0d0887"
             ],
             [
              0.1111111111111111,
              "#46039f"
             ],
             [
              0.2222222222222222,
              "#7201a8"
             ],
             [
              0.3333333333333333,
              "#9c179e"
             ],
             [
              0.4444444444444444,
              "#bd3786"
             ],
             [
              0.5555555555555556,
              "#d8576b"
             ],
             [
              0.6666666666666666,
              "#ed7953"
             ],
             [
              0.7777777777777778,
              "#fb9f3a"
             ],
             [
              0.8888888888888888,
              "#fdca26"
             ],
             [
              1,
              "#f0f921"
             ]
            ],
            "type": "contour"
           }
          ],
          "contourcarpet": [
           {
            "colorbar": {
             "outlinewidth": 0,
             "ticks": ""
            },
            "type": "contourcarpet"
           }
          ],
          "heatmap": [
           {
            "colorbar": {
             "outlinewidth": 0,
             "ticks": ""
            },
            "colorscale": [
             [
              0,
              "#0d0887"
             ],
             [
              0.1111111111111111,
              "#46039f"
             ],
             [
              0.2222222222222222,
              "#7201a8"
             ],
             [
              0.3333333333333333,
              "#9c179e"
             ],
             [
              0.4444444444444444,
              "#bd3786"
             ],
             [
              0.5555555555555556,
              "#d8576b"
             ],
             [
              0.6666666666666666,
              "#ed7953"
             ],
             [
              0.7777777777777778,
              "#fb9f3a"
             ],
             [
              0.8888888888888888,
              "#fdca26"
             ],
             [
              1,
              "#f0f921"
             ]
            ],
            "type": "heatmap"
           }
          ],
          "heatmapgl": [
           {
            "colorbar": {
             "outlinewidth": 0,
             "ticks": ""
            },
            "colorscale": [
             [
              0,
              "#0d0887"
             ],
             [
              0.1111111111111111,
              "#46039f"
             ],
             [
              0.2222222222222222,
              "#7201a8"
             ],
             [
              0.3333333333333333,
              "#9c179e"
             ],
             [
              0.4444444444444444,
              "#bd3786"
             ],
             [
              0.5555555555555556,
              "#d8576b"
             ],
             [
              0.6666666666666666,
              "#ed7953"
             ],
             [
              0.7777777777777778,
              "#fb9f3a"
             ],
             [
              0.8888888888888888,
              "#fdca26"
             ],
             [
              1,
              "#f0f921"
             ]
            ],
            "type": "heatmapgl"
           }
          ],
          "histogram": [
           {
            "marker": {
             "pattern": {
              "fillmode": "overlay",
              "size": 10,
              "solidity": 0.2
             }
            },
            "type": "histogram"
           }
          ],
          "histogram2d": [
           {
            "colorbar": {
             "outlinewidth": 0,
             "ticks": ""
            },
            "colorscale": [
             [
              0,
              "#0d0887"
             ],
             [
              0.1111111111111111,
              "#46039f"
             ],
             [
              0.2222222222222222,
              "#7201a8"
             ],
             [
              0.3333333333333333,
              "#9c179e"
             ],
             [
              0.4444444444444444,
              "#bd3786"
             ],
             [
              0.5555555555555556,
              "#d8576b"
             ],
             [
              0.6666666666666666,
              "#ed7953"
             ],
             [
              0.7777777777777778,
              "#fb9f3a"
             ],
             [
              0.8888888888888888,
              "#fdca26"
             ],
             [
              1,
              "#f0f921"
             ]
            ],
            "type": "histogram2d"
           }
          ],
          "histogram2dcontour": [
           {
            "colorbar": {
             "outlinewidth": 0,
             "ticks": ""
            },
            "colorscale": [
             [
              0,
              "#0d0887"
             ],
             [
              0.1111111111111111,
              "#46039f"
             ],
             [
              0.2222222222222222,
              "#7201a8"
             ],
             [
              0.3333333333333333,
              "#9c179e"
             ],
             [
              0.4444444444444444,
              "#bd3786"
             ],
             [
              0.5555555555555556,
              "#d8576b"
             ],
             [
              0.6666666666666666,
              "#ed7953"
             ],
             [
              0.7777777777777778,
              "#fb9f3a"
             ],
             [
              0.8888888888888888,
              "#fdca26"
             ],
             [
              1,
              "#f0f921"
             ]
            ],
            "type": "histogram2dcontour"
           }
          ],
          "mesh3d": [
           {
            "colorbar": {
             "outlinewidth": 0,
             "ticks": ""
            },
            "type": "mesh3d"
           }
          ],
          "parcoords": [
           {
            "line": {
             "colorbar": {
              "outlinewidth": 0,
              "ticks": ""
             }
            },
            "type": "parcoords"
           }
          ],
          "pie": [
           {
            "automargin": true,
            "type": "pie"
           }
          ],
          "scatter": [
           {
            "marker": {
             "colorbar": {
              "outlinewidth": 0,
              "ticks": ""
             }
            },
            "type": "scatter"
           }
          ],
          "scatter3d": [
           {
            "line": {
             "colorbar": {
              "outlinewidth": 0,
              "ticks": ""
             }
            },
            "marker": {
             "colorbar": {
              "outlinewidth": 0,
              "ticks": ""
             }
            },
            "type": "scatter3d"
           }
          ],
          "scattercarpet": [
           {
            "marker": {
             "colorbar": {
              "outlinewidth": 0,
              "ticks": ""
             }
            },
            "type": "scattercarpet"
           }
          ],
          "scattergeo": [
           {
            "marker": {
             "colorbar": {
              "outlinewidth": 0,
              "ticks": ""
             }
            },
            "type": "scattergeo"
           }
          ],
          "scattergl": [
           {
            "marker": {
             "colorbar": {
              "outlinewidth": 0,
              "ticks": ""
             }
            },
            "type": "scattergl"
           }
          ],
          "scattermapbox": [
           {
            "marker": {
             "colorbar": {
              "outlinewidth": 0,
              "ticks": ""
             }
            },
            "type": "scattermapbox"
           }
          ],
          "scatterpolar": [
           {
            "marker": {
             "colorbar": {
              "outlinewidth": 0,
              "ticks": ""
             }
            },
            "type": "scatterpolar"
           }
          ],
          "scatterpolargl": [
           {
            "marker": {
             "colorbar": {
              "outlinewidth": 0,
              "ticks": ""
             }
            },
            "type": "scatterpolargl"
           }
          ],
          "scatterternary": [
           {
            "marker": {
             "colorbar": {
              "outlinewidth": 0,
              "ticks": ""
             }
            },
            "type": "scatterternary"
           }
          ],
          "surface": [
           {
            "colorbar": {
             "outlinewidth": 0,
             "ticks": ""
            },
            "colorscale": [
             [
              0,
              "#0d0887"
             ],
             [
              0.1111111111111111,
              "#46039f"
             ],
             [
              0.2222222222222222,
              "#7201a8"
             ],
             [
              0.3333333333333333,
              "#9c179e"
             ],
             [
              0.4444444444444444,
              "#bd3786"
             ],
             [
              0.5555555555555556,
              "#d8576b"
             ],
             [
              0.6666666666666666,
              "#ed7953"
             ],
             [
              0.7777777777777778,
              "#fb9f3a"
             ],
             [
              0.8888888888888888,
              "#fdca26"
             ],
             [
              1,
              "#f0f921"
             ]
            ],
            "type": "surface"
           }
          ],
          "table": [
           {
            "cells": {
             "fill": {
              "color": "#EBF0F8"
             },
             "line": {
              "color": "white"
             }
            },
            "header": {
             "fill": {
              "color": "#C8D4E3"
             },
             "line": {
              "color": "white"
             }
            },
            "type": "table"
           }
          ]
         },
         "layout": {
          "annotationdefaults": {
           "arrowcolor": "#2a3f5f",
           "arrowhead": 0,
           "arrowwidth": 1
          },
          "autotypenumbers": "strict",
          "coloraxis": {
           "colorbar": {
            "outlinewidth": 0,
            "ticks": ""
           }
          },
          "colorscale": {
           "diverging": [
            [
             0,
             "#8e0152"
            ],
            [
             0.1,
             "#c51b7d"
            ],
            [
             0.2,
             "#de77ae"
            ],
            [
             0.3,
             "#f1b6da"
            ],
            [
             0.4,
             "#fde0ef"
            ],
            [
             0.5,
             "#f7f7f7"
            ],
            [
             0.6,
             "#e6f5d0"
            ],
            [
             0.7,
             "#b8e186"
            ],
            [
             0.8,
             "#7fbc41"
            ],
            [
             0.9,
             "#4d9221"
            ],
            [
             1,
             "#276419"
            ]
           ],
           "sequential": [
            [
             0,
             "#0d0887"
            ],
            [
             0.1111111111111111,
             "#46039f"
            ],
            [
             0.2222222222222222,
             "#7201a8"
            ],
            [
             0.3333333333333333,
             "#9c179e"
            ],
            [
             0.4444444444444444,
             "#bd3786"
            ],
            [
             0.5555555555555556,
             "#d8576b"
            ],
            [
             0.6666666666666666,
             "#ed7953"
            ],
            [
             0.7777777777777778,
             "#fb9f3a"
            ],
            [
             0.8888888888888888,
             "#fdca26"
            ],
            [
             1,
             "#f0f921"
            ]
           ],
           "sequentialminus": [
            [
             0,
             "#0d0887"
            ],
            [
             0.1111111111111111,
             "#46039f"
            ],
            [
             0.2222222222222222,
             "#7201a8"
            ],
            [
             0.3333333333333333,
             "#9c179e"
            ],
            [
             0.4444444444444444,
             "#bd3786"
            ],
            [
             0.5555555555555556,
             "#d8576b"
            ],
            [
             0.6666666666666666,
             "#ed7953"
            ],
            [
             0.7777777777777778,
             "#fb9f3a"
            ],
            [
             0.8888888888888888,
             "#fdca26"
            ],
            [
             1,
             "#f0f921"
            ]
           ]
          },
          "colorway": [
           "#636efa",
           "#EF553B",
           "#00cc96",
           "#ab63fa",
           "#FFA15A",
           "#19d3f3",
           "#FF6692",
           "#B6E880",
           "#FF97FF",
           "#FECB52"
          ],
          "font": {
           "color": "#2a3f5f"
          },
          "geo": {
           "bgcolor": "white",
           "lakecolor": "white",
           "landcolor": "#E5ECF6",
           "showlakes": true,
           "showland": true,
           "subunitcolor": "white"
          },
          "hoverlabel": {
           "align": "left"
          },
          "hovermode": "closest",
          "mapbox": {
           "style": "light"
          },
          "paper_bgcolor": "white",
          "plot_bgcolor": "#E5ECF6",
          "polar": {
           "angularaxis": {
            "gridcolor": "white",
            "linecolor": "white",
            "ticks": ""
           },
           "bgcolor": "#E5ECF6",
           "radialaxis": {
            "gridcolor": "white",
            "linecolor": "white",
            "ticks": ""
           }
          },
          "scene": {
           "xaxis": {
            "backgroundcolor": "#E5ECF6",
            "gridcolor": "white",
            "gridwidth": 2,
            "linecolor": "white",
            "showbackground": true,
            "ticks": "",
            "zerolinecolor": "white"
           },
           "yaxis": {
            "backgroundcolor": "#E5ECF6",
            "gridcolor": "white",
            "gridwidth": 2,
            "linecolor": "white",
            "showbackground": true,
            "ticks": "",
            "zerolinecolor": "white"
           },
           "zaxis": {
            "backgroundcolor": "#E5ECF6",
            "gridcolor": "white",
            "gridwidth": 2,
            "linecolor": "white",
            "showbackground": true,
            "ticks": "",
            "zerolinecolor": "white"
           }
          },
          "shapedefaults": {
           "line": {
            "color": "#2a3f5f"
           }
          },
          "ternary": {
           "aaxis": {
            "gridcolor": "white",
            "linecolor": "white",
            "ticks": ""
           },
           "baxis": {
            "gridcolor": "white",
            "linecolor": "white",
            "ticks": ""
           },
           "bgcolor": "#E5ECF6",
           "caxis": {
            "gridcolor": "white",
            "linecolor": "white",
            "ticks": ""
           }
          },
          "title": {
           "x": 0.05
          },
          "xaxis": {
           "automargin": true,
           "gridcolor": "white",
           "linecolor": "white",
           "ticks": "",
           "title": {
            "standoff": 15
           },
           "zerolinecolor": "white",
           "zerolinewidth": 2
          },
          "yaxis": {
           "automargin": true,
           "gridcolor": "white",
           "linecolor": "white",
           "ticks": "",
           "title": {
            "standoff": 15
           },
           "zerolinecolor": "white",
           "zerolinewidth": 2
          }
         }
        },
        "xaxis": {
         "anchor": "y",
         "domain": [
          0,
          1
         ],
         "title": {
          "text": "Year"
         }
        },
        "yaxis": {
         "anchor": "x",
         "domain": [
          0,
          1
         ],
         "title": {
          "text": "value"
         }
        }
       }
      },
      "text/html": [
       "<div>                            <div id=\"4150b26e-4b8e-4816-a5c5-ae8b64802594\" class=\"plotly-graph-div\" style=\"height:525px; width:100%;\"></div>            <script type=\"text/javascript\">                require([\"plotly\"], function(Plotly) {                    window.PLOTLYENV=window.PLOTLYENV || {};                                    if (document.getElementById(\"4150b26e-4b8e-4816-a5c5-ae8b64802594\")) {                    Plotly.newPlot(                        \"4150b26e-4b8e-4816-a5c5-ae8b64802594\",                        [{\"hovertemplate\":\"variable=Suicides<br>Year=%{x}<br>value=%{y}<extra></extra>\",\"legendgroup\":\"Suicides\",\"line\":{\"color\":\"#636efa\",\"dash\":\"solid\"},\"marker\":{\"symbol\":\"circle\"},\"mode\":\"lines\",\"name\":\"Suicides\",\"orientation\":\"v\",\"showlegend\":true,\"x\":[1991,1992,1993,1994,1995,1996,1997,1998,1999,2000,2001,2002,2003,2004,2005,2006,2007,2008,2009,2010,2011,2012,2013,2014,2015,2016,2017,2018],\"xaxis\":\"x\",\"y\":[8.925,8.25,8.254999999999999,8.875,8.32,8.735,7.775,7.7,7.395,7.28,6.98,7.05,6.58,6.609999999999999,6.895,6.859999999999999,6.8100000000000005,6.6899999999999995,7.035,7.405,7.66,7.8500000000000005,7.865,8.105,8.28,8.85,9.21,9.295],\"yaxis\":\"y\",\"type\":\"scatter\"},{\"hovertemplate\":\"variable=Homicides<br>Year=%{x}<br>value=%{y}<extra></extra>\",\"legendgroup\":\"Homicides\",\"line\":{\"color\":\"#EF553B\",\"dash\":\"solid\"},\"marker\":{\"symbol\":\"circle\"},\"mode\":\"lines\",\"name\":\"Homicides\",\"orientation\":\"v\",\"showlegend\":true,\"x\":[1991,1992,1993,1994,1995,1996,1997,1998,1999,2000,2001,2002,2003,2004,2005,2006,2007,2008,2009,2010,2011,2012,2013,2014,2015,2016,2017,2018],\"xaxis\":\"x\",\"y\":[6.54,6.765000000000001,7.16,7.025,5.71,5.380000000000001,5.28,4.625,4.15,4.41,4.33,4.185,4.17,4.175,4.855,4.37,4.234999999999999,4.7,4.475,4.545,4.015,4.04,3.935,4.225,5.605,6.154999999999999,6.885,6.875],\"yaxis\":\"y\",\"type\":\"scatter\"}],                        {\"template\":{\"data\":{\"bar\":[{\"error_x\":{\"color\":\"#2a3f5f\"},\"error_y\":{\"color\":\"#2a3f5f\"},\"marker\":{\"line\":{\"color\":\"#E5ECF6\",\"width\":0.5},\"pattern\":{\"fillmode\":\"overlay\",\"size\":10,\"solidity\":0.2}},\"type\":\"bar\"}],\"barpolar\":[{\"marker\":{\"line\":{\"color\":\"#E5ECF6\",\"width\":0.5},\"pattern\":{\"fillmode\":\"overlay\",\"size\":10,\"solidity\":0.2}},\"type\":\"barpolar\"}],\"carpet\":[{\"aaxis\":{\"endlinecolor\":\"#2a3f5f\",\"gridcolor\":\"white\",\"linecolor\":\"white\",\"minorgridcolor\":\"white\",\"startlinecolor\":\"#2a3f5f\"},\"baxis\":{\"endlinecolor\":\"#2a3f5f\",\"gridcolor\":\"white\",\"linecolor\":\"white\",\"minorgridcolor\":\"white\",\"startlinecolor\":\"#2a3f5f\"},\"type\":\"carpet\"}],\"choropleth\":[{\"colorbar\":{\"outlinewidth\":0,\"ticks\":\"\"},\"type\":\"choropleth\"}],\"contour\":[{\"colorbar\":{\"outlinewidth\":0,\"ticks\":\"\"},\"colorscale\":[[0.0,\"#0d0887\"],[0.1111111111111111,\"#46039f\"],[0.2222222222222222,\"#7201a8\"],[0.3333333333333333,\"#9c179e\"],[0.4444444444444444,\"#bd3786\"],[0.5555555555555556,\"#d8576b\"],[0.6666666666666666,\"#ed7953\"],[0.7777777777777778,\"#fb9f3a\"],[0.8888888888888888,\"#fdca26\"],[1.0,\"#f0f921\"]],\"type\":\"contour\"}],\"contourcarpet\":[{\"colorbar\":{\"outlinewidth\":0,\"ticks\":\"\"},\"type\":\"contourcarpet\"}],\"heatmap\":[{\"colorbar\":{\"outlinewidth\":0,\"ticks\":\"\"},\"colorscale\":[[0.0,\"#0d0887\"],[0.1111111111111111,\"#46039f\"],[0.2222222222222222,\"#7201a8\"],[0.3333333333333333,\"#9c179e\"],[0.4444444444444444,\"#bd3786\"],[0.5555555555555556,\"#d8576b\"],[0.6666666666666666,\"#ed7953\"],[0.7777777777777778,\"#fb9f3a\"],[0.8888888888888888,\"#fdca26\"],[1.0,\"#f0f921\"]],\"type\":\"heatmap\"}],\"heatmapgl\":[{\"colorbar\":{\"outlinewidth\":0,\"ticks\":\"\"},\"colorscale\":[[0.0,\"#0d0887\"],[0.1111111111111111,\"#46039f\"],[0.2222222222222222,\"#7201a8\"],[0.3333333333333333,\"#9c179e\"],[0.4444444444444444,\"#bd3786\"],[0.5555555555555556,\"#d8576b\"],[0.6666666666666666,\"#ed7953\"],[0.7777777777777778,\"#fb9f3a\"],[0.8888888888888888,\"#fdca26\"],[1.0,\"#f0f921\"]],\"type\":\"heatmapgl\"}],\"histogram\":[{\"marker\":{\"pattern\":{\"fillmode\":\"overlay\",\"size\":10,\"solidity\":0.2}},\"type\":\"histogram\"}],\"histogram2d\":[{\"colorbar\":{\"outlinewidth\":0,\"ticks\":\"\"},\"colorscale\":[[0.0,\"#0d0887\"],[0.1111111111111111,\"#46039f\"],[0.2222222222222222,\"#7201a8\"],[0.3333333333333333,\"#9c179e\"],[0.4444444444444444,\"#bd3786\"],[0.5555555555555556,\"#d8576b\"],[0.6666666666666666,\"#ed7953\"],[0.7777777777777778,\"#fb9f3a\"],[0.8888888888888888,\"#fdca26\"],[1.0,\"#f0f921\"]],\"type\":\"histogram2d\"}],\"histogram2dcontour\":[{\"colorbar\":{\"outlinewidth\":0,\"ticks\":\"\"},\"colorscale\":[[0.0,\"#0d0887\"],[0.1111111111111111,\"#46039f\"],[0.2222222222222222,\"#7201a8\"],[0.3333333333333333,\"#9c179e\"],[0.4444444444444444,\"#bd3786\"],[0.5555555555555556,\"#d8576b\"],[0.6666666666666666,\"#ed7953\"],[0.7777777777777778,\"#fb9f3a\"],[0.8888888888888888,\"#fdca26\"],[1.0,\"#f0f921\"]],\"type\":\"histogram2dcontour\"}],\"mesh3d\":[{\"colorbar\":{\"outlinewidth\":0,\"ticks\":\"\"},\"type\":\"mesh3d\"}],\"parcoords\":[{\"line\":{\"colorbar\":{\"outlinewidth\":0,\"ticks\":\"\"}},\"type\":\"parcoords\"}],\"pie\":[{\"automargin\":true,\"type\":\"pie\"}],\"scatter\":[{\"marker\":{\"colorbar\":{\"outlinewidth\":0,\"ticks\":\"\"}},\"type\":\"scatter\"}],\"scatter3d\":[{\"line\":{\"colorbar\":{\"outlinewidth\":0,\"ticks\":\"\"}},\"marker\":{\"colorbar\":{\"outlinewidth\":0,\"ticks\":\"\"}},\"type\":\"scatter3d\"}],\"scattercarpet\":[{\"marker\":{\"colorbar\":{\"outlinewidth\":0,\"ticks\":\"\"}},\"type\":\"scattercarpet\"}],\"scattergeo\":[{\"marker\":{\"colorbar\":{\"outlinewidth\":0,\"ticks\":\"\"}},\"type\":\"scattergeo\"}],\"scattergl\":[{\"marker\":{\"colorbar\":{\"outlinewidth\":0,\"ticks\":\"\"}},\"type\":\"scattergl\"}],\"scattermapbox\":[{\"marker\":{\"colorbar\":{\"outlinewidth\":0,\"ticks\":\"\"}},\"type\":\"scattermapbox\"}],\"scatterpolar\":[{\"marker\":{\"colorbar\":{\"outlinewidth\":0,\"ticks\":\"\"}},\"type\":\"scatterpolar\"}],\"scatterpolargl\":[{\"marker\":{\"colorbar\":{\"outlinewidth\":0,\"ticks\":\"\"}},\"type\":\"scatterpolargl\"}],\"scatterternary\":[{\"marker\":{\"colorbar\":{\"outlinewidth\":0,\"ticks\":\"\"}},\"type\":\"scatterternary\"}],\"surface\":[{\"colorbar\":{\"outlinewidth\":0,\"ticks\":\"\"},\"colorscale\":[[0.0,\"#0d0887\"],[0.1111111111111111,\"#46039f\"],[0.2222222222222222,\"#7201a8\"],[0.3333333333333333,\"#9c179e\"],[0.4444444444444444,\"#bd3786\"],[0.5555555555555556,\"#d8576b\"],[0.6666666666666666,\"#ed7953\"],[0.7777777777777778,\"#fb9f3a\"],[0.8888888888888888,\"#fdca26\"],[1.0,\"#f0f921\"]],\"type\":\"surface\"}],\"table\":[{\"cells\":{\"fill\":{\"color\":\"#EBF0F8\"},\"line\":{\"color\":\"white\"}},\"header\":{\"fill\":{\"color\":\"#C8D4E3\"},\"line\":{\"color\":\"white\"}},\"type\":\"table\"}]},\"layout\":{\"annotationdefaults\":{\"arrowcolor\":\"#2a3f5f\",\"arrowhead\":0,\"arrowwidth\":1},\"autotypenumbers\":\"strict\",\"coloraxis\":{\"colorbar\":{\"outlinewidth\":0,\"ticks\":\"\"}},\"colorscale\":{\"diverging\":[[0,\"#8e0152\"],[0.1,\"#c51b7d\"],[0.2,\"#de77ae\"],[0.3,\"#f1b6da\"],[0.4,\"#fde0ef\"],[0.5,\"#f7f7f7\"],[0.6,\"#e6f5d0\"],[0.7,\"#b8e186\"],[0.8,\"#7fbc41\"],[0.9,\"#4d9221\"],[1,\"#276419\"]],\"sequential\":[[0.0,\"#0d0887\"],[0.1111111111111111,\"#46039f\"],[0.2222222222222222,\"#7201a8\"],[0.3333333333333333,\"#9c179e\"],[0.4444444444444444,\"#bd3786\"],[0.5555555555555556,\"#d8576b\"],[0.6666666666666666,\"#ed7953\"],[0.7777777777777778,\"#fb9f3a\"],[0.8888888888888888,\"#fdca26\"],[1.0,\"#f0f921\"]],\"sequentialminus\":[[0.0,\"#0d0887\"],[0.1111111111111111,\"#46039f\"],[0.2222222222222222,\"#7201a8\"],[0.3333333333333333,\"#9c179e\"],[0.4444444444444444,\"#bd3786\"],[0.5555555555555556,\"#d8576b\"],[0.6666666666666666,\"#ed7953\"],[0.7777777777777778,\"#fb9f3a\"],[0.8888888888888888,\"#fdca26\"],[1.0,\"#f0f921\"]]},\"colorway\":[\"#636efa\",\"#EF553B\",\"#00cc96\",\"#ab63fa\",\"#FFA15A\",\"#19d3f3\",\"#FF6692\",\"#B6E880\",\"#FF97FF\",\"#FECB52\"],\"font\":{\"color\":\"#2a3f5f\"},\"geo\":{\"bgcolor\":\"white\",\"lakecolor\":\"white\",\"landcolor\":\"#E5ECF6\",\"showlakes\":true,\"showland\":true,\"subunitcolor\":\"white\"},\"hoverlabel\":{\"align\":\"left\"},\"hovermode\":\"closest\",\"mapbox\":{\"style\":\"light\"},\"paper_bgcolor\":\"white\",\"plot_bgcolor\":\"#E5ECF6\",\"polar\":{\"angularaxis\":{\"gridcolor\":\"white\",\"linecolor\":\"white\",\"ticks\":\"\"},\"bgcolor\":\"#E5ECF6\",\"radialaxis\":{\"gridcolor\":\"white\",\"linecolor\":\"white\",\"ticks\":\"\"}},\"scene\":{\"xaxis\":{\"backgroundcolor\":\"#E5ECF6\",\"gridcolor\":\"white\",\"gridwidth\":2,\"linecolor\":\"white\",\"showbackground\":true,\"ticks\":\"\",\"zerolinecolor\":\"white\"},\"yaxis\":{\"backgroundcolor\":\"#E5ECF6\",\"gridcolor\":\"white\",\"gridwidth\":2,\"linecolor\":\"white\",\"showbackground\":true,\"ticks\":\"\",\"zerolinecolor\":\"white\"},\"zaxis\":{\"backgroundcolor\":\"#E5ECF6\",\"gridcolor\":\"white\",\"gridwidth\":2,\"linecolor\":\"white\",\"showbackground\":true,\"ticks\":\"\",\"zerolinecolor\":\"white\"}},\"shapedefaults\":{\"line\":{\"color\":\"#2a3f5f\"}},\"ternary\":{\"aaxis\":{\"gridcolor\":\"white\",\"linecolor\":\"white\",\"ticks\":\"\"},\"baxis\":{\"gridcolor\":\"white\",\"linecolor\":\"white\",\"ticks\":\"\"},\"bgcolor\":\"#E5ECF6\",\"caxis\":{\"gridcolor\":\"white\",\"linecolor\":\"white\",\"ticks\":\"\"}},\"title\":{\"x\":0.05},\"xaxis\":{\"automargin\":true,\"gridcolor\":\"white\",\"linecolor\":\"white\",\"ticks\":\"\",\"title\":{\"standoff\":15},\"zerolinecolor\":\"white\",\"zerolinewidth\":2},\"yaxis\":{\"automargin\":true,\"gridcolor\":\"white\",\"linecolor\":\"white\",\"ticks\":\"\",\"title\":{\"standoff\":15},\"zerolinecolor\":\"white\",\"zerolinewidth\":2}}},\"xaxis\":{\"anchor\":\"y\",\"domain\":[0.0,1.0],\"title\":{\"text\":\"Year\"}},\"yaxis\":{\"anchor\":\"x\",\"domain\":[0.0,1.0],\"title\":{\"text\":\"value\"}},\"legend\":{\"title\":{\"text\":\"variable\"},\"tracegroupgap\":0},\"margin\":{\"t\":60}},                        {\"responsive\": true}                    ).then(function(){\n",
       "                            \n",
       "var gd = document.getElementById('4150b26e-4b8e-4816-a5c5-ae8b64802594');\n",
       "var x = new MutationObserver(function (mutations, observer) {{\n",
       "        var display = window.getComputedStyle(gd).display;\n",
       "        if (!display || display === 'none') {{\n",
       "            console.log([gd, 'removed!']);\n",
       "            Plotly.purge(gd);\n",
       "            observer.disconnect();\n",
       "        }}\n",
       "}});\n",
       "\n",
       "// Listen for the removal of the full notebook cells\n",
       "var notebookContainer = gd.closest('#notebook-container');\n",
       "if (notebookContainer) {{\n",
       "    x.observe(notebookContainer, {childList: true});\n",
       "}}\n",
       "\n",
       "// Listen for the clearing of the current output cell\n",
       "var outputEl = gd.closest('.output');\n",
       "if (outputEl) {{\n",
       "    x.observe(outputEl, {childList: true});\n",
       "}}\n",
       "\n",
       "                        })                };                });            </script>        </div>"
      ]
     },
     "metadata": {},
     "output_type": "display_data"
    }
   ],
   "source": [
    "#Look at trends in states aggregated over time\n",
    "states = ['MO','VA','DC']\n",
    "st_df = deaths[deaths['State'].isin(states)]\n",
    "st_df.head()\n",
    "test = st_df.groupby(['Year'], as_index=False).agg(\n",
    "    {\n",
    "        'Suicides':'mean', \n",
    "        'Homicides':'mean',\n",
    "    }\n",
    ")\n",
    "\n",
    "fig = px.line(test, x=\"Year\", y=[\"Suicides\",\"Homicides\"])\n",
    "fig.show()"
   ]
  },
  {
   "cell_type": "code",
   "execution_count": 70,
   "metadata": {
    "scrolled": false
   },
   "outputs": [
    {
     "data": {
      "application/vnd.plotly.v1+json": {
       "config": {
        "plotlyServerURL": "https://plot.ly"
       },
       "data": [
        {
         "alignmentgroup": "True",
         "bingroup": "x",
         "hovertemplate": "variable=Homicides<br>value=%{x}<br>count=%{y}<extra></extra>",
         "legendgroup": "Homicides",
         "marker": {
          "color": "#636efa",
          "pattern": {
           "shape": ""
          }
         },
         "name": "Homicides",
         "offsetgroup": "Homicides",
         "orientation": "v",
         "showlegend": true,
         "type": "histogram",
         "x": [
          5.97,
          4.17,
          4.36,
          4.68,
          3.47,
          1.9,
          2.91,
          5.12,
          4.31,
          4.52,
          null,
          0.82,
          4.5,
          3.51,
          1.15,
          2.42,
          2.95,
          9.58,
          1.06,
          5.41,
          1.93,
          4.72,
          1.23,
          7.1,
          5.72,
          1.8,
          2.32,
          3.36,
          null,
          3.16,
          3.89,
          2.69,
          3.95,
          null,
          3.62,
          3.52,
          1.57,
          4.13,
          1.6,
          5.07,
          null,
          4.67,
          3.57,
          1.05,
          null,
          3.37,
          1.72,
          2.72,
          1.89,
          null
         ],
         "xaxis": "x",
         "yaxis": "y"
        },
        {
         "alignmentgroup": "True",
         "hovertemplate": "variable=Homicides<br>value=%{x}<extra></extra>",
         "legendgroup": "Homicides",
         "marker": {
          "color": "#636efa"
         },
         "name": "Homicides",
         "notched": true,
         "offsetgroup": "Homicides",
         "showlegend": false,
         "type": "box",
         "x": [
          5.97,
          4.17,
          4.36,
          4.68,
          3.47,
          1.9,
          2.91,
          5.12,
          4.31,
          4.52,
          null,
          0.82,
          4.5,
          3.51,
          1.15,
          2.42,
          2.95,
          9.58,
          1.06,
          5.41,
          1.93,
          4.72,
          1.23,
          7.1,
          5.72,
          1.8,
          2.32,
          3.36,
          null,
          3.16,
          3.89,
          2.69,
          3.95,
          null,
          3.62,
          3.52,
          1.57,
          4.13,
          1.6,
          5.07,
          null,
          4.67,
          3.57,
          1.05,
          null,
          3.37,
          1.72,
          2.72,
          1.89,
          null
         ],
         "xaxis": "x2",
         "yaxis": "y2"
        },
        {
         "alignmentgroup": "True",
         "bingroup": "x",
         "hovertemplate": "variable=Suicides<br>value=%{x}<br>count=%{y}<extra></extra>",
         "legendgroup": "Suicides",
         "marker": {
          "color": "#EF553B",
          "pattern": {
           "shape": ""
          }
         },
         "name": "Suicides",
         "offsetgroup": "Suicides",
         "orientation": "v",
         "showlegend": true,
         "type": "histogram",
         "x": [
          9.24,
          15.43,
          9.53,
          9,
          3.97,
          8.19,
          2.92,
          4.75,
          6.88,
          7.45,
          2.56,
          11.65,
          3.34,
          6.82,
          5.59,
          7.22,
          8.94,
          8.52,
          6.47,
          3.69,
          2.01,
          5.89,
          5.15,
          8.51,
          7.82,
          13.04,
          5.54,
          10.51,
          7.04,
          1.94,
          9.82,
          2.25,
          7.21,
          8.39,
          6.08,
          9.93,
          9.18,
          5.62,
          2.82,
          8.24,
          8.09,
          8.93,
          6.97,
          10.65,
          9.56,
          6.99,
          6.74,
          10.64,
          6.35,
          13.76
         ],
         "xaxis": "x",
         "yaxis": "y"
        },
        {
         "alignmentgroup": "True",
         "hovertemplate": "variable=Suicides<br>value=%{x}<extra></extra>",
         "legendgroup": "Suicides",
         "marker": {
          "color": "#EF553B"
         },
         "name": "Suicides",
         "notched": true,
         "offsetgroup": "Suicides",
         "showlegend": false,
         "type": "box",
         "x": [
          9.24,
          15.43,
          9.53,
          9,
          3.97,
          8.19,
          2.92,
          4.75,
          6.88,
          7.45,
          2.56,
          11.65,
          3.34,
          6.82,
          5.59,
          7.22,
          8.94,
          8.52,
          6.47,
          3.69,
          2.01,
          5.89,
          5.15,
          8.51,
          7.82,
          13.04,
          5.54,
          10.51,
          7.04,
          1.94,
          9.82,
          2.25,
          7.21,
          8.39,
          6.08,
          9.93,
          9.18,
          5.62,
          2.82,
          8.24,
          8.09,
          8.93,
          6.97,
          10.65,
          9.56,
          6.99,
          6.74,
          10.64,
          6.35,
          13.76
         ],
         "xaxis": "x2",
         "yaxis": "y2"
        }
       ],
       "layout": {
        "barmode": "relative",
        "legend": {
         "title": {
          "text": "variable"
         },
         "tracegroupgap": 0
        },
        "margin": {
         "t": 60
        },
        "template": {
         "data": {
          "bar": [
           {
            "error_x": {
             "color": "#2a3f5f"
            },
            "error_y": {
             "color": "#2a3f5f"
            },
            "marker": {
             "line": {
              "color": "#E5ECF6",
              "width": 0.5
             },
             "pattern": {
              "fillmode": "overlay",
              "size": 10,
              "solidity": 0.2
             }
            },
            "type": "bar"
           }
          ],
          "barpolar": [
           {
            "marker": {
             "line": {
              "color": "#E5ECF6",
              "width": 0.5
             },
             "pattern": {
              "fillmode": "overlay",
              "size": 10,
              "solidity": 0.2
             }
            },
            "type": "barpolar"
           }
          ],
          "carpet": [
           {
            "aaxis": {
             "endlinecolor": "#2a3f5f",
             "gridcolor": "white",
             "linecolor": "white",
             "minorgridcolor": "white",
             "startlinecolor": "#2a3f5f"
            },
            "baxis": {
             "endlinecolor": "#2a3f5f",
             "gridcolor": "white",
             "linecolor": "white",
             "minorgridcolor": "white",
             "startlinecolor": "#2a3f5f"
            },
            "type": "carpet"
           }
          ],
          "choropleth": [
           {
            "colorbar": {
             "outlinewidth": 0,
             "ticks": ""
            },
            "type": "choropleth"
           }
          ],
          "contour": [
           {
            "colorbar": {
             "outlinewidth": 0,
             "ticks": ""
            },
            "colorscale": [
             [
              0,
              "#0d0887"
             ],
             [
              0.1111111111111111,
              "#46039f"
             ],
             [
              0.2222222222222222,
              "#7201a8"
             ],
             [
              0.3333333333333333,
              "#9c179e"
             ],
             [
              0.4444444444444444,
              "#bd3786"
             ],
             [
              0.5555555555555556,
              "#d8576b"
             ],
             [
              0.6666666666666666,
              "#ed7953"
             ],
             [
              0.7777777777777778,
              "#fb9f3a"
             ],
             [
              0.8888888888888888,
              "#fdca26"
             ],
             [
              1,
              "#f0f921"
             ]
            ],
            "type": "contour"
           }
          ],
          "contourcarpet": [
           {
            "colorbar": {
             "outlinewidth": 0,
             "ticks": ""
            },
            "type": "contourcarpet"
           }
          ],
          "heatmap": [
           {
            "colorbar": {
             "outlinewidth": 0,
             "ticks": ""
            },
            "colorscale": [
             [
              0,
              "#0d0887"
             ],
             [
              0.1111111111111111,
              "#46039f"
             ],
             [
              0.2222222222222222,
              "#7201a8"
             ],
             [
              0.3333333333333333,
              "#9c179e"
             ],
             [
              0.4444444444444444,
              "#bd3786"
             ],
             [
              0.5555555555555556,
              "#d8576b"
             ],
             [
              0.6666666666666666,
              "#ed7953"
             ],
             [
              0.7777777777777778,
              "#fb9f3a"
             ],
             [
              0.8888888888888888,
              "#fdca26"
             ],
             [
              1,
              "#f0f921"
             ]
            ],
            "type": "heatmap"
           }
          ],
          "heatmapgl": [
           {
            "colorbar": {
             "outlinewidth": 0,
             "ticks": ""
            },
            "colorscale": [
             [
              0,
              "#0d0887"
             ],
             [
              0.1111111111111111,
              "#46039f"
             ],
             [
              0.2222222222222222,
              "#7201a8"
             ],
             [
              0.3333333333333333,
              "#9c179e"
             ],
             [
              0.4444444444444444,
              "#bd3786"
             ],
             [
              0.5555555555555556,
              "#d8576b"
             ],
             [
              0.6666666666666666,
              "#ed7953"
             ],
             [
              0.7777777777777778,
              "#fb9f3a"
             ],
             [
              0.8888888888888888,
              "#fdca26"
             ],
             [
              1,
              "#f0f921"
             ]
            ],
            "type": "heatmapgl"
           }
          ],
          "histogram": [
           {
            "marker": {
             "pattern": {
              "fillmode": "overlay",
              "size": 10,
              "solidity": 0.2
             }
            },
            "type": "histogram"
           }
          ],
          "histogram2d": [
           {
            "colorbar": {
             "outlinewidth": 0,
             "ticks": ""
            },
            "colorscale": [
             [
              0,
              "#0d0887"
             ],
             [
              0.1111111111111111,
              "#46039f"
             ],
             [
              0.2222222222222222,
              "#7201a8"
             ],
             [
              0.3333333333333333,
              "#9c179e"
             ],
             [
              0.4444444444444444,
              "#bd3786"
             ],
             [
              0.5555555555555556,
              "#d8576b"
             ],
             [
              0.6666666666666666,
              "#ed7953"
             ],
             [
              0.7777777777777778,
              "#fb9f3a"
             ],
             [
              0.8888888888888888,
              "#fdca26"
             ],
             [
              1,
              "#f0f921"
             ]
            ],
            "type": "histogram2d"
           }
          ],
          "histogram2dcontour": [
           {
            "colorbar": {
             "outlinewidth": 0,
             "ticks": ""
            },
            "colorscale": [
             [
              0,
              "#0d0887"
             ],
             [
              0.1111111111111111,
              "#46039f"
             ],
             [
              0.2222222222222222,
              "#7201a8"
             ],
             [
              0.3333333333333333,
              "#9c179e"
             ],
             [
              0.4444444444444444,
              "#bd3786"
             ],
             [
              0.5555555555555556,
              "#d8576b"
             ],
             [
              0.6666666666666666,
              "#ed7953"
             ],
             [
              0.7777777777777778,
              "#fb9f3a"
             ],
             [
              0.8888888888888888,
              "#fdca26"
             ],
             [
              1,
              "#f0f921"
             ]
            ],
            "type": "histogram2dcontour"
           }
          ],
          "mesh3d": [
           {
            "colorbar": {
             "outlinewidth": 0,
             "ticks": ""
            },
            "type": "mesh3d"
           }
          ],
          "parcoords": [
           {
            "line": {
             "colorbar": {
              "outlinewidth": 0,
              "ticks": ""
             }
            },
            "type": "parcoords"
           }
          ],
          "pie": [
           {
            "automargin": true,
            "type": "pie"
           }
          ],
          "scatter": [
           {
            "marker": {
             "colorbar": {
              "outlinewidth": 0,
              "ticks": ""
             }
            },
            "type": "scatter"
           }
          ],
          "scatter3d": [
           {
            "line": {
             "colorbar": {
              "outlinewidth": 0,
              "ticks": ""
             }
            },
            "marker": {
             "colorbar": {
              "outlinewidth": 0,
              "ticks": ""
             }
            },
            "type": "scatter3d"
           }
          ],
          "scattercarpet": [
           {
            "marker": {
             "colorbar": {
              "outlinewidth": 0,
              "ticks": ""
             }
            },
            "type": "scattercarpet"
           }
          ],
          "scattergeo": [
           {
            "marker": {
             "colorbar": {
              "outlinewidth": 0,
              "ticks": ""
             }
            },
            "type": "scattergeo"
           }
          ],
          "scattergl": [
           {
            "marker": {
             "colorbar": {
              "outlinewidth": 0,
              "ticks": ""
             }
            },
            "type": "scattergl"
           }
          ],
          "scattermapbox": [
           {
            "marker": {
             "colorbar": {
              "outlinewidth": 0,
              "ticks": ""
             }
            },
            "type": "scattermapbox"
           }
          ],
          "scatterpolar": [
           {
            "marker": {
             "colorbar": {
              "outlinewidth": 0,
              "ticks": ""
             }
            },
            "type": "scatterpolar"
           }
          ],
          "scatterpolargl": [
           {
            "marker": {
             "colorbar": {
              "outlinewidth": 0,
              "ticks": ""
             }
            },
            "type": "scatterpolargl"
           }
          ],
          "scatterternary": [
           {
            "marker": {
             "colorbar": {
              "outlinewidth": 0,
              "ticks": ""
             }
            },
            "type": "scatterternary"
           }
          ],
          "surface": [
           {
            "colorbar": {
             "outlinewidth": 0,
             "ticks": ""
            },
            "colorscale": [
             [
              0,
              "#0d0887"
             ],
             [
              0.1111111111111111,
              "#46039f"
             ],
             [
              0.2222222222222222,
              "#7201a8"
             ],
             [
              0.3333333333333333,
              "#9c179e"
             ],
             [
              0.4444444444444444,
              "#bd3786"
             ],
             [
              0.5555555555555556,
              "#d8576b"
             ],
             [
              0.6666666666666666,
              "#ed7953"
             ],
             [
              0.7777777777777778,
              "#fb9f3a"
             ],
             [
              0.8888888888888888,
              "#fdca26"
             ],
             [
              1,
              "#f0f921"
             ]
            ],
            "type": "surface"
           }
          ],
          "table": [
           {
            "cells": {
             "fill": {
              "color": "#EBF0F8"
             },
             "line": {
              "color": "white"
             }
            },
            "header": {
             "fill": {
              "color": "#C8D4E3"
             },
             "line": {
              "color": "white"
             }
            },
            "type": "table"
           }
          ]
         },
         "layout": {
          "annotationdefaults": {
           "arrowcolor": "#2a3f5f",
           "arrowhead": 0,
           "arrowwidth": 1
          },
          "autotypenumbers": "strict",
          "coloraxis": {
           "colorbar": {
            "outlinewidth": 0,
            "ticks": ""
           }
          },
          "colorscale": {
           "diverging": [
            [
             0,
             "#8e0152"
            ],
            [
             0.1,
             "#c51b7d"
            ],
            [
             0.2,
             "#de77ae"
            ],
            [
             0.3,
             "#f1b6da"
            ],
            [
             0.4,
             "#fde0ef"
            ],
            [
             0.5,
             "#f7f7f7"
            ],
            [
             0.6,
             "#e6f5d0"
            ],
            [
             0.7,
             "#b8e186"
            ],
            [
             0.8,
             "#7fbc41"
            ],
            [
             0.9,
             "#4d9221"
            ],
            [
             1,
             "#276419"
            ]
           ],
           "sequential": [
            [
             0,
             "#0d0887"
            ],
            [
             0.1111111111111111,
             "#46039f"
            ],
            [
             0.2222222222222222,
             "#7201a8"
            ],
            [
             0.3333333333333333,
             "#9c179e"
            ],
            [
             0.4444444444444444,
             "#bd3786"
            ],
            [
             0.5555555555555556,
             "#d8576b"
            ],
            [
             0.6666666666666666,
             "#ed7953"
            ],
            [
             0.7777777777777778,
             "#fb9f3a"
            ],
            [
             0.8888888888888888,
             "#fdca26"
            ],
            [
             1,
             "#f0f921"
            ]
           ],
           "sequentialminus": [
            [
             0,
             "#0d0887"
            ],
            [
             0.1111111111111111,
             "#46039f"
            ],
            [
             0.2222222222222222,
             "#7201a8"
            ],
            [
             0.3333333333333333,
             "#9c179e"
            ],
            [
             0.4444444444444444,
             "#bd3786"
            ],
            [
             0.5555555555555556,
             "#d8576b"
            ],
            [
             0.6666666666666666,
             "#ed7953"
            ],
            [
             0.7777777777777778,
             "#fb9f3a"
            ],
            [
             0.8888888888888888,
             "#fdca26"
            ],
            [
             1,
             "#f0f921"
            ]
           ]
          },
          "colorway": [
           "#636efa",
           "#EF553B",
           "#00cc96",
           "#ab63fa",
           "#FFA15A",
           "#19d3f3",
           "#FF6692",
           "#B6E880",
           "#FF97FF",
           "#FECB52"
          ],
          "font": {
           "color": "#2a3f5f"
          },
          "geo": {
           "bgcolor": "white",
           "lakecolor": "white",
           "landcolor": "#E5ECF6",
           "showlakes": true,
           "showland": true,
           "subunitcolor": "white"
          },
          "hoverlabel": {
           "align": "left"
          },
          "hovermode": "closest",
          "mapbox": {
           "style": "light"
          },
          "paper_bgcolor": "white",
          "plot_bgcolor": "#E5ECF6",
          "polar": {
           "angularaxis": {
            "gridcolor": "white",
            "linecolor": "white",
            "ticks": ""
           },
           "bgcolor": "#E5ECF6",
           "radialaxis": {
            "gridcolor": "white",
            "linecolor": "white",
            "ticks": ""
           }
          },
          "scene": {
           "xaxis": {
            "backgroundcolor": "#E5ECF6",
            "gridcolor": "white",
            "gridwidth": 2,
            "linecolor": "white",
            "showbackground": true,
            "ticks": "",
            "zerolinecolor": "white"
           },
           "yaxis": {
            "backgroundcolor": "#E5ECF6",
            "gridcolor": "white",
            "gridwidth": 2,
            "linecolor": "white",
            "showbackground": true,
            "ticks": "",
            "zerolinecolor": "white"
           },
           "zaxis": {
            "backgroundcolor": "#E5ECF6",
            "gridcolor": "white",
            "gridwidth": 2,
            "linecolor": "white",
            "showbackground": true,
            "ticks": "",
            "zerolinecolor": "white"
           }
          },
          "shapedefaults": {
           "line": {
            "color": "#2a3f5f"
           }
          },
          "ternary": {
           "aaxis": {
            "gridcolor": "white",
            "linecolor": "white",
            "ticks": ""
           },
           "baxis": {
            "gridcolor": "white",
            "linecolor": "white",
            "ticks": ""
           },
           "bgcolor": "#E5ECF6",
           "caxis": {
            "gridcolor": "white",
            "linecolor": "white",
            "ticks": ""
           }
          },
          "title": {
           "x": 0.05
          },
          "xaxis": {
           "automargin": true,
           "gridcolor": "white",
           "linecolor": "white",
           "ticks": "",
           "title": {
            "standoff": 15
           },
           "zerolinecolor": "white",
           "zerolinewidth": 2
          },
          "yaxis": {
           "automargin": true,
           "gridcolor": "white",
           "linecolor": "white",
           "ticks": "",
           "title": {
            "standoff": 15
           },
           "zerolinecolor": "white",
           "zerolinewidth": 2
          }
         }
        },
        "xaxis": {
         "anchor": "y",
         "domain": [
          0,
          1
         ],
         "title": {
          "text": "value"
         }
        },
        "xaxis2": {
         "anchor": "y2",
         "domain": [
          0,
          1
         ],
         "matches": "x",
         "showgrid": true,
         "showticklabels": false
        },
        "yaxis": {
         "anchor": "x",
         "domain": [
          0,
          0.7326
         ],
         "title": {
          "text": "count"
         }
        },
        "yaxis2": {
         "anchor": "x2",
         "domain": [
          0.7426,
          1
         ],
         "matches": "y2",
         "showgrid": false,
         "showline": false,
         "showticklabels": false,
         "ticks": ""
        }
       }
      },
      "text/html": [
       "<div>                            <div id=\"f4f7f9b8-5b86-4777-9dcd-4e7e5b1f1d1f\" class=\"plotly-graph-div\" style=\"height:525px; width:100%;\"></div>            <script type=\"text/javascript\">                require([\"plotly\"], function(Plotly) {                    window.PLOTLYENV=window.PLOTLYENV || {};                                    if (document.getElementById(\"f4f7f9b8-5b86-4777-9dcd-4e7e5b1f1d1f\")) {                    Plotly.newPlot(                        \"f4f7f9b8-5b86-4777-9dcd-4e7e5b1f1d1f\",                        [{\"alignmentgroup\":\"True\",\"bingroup\":\"x\",\"hovertemplate\":\"variable=Homicides<br>value=%{x}<br>count=%{y}<extra></extra>\",\"legendgroup\":\"Homicides\",\"marker\":{\"color\":\"#636efa\",\"pattern\":{\"shape\":\"\"}},\"name\":\"Homicides\",\"offsetgroup\":\"Homicides\",\"orientation\":\"v\",\"showlegend\":true,\"x\":[5.97,4.17,4.36,4.68,3.47,1.9,2.91,5.12,4.31,4.52,null,0.82,4.5,3.51,1.15,2.42,2.95,9.58,1.06,5.41,1.93,4.72,1.23,7.1,5.72,1.8,2.32,3.36,null,3.16,3.89,2.69,3.95,null,3.62,3.52,1.57,4.13,1.6,5.07,null,4.67,3.57,1.05,null,3.37,1.72,2.72,1.89,null],\"xaxis\":\"x\",\"yaxis\":\"y\",\"type\":\"histogram\"},{\"alignmentgroup\":\"True\",\"hovertemplate\":\"variable=Homicides<br>value=%{x}<extra></extra>\",\"legendgroup\":\"Homicides\",\"marker\":{\"color\":\"#636efa\"},\"name\":\"Homicides\",\"notched\":true,\"offsetgroup\":\"Homicides\",\"showlegend\":false,\"x\":[5.97,4.17,4.36,4.68,3.47,1.9,2.91,5.12,4.31,4.52,null,0.82,4.5,3.51,1.15,2.42,2.95,9.58,1.06,5.41,1.93,4.72,1.23,7.1,5.72,1.8,2.32,3.36,null,3.16,3.89,2.69,3.95,null,3.62,3.52,1.57,4.13,1.6,5.07,null,4.67,3.57,1.05,null,3.37,1.72,2.72,1.89,null],\"xaxis\":\"x2\",\"yaxis\":\"y2\",\"type\":\"box\"},{\"alignmentgroup\":\"True\",\"bingroup\":\"x\",\"hovertemplate\":\"variable=Suicides<br>value=%{x}<br>count=%{y}<extra></extra>\",\"legendgroup\":\"Suicides\",\"marker\":{\"color\":\"#EF553B\",\"pattern\":{\"shape\":\"\"}},\"name\":\"Suicides\",\"offsetgroup\":\"Suicides\",\"orientation\":\"v\",\"showlegend\":true,\"x\":[9.24,15.43,9.53,9.0,3.97,8.19,2.92,4.75,6.88,7.45,2.56,11.65,3.34,6.82,5.59,7.22,8.94,8.52,6.47,3.69,2.01,5.89,5.15,8.51,7.82,13.04,5.54,10.51,7.04,1.94,9.82,2.25,7.21,8.39,6.08,9.93,9.18,5.62,2.82,8.24,8.09,8.93,6.97,10.65,9.56,6.99,6.74,10.64,6.35,13.76],\"xaxis\":\"x\",\"yaxis\":\"y\",\"type\":\"histogram\"},{\"alignmentgroup\":\"True\",\"hovertemplate\":\"variable=Suicides<br>value=%{x}<extra></extra>\",\"legendgroup\":\"Suicides\",\"marker\":{\"color\":\"#EF553B\"},\"name\":\"Suicides\",\"notched\":true,\"offsetgroup\":\"Suicides\",\"showlegend\":false,\"x\":[9.24,15.43,9.53,9.0,3.97,8.19,2.92,4.75,6.88,7.45,2.56,11.65,3.34,6.82,5.59,7.22,8.94,8.52,6.47,3.69,2.01,5.89,5.15,8.51,7.82,13.04,5.54,10.51,7.04,1.94,9.82,2.25,7.21,8.39,6.08,9.93,9.18,5.62,2.82,8.24,8.09,8.93,6.97,10.65,9.56,6.99,6.74,10.64,6.35,13.76],\"xaxis\":\"x2\",\"yaxis\":\"y2\",\"type\":\"box\"}],                        {\"template\":{\"data\":{\"bar\":[{\"error_x\":{\"color\":\"#2a3f5f\"},\"error_y\":{\"color\":\"#2a3f5f\"},\"marker\":{\"line\":{\"color\":\"#E5ECF6\",\"width\":0.5},\"pattern\":{\"fillmode\":\"overlay\",\"size\":10,\"solidity\":0.2}},\"type\":\"bar\"}],\"barpolar\":[{\"marker\":{\"line\":{\"color\":\"#E5ECF6\",\"width\":0.5},\"pattern\":{\"fillmode\":\"overlay\",\"size\":10,\"solidity\":0.2}},\"type\":\"barpolar\"}],\"carpet\":[{\"aaxis\":{\"endlinecolor\":\"#2a3f5f\",\"gridcolor\":\"white\",\"linecolor\":\"white\",\"minorgridcolor\":\"white\",\"startlinecolor\":\"#2a3f5f\"},\"baxis\":{\"endlinecolor\":\"#2a3f5f\",\"gridcolor\":\"white\",\"linecolor\":\"white\",\"minorgridcolor\":\"white\",\"startlinecolor\":\"#2a3f5f\"},\"type\":\"carpet\"}],\"choropleth\":[{\"colorbar\":{\"outlinewidth\":0,\"ticks\":\"\"},\"type\":\"choropleth\"}],\"contour\":[{\"colorbar\":{\"outlinewidth\":0,\"ticks\":\"\"},\"colorscale\":[[0.0,\"#0d0887\"],[0.1111111111111111,\"#46039f\"],[0.2222222222222222,\"#7201a8\"],[0.3333333333333333,\"#9c179e\"],[0.4444444444444444,\"#bd3786\"],[0.5555555555555556,\"#d8576b\"],[0.6666666666666666,\"#ed7953\"],[0.7777777777777778,\"#fb9f3a\"],[0.8888888888888888,\"#fdca26\"],[1.0,\"#f0f921\"]],\"type\":\"contour\"}],\"contourcarpet\":[{\"colorbar\":{\"outlinewidth\":0,\"ticks\":\"\"},\"type\":\"contourcarpet\"}],\"heatmap\":[{\"colorbar\":{\"outlinewidth\":0,\"ticks\":\"\"},\"colorscale\":[[0.0,\"#0d0887\"],[0.1111111111111111,\"#46039f\"],[0.2222222222222222,\"#7201a8\"],[0.3333333333333333,\"#9c179e\"],[0.4444444444444444,\"#bd3786\"],[0.5555555555555556,\"#d8576b\"],[0.6666666666666666,\"#ed7953\"],[0.7777777777777778,\"#fb9f3a\"],[0.8888888888888888,\"#fdca26\"],[1.0,\"#f0f921\"]],\"type\":\"heatmap\"}],\"heatmapgl\":[{\"colorbar\":{\"outlinewidth\":0,\"ticks\":\"\"},\"colorscale\":[[0.0,\"#0d0887\"],[0.1111111111111111,\"#46039f\"],[0.2222222222222222,\"#7201a8\"],[0.3333333333333333,\"#9c179e\"],[0.4444444444444444,\"#bd3786\"],[0.5555555555555556,\"#d8576b\"],[0.6666666666666666,\"#ed7953\"],[0.7777777777777778,\"#fb9f3a\"],[0.8888888888888888,\"#fdca26\"],[1.0,\"#f0f921\"]],\"type\":\"heatmapgl\"}],\"histogram\":[{\"marker\":{\"pattern\":{\"fillmode\":\"overlay\",\"size\":10,\"solidity\":0.2}},\"type\":\"histogram\"}],\"histogram2d\":[{\"colorbar\":{\"outlinewidth\":0,\"ticks\":\"\"},\"colorscale\":[[0.0,\"#0d0887\"],[0.1111111111111111,\"#46039f\"],[0.2222222222222222,\"#7201a8\"],[0.3333333333333333,\"#9c179e\"],[0.4444444444444444,\"#bd3786\"],[0.5555555555555556,\"#d8576b\"],[0.6666666666666666,\"#ed7953\"],[0.7777777777777778,\"#fb9f3a\"],[0.8888888888888888,\"#fdca26\"],[1.0,\"#f0f921\"]],\"type\":\"histogram2d\"}],\"histogram2dcontour\":[{\"colorbar\":{\"outlinewidth\":0,\"ticks\":\"\"},\"colorscale\":[[0.0,\"#0d0887\"],[0.1111111111111111,\"#46039f\"],[0.2222222222222222,\"#7201a8\"],[0.3333333333333333,\"#9c179e\"],[0.4444444444444444,\"#bd3786\"],[0.5555555555555556,\"#d8576b\"],[0.6666666666666666,\"#ed7953\"],[0.7777777777777778,\"#fb9f3a\"],[0.8888888888888888,\"#fdca26\"],[1.0,\"#f0f921\"]],\"type\":\"histogram2dcontour\"}],\"mesh3d\":[{\"colorbar\":{\"outlinewidth\":0,\"ticks\":\"\"},\"type\":\"mesh3d\"}],\"parcoords\":[{\"line\":{\"colorbar\":{\"outlinewidth\":0,\"ticks\":\"\"}},\"type\":\"parcoords\"}],\"pie\":[{\"automargin\":true,\"type\":\"pie\"}],\"scatter\":[{\"marker\":{\"colorbar\":{\"outlinewidth\":0,\"ticks\":\"\"}},\"type\":\"scatter\"}],\"scatter3d\":[{\"line\":{\"colorbar\":{\"outlinewidth\":0,\"ticks\":\"\"}},\"marker\":{\"colorbar\":{\"outlinewidth\":0,\"ticks\":\"\"}},\"type\":\"scatter3d\"}],\"scattercarpet\":[{\"marker\":{\"colorbar\":{\"outlinewidth\":0,\"ticks\":\"\"}},\"type\":\"scattercarpet\"}],\"scattergeo\":[{\"marker\":{\"colorbar\":{\"outlinewidth\":0,\"ticks\":\"\"}},\"type\":\"scattergeo\"}],\"scattergl\":[{\"marker\":{\"colorbar\":{\"outlinewidth\":0,\"ticks\":\"\"}},\"type\":\"scattergl\"}],\"scattermapbox\":[{\"marker\":{\"colorbar\":{\"outlinewidth\":0,\"ticks\":\"\"}},\"type\":\"scattermapbox\"}],\"scatterpolar\":[{\"marker\":{\"colorbar\":{\"outlinewidth\":0,\"ticks\":\"\"}},\"type\":\"scatterpolar\"}],\"scatterpolargl\":[{\"marker\":{\"colorbar\":{\"outlinewidth\":0,\"ticks\":\"\"}},\"type\":\"scatterpolargl\"}],\"scatterternary\":[{\"marker\":{\"colorbar\":{\"outlinewidth\":0,\"ticks\":\"\"}},\"type\":\"scatterternary\"}],\"surface\":[{\"colorbar\":{\"outlinewidth\":0,\"ticks\":\"\"},\"colorscale\":[[0.0,\"#0d0887\"],[0.1111111111111111,\"#46039f\"],[0.2222222222222222,\"#7201a8\"],[0.3333333333333333,\"#9c179e\"],[0.4444444444444444,\"#bd3786\"],[0.5555555555555556,\"#d8576b\"],[0.6666666666666666,\"#ed7953\"],[0.7777777777777778,\"#fb9f3a\"],[0.8888888888888888,\"#fdca26\"],[1.0,\"#f0f921\"]],\"type\":\"surface\"}],\"table\":[{\"cells\":{\"fill\":{\"color\":\"#EBF0F8\"},\"line\":{\"color\":\"white\"}},\"header\":{\"fill\":{\"color\":\"#C8D4E3\"},\"line\":{\"color\":\"white\"}},\"type\":\"table\"}]},\"layout\":{\"annotationdefaults\":{\"arrowcolor\":\"#2a3f5f\",\"arrowhead\":0,\"arrowwidth\":1},\"autotypenumbers\":\"strict\",\"coloraxis\":{\"colorbar\":{\"outlinewidth\":0,\"ticks\":\"\"}},\"colorscale\":{\"diverging\":[[0,\"#8e0152\"],[0.1,\"#c51b7d\"],[0.2,\"#de77ae\"],[0.3,\"#f1b6da\"],[0.4,\"#fde0ef\"],[0.5,\"#f7f7f7\"],[0.6,\"#e6f5d0\"],[0.7,\"#b8e186\"],[0.8,\"#7fbc41\"],[0.9,\"#4d9221\"],[1,\"#276419\"]],\"sequential\":[[0.0,\"#0d0887\"],[0.1111111111111111,\"#46039f\"],[0.2222222222222222,\"#7201a8\"],[0.3333333333333333,\"#9c179e\"],[0.4444444444444444,\"#bd3786\"],[0.5555555555555556,\"#d8576b\"],[0.6666666666666666,\"#ed7953\"],[0.7777777777777778,\"#fb9f3a\"],[0.8888888888888888,\"#fdca26\"],[1.0,\"#f0f921\"]],\"sequentialminus\":[[0.0,\"#0d0887\"],[0.1111111111111111,\"#46039f\"],[0.2222222222222222,\"#7201a8\"],[0.3333333333333333,\"#9c179e\"],[0.4444444444444444,\"#bd3786\"],[0.5555555555555556,\"#d8576b\"],[0.6666666666666666,\"#ed7953\"],[0.7777777777777778,\"#fb9f3a\"],[0.8888888888888888,\"#fdca26\"],[1.0,\"#f0f921\"]]},\"colorway\":[\"#636efa\",\"#EF553B\",\"#00cc96\",\"#ab63fa\",\"#FFA15A\",\"#19d3f3\",\"#FF6692\",\"#B6E880\",\"#FF97FF\",\"#FECB52\"],\"font\":{\"color\":\"#2a3f5f\"},\"geo\":{\"bgcolor\":\"white\",\"lakecolor\":\"white\",\"landcolor\":\"#E5ECF6\",\"showlakes\":true,\"showland\":true,\"subunitcolor\":\"white\"},\"hoverlabel\":{\"align\":\"left\"},\"hovermode\":\"closest\",\"mapbox\":{\"style\":\"light\"},\"paper_bgcolor\":\"white\",\"plot_bgcolor\":\"#E5ECF6\",\"polar\":{\"angularaxis\":{\"gridcolor\":\"white\",\"linecolor\":\"white\",\"ticks\":\"\"},\"bgcolor\":\"#E5ECF6\",\"radialaxis\":{\"gridcolor\":\"white\",\"linecolor\":\"white\",\"ticks\":\"\"}},\"scene\":{\"xaxis\":{\"backgroundcolor\":\"#E5ECF6\",\"gridcolor\":\"white\",\"gridwidth\":2,\"linecolor\":\"white\",\"showbackground\":true,\"ticks\":\"\",\"zerolinecolor\":\"white\"},\"yaxis\":{\"backgroundcolor\":\"#E5ECF6\",\"gridcolor\":\"white\",\"gridwidth\":2,\"linecolor\":\"white\",\"showbackground\":true,\"ticks\":\"\",\"zerolinecolor\":\"white\"},\"zaxis\":{\"backgroundcolor\":\"#E5ECF6\",\"gridcolor\":\"white\",\"gridwidth\":2,\"linecolor\":\"white\",\"showbackground\":true,\"ticks\":\"\",\"zerolinecolor\":\"white\"}},\"shapedefaults\":{\"line\":{\"color\":\"#2a3f5f\"}},\"ternary\":{\"aaxis\":{\"gridcolor\":\"white\",\"linecolor\":\"white\",\"ticks\":\"\"},\"baxis\":{\"gridcolor\":\"white\",\"linecolor\":\"white\",\"ticks\":\"\"},\"bgcolor\":\"#E5ECF6\",\"caxis\":{\"gridcolor\":\"white\",\"linecolor\":\"white\",\"ticks\":\"\"}},\"title\":{\"x\":0.05},\"xaxis\":{\"automargin\":true,\"gridcolor\":\"white\",\"linecolor\":\"white\",\"ticks\":\"\",\"title\":{\"standoff\":15},\"zerolinecolor\":\"white\",\"zerolinewidth\":2},\"yaxis\":{\"automargin\":true,\"gridcolor\":\"white\",\"linecolor\":\"white\",\"ticks\":\"\",\"title\":{\"standoff\":15},\"zerolinecolor\":\"white\",\"zerolinewidth\":2}}},\"xaxis\":{\"anchor\":\"y\",\"domain\":[0.0,1.0],\"title\":{\"text\":\"value\"}},\"yaxis\":{\"anchor\":\"x\",\"domain\":[0.0,0.7326],\"title\":{\"text\":\"count\"}},\"xaxis2\":{\"anchor\":\"y2\",\"domain\":[0.0,1.0],\"matches\":\"x\",\"showticklabels\":false,\"showgrid\":true},\"yaxis2\":{\"anchor\":\"x2\",\"domain\":[0.7426,1.0],\"matches\":\"y2\",\"showticklabels\":false,\"showline\":false,\"ticks\":\"\",\"showgrid\":false},\"legend\":{\"title\":{\"text\":\"variable\"},\"tracegroupgap\":0},\"margin\":{\"t\":60},\"barmode\":\"relative\"},                        {\"responsive\": true}                    ).then(function(){\n",
       "                            \n",
       "var gd = document.getElementById('f4f7f9b8-5b86-4777-9dcd-4e7e5b1f1d1f');\n",
       "var x = new MutationObserver(function (mutations, observer) {{\n",
       "        var display = window.getComputedStyle(gd).display;\n",
       "        if (!display || display === 'none') {{\n",
       "            console.log([gd, 'removed!']);\n",
       "            Plotly.purge(gd);\n",
       "            observer.disconnect();\n",
       "        }}\n",
       "}});\n",
       "\n",
       "// Listen for the removal of the full notebook cells\n",
       "var notebookContainer = gd.closest('#notebook-container');\n",
       "if (notebookContainer) {{\n",
       "    x.observe(notebookContainer, {childList: true});\n",
       "}}\n",
       "\n",
       "// Listen for the clearing of the current output cell\n",
       "var outputEl = gd.closest('.output');\n",
       "if (outputEl) {{\n",
       "    x.observe(outputEl, {childList: true});\n",
       "}}\n",
       "\n",
       "                        })                };                });            </script>        </div>"
      ]
     },
     "metadata": {},
     "output_type": "display_data"
    }
   ],
   "source": [
    "test = deaths[deaths['Year']==2010]\n",
    "fig = px.histogram(test, x=[\"Homicides\",\"Suicides\"],\n",
    "            marginal='box')\n",
    "fig.show()"
   ]
  },
  {
   "cell_type": "code",
   "execution_count": 71,
   "metadata": {},
   "outputs": [
    {
     "name": "stdout",
     "output_type": "stream",
     "text": [
      "Dataset 1 Dimensions:  (1850, 10)\n",
      "Dataset 2 Dimensions:  (1400, 4)\n",
      "Dataset 3 Dimensions:  (1850, 13)\n"
     ]
    },
    {
     "data": {
      "text/html": [
       "<div>\n",
       "<style scoped>\n",
       "    .dataframe tbody tr th:only-of-type {\n",
       "        vertical-align: middle;\n",
       "    }\n",
       "\n",
       "    .dataframe tbody tr th {\n",
       "        vertical-align: top;\n",
       "    }\n",
       "\n",
       "    .dataframe thead th {\n",
       "        text-align: right;\n",
       "    }\n",
       "</style>\n",
       "<table border=\"1\" class=\"dataframe\">\n",
       "  <thead>\n",
       "    <tr style=\"text-align: right;\">\n",
       "      <th></th>\n",
       "      <th>FIP</th>\n",
       "      <th>Year</th>\n",
       "      <th>State_x</th>\n",
       "      <th>universl</th>\n",
       "      <th>permit</th>\n",
       "      <th>HuntLic</th>\n",
       "      <th>GunsAmmo</th>\n",
       "      <th>BackChk</th>\n",
       "      <th>ST</th>\n",
       "      <th>avg_own_est</th>\n",
       "      <th>Suicides</th>\n",
       "      <th>Homicides</th>\n",
       "      <th>State_y</th>\n",
       "    </tr>\n",
       "  </thead>\n",
       "  <tbody>\n",
       "    <tr>\n",
       "      <th>0</th>\n",
       "      <td>1</td>\n",
       "      <td>1980</td>\n",
       "      <td>Alabama</td>\n",
       "      <td>0</td>\n",
       "      <td>0</td>\n",
       "      <td>0.291102</td>\n",
       "      <td>-0.509164</td>\n",
       "      <td>NaN</td>\n",
       "      <td>AL</td>\n",
       "      <td>0.568791</td>\n",
       "      <td>NaN</td>\n",
       "      <td>NaN</td>\n",
       "      <td>NaN</td>\n",
       "    </tr>\n",
       "    <tr>\n",
       "      <th>1</th>\n",
       "      <td>1</td>\n",
       "      <td>1981</td>\n",
       "      <td>Alabama</td>\n",
       "      <td>0</td>\n",
       "      <td>0</td>\n",
       "      <td>0.294962</td>\n",
       "      <td>-0.618954</td>\n",
       "      <td>NaN</td>\n",
       "      <td>AL</td>\n",
       "      <td>NaN</td>\n",
       "      <td>NaN</td>\n",
       "      <td>NaN</td>\n",
       "      <td>NaN</td>\n",
       "    </tr>\n",
       "    <tr>\n",
       "      <th>2</th>\n",
       "      <td>1</td>\n",
       "      <td>1982</td>\n",
       "      <td>Alabama</td>\n",
       "      <td>0</td>\n",
       "      <td>0</td>\n",
       "      <td>0.290545</td>\n",
       "      <td>-0.526692</td>\n",
       "      <td>NaN</td>\n",
       "      <td>AL</td>\n",
       "      <td>0.655196</td>\n",
       "      <td>NaN</td>\n",
       "      <td>NaN</td>\n",
       "      <td>NaN</td>\n",
       "    </tr>\n",
       "    <tr>\n",
       "      <th>3</th>\n",
       "      <td>1</td>\n",
       "      <td>1983</td>\n",
       "      <td>Alabama</td>\n",
       "      <td>0</td>\n",
       "      <td>0</td>\n",
       "      <td>0.284983</td>\n",
       "      <td>-0.713227</td>\n",
       "      <td>NaN</td>\n",
       "      <td>AL</td>\n",
       "      <td>0.611440</td>\n",
       "      <td>NaN</td>\n",
       "      <td>NaN</td>\n",
       "      <td>NaN</td>\n",
       "    </tr>\n",
       "    <tr>\n",
       "      <th>4</th>\n",
       "      <td>1</td>\n",
       "      <td>1984</td>\n",
       "      <td>Alabama</td>\n",
       "      <td>0</td>\n",
       "      <td>0</td>\n",
       "      <td>0.281622</td>\n",
       "      <td>-0.733305</td>\n",
       "      <td>NaN</td>\n",
       "      <td>AL</td>\n",
       "      <td>0.626933</td>\n",
       "      <td>NaN</td>\n",
       "      <td>NaN</td>\n",
       "      <td>NaN</td>\n",
       "    </tr>\n",
       "  </tbody>\n",
       "</table>\n",
       "</div>"
      ],
      "text/plain": [
       "   FIP  Year  State_x  universl  permit   HuntLic  GunsAmmo  BackChk  ST  \\\n",
       "0    1  1980  Alabama         0       0  0.291102 -0.509164      NaN  AL   \n",
       "1    1  1981  Alabama         0       0  0.294962 -0.618954      NaN  AL   \n",
       "2    1  1982  Alabama         0       0  0.290545 -0.526692      NaN  AL   \n",
       "3    1  1983  Alabama         0       0  0.284983 -0.713227      NaN  AL   \n",
       "4    1  1984  Alabama         0       0  0.281622 -0.733305      NaN  AL   \n",
       "\n",
       "   avg_own_est  Suicides  Homicides State_y  \n",
       "0     0.568791       NaN        NaN     NaN  \n",
       "1          NaN       NaN        NaN     NaN  \n",
       "2     0.655196       NaN        NaN     NaN  \n",
       "3     0.611440       NaN        NaN     NaN  \n",
       "4     0.626933       NaN        NaN     NaN  "
      ]
     },
     "execution_count": 71,
     "metadata": {},
     "output_type": "execute_result"
    }
   ],
   "source": [
    "print(\"Dataset 1 Dimensions: \", own_df.shape)\n",
    "#Join deaths and ownership data\n",
    "own_df = pd.merge(\n",
    "    own_df,\n",
    "    deaths,\n",
    "    how='left',\n",
    "    left_on=['ST','Year'],\n",
    "    right_on=['State','Year']\n",
    ")\n",
    "print(\"Dataset 2 Dimensions: \", deaths.shape)\n",
    "print(\"Dataset 3 Dimensions: \", own_df.shape)\n",
    "\n",
    "own_df.head()"
   ]
  },
  {
   "cell_type": "code",
   "execution_count": 72,
   "metadata": {
    "scrolled": false
   },
   "outputs": [
    {
     "name": "stdout",
     "output_type": "stream",
     "text": [
      "(1300, 12)\n"
     ]
    },
    {
     "data": {
      "text/html": [
       "<div>\n",
       "<style scoped>\n",
       "    .dataframe tbody tr th:only-of-type {\n",
       "        vertical-align: middle;\n",
       "    }\n",
       "\n",
       "    .dataframe tbody tr th {\n",
       "        vertical-align: top;\n",
       "    }\n",
       "\n",
       "    .dataframe thead th {\n",
       "        text-align: right;\n",
       "    }\n",
       "</style>\n",
       "<table border=\"1\" class=\"dataframe\">\n",
       "  <thead>\n",
       "    <tr style=\"text-align: right;\">\n",
       "      <th></th>\n",
       "      <th>FIP</th>\n",
       "      <th>Year</th>\n",
       "      <th>State</th>\n",
       "      <th>universl</th>\n",
       "      <th>permit</th>\n",
       "      <th>HuntLic</th>\n",
       "      <th>GunsAmmo</th>\n",
       "      <th>BackChk</th>\n",
       "      <th>ST</th>\n",
       "      <th>avg_own_est</th>\n",
       "      <th>Suicides</th>\n",
       "      <th>Homicides</th>\n",
       "    </tr>\n",
       "  </thead>\n",
       "  <tbody>\n",
       "    <tr>\n",
       "      <th>11</th>\n",
       "      <td>1</td>\n",
       "      <td>1991</td>\n",
       "      <td>Alabama</td>\n",
       "      <td>0</td>\n",
       "      <td>0</td>\n",
       "      <td>0.249210</td>\n",
       "      <td>-0.806069</td>\n",
       "      <td>NaN</td>\n",
       "      <td>AL</td>\n",
       "      <td>0.658029</td>\n",
       "      <td>10.38</td>\n",
       "      <td>9.90</td>\n",
       "    </tr>\n",
       "    <tr>\n",
       "      <th>12</th>\n",
       "      <td>1</td>\n",
       "      <td>1992</td>\n",
       "      <td>Alabama</td>\n",
       "      <td>0</td>\n",
       "      <td>0</td>\n",
       "      <td>0.248809</td>\n",
       "      <td>-0.823236</td>\n",
       "      <td>NaN</td>\n",
       "      <td>AL</td>\n",
       "      <td>NaN</td>\n",
       "      <td>9.46</td>\n",
       "      <td>9.08</td>\n",
       "    </tr>\n",
       "    <tr>\n",
       "      <th>13</th>\n",
       "      <td>1</td>\n",
       "      <td>1993</td>\n",
       "      <td>Alabama</td>\n",
       "      <td>0</td>\n",
       "      <td>0</td>\n",
       "      <td>0.247217</td>\n",
       "      <td>-0.631047</td>\n",
       "      <td>NaN</td>\n",
       "      <td>AL</td>\n",
       "      <td>0.612283</td>\n",
       "      <td>10.06</td>\n",
       "      <td>9.49</td>\n",
       "    </tr>\n",
       "    <tr>\n",
       "      <th>14</th>\n",
       "      <td>1</td>\n",
       "      <td>1994</td>\n",
       "      <td>Alabama</td>\n",
       "      <td>0</td>\n",
       "      <td>0</td>\n",
       "      <td>0.244709</td>\n",
       "      <td>-0.611366</td>\n",
       "      <td>NaN</td>\n",
       "      <td>AL</td>\n",
       "      <td>0.545011</td>\n",
       "      <td>9.39</td>\n",
       "      <td>9.83</td>\n",
       "    </tr>\n",
       "    <tr>\n",
       "      <th>15</th>\n",
       "      <td>1</td>\n",
       "      <td>1995</td>\n",
       "      <td>Alabama</td>\n",
       "      <td>0</td>\n",
       "      <td>0</td>\n",
       "      <td>0.250194</td>\n",
       "      <td>-0.325590</td>\n",
       "      <td>NaN</td>\n",
       "      <td>AL</td>\n",
       "      <td>NaN</td>\n",
       "      <td>9.92</td>\n",
       "      <td>9.07</td>\n",
       "    </tr>\n",
       "  </tbody>\n",
       "</table>\n",
       "</div>"
      ],
      "text/plain": [
       "    FIP  Year    State  universl  permit   HuntLic  GunsAmmo  BackChk  ST  \\\n",
       "11    1  1991  Alabama         0       0  0.249210 -0.806069      NaN  AL   \n",
       "12    1  1992  Alabama         0       0  0.248809 -0.823236      NaN  AL   \n",
       "13    1  1993  Alabama         0       0  0.247217 -0.631047      NaN  AL   \n",
       "14    1  1994  Alabama         0       0  0.244709 -0.611366      NaN  AL   \n",
       "15    1  1995  Alabama         0       0  0.250194 -0.325590      NaN  AL   \n",
       "\n",
       "    avg_own_est  Suicides  Homicides  \n",
       "11     0.658029     10.38       9.90  \n",
       "12          NaN      9.46       9.08  \n",
       "13     0.612283     10.06       9.49  \n",
       "14     0.545011      9.39       9.83  \n",
       "15          NaN      9.92       9.07  "
      ]
     },
     "execution_count": 72,
     "metadata": {},
     "output_type": "execute_result"
    }
   ],
   "source": [
    "#Clean up own_df\n",
    "#1.) Delete extra state column\n",
    "del own_df['State_y']\n",
    "#2.) Rename first state column\n",
    "own_df = own_df.rename(columns={'State_x': 'State'})\n",
    "#3.) Filter out everything before 1991\n",
    "own_df = own_df[own_df['Year']>=1991]\n",
    "#Display results\n",
    "print(own_df.shape)\n",
    "own_df.head()"
   ]
  },
  {
   "cell_type": "markdown",
   "metadata": {},
   "source": [
    "#### Part 1c: Look at the Laws dataset"
   ]
  },
  {
   "cell_type": "code",
   "execution_count": 14,
   "metadata": {},
   "outputs": [
    {
     "data": {
      "text/html": [
       "<div>\n",
       "<style scoped>\n",
       "    .dataframe tbody tr th:only-of-type {\n",
       "        vertical-align: middle;\n",
       "    }\n",
       "\n",
       "    .dataframe tbody tr th {\n",
       "        vertical-align: top;\n",
       "    }\n",
       "\n",
       "    .dataframe thead th {\n",
       "        text-align: right;\n",
       "    }\n",
       "</style>\n",
       "<table border=\"1\" class=\"dataframe\">\n",
       "  <thead>\n",
       "    <tr style=\"text-align: right;\">\n",
       "      <th></th>\n",
       "      <th>Law ID</th>\n",
       "      <th>State</th>\n",
       "      <th>State Postal Abbreviation</th>\n",
       "      <th>FIPS Code</th>\n",
       "      <th>Law Class (num)</th>\n",
       "      <th>Law Class</th>\n",
       "      <th>Law Class Subtype</th>\n",
       "      <th>Handguns or Long Guns</th>\n",
       "      <th>Effect</th>\n",
       "      <th>Type of Change</th>\n",
       "      <th>...</th>\n",
       "      <th>Supersession Date</th>\n",
       "      <th>Supersession Date Year</th>\n",
       "      <th>Supersession Date Month</th>\n",
       "      <th>Supersession Date Day</th>\n",
       "      <th>Controlling Law at Beginning of Period (1979)</th>\n",
       "      <th>Age for Minimum Age Laws</th>\n",
       "      <th>Length of Waiting Period (days, handguns)</th>\n",
       "      <th>Additional Context and Notes</th>\n",
       "      <th>Caveats and Ambiguities</th>\n",
       "      <th>Exception Code</th>\n",
       "    </tr>\n",
       "  </thead>\n",
       "  <tbody>\n",
       "    <tr>\n",
       "      <th>0</th>\n",
       "      <td>AL1001</td>\n",
       "      <td>Alabama</td>\n",
       "      <td>AL</td>\n",
       "      <td>1</td>\n",
       "      <td>1</td>\n",
       "      <td>background checks</td>\n",
       "      <td>private sales</td>\n",
       "      <td>handgun</td>\n",
       "      <td>NaN</td>\n",
       "      <td>NaN</td>\n",
       "      <td>...</td>\n",
       "      <td>NaN</td>\n",
       "      <td>NaN</td>\n",
       "      <td>NaN</td>\n",
       "      <td>NaN</td>\n",
       "      <td>1.0</td>\n",
       "      <td>NaN</td>\n",
       "      <td>NaN</td>\n",
       "      <td>NaN</td>\n",
       "      <td>NaN</td>\n",
       "      <td>NaN</td>\n",
       "    </tr>\n",
       "    <tr>\n",
       "      <th>1</th>\n",
       "      <td>AL1002</td>\n",
       "      <td>Alabama</td>\n",
       "      <td>AL</td>\n",
       "      <td>1</td>\n",
       "      <td>1</td>\n",
       "      <td>background checks</td>\n",
       "      <td>sales from dealer</td>\n",
       "      <td>handgun</td>\n",
       "      <td>NaN</td>\n",
       "      <td>NaN</td>\n",
       "      <td>...</td>\n",
       "      <td>NaN</td>\n",
       "      <td>NaN</td>\n",
       "      <td>NaN</td>\n",
       "      <td>NaN</td>\n",
       "      <td>1.0</td>\n",
       "      <td>NaN</td>\n",
       "      <td>NaN</td>\n",
       "      <td>NaN</td>\n",
       "      <td>NaN</td>\n",
       "      <td>NaN</td>\n",
       "    </tr>\n",
       "  </tbody>\n",
       "</table>\n",
       "<p>2 rows × 27 columns</p>\n",
       "</div>"
      ],
      "text/plain": [
       "   Law ID    State State Postal Abbreviation  FIPS Code  Law Class (num)  \\\n",
       "0  AL1001  Alabama                        AL          1                1   \n",
       "1  AL1002  Alabama                        AL          1                1   \n",
       "\n",
       "           Law Class  Law Class Subtype Handguns or Long Guns Effect  \\\n",
       "0  background checks      private sales               handgun    NaN   \n",
       "1  background checks  sales from dealer               handgun    NaN   \n",
       "\n",
       "  Type of Change  ... Supersession Date Supersession Date Year  \\\n",
       "0            NaN  ...               NaN                    NaN   \n",
       "1            NaN  ...               NaN                    NaN   \n",
       "\n",
       "   Supersession Date Month Supersession Date Day  \\\n",
       "0                      NaN                   NaN   \n",
       "1                      NaN                   NaN   \n",
       "\n",
       "   Controlling Law at Beginning of Period (1979) Age for Minimum Age Laws  \\\n",
       "0                                            1.0                      NaN   \n",
       "1                                            1.0                      NaN   \n",
       "\n",
       "  Length of Waiting Period (days, handguns) Additional Context and Notes  \\\n",
       "0                                       NaN                          NaN   \n",
       "1                                       NaN                          NaN   \n",
       "\n",
       "   Caveats and Ambiguities  Exception Code  \n",
       "0                      NaN             NaN  \n",
       "1                      NaN             NaN  \n",
       "\n",
       "[2 rows x 27 columns]"
      ]
     },
     "execution_count": 14,
     "metadata": {},
     "output_type": "execute_result"
    }
   ],
   "source": [
    "laws.head(2)"
   ]
  },
  {
   "cell_type": "code",
   "execution_count": 15,
   "metadata": {
    "scrolled": true
   },
   "outputs": [],
   "source": [
    "#Fix Mississippi and District of Columbia\n",
    "laws['State'] = np.where(laws['State']=='MIssissippi', 'Mississippi', laws['State'])\n",
    "laws['State'] = np.where(laws['State']=='DIstrict of Columbia', 'District of Columbia', laws['State'])"
   ]
  },
  {
   "cell_type": "code",
   "execution_count": 16,
   "metadata": {
    "scrolled": true
   },
   "outputs": [
    {
     "data": {
      "text/html": [
       "<div>\n",
       "<style scoped>\n",
       "    .dataframe tbody tr th:only-of-type {\n",
       "        vertical-align: middle;\n",
       "    }\n",
       "\n",
       "    .dataframe tbody tr th {\n",
       "        vertical-align: top;\n",
       "    }\n",
       "\n",
       "    .dataframe thead th {\n",
       "        text-align: right;\n",
       "    }\n",
       "</style>\n",
       "<table border=\"1\" class=\"dataframe\">\n",
       "  <thead>\n",
       "    <tr style=\"text-align: right;\">\n",
       "      <th></th>\n",
       "      <th>Law ID</th>\n",
       "      <th>State</th>\n",
       "      <th>ST</th>\n",
       "      <th>Law Class</th>\n",
       "      <th>Effect</th>\n",
       "      <th>Type of Change</th>\n",
       "      <th>Effective Date</th>\n",
       "      <th>Year</th>\n",
       "      <th>Content</th>\n",
       "      <th>min_age</th>\n",
       "      <th>wait_days</th>\n",
       "    </tr>\n",
       "  </thead>\n",
       "  <tbody>\n",
       "    <tr>\n",
       "      <th>4</th>\n",
       "      <td>AL1005</td>\n",
       "      <td>Alabama</td>\n",
       "      <td>AL</td>\n",
       "      <td>castle doctrine</td>\n",
       "      <td>Permissive</td>\n",
       "      <td>Modify</td>\n",
       "      <td>2006-06-01</td>\n",
       "      <td>2006</td>\n",
       "      <td>A person who is justified under subsection (a)...</td>\n",
       "      <td>NaN</td>\n",
       "      <td>NaN</td>\n",
       "    </tr>\n",
       "    <tr>\n",
       "      <th>11</th>\n",
       "      <td>AL1012</td>\n",
       "      <td>Alabama</td>\n",
       "      <td>AL</td>\n",
       "      <td>minimum age</td>\n",
       "      <td>Restrictive</td>\n",
       "      <td>Implement</td>\n",
       "      <td>2015-10-01</td>\n",
       "      <td>2015</td>\n",
       "      <td>No person who is a minor, except under the cir...</td>\n",
       "      <td>18</td>\n",
       "      <td>NaN</td>\n",
       "    </tr>\n",
       "  </tbody>\n",
       "</table>\n",
       "</div>"
      ],
      "text/plain": [
       "    Law ID    State  ST        Law Class       Effect Type of Change  \\\n",
       "4   AL1005  Alabama  AL  castle doctrine   Permissive         Modify   \n",
       "11  AL1012  Alabama  AL      minimum age  Restrictive      Implement   \n",
       "\n",
       "   Effective Date  Year                                            Content  \\\n",
       "4      2006-06-01  2006  A person who is justified under subsection (a)...   \n",
       "11     2015-10-01  2015  No person who is a minor, except under the cir...   \n",
       "\n",
       "   min_age wait_days  \n",
       "4      NaN       NaN  \n",
       "11      18       NaN  "
      ]
     },
     "execution_count": 16,
     "metadata": {},
     "output_type": "execute_result"
    }
   ],
   "source": [
    "#Clean up the laws dataset\n",
    "\n",
    "#1.) Remove columns were not gonna use\n",
    "del laws['Statutory Citation']\n",
    "del laws['Law Class (num)']\n",
    "del laws['Controlling Law at Beginning of Period (1979)']\n",
    "del laws['Exception Code']\n",
    "del laws['Additional Context and Notes'],\n",
    "del laws['Caveats and Ambiguities']\n",
    "del laws['FIPS Code']\n",
    "del laws['Law Class Subtype']\n",
    "del laws['Supersession Date']\n",
    "del laws['Supersession Date Year']\n",
    "del laws['Supersession Date Month']\n",
    "del laws['Supersession Date Day']\n",
    "del laws['Effective Date Note']\n",
    "del laws['Effective Date Month']\n",
    "del laws['Effective Date Day']\n",
    "del laws['Handguns or Long Guns']\n",
    "\n",
    "\n",
    "#2.) Rename a couple of columns\n",
    "laws = laws.rename(\n",
    "    columns={\n",
    "        'State Postal Abbreviation': 'ST',\n",
    "        'Effective Date Year': 'Year',\n",
    "        'Age for Minimum Age Laws':'min_age',\n",
    "        'Length of Waiting Period (days, handguns)':'wait_days'\n",
    "    }\n",
    ")\n",
    "\n",
    "#3.) Filter data to 1991 and on - matches deaths dataset\n",
    "laws = laws[laws['Year']>=1991]\n",
    "laws['Year'] = laws['Year'].astype(int)\n",
    "\n",
    "#Display results\n",
    "laws.head(2)"
   ]
  },
  {
   "cell_type": "code",
   "execution_count": 17,
   "metadata": {},
   "outputs": [],
   "source": [
    "# test = laws[['Law Class','min_age','wait_days']]\n",
    "# test['age_ind'] = np.where(test['Law Class']=='minimum age',1,0)\n",
    "# test['wait_ind'] = np.where(test['Law Class']=='waiting period',1,0)\n",
    "\n",
    "#test['age_ind'].sum() --> 75\n",
    "#test['wait_ind'].sum() --> 57\n",
    "\n",
    "#test2 = test[test['age_ind']==1]\n",
    "#test2['Age for Minimum Age Laws'].unique()\n",
    "#['18', '21', '17', nan, '18/21 depending on seller', '19']\n",
    "\n",
    "#test3 = test[test['wait_ind']==1]\n",
    "#test3['Length of Waiting Period (days, handguns)'].unique()\n",
    "#[nan, '5', '10', '14', '3']\n"
   ]
  },
  {
   "cell_type": "code",
   "execution_count": 18,
   "metadata": {},
   "outputs": [
    {
     "data": {
      "application/vnd.plotly.v1+json": {
       "config": {
        "plotlyServerURL": "https://plot.ly"
       },
       "data": [
        {
         "hovertemplate": "Effect=Permissive<br>Year=%{x}<br>Count=%{y}<extra></extra>",
         "legendgroup": "Permissive",
         "line": {
          "color": "#636efa",
          "dash": "solid"
         },
         "marker": {
          "symbol": "circle"
         },
         "mode": "lines",
         "name": "Permissive",
         "orientation": "v",
         "showlegend": true,
         "type": "scatter",
         "x": [
          1991,
          1993,
          1994,
          1995,
          1996,
          1997,
          1998,
          1999,
          2000,
          2001,
          2003,
          2004,
          2005,
          2006,
          2007,
          2008,
          2009,
          2010,
          2011,
          2012,
          2013,
          2014,
          2015,
          2016,
          2017,
          2018,
          2019
         ],
         "xaxis": "x",
         "y": [
          4,
          3,
          12,
          10,
          8,
          8,
          21,
          1,
          2,
          1,
          3,
          4,
          2,
          14,
          11,
          5,
          3,
          1,
          9,
          4,
          3,
          3,
          5,
          4,
          5,
          3,
          3
         ],
         "yaxis": "y"
        },
        {
         "hovertemplate": "Effect=Restrictive<br>Year=%{x}<br>Count=%{y}<extra></extra>",
         "legendgroup": "Restrictive",
         "line": {
          "color": "#EF553B",
          "dash": "solid"
         },
         "marker": {
          "symbol": "circle"
         },
         "mode": "lines",
         "name": "Restrictive",
         "orientation": "v",
         "showlegend": true,
         "type": "scatter",
         "x": [
          1991,
          1992,
          1993,
          1994,
          1995,
          1996,
          1997,
          1998,
          1999,
          2000,
          2001,
          2002,
          2003,
          2004,
          2005,
          2006,
          2007,
          2008,
          2009,
          2010,
          2011,
          2012,
          2013,
          2014,
          2015,
          2016,
          2017,
          2018,
          2019,
          2020
         ],
         "xaxis": "x",
         "y": [
          18,
          13,
          15,
          129,
          25,
          14,
          8,
          75,
          9,
          13,
          8,
          6,
          9,
          5,
          3,
          3,
          3,
          8,
          12,
          7,
          1,
          6,
          32,
          16,
          13,
          9,
          6,
          32,
          22,
          7
         ],
         "yaxis": "y"
        }
       ],
       "layout": {
        "legend": {
         "title": {
          "text": "Effect"
         },
         "tracegroupgap": 0
        },
        "margin": {
         "t": 60
        },
        "template": {
         "data": {
          "bar": [
           {
            "error_x": {
             "color": "#2a3f5f"
            },
            "error_y": {
             "color": "#2a3f5f"
            },
            "marker": {
             "line": {
              "color": "#E5ECF6",
              "width": 0.5
             },
             "pattern": {
              "fillmode": "overlay",
              "size": 10,
              "solidity": 0.2
             }
            },
            "type": "bar"
           }
          ],
          "barpolar": [
           {
            "marker": {
             "line": {
              "color": "#E5ECF6",
              "width": 0.5
             },
             "pattern": {
              "fillmode": "overlay",
              "size": 10,
              "solidity": 0.2
             }
            },
            "type": "barpolar"
           }
          ],
          "carpet": [
           {
            "aaxis": {
             "endlinecolor": "#2a3f5f",
             "gridcolor": "white",
             "linecolor": "white",
             "minorgridcolor": "white",
             "startlinecolor": "#2a3f5f"
            },
            "baxis": {
             "endlinecolor": "#2a3f5f",
             "gridcolor": "white",
             "linecolor": "white",
             "minorgridcolor": "white",
             "startlinecolor": "#2a3f5f"
            },
            "type": "carpet"
           }
          ],
          "choropleth": [
           {
            "colorbar": {
             "outlinewidth": 0,
             "ticks": ""
            },
            "type": "choropleth"
           }
          ],
          "contour": [
           {
            "colorbar": {
             "outlinewidth": 0,
             "ticks": ""
            },
            "colorscale": [
             [
              0,
              "#0d0887"
             ],
             [
              0.1111111111111111,
              "#46039f"
             ],
             [
              0.2222222222222222,
              "#7201a8"
             ],
             [
              0.3333333333333333,
              "#9c179e"
             ],
             [
              0.4444444444444444,
              "#bd3786"
             ],
             [
              0.5555555555555556,
              "#d8576b"
             ],
             [
              0.6666666666666666,
              "#ed7953"
             ],
             [
              0.7777777777777778,
              "#fb9f3a"
             ],
             [
              0.8888888888888888,
              "#fdca26"
             ],
             [
              1,
              "#f0f921"
             ]
            ],
            "type": "contour"
           }
          ],
          "contourcarpet": [
           {
            "colorbar": {
             "outlinewidth": 0,
             "ticks": ""
            },
            "type": "contourcarpet"
           }
          ],
          "heatmap": [
           {
            "colorbar": {
             "outlinewidth": 0,
             "ticks": ""
            },
            "colorscale": [
             [
              0,
              "#0d0887"
             ],
             [
              0.1111111111111111,
              "#46039f"
             ],
             [
              0.2222222222222222,
              "#7201a8"
             ],
             [
              0.3333333333333333,
              "#9c179e"
             ],
             [
              0.4444444444444444,
              "#bd3786"
             ],
             [
              0.5555555555555556,
              "#d8576b"
             ],
             [
              0.6666666666666666,
              "#ed7953"
             ],
             [
              0.7777777777777778,
              "#fb9f3a"
             ],
             [
              0.8888888888888888,
              "#fdca26"
             ],
             [
              1,
              "#f0f921"
             ]
            ],
            "type": "heatmap"
           }
          ],
          "heatmapgl": [
           {
            "colorbar": {
             "outlinewidth": 0,
             "ticks": ""
            },
            "colorscale": [
             [
              0,
              "#0d0887"
             ],
             [
              0.1111111111111111,
              "#46039f"
             ],
             [
              0.2222222222222222,
              "#7201a8"
             ],
             [
              0.3333333333333333,
              "#9c179e"
             ],
             [
              0.4444444444444444,
              "#bd3786"
             ],
             [
              0.5555555555555556,
              "#d8576b"
             ],
             [
              0.6666666666666666,
              "#ed7953"
             ],
             [
              0.7777777777777778,
              "#fb9f3a"
             ],
             [
              0.8888888888888888,
              "#fdca26"
             ],
             [
              1,
              "#f0f921"
             ]
            ],
            "type": "heatmapgl"
           }
          ],
          "histogram": [
           {
            "marker": {
             "pattern": {
              "fillmode": "overlay",
              "size": 10,
              "solidity": 0.2
             }
            },
            "type": "histogram"
           }
          ],
          "histogram2d": [
           {
            "colorbar": {
             "outlinewidth": 0,
             "ticks": ""
            },
            "colorscale": [
             [
              0,
              "#0d0887"
             ],
             [
              0.1111111111111111,
              "#46039f"
             ],
             [
              0.2222222222222222,
              "#7201a8"
             ],
             [
              0.3333333333333333,
              "#9c179e"
             ],
             [
              0.4444444444444444,
              "#bd3786"
             ],
             [
              0.5555555555555556,
              "#d8576b"
             ],
             [
              0.6666666666666666,
              "#ed7953"
             ],
             [
              0.7777777777777778,
              "#fb9f3a"
             ],
             [
              0.8888888888888888,
              "#fdca26"
             ],
             [
              1,
              "#f0f921"
             ]
            ],
            "type": "histogram2d"
           }
          ],
          "histogram2dcontour": [
           {
            "colorbar": {
             "outlinewidth": 0,
             "ticks": ""
            },
            "colorscale": [
             [
              0,
              "#0d0887"
             ],
             [
              0.1111111111111111,
              "#46039f"
             ],
             [
              0.2222222222222222,
              "#7201a8"
             ],
             [
              0.3333333333333333,
              "#9c179e"
             ],
             [
              0.4444444444444444,
              "#bd3786"
             ],
             [
              0.5555555555555556,
              "#d8576b"
             ],
             [
              0.6666666666666666,
              "#ed7953"
             ],
             [
              0.7777777777777778,
              "#fb9f3a"
             ],
             [
              0.8888888888888888,
              "#fdca26"
             ],
             [
              1,
              "#f0f921"
             ]
            ],
            "type": "histogram2dcontour"
           }
          ],
          "mesh3d": [
           {
            "colorbar": {
             "outlinewidth": 0,
             "ticks": ""
            },
            "type": "mesh3d"
           }
          ],
          "parcoords": [
           {
            "line": {
             "colorbar": {
              "outlinewidth": 0,
              "ticks": ""
             }
            },
            "type": "parcoords"
           }
          ],
          "pie": [
           {
            "automargin": true,
            "type": "pie"
           }
          ],
          "scatter": [
           {
            "marker": {
             "colorbar": {
              "outlinewidth": 0,
              "ticks": ""
             }
            },
            "type": "scatter"
           }
          ],
          "scatter3d": [
           {
            "line": {
             "colorbar": {
              "outlinewidth": 0,
              "ticks": ""
             }
            },
            "marker": {
             "colorbar": {
              "outlinewidth": 0,
              "ticks": ""
             }
            },
            "type": "scatter3d"
           }
          ],
          "scattercarpet": [
           {
            "marker": {
             "colorbar": {
              "outlinewidth": 0,
              "ticks": ""
             }
            },
            "type": "scattercarpet"
           }
          ],
          "scattergeo": [
           {
            "marker": {
             "colorbar": {
              "outlinewidth": 0,
              "ticks": ""
             }
            },
            "type": "scattergeo"
           }
          ],
          "scattergl": [
           {
            "marker": {
             "colorbar": {
              "outlinewidth": 0,
              "ticks": ""
             }
            },
            "type": "scattergl"
           }
          ],
          "scattermapbox": [
           {
            "marker": {
             "colorbar": {
              "outlinewidth": 0,
              "ticks": ""
             }
            },
            "type": "scattermapbox"
           }
          ],
          "scatterpolar": [
           {
            "marker": {
             "colorbar": {
              "outlinewidth": 0,
              "ticks": ""
             }
            },
            "type": "scatterpolar"
           }
          ],
          "scatterpolargl": [
           {
            "marker": {
             "colorbar": {
              "outlinewidth": 0,
              "ticks": ""
             }
            },
            "type": "scatterpolargl"
           }
          ],
          "scatterternary": [
           {
            "marker": {
             "colorbar": {
              "outlinewidth": 0,
              "ticks": ""
             }
            },
            "type": "scatterternary"
           }
          ],
          "surface": [
           {
            "colorbar": {
             "outlinewidth": 0,
             "ticks": ""
            },
            "colorscale": [
             [
              0,
              "#0d0887"
             ],
             [
              0.1111111111111111,
              "#46039f"
             ],
             [
              0.2222222222222222,
              "#7201a8"
             ],
             [
              0.3333333333333333,
              "#9c179e"
             ],
             [
              0.4444444444444444,
              "#bd3786"
             ],
             [
              0.5555555555555556,
              "#d8576b"
             ],
             [
              0.6666666666666666,
              "#ed7953"
             ],
             [
              0.7777777777777778,
              "#fb9f3a"
             ],
             [
              0.8888888888888888,
              "#fdca26"
             ],
             [
              1,
              "#f0f921"
             ]
            ],
            "type": "surface"
           }
          ],
          "table": [
           {
            "cells": {
             "fill": {
              "color": "#EBF0F8"
             },
             "line": {
              "color": "white"
             }
            },
            "header": {
             "fill": {
              "color": "#C8D4E3"
             },
             "line": {
              "color": "white"
             }
            },
            "type": "table"
           }
          ]
         },
         "layout": {
          "annotationdefaults": {
           "arrowcolor": "#2a3f5f",
           "arrowhead": 0,
           "arrowwidth": 1
          },
          "autotypenumbers": "strict",
          "coloraxis": {
           "colorbar": {
            "outlinewidth": 0,
            "ticks": ""
           }
          },
          "colorscale": {
           "diverging": [
            [
             0,
             "#8e0152"
            ],
            [
             0.1,
             "#c51b7d"
            ],
            [
             0.2,
             "#de77ae"
            ],
            [
             0.3,
             "#f1b6da"
            ],
            [
             0.4,
             "#fde0ef"
            ],
            [
             0.5,
             "#f7f7f7"
            ],
            [
             0.6,
             "#e6f5d0"
            ],
            [
             0.7,
             "#b8e186"
            ],
            [
             0.8,
             "#7fbc41"
            ],
            [
             0.9,
             "#4d9221"
            ],
            [
             1,
             "#276419"
            ]
           ],
           "sequential": [
            [
             0,
             "#0d0887"
            ],
            [
             0.1111111111111111,
             "#46039f"
            ],
            [
             0.2222222222222222,
             "#7201a8"
            ],
            [
             0.3333333333333333,
             "#9c179e"
            ],
            [
             0.4444444444444444,
             "#bd3786"
            ],
            [
             0.5555555555555556,
             "#d8576b"
            ],
            [
             0.6666666666666666,
             "#ed7953"
            ],
            [
             0.7777777777777778,
             "#fb9f3a"
            ],
            [
             0.8888888888888888,
             "#fdca26"
            ],
            [
             1,
             "#f0f921"
            ]
           ],
           "sequentialminus": [
            [
             0,
             "#0d0887"
            ],
            [
             0.1111111111111111,
             "#46039f"
            ],
            [
             0.2222222222222222,
             "#7201a8"
            ],
            [
             0.3333333333333333,
             "#9c179e"
            ],
            [
             0.4444444444444444,
             "#bd3786"
            ],
            [
             0.5555555555555556,
             "#d8576b"
            ],
            [
             0.6666666666666666,
             "#ed7953"
            ],
            [
             0.7777777777777778,
             "#fb9f3a"
            ],
            [
             0.8888888888888888,
             "#fdca26"
            ],
            [
             1,
             "#f0f921"
            ]
           ]
          },
          "colorway": [
           "#636efa",
           "#EF553B",
           "#00cc96",
           "#ab63fa",
           "#FFA15A",
           "#19d3f3",
           "#FF6692",
           "#B6E880",
           "#FF97FF",
           "#FECB52"
          ],
          "font": {
           "color": "#2a3f5f"
          },
          "geo": {
           "bgcolor": "white",
           "lakecolor": "white",
           "landcolor": "#E5ECF6",
           "showlakes": true,
           "showland": true,
           "subunitcolor": "white"
          },
          "hoverlabel": {
           "align": "left"
          },
          "hovermode": "closest",
          "mapbox": {
           "style": "light"
          },
          "paper_bgcolor": "white",
          "plot_bgcolor": "#E5ECF6",
          "polar": {
           "angularaxis": {
            "gridcolor": "white",
            "linecolor": "white",
            "ticks": ""
           },
           "bgcolor": "#E5ECF6",
           "radialaxis": {
            "gridcolor": "white",
            "linecolor": "white",
            "ticks": ""
           }
          },
          "scene": {
           "xaxis": {
            "backgroundcolor": "#E5ECF6",
            "gridcolor": "white",
            "gridwidth": 2,
            "linecolor": "white",
            "showbackground": true,
            "ticks": "",
            "zerolinecolor": "white"
           },
           "yaxis": {
            "backgroundcolor": "#E5ECF6",
            "gridcolor": "white",
            "gridwidth": 2,
            "linecolor": "white",
            "showbackground": true,
            "ticks": "",
            "zerolinecolor": "white"
           },
           "zaxis": {
            "backgroundcolor": "#E5ECF6",
            "gridcolor": "white",
            "gridwidth": 2,
            "linecolor": "white",
            "showbackground": true,
            "ticks": "",
            "zerolinecolor": "white"
           }
          },
          "shapedefaults": {
           "line": {
            "color": "#2a3f5f"
           }
          },
          "ternary": {
           "aaxis": {
            "gridcolor": "white",
            "linecolor": "white",
            "ticks": ""
           },
           "baxis": {
            "gridcolor": "white",
            "linecolor": "white",
            "ticks": ""
           },
           "bgcolor": "#E5ECF6",
           "caxis": {
            "gridcolor": "white",
            "linecolor": "white",
            "ticks": ""
           }
          },
          "title": {
           "x": 0.05
          },
          "xaxis": {
           "automargin": true,
           "gridcolor": "white",
           "linecolor": "white",
           "ticks": "",
           "title": {
            "standoff": 15
           },
           "zerolinecolor": "white",
           "zerolinewidth": 2
          },
          "yaxis": {
           "automargin": true,
           "gridcolor": "white",
           "linecolor": "white",
           "ticks": "",
           "title": {
            "standoff": 15
           },
           "zerolinecolor": "white",
           "zerolinewidth": 2
          }
         }
        },
        "xaxis": {
         "anchor": "y",
         "domain": [
          0,
          1
         ],
         "title": {
          "text": "Year"
         }
        },
        "yaxis": {
         "anchor": "x",
         "domain": [
          0,
          1
         ],
         "title": {
          "text": "Count"
         }
        }
       }
      },
      "text/html": [
       "<div>                            <div id=\"6221c468-f00c-4a40-9690-83976ece8a02\" class=\"plotly-graph-div\" style=\"height:525px; width:100%;\"></div>            <script type=\"text/javascript\">                require([\"plotly\"], function(Plotly) {                    window.PLOTLYENV=window.PLOTLYENV || {};                                    if (document.getElementById(\"6221c468-f00c-4a40-9690-83976ece8a02\")) {                    Plotly.newPlot(                        \"6221c468-f00c-4a40-9690-83976ece8a02\",                        [{\"hovertemplate\":\"Effect=Permissive<br>Year=%{x}<br>Count=%{y}<extra></extra>\",\"legendgroup\":\"Permissive\",\"line\":{\"color\":\"#636efa\",\"dash\":\"solid\"},\"marker\":{\"symbol\":\"circle\"},\"mode\":\"lines\",\"name\":\"Permissive\",\"orientation\":\"v\",\"showlegend\":true,\"x\":[1991,1993,1994,1995,1996,1997,1998,1999,2000,2001,2003,2004,2005,2006,2007,2008,2009,2010,2011,2012,2013,2014,2015,2016,2017,2018,2019],\"xaxis\":\"x\",\"y\":[4,3,12,10,8,8,21,1,2,1,3,4,2,14,11,5,3,1,9,4,3,3,5,4,5,3,3],\"yaxis\":\"y\",\"type\":\"scatter\"},{\"hovertemplate\":\"Effect=Restrictive<br>Year=%{x}<br>Count=%{y}<extra></extra>\",\"legendgroup\":\"Restrictive\",\"line\":{\"color\":\"#EF553B\",\"dash\":\"solid\"},\"marker\":{\"symbol\":\"circle\"},\"mode\":\"lines\",\"name\":\"Restrictive\",\"orientation\":\"v\",\"showlegend\":true,\"x\":[1991,1992,1993,1994,1995,1996,1997,1998,1999,2000,2001,2002,2003,2004,2005,2006,2007,2008,2009,2010,2011,2012,2013,2014,2015,2016,2017,2018,2019,2020],\"xaxis\":\"x\",\"y\":[18,13,15,129,25,14,8,75,9,13,8,6,9,5,3,3,3,8,12,7,1,6,32,16,13,9,6,32,22,7],\"yaxis\":\"y\",\"type\":\"scatter\"}],                        {\"template\":{\"data\":{\"bar\":[{\"error_x\":{\"color\":\"#2a3f5f\"},\"error_y\":{\"color\":\"#2a3f5f\"},\"marker\":{\"line\":{\"color\":\"#E5ECF6\",\"width\":0.5},\"pattern\":{\"fillmode\":\"overlay\",\"size\":10,\"solidity\":0.2}},\"type\":\"bar\"}],\"barpolar\":[{\"marker\":{\"line\":{\"color\":\"#E5ECF6\",\"width\":0.5},\"pattern\":{\"fillmode\":\"overlay\",\"size\":10,\"solidity\":0.2}},\"type\":\"barpolar\"}],\"carpet\":[{\"aaxis\":{\"endlinecolor\":\"#2a3f5f\",\"gridcolor\":\"white\",\"linecolor\":\"white\",\"minorgridcolor\":\"white\",\"startlinecolor\":\"#2a3f5f\"},\"baxis\":{\"endlinecolor\":\"#2a3f5f\",\"gridcolor\":\"white\",\"linecolor\":\"white\",\"minorgridcolor\":\"white\",\"startlinecolor\":\"#2a3f5f\"},\"type\":\"carpet\"}],\"choropleth\":[{\"colorbar\":{\"outlinewidth\":0,\"ticks\":\"\"},\"type\":\"choropleth\"}],\"contour\":[{\"colorbar\":{\"outlinewidth\":0,\"ticks\":\"\"},\"colorscale\":[[0.0,\"#0d0887\"],[0.1111111111111111,\"#46039f\"],[0.2222222222222222,\"#7201a8\"],[0.3333333333333333,\"#9c179e\"],[0.4444444444444444,\"#bd3786\"],[0.5555555555555556,\"#d8576b\"],[0.6666666666666666,\"#ed7953\"],[0.7777777777777778,\"#fb9f3a\"],[0.8888888888888888,\"#fdca26\"],[1.0,\"#f0f921\"]],\"type\":\"contour\"}],\"contourcarpet\":[{\"colorbar\":{\"outlinewidth\":0,\"ticks\":\"\"},\"type\":\"contourcarpet\"}],\"heatmap\":[{\"colorbar\":{\"outlinewidth\":0,\"ticks\":\"\"},\"colorscale\":[[0.0,\"#0d0887\"],[0.1111111111111111,\"#46039f\"],[0.2222222222222222,\"#7201a8\"],[0.3333333333333333,\"#9c179e\"],[0.4444444444444444,\"#bd3786\"],[0.5555555555555556,\"#d8576b\"],[0.6666666666666666,\"#ed7953\"],[0.7777777777777778,\"#fb9f3a\"],[0.8888888888888888,\"#fdca26\"],[1.0,\"#f0f921\"]],\"type\":\"heatmap\"}],\"heatmapgl\":[{\"colorbar\":{\"outlinewidth\":0,\"ticks\":\"\"},\"colorscale\":[[0.0,\"#0d0887\"],[0.1111111111111111,\"#46039f\"],[0.2222222222222222,\"#7201a8\"],[0.3333333333333333,\"#9c179e\"],[0.4444444444444444,\"#bd3786\"],[0.5555555555555556,\"#d8576b\"],[0.6666666666666666,\"#ed7953\"],[0.7777777777777778,\"#fb9f3a\"],[0.8888888888888888,\"#fdca26\"],[1.0,\"#f0f921\"]],\"type\":\"heatmapgl\"}],\"histogram\":[{\"marker\":{\"pattern\":{\"fillmode\":\"overlay\",\"size\":10,\"solidity\":0.2}},\"type\":\"histogram\"}],\"histogram2d\":[{\"colorbar\":{\"outlinewidth\":0,\"ticks\":\"\"},\"colorscale\":[[0.0,\"#0d0887\"],[0.1111111111111111,\"#46039f\"],[0.2222222222222222,\"#7201a8\"],[0.3333333333333333,\"#9c179e\"],[0.4444444444444444,\"#bd3786\"],[0.5555555555555556,\"#d8576b\"],[0.6666666666666666,\"#ed7953\"],[0.7777777777777778,\"#fb9f3a\"],[0.8888888888888888,\"#fdca26\"],[1.0,\"#f0f921\"]],\"type\":\"histogram2d\"}],\"histogram2dcontour\":[{\"colorbar\":{\"outlinewidth\":0,\"ticks\":\"\"},\"colorscale\":[[0.0,\"#0d0887\"],[0.1111111111111111,\"#46039f\"],[0.2222222222222222,\"#7201a8\"],[0.3333333333333333,\"#9c179e\"],[0.4444444444444444,\"#bd3786\"],[0.5555555555555556,\"#d8576b\"],[0.6666666666666666,\"#ed7953\"],[0.7777777777777778,\"#fb9f3a\"],[0.8888888888888888,\"#fdca26\"],[1.0,\"#f0f921\"]],\"type\":\"histogram2dcontour\"}],\"mesh3d\":[{\"colorbar\":{\"outlinewidth\":0,\"ticks\":\"\"},\"type\":\"mesh3d\"}],\"parcoords\":[{\"line\":{\"colorbar\":{\"outlinewidth\":0,\"ticks\":\"\"}},\"type\":\"parcoords\"}],\"pie\":[{\"automargin\":true,\"type\":\"pie\"}],\"scatter\":[{\"marker\":{\"colorbar\":{\"outlinewidth\":0,\"ticks\":\"\"}},\"type\":\"scatter\"}],\"scatter3d\":[{\"line\":{\"colorbar\":{\"outlinewidth\":0,\"ticks\":\"\"}},\"marker\":{\"colorbar\":{\"outlinewidth\":0,\"ticks\":\"\"}},\"type\":\"scatter3d\"}],\"scattercarpet\":[{\"marker\":{\"colorbar\":{\"outlinewidth\":0,\"ticks\":\"\"}},\"type\":\"scattercarpet\"}],\"scattergeo\":[{\"marker\":{\"colorbar\":{\"outlinewidth\":0,\"ticks\":\"\"}},\"type\":\"scattergeo\"}],\"scattergl\":[{\"marker\":{\"colorbar\":{\"outlinewidth\":0,\"ticks\":\"\"}},\"type\":\"scattergl\"}],\"scattermapbox\":[{\"marker\":{\"colorbar\":{\"outlinewidth\":0,\"ticks\":\"\"}},\"type\":\"scattermapbox\"}],\"scatterpolar\":[{\"marker\":{\"colorbar\":{\"outlinewidth\":0,\"ticks\":\"\"}},\"type\":\"scatterpolar\"}],\"scatterpolargl\":[{\"marker\":{\"colorbar\":{\"outlinewidth\":0,\"ticks\":\"\"}},\"type\":\"scatterpolargl\"}],\"scatterternary\":[{\"marker\":{\"colorbar\":{\"outlinewidth\":0,\"ticks\":\"\"}},\"type\":\"scatterternary\"}],\"surface\":[{\"colorbar\":{\"outlinewidth\":0,\"ticks\":\"\"},\"colorscale\":[[0.0,\"#0d0887\"],[0.1111111111111111,\"#46039f\"],[0.2222222222222222,\"#7201a8\"],[0.3333333333333333,\"#9c179e\"],[0.4444444444444444,\"#bd3786\"],[0.5555555555555556,\"#d8576b\"],[0.6666666666666666,\"#ed7953\"],[0.7777777777777778,\"#fb9f3a\"],[0.8888888888888888,\"#fdca26\"],[1.0,\"#f0f921\"]],\"type\":\"surface\"}],\"table\":[{\"cells\":{\"fill\":{\"color\":\"#EBF0F8\"},\"line\":{\"color\":\"white\"}},\"header\":{\"fill\":{\"color\":\"#C8D4E3\"},\"line\":{\"color\":\"white\"}},\"type\":\"table\"}]},\"layout\":{\"annotationdefaults\":{\"arrowcolor\":\"#2a3f5f\",\"arrowhead\":0,\"arrowwidth\":1},\"autotypenumbers\":\"strict\",\"coloraxis\":{\"colorbar\":{\"outlinewidth\":0,\"ticks\":\"\"}},\"colorscale\":{\"diverging\":[[0,\"#8e0152\"],[0.1,\"#c51b7d\"],[0.2,\"#de77ae\"],[0.3,\"#f1b6da\"],[0.4,\"#fde0ef\"],[0.5,\"#f7f7f7\"],[0.6,\"#e6f5d0\"],[0.7,\"#b8e186\"],[0.8,\"#7fbc41\"],[0.9,\"#4d9221\"],[1,\"#276419\"]],\"sequential\":[[0.0,\"#0d0887\"],[0.1111111111111111,\"#46039f\"],[0.2222222222222222,\"#7201a8\"],[0.3333333333333333,\"#9c179e\"],[0.4444444444444444,\"#bd3786\"],[0.5555555555555556,\"#d8576b\"],[0.6666666666666666,\"#ed7953\"],[0.7777777777777778,\"#fb9f3a\"],[0.8888888888888888,\"#fdca26\"],[1.0,\"#f0f921\"]],\"sequentialminus\":[[0.0,\"#0d0887\"],[0.1111111111111111,\"#46039f\"],[0.2222222222222222,\"#7201a8\"],[0.3333333333333333,\"#9c179e\"],[0.4444444444444444,\"#bd3786\"],[0.5555555555555556,\"#d8576b\"],[0.6666666666666666,\"#ed7953\"],[0.7777777777777778,\"#fb9f3a\"],[0.8888888888888888,\"#fdca26\"],[1.0,\"#f0f921\"]]},\"colorway\":[\"#636efa\",\"#EF553B\",\"#00cc96\",\"#ab63fa\",\"#FFA15A\",\"#19d3f3\",\"#FF6692\",\"#B6E880\",\"#FF97FF\",\"#FECB52\"],\"font\":{\"color\":\"#2a3f5f\"},\"geo\":{\"bgcolor\":\"white\",\"lakecolor\":\"white\",\"landcolor\":\"#E5ECF6\",\"showlakes\":true,\"showland\":true,\"subunitcolor\":\"white\"},\"hoverlabel\":{\"align\":\"left\"},\"hovermode\":\"closest\",\"mapbox\":{\"style\":\"light\"},\"paper_bgcolor\":\"white\",\"plot_bgcolor\":\"#E5ECF6\",\"polar\":{\"angularaxis\":{\"gridcolor\":\"white\",\"linecolor\":\"white\",\"ticks\":\"\"},\"bgcolor\":\"#E5ECF6\",\"radialaxis\":{\"gridcolor\":\"white\",\"linecolor\":\"white\",\"ticks\":\"\"}},\"scene\":{\"xaxis\":{\"backgroundcolor\":\"#E5ECF6\",\"gridcolor\":\"white\",\"gridwidth\":2,\"linecolor\":\"white\",\"showbackground\":true,\"ticks\":\"\",\"zerolinecolor\":\"white\"},\"yaxis\":{\"backgroundcolor\":\"#E5ECF6\",\"gridcolor\":\"white\",\"gridwidth\":2,\"linecolor\":\"white\",\"showbackground\":true,\"ticks\":\"\",\"zerolinecolor\":\"white\"},\"zaxis\":{\"backgroundcolor\":\"#E5ECF6\",\"gridcolor\":\"white\",\"gridwidth\":2,\"linecolor\":\"white\",\"showbackground\":true,\"ticks\":\"\",\"zerolinecolor\":\"white\"}},\"shapedefaults\":{\"line\":{\"color\":\"#2a3f5f\"}},\"ternary\":{\"aaxis\":{\"gridcolor\":\"white\",\"linecolor\":\"white\",\"ticks\":\"\"},\"baxis\":{\"gridcolor\":\"white\",\"linecolor\":\"white\",\"ticks\":\"\"},\"bgcolor\":\"#E5ECF6\",\"caxis\":{\"gridcolor\":\"white\",\"linecolor\":\"white\",\"ticks\":\"\"}},\"title\":{\"x\":0.05},\"xaxis\":{\"automargin\":true,\"gridcolor\":\"white\",\"linecolor\":\"white\",\"ticks\":\"\",\"title\":{\"standoff\":15},\"zerolinecolor\":\"white\",\"zerolinewidth\":2},\"yaxis\":{\"automargin\":true,\"gridcolor\":\"white\",\"linecolor\":\"white\",\"ticks\":\"\",\"title\":{\"standoff\":15},\"zerolinecolor\":\"white\",\"zerolinewidth\":2}}},\"xaxis\":{\"anchor\":\"y\",\"domain\":[0.0,1.0],\"title\":{\"text\":\"Year\"}},\"yaxis\":{\"anchor\":\"x\",\"domain\":[0.0,1.0],\"title\":{\"text\":\"Count\"}},\"legend\":{\"title\":{\"text\":\"Effect\"},\"tracegroupgap\":0},\"margin\":{\"t\":60}},                        {\"responsive\": true}                    ).then(function(){\n",
       "                            \n",
       "var gd = document.getElementById('6221c468-f00c-4a40-9690-83976ece8a02');\n",
       "var x = new MutationObserver(function (mutations, observer) {{\n",
       "        var display = window.getComputedStyle(gd).display;\n",
       "        if (!display || display === 'none') {{\n",
       "            console.log([gd, 'removed!']);\n",
       "            Plotly.purge(gd);\n",
       "            observer.disconnect();\n",
       "        }}\n",
       "}});\n",
       "\n",
       "// Listen for the removal of the full notebook cells\n",
       "var notebookContainer = gd.closest('#notebook-container');\n",
       "if (notebookContainer) {{\n",
       "    x.observe(notebookContainer, {childList: true});\n",
       "}}\n",
       "\n",
       "// Listen for the clearing of the current output cell\n",
       "var outputEl = gd.closest('.output');\n",
       "if (outputEl) {{\n",
       "    x.observe(outputEl, {childList: true});\n",
       "}}\n",
       "\n",
       "                        })                };                });            </script>        </div>"
      ]
     },
     "metadata": {},
     "output_type": "display_data"
    }
   ],
   "source": [
    "import plotly.express as px\n",
    "\n",
    "test = laws[['Year','Effect']]\n",
    "test = laws.groupby(['Year','Effect']).size().reset_index()\n",
    "test = test.rename(columns={0: 'Count'})\n",
    "test = test.groupby(['Year','Effect']).sum().reset_index()\n",
    "\n",
    "fig = px.line(test,x=\"Year\",y='Count',color='Effect')\n",
    "\n",
    "fig.show()"
   ]
  },
  {
   "cell_type": "code",
   "execution_count": 19,
   "metadata": {},
   "outputs": [
    {
     "data": {
      "application/vnd.plotly.v1+json": {
       "config": {
        "plotlyServerURL": "https://plot.ly"
       },
       "data": [
        {
         "alignmentgroup": "True",
         "hovertemplate": "Law Class=%{x}<br>Count=%{y}<extra></extra>",
         "legendgroup": "",
         "marker": {
          "color": "#636efa",
          "pattern": {
           "shape": ""
          }
         },
         "name": "",
         "offsetgroup": "",
         "orientation": "v",
         "showlegend": false,
         "textposition": "auto",
         "type": "bar",
         "x": [
          "background checks",
          "prohibited possessor",
          "minimum age",
          "waiting period",
          "carrying a concealed weapon (ccw)",
          "castle doctrine",
          "child access laws",
          "firearm sales restrictions",
          "permit to purchase",
          "open carry",
          "dealer license",
          "safety training required",
          "registration"
         ],
         "xaxis": "x",
         "y": [
          191,
          174,
          75,
          57,
          42,
          32,
          27,
          20,
          17,
          12,
          11,
          11,
          10
         ],
         "yaxis": "y"
        }
       ],
       "layout": {
        "barmode": "relative",
        "legend": {
         "tracegroupgap": 0
        },
        "margin": {
         "t": 60
        },
        "template": {
         "data": {
          "bar": [
           {
            "error_x": {
             "color": "#2a3f5f"
            },
            "error_y": {
             "color": "#2a3f5f"
            },
            "marker": {
             "line": {
              "color": "#E5ECF6",
              "width": 0.5
             },
             "pattern": {
              "fillmode": "overlay",
              "size": 10,
              "solidity": 0.2
             }
            },
            "type": "bar"
           }
          ],
          "barpolar": [
           {
            "marker": {
             "line": {
              "color": "#E5ECF6",
              "width": 0.5
             },
             "pattern": {
              "fillmode": "overlay",
              "size": 10,
              "solidity": 0.2
             }
            },
            "type": "barpolar"
           }
          ],
          "carpet": [
           {
            "aaxis": {
             "endlinecolor": "#2a3f5f",
             "gridcolor": "white",
             "linecolor": "white",
             "minorgridcolor": "white",
             "startlinecolor": "#2a3f5f"
            },
            "baxis": {
             "endlinecolor": "#2a3f5f",
             "gridcolor": "white",
             "linecolor": "white",
             "minorgridcolor": "white",
             "startlinecolor": "#2a3f5f"
            },
            "type": "carpet"
           }
          ],
          "choropleth": [
           {
            "colorbar": {
             "outlinewidth": 0,
             "ticks": ""
            },
            "type": "choropleth"
           }
          ],
          "contour": [
           {
            "colorbar": {
             "outlinewidth": 0,
             "ticks": ""
            },
            "colorscale": [
             [
              0,
              "#0d0887"
             ],
             [
              0.1111111111111111,
              "#46039f"
             ],
             [
              0.2222222222222222,
              "#7201a8"
             ],
             [
              0.3333333333333333,
              "#9c179e"
             ],
             [
              0.4444444444444444,
              "#bd3786"
             ],
             [
              0.5555555555555556,
              "#d8576b"
             ],
             [
              0.6666666666666666,
              "#ed7953"
             ],
             [
              0.7777777777777778,
              "#fb9f3a"
             ],
             [
              0.8888888888888888,
              "#fdca26"
             ],
             [
              1,
              "#f0f921"
             ]
            ],
            "type": "contour"
           }
          ],
          "contourcarpet": [
           {
            "colorbar": {
             "outlinewidth": 0,
             "ticks": ""
            },
            "type": "contourcarpet"
           }
          ],
          "heatmap": [
           {
            "colorbar": {
             "outlinewidth": 0,
             "ticks": ""
            },
            "colorscale": [
             [
              0,
              "#0d0887"
             ],
             [
              0.1111111111111111,
              "#46039f"
             ],
             [
              0.2222222222222222,
              "#7201a8"
             ],
             [
              0.3333333333333333,
              "#9c179e"
             ],
             [
              0.4444444444444444,
              "#bd3786"
             ],
             [
              0.5555555555555556,
              "#d8576b"
             ],
             [
              0.6666666666666666,
              "#ed7953"
             ],
             [
              0.7777777777777778,
              "#fb9f3a"
             ],
             [
              0.8888888888888888,
              "#fdca26"
             ],
             [
              1,
              "#f0f921"
             ]
            ],
            "type": "heatmap"
           }
          ],
          "heatmapgl": [
           {
            "colorbar": {
             "outlinewidth": 0,
             "ticks": ""
            },
            "colorscale": [
             [
              0,
              "#0d0887"
             ],
             [
              0.1111111111111111,
              "#46039f"
             ],
             [
              0.2222222222222222,
              "#7201a8"
             ],
             [
              0.3333333333333333,
              "#9c179e"
             ],
             [
              0.4444444444444444,
              "#bd3786"
             ],
             [
              0.5555555555555556,
              "#d8576b"
             ],
             [
              0.6666666666666666,
              "#ed7953"
             ],
             [
              0.7777777777777778,
              "#fb9f3a"
             ],
             [
              0.8888888888888888,
              "#fdca26"
             ],
             [
              1,
              "#f0f921"
             ]
            ],
            "type": "heatmapgl"
           }
          ],
          "histogram": [
           {
            "marker": {
             "pattern": {
              "fillmode": "overlay",
              "size": 10,
              "solidity": 0.2
             }
            },
            "type": "histogram"
           }
          ],
          "histogram2d": [
           {
            "colorbar": {
             "outlinewidth": 0,
             "ticks": ""
            },
            "colorscale": [
             [
              0,
              "#0d0887"
             ],
             [
              0.1111111111111111,
              "#46039f"
             ],
             [
              0.2222222222222222,
              "#7201a8"
             ],
             [
              0.3333333333333333,
              "#9c179e"
             ],
             [
              0.4444444444444444,
              "#bd3786"
             ],
             [
              0.5555555555555556,
              "#d8576b"
             ],
             [
              0.6666666666666666,
              "#ed7953"
             ],
             [
              0.7777777777777778,
              "#fb9f3a"
             ],
             [
              0.8888888888888888,
              "#fdca26"
             ],
             [
              1,
              "#f0f921"
             ]
            ],
            "type": "histogram2d"
           }
          ],
          "histogram2dcontour": [
           {
            "colorbar": {
             "outlinewidth": 0,
             "ticks": ""
            },
            "colorscale": [
             [
              0,
              "#0d0887"
             ],
             [
              0.1111111111111111,
              "#46039f"
             ],
             [
              0.2222222222222222,
              "#7201a8"
             ],
             [
              0.3333333333333333,
              "#9c179e"
             ],
             [
              0.4444444444444444,
              "#bd3786"
             ],
             [
              0.5555555555555556,
              "#d8576b"
             ],
             [
              0.6666666666666666,
              "#ed7953"
             ],
             [
              0.7777777777777778,
              "#fb9f3a"
             ],
             [
              0.8888888888888888,
              "#fdca26"
             ],
             [
              1,
              "#f0f921"
             ]
            ],
            "type": "histogram2dcontour"
           }
          ],
          "mesh3d": [
           {
            "colorbar": {
             "outlinewidth": 0,
             "ticks": ""
            },
            "type": "mesh3d"
           }
          ],
          "parcoords": [
           {
            "line": {
             "colorbar": {
              "outlinewidth": 0,
              "ticks": ""
             }
            },
            "type": "parcoords"
           }
          ],
          "pie": [
           {
            "automargin": true,
            "type": "pie"
           }
          ],
          "scatter": [
           {
            "marker": {
             "colorbar": {
              "outlinewidth": 0,
              "ticks": ""
             }
            },
            "type": "scatter"
           }
          ],
          "scatter3d": [
           {
            "line": {
             "colorbar": {
              "outlinewidth": 0,
              "ticks": ""
             }
            },
            "marker": {
             "colorbar": {
              "outlinewidth": 0,
              "ticks": ""
             }
            },
            "type": "scatter3d"
           }
          ],
          "scattercarpet": [
           {
            "marker": {
             "colorbar": {
              "outlinewidth": 0,
              "ticks": ""
             }
            },
            "type": "scattercarpet"
           }
          ],
          "scattergeo": [
           {
            "marker": {
             "colorbar": {
              "outlinewidth": 0,
              "ticks": ""
             }
            },
            "type": "scattergeo"
           }
          ],
          "scattergl": [
           {
            "marker": {
             "colorbar": {
              "outlinewidth": 0,
              "ticks": ""
             }
            },
            "type": "scattergl"
           }
          ],
          "scattermapbox": [
           {
            "marker": {
             "colorbar": {
              "outlinewidth": 0,
              "ticks": ""
             }
            },
            "type": "scattermapbox"
           }
          ],
          "scatterpolar": [
           {
            "marker": {
             "colorbar": {
              "outlinewidth": 0,
              "ticks": ""
             }
            },
            "type": "scatterpolar"
           }
          ],
          "scatterpolargl": [
           {
            "marker": {
             "colorbar": {
              "outlinewidth": 0,
              "ticks": ""
             }
            },
            "type": "scatterpolargl"
           }
          ],
          "scatterternary": [
           {
            "marker": {
             "colorbar": {
              "outlinewidth": 0,
              "ticks": ""
             }
            },
            "type": "scatterternary"
           }
          ],
          "surface": [
           {
            "colorbar": {
             "outlinewidth": 0,
             "ticks": ""
            },
            "colorscale": [
             [
              0,
              "#0d0887"
             ],
             [
              0.1111111111111111,
              "#46039f"
             ],
             [
              0.2222222222222222,
              "#7201a8"
             ],
             [
              0.3333333333333333,
              "#9c179e"
             ],
             [
              0.4444444444444444,
              "#bd3786"
             ],
             [
              0.5555555555555556,
              "#d8576b"
             ],
             [
              0.6666666666666666,
              "#ed7953"
             ],
             [
              0.7777777777777778,
              "#fb9f3a"
             ],
             [
              0.8888888888888888,
              "#fdca26"
             ],
             [
              1,
              "#f0f921"
             ]
            ],
            "type": "surface"
           }
          ],
          "table": [
           {
            "cells": {
             "fill": {
              "color": "#EBF0F8"
             },
             "line": {
              "color": "white"
             }
            },
            "header": {
             "fill": {
              "color": "#C8D4E3"
             },
             "line": {
              "color": "white"
             }
            },
            "type": "table"
           }
          ]
         },
         "layout": {
          "annotationdefaults": {
           "arrowcolor": "#2a3f5f",
           "arrowhead": 0,
           "arrowwidth": 1
          },
          "autotypenumbers": "strict",
          "coloraxis": {
           "colorbar": {
            "outlinewidth": 0,
            "ticks": ""
           }
          },
          "colorscale": {
           "diverging": [
            [
             0,
             "#8e0152"
            ],
            [
             0.1,
             "#c51b7d"
            ],
            [
             0.2,
             "#de77ae"
            ],
            [
             0.3,
             "#f1b6da"
            ],
            [
             0.4,
             "#fde0ef"
            ],
            [
             0.5,
             "#f7f7f7"
            ],
            [
             0.6,
             "#e6f5d0"
            ],
            [
             0.7,
             "#b8e186"
            ],
            [
             0.8,
             "#7fbc41"
            ],
            [
             0.9,
             "#4d9221"
            ],
            [
             1,
             "#276419"
            ]
           ],
           "sequential": [
            [
             0,
             "#0d0887"
            ],
            [
             0.1111111111111111,
             "#46039f"
            ],
            [
             0.2222222222222222,
             "#7201a8"
            ],
            [
             0.3333333333333333,
             "#9c179e"
            ],
            [
             0.4444444444444444,
             "#bd3786"
            ],
            [
             0.5555555555555556,
             "#d8576b"
            ],
            [
             0.6666666666666666,
             "#ed7953"
            ],
            [
             0.7777777777777778,
             "#fb9f3a"
            ],
            [
             0.8888888888888888,
             "#fdca26"
            ],
            [
             1,
             "#f0f921"
            ]
           ],
           "sequentialminus": [
            [
             0,
             "#0d0887"
            ],
            [
             0.1111111111111111,
             "#46039f"
            ],
            [
             0.2222222222222222,
             "#7201a8"
            ],
            [
             0.3333333333333333,
             "#9c179e"
            ],
            [
             0.4444444444444444,
             "#bd3786"
            ],
            [
             0.5555555555555556,
             "#d8576b"
            ],
            [
             0.6666666666666666,
             "#ed7953"
            ],
            [
             0.7777777777777778,
             "#fb9f3a"
            ],
            [
             0.8888888888888888,
             "#fdca26"
            ],
            [
             1,
             "#f0f921"
            ]
           ]
          },
          "colorway": [
           "#636efa",
           "#EF553B",
           "#00cc96",
           "#ab63fa",
           "#FFA15A",
           "#19d3f3",
           "#FF6692",
           "#B6E880",
           "#FF97FF",
           "#FECB52"
          ],
          "font": {
           "color": "#2a3f5f"
          },
          "geo": {
           "bgcolor": "white",
           "lakecolor": "white",
           "landcolor": "#E5ECF6",
           "showlakes": true,
           "showland": true,
           "subunitcolor": "white"
          },
          "hoverlabel": {
           "align": "left"
          },
          "hovermode": "closest",
          "mapbox": {
           "style": "light"
          },
          "paper_bgcolor": "white",
          "plot_bgcolor": "#E5ECF6",
          "polar": {
           "angularaxis": {
            "gridcolor": "white",
            "linecolor": "white",
            "ticks": ""
           },
           "bgcolor": "#E5ECF6",
           "radialaxis": {
            "gridcolor": "white",
            "linecolor": "white",
            "ticks": ""
           }
          },
          "scene": {
           "xaxis": {
            "backgroundcolor": "#E5ECF6",
            "gridcolor": "white",
            "gridwidth": 2,
            "linecolor": "white",
            "showbackground": true,
            "ticks": "",
            "zerolinecolor": "white"
           },
           "yaxis": {
            "backgroundcolor": "#E5ECF6",
            "gridcolor": "white",
            "gridwidth": 2,
            "linecolor": "white",
            "showbackground": true,
            "ticks": "",
            "zerolinecolor": "white"
           },
           "zaxis": {
            "backgroundcolor": "#E5ECF6",
            "gridcolor": "white",
            "gridwidth": 2,
            "linecolor": "white",
            "showbackground": true,
            "ticks": "",
            "zerolinecolor": "white"
           }
          },
          "shapedefaults": {
           "line": {
            "color": "#2a3f5f"
           }
          },
          "ternary": {
           "aaxis": {
            "gridcolor": "white",
            "linecolor": "white",
            "ticks": ""
           },
           "baxis": {
            "gridcolor": "white",
            "linecolor": "white",
            "ticks": ""
           },
           "bgcolor": "#E5ECF6",
           "caxis": {
            "gridcolor": "white",
            "linecolor": "white",
            "ticks": ""
           }
          },
          "title": {
           "x": 0.05
          },
          "xaxis": {
           "automargin": true,
           "gridcolor": "white",
           "linecolor": "white",
           "ticks": "",
           "title": {
            "standoff": 15
           },
           "zerolinecolor": "white",
           "zerolinewidth": 2
          },
          "yaxis": {
           "automargin": true,
           "gridcolor": "white",
           "linecolor": "white",
           "ticks": "",
           "title": {
            "standoff": 15
           },
           "zerolinecolor": "white",
           "zerolinewidth": 2
          }
         }
        },
        "xaxis": {
         "anchor": "y",
         "domain": [
          0,
          1
         ],
         "title": {
          "text": "Law Class"
         }
        },
        "yaxis": {
         "anchor": "x",
         "domain": [
          0,
          1
         ],
         "title": {
          "text": "Count"
         }
        }
       }
      },
      "text/html": [
       "<div>                            <div id=\"07ca03fa-b97c-47b2-aad6-4e1b782b9dfb\" class=\"plotly-graph-div\" style=\"height:525px; width:100%;\"></div>            <script type=\"text/javascript\">                require([\"plotly\"], function(Plotly) {                    window.PLOTLYENV=window.PLOTLYENV || {};                                    if (document.getElementById(\"07ca03fa-b97c-47b2-aad6-4e1b782b9dfb\")) {                    Plotly.newPlot(                        \"07ca03fa-b97c-47b2-aad6-4e1b782b9dfb\",                        [{\"alignmentgroup\":\"True\",\"hovertemplate\":\"Law Class=%{x}<br>Count=%{y}<extra></extra>\",\"legendgroup\":\"\",\"marker\":{\"color\":\"#636efa\",\"pattern\":{\"shape\":\"\"}},\"name\":\"\",\"offsetgroup\":\"\",\"orientation\":\"v\",\"showlegend\":false,\"textposition\":\"auto\",\"x\":[\"background checks\",\"prohibited possessor\",\"minimum age\",\"waiting period\",\"carrying a concealed weapon (ccw)\",\"castle doctrine\",\"child access laws\",\"firearm sales restrictions\",\"permit to purchase\",\"open carry\",\"dealer license\",\"safety training required\",\"registration\"],\"xaxis\":\"x\",\"y\":[191,174,75,57,42,32,27,20,17,12,11,11,10],\"yaxis\":\"y\",\"type\":\"bar\"}],                        {\"template\":{\"data\":{\"bar\":[{\"error_x\":{\"color\":\"#2a3f5f\"},\"error_y\":{\"color\":\"#2a3f5f\"},\"marker\":{\"line\":{\"color\":\"#E5ECF6\",\"width\":0.5},\"pattern\":{\"fillmode\":\"overlay\",\"size\":10,\"solidity\":0.2}},\"type\":\"bar\"}],\"barpolar\":[{\"marker\":{\"line\":{\"color\":\"#E5ECF6\",\"width\":0.5},\"pattern\":{\"fillmode\":\"overlay\",\"size\":10,\"solidity\":0.2}},\"type\":\"barpolar\"}],\"carpet\":[{\"aaxis\":{\"endlinecolor\":\"#2a3f5f\",\"gridcolor\":\"white\",\"linecolor\":\"white\",\"minorgridcolor\":\"white\",\"startlinecolor\":\"#2a3f5f\"},\"baxis\":{\"endlinecolor\":\"#2a3f5f\",\"gridcolor\":\"white\",\"linecolor\":\"white\",\"minorgridcolor\":\"white\",\"startlinecolor\":\"#2a3f5f\"},\"type\":\"carpet\"}],\"choropleth\":[{\"colorbar\":{\"outlinewidth\":0,\"ticks\":\"\"},\"type\":\"choropleth\"}],\"contour\":[{\"colorbar\":{\"outlinewidth\":0,\"ticks\":\"\"},\"colorscale\":[[0.0,\"#0d0887\"],[0.1111111111111111,\"#46039f\"],[0.2222222222222222,\"#7201a8\"],[0.3333333333333333,\"#9c179e\"],[0.4444444444444444,\"#bd3786\"],[0.5555555555555556,\"#d8576b\"],[0.6666666666666666,\"#ed7953\"],[0.7777777777777778,\"#fb9f3a\"],[0.8888888888888888,\"#fdca26\"],[1.0,\"#f0f921\"]],\"type\":\"contour\"}],\"contourcarpet\":[{\"colorbar\":{\"outlinewidth\":0,\"ticks\":\"\"},\"type\":\"contourcarpet\"}],\"heatmap\":[{\"colorbar\":{\"outlinewidth\":0,\"ticks\":\"\"},\"colorscale\":[[0.0,\"#0d0887\"],[0.1111111111111111,\"#46039f\"],[0.2222222222222222,\"#7201a8\"],[0.3333333333333333,\"#9c179e\"],[0.4444444444444444,\"#bd3786\"],[0.5555555555555556,\"#d8576b\"],[0.6666666666666666,\"#ed7953\"],[0.7777777777777778,\"#fb9f3a\"],[0.8888888888888888,\"#fdca26\"],[1.0,\"#f0f921\"]],\"type\":\"heatmap\"}],\"heatmapgl\":[{\"colorbar\":{\"outlinewidth\":0,\"ticks\":\"\"},\"colorscale\":[[0.0,\"#0d0887\"],[0.1111111111111111,\"#46039f\"],[0.2222222222222222,\"#7201a8\"],[0.3333333333333333,\"#9c179e\"],[0.4444444444444444,\"#bd3786\"],[0.5555555555555556,\"#d8576b\"],[0.6666666666666666,\"#ed7953\"],[0.7777777777777778,\"#fb9f3a\"],[0.8888888888888888,\"#fdca26\"],[1.0,\"#f0f921\"]],\"type\":\"heatmapgl\"}],\"histogram\":[{\"marker\":{\"pattern\":{\"fillmode\":\"overlay\",\"size\":10,\"solidity\":0.2}},\"type\":\"histogram\"}],\"histogram2d\":[{\"colorbar\":{\"outlinewidth\":0,\"ticks\":\"\"},\"colorscale\":[[0.0,\"#0d0887\"],[0.1111111111111111,\"#46039f\"],[0.2222222222222222,\"#7201a8\"],[0.3333333333333333,\"#9c179e\"],[0.4444444444444444,\"#bd3786\"],[0.5555555555555556,\"#d8576b\"],[0.6666666666666666,\"#ed7953\"],[0.7777777777777778,\"#fb9f3a\"],[0.8888888888888888,\"#fdca26\"],[1.0,\"#f0f921\"]],\"type\":\"histogram2d\"}],\"histogram2dcontour\":[{\"colorbar\":{\"outlinewidth\":0,\"ticks\":\"\"},\"colorscale\":[[0.0,\"#0d0887\"],[0.1111111111111111,\"#46039f\"],[0.2222222222222222,\"#7201a8\"],[0.3333333333333333,\"#9c179e\"],[0.4444444444444444,\"#bd3786\"],[0.5555555555555556,\"#d8576b\"],[0.6666666666666666,\"#ed7953\"],[0.7777777777777778,\"#fb9f3a\"],[0.8888888888888888,\"#fdca26\"],[1.0,\"#f0f921\"]],\"type\":\"histogram2dcontour\"}],\"mesh3d\":[{\"colorbar\":{\"outlinewidth\":0,\"ticks\":\"\"},\"type\":\"mesh3d\"}],\"parcoords\":[{\"line\":{\"colorbar\":{\"outlinewidth\":0,\"ticks\":\"\"}},\"type\":\"parcoords\"}],\"pie\":[{\"automargin\":true,\"type\":\"pie\"}],\"scatter\":[{\"marker\":{\"colorbar\":{\"outlinewidth\":0,\"ticks\":\"\"}},\"type\":\"scatter\"}],\"scatter3d\":[{\"line\":{\"colorbar\":{\"outlinewidth\":0,\"ticks\":\"\"}},\"marker\":{\"colorbar\":{\"outlinewidth\":0,\"ticks\":\"\"}},\"type\":\"scatter3d\"}],\"scattercarpet\":[{\"marker\":{\"colorbar\":{\"outlinewidth\":0,\"ticks\":\"\"}},\"type\":\"scattercarpet\"}],\"scattergeo\":[{\"marker\":{\"colorbar\":{\"outlinewidth\":0,\"ticks\":\"\"}},\"type\":\"scattergeo\"}],\"scattergl\":[{\"marker\":{\"colorbar\":{\"outlinewidth\":0,\"ticks\":\"\"}},\"type\":\"scattergl\"}],\"scattermapbox\":[{\"marker\":{\"colorbar\":{\"outlinewidth\":0,\"ticks\":\"\"}},\"type\":\"scattermapbox\"}],\"scatterpolar\":[{\"marker\":{\"colorbar\":{\"outlinewidth\":0,\"ticks\":\"\"}},\"type\":\"scatterpolar\"}],\"scatterpolargl\":[{\"marker\":{\"colorbar\":{\"outlinewidth\":0,\"ticks\":\"\"}},\"type\":\"scatterpolargl\"}],\"scatterternary\":[{\"marker\":{\"colorbar\":{\"outlinewidth\":0,\"ticks\":\"\"}},\"type\":\"scatterternary\"}],\"surface\":[{\"colorbar\":{\"outlinewidth\":0,\"ticks\":\"\"},\"colorscale\":[[0.0,\"#0d0887\"],[0.1111111111111111,\"#46039f\"],[0.2222222222222222,\"#7201a8\"],[0.3333333333333333,\"#9c179e\"],[0.4444444444444444,\"#bd3786\"],[0.5555555555555556,\"#d8576b\"],[0.6666666666666666,\"#ed7953\"],[0.7777777777777778,\"#fb9f3a\"],[0.8888888888888888,\"#fdca26\"],[1.0,\"#f0f921\"]],\"type\":\"surface\"}],\"table\":[{\"cells\":{\"fill\":{\"color\":\"#EBF0F8\"},\"line\":{\"color\":\"white\"}},\"header\":{\"fill\":{\"color\":\"#C8D4E3\"},\"line\":{\"color\":\"white\"}},\"type\":\"table\"}]},\"layout\":{\"annotationdefaults\":{\"arrowcolor\":\"#2a3f5f\",\"arrowhead\":0,\"arrowwidth\":1},\"autotypenumbers\":\"strict\",\"coloraxis\":{\"colorbar\":{\"outlinewidth\":0,\"ticks\":\"\"}},\"colorscale\":{\"diverging\":[[0,\"#8e0152\"],[0.1,\"#c51b7d\"],[0.2,\"#de77ae\"],[0.3,\"#f1b6da\"],[0.4,\"#fde0ef\"],[0.5,\"#f7f7f7\"],[0.6,\"#e6f5d0\"],[0.7,\"#b8e186\"],[0.8,\"#7fbc41\"],[0.9,\"#4d9221\"],[1,\"#276419\"]],\"sequential\":[[0.0,\"#0d0887\"],[0.1111111111111111,\"#46039f\"],[0.2222222222222222,\"#7201a8\"],[0.3333333333333333,\"#9c179e\"],[0.4444444444444444,\"#bd3786\"],[0.5555555555555556,\"#d8576b\"],[0.6666666666666666,\"#ed7953\"],[0.7777777777777778,\"#fb9f3a\"],[0.8888888888888888,\"#fdca26\"],[1.0,\"#f0f921\"]],\"sequentialminus\":[[0.0,\"#0d0887\"],[0.1111111111111111,\"#46039f\"],[0.2222222222222222,\"#7201a8\"],[0.3333333333333333,\"#9c179e\"],[0.4444444444444444,\"#bd3786\"],[0.5555555555555556,\"#d8576b\"],[0.6666666666666666,\"#ed7953\"],[0.7777777777777778,\"#fb9f3a\"],[0.8888888888888888,\"#fdca26\"],[1.0,\"#f0f921\"]]},\"colorway\":[\"#636efa\",\"#EF553B\",\"#00cc96\",\"#ab63fa\",\"#FFA15A\",\"#19d3f3\",\"#FF6692\",\"#B6E880\",\"#FF97FF\",\"#FECB52\"],\"font\":{\"color\":\"#2a3f5f\"},\"geo\":{\"bgcolor\":\"white\",\"lakecolor\":\"white\",\"landcolor\":\"#E5ECF6\",\"showlakes\":true,\"showland\":true,\"subunitcolor\":\"white\"},\"hoverlabel\":{\"align\":\"left\"},\"hovermode\":\"closest\",\"mapbox\":{\"style\":\"light\"},\"paper_bgcolor\":\"white\",\"plot_bgcolor\":\"#E5ECF6\",\"polar\":{\"angularaxis\":{\"gridcolor\":\"white\",\"linecolor\":\"white\",\"ticks\":\"\"},\"bgcolor\":\"#E5ECF6\",\"radialaxis\":{\"gridcolor\":\"white\",\"linecolor\":\"white\",\"ticks\":\"\"}},\"scene\":{\"xaxis\":{\"backgroundcolor\":\"#E5ECF6\",\"gridcolor\":\"white\",\"gridwidth\":2,\"linecolor\":\"white\",\"showbackground\":true,\"ticks\":\"\",\"zerolinecolor\":\"white\"},\"yaxis\":{\"backgroundcolor\":\"#E5ECF6\",\"gridcolor\":\"white\",\"gridwidth\":2,\"linecolor\":\"white\",\"showbackground\":true,\"ticks\":\"\",\"zerolinecolor\":\"white\"},\"zaxis\":{\"backgroundcolor\":\"#E5ECF6\",\"gridcolor\":\"white\",\"gridwidth\":2,\"linecolor\":\"white\",\"showbackground\":true,\"ticks\":\"\",\"zerolinecolor\":\"white\"}},\"shapedefaults\":{\"line\":{\"color\":\"#2a3f5f\"}},\"ternary\":{\"aaxis\":{\"gridcolor\":\"white\",\"linecolor\":\"white\",\"ticks\":\"\"},\"baxis\":{\"gridcolor\":\"white\",\"linecolor\":\"white\",\"ticks\":\"\"},\"bgcolor\":\"#E5ECF6\",\"caxis\":{\"gridcolor\":\"white\",\"linecolor\":\"white\",\"ticks\":\"\"}},\"title\":{\"x\":0.05},\"xaxis\":{\"automargin\":true,\"gridcolor\":\"white\",\"linecolor\":\"white\",\"ticks\":\"\",\"title\":{\"standoff\":15},\"zerolinecolor\":\"white\",\"zerolinewidth\":2},\"yaxis\":{\"automargin\":true,\"gridcolor\":\"white\",\"linecolor\":\"white\",\"ticks\":\"\",\"title\":{\"standoff\":15},\"zerolinecolor\":\"white\",\"zerolinewidth\":2}}},\"xaxis\":{\"anchor\":\"y\",\"domain\":[0.0,1.0],\"title\":{\"text\":\"Law Class\"}},\"yaxis\":{\"anchor\":\"x\",\"domain\":[0.0,1.0],\"title\":{\"text\":\"Count\"}},\"legend\":{\"tracegroupgap\":0},\"margin\":{\"t\":60},\"barmode\":\"relative\"},                        {\"responsive\": true}                    ).then(function(){\n",
       "                            \n",
       "var gd = document.getElementById('07ca03fa-b97c-47b2-aad6-4e1b782b9dfb');\n",
       "var x = new MutationObserver(function (mutations, observer) {{\n",
       "        var display = window.getComputedStyle(gd).display;\n",
       "        if (!display || display === 'none') {{\n",
       "            console.log([gd, 'removed!']);\n",
       "            Plotly.purge(gd);\n",
       "            observer.disconnect();\n",
       "        }}\n",
       "}});\n",
       "\n",
       "// Listen for the removal of the full notebook cells\n",
       "var notebookContainer = gd.closest('#notebook-container');\n",
       "if (notebookContainer) {{\n",
       "    x.observe(notebookContainer, {childList: true});\n",
       "}}\n",
       "\n",
       "// Listen for the clearing of the current output cell\n",
       "var outputEl = gd.closest('.output');\n",
       "if (outputEl) {{\n",
       "    x.observe(outputEl, {childList: true});\n",
       "}}\n",
       "\n",
       "                        })                };                });            </script>        </div>"
      ]
     },
     "metadata": {},
     "output_type": "display_data"
    }
   ],
   "source": [
    "test = laws.groupby('Law Class').count().reset_index()\n",
    "test = test[['Law Class','Law ID']]\n",
    "test = test.rename(columns={'Law ID': 'Count'})\n",
    "test = test.sort_values(by=['Count'],ascending=False)\n",
    "\n",
    "fig = px.bar(test,x=\"Law Class\",y='Count')\n",
    "\n",
    "fig.show()"
   ]
  },
  {
   "cell_type": "code",
   "execution_count": 20,
   "metadata": {},
   "outputs": [
    {
     "data": {
      "application/vnd.plotly.v1+json": {
       "config": {
        "plotlyServerURL": "https://plot.ly"
       },
       "data": [
        {
         "hovertemplate": "Law Class=background checks<br>Year=%{x}<br>Count=%{y}<extra></extra>",
         "legendgroup": "background checks",
         "line": {
          "color": "#636efa",
          "dash": "solid"
         },
         "marker": {
          "symbol": "circle"
         },
         "mode": "lines",
         "name": "background checks",
         "orientation": "v",
         "showlegend": true,
         "type": "scatter",
         "x": [
          1991,
          1994,
          1995,
          1996,
          1997,
          1998,
          1999,
          2000,
          2001,
          2005,
          2007,
          2008,
          2009,
          2012,
          2013,
          2014,
          2015,
          2016,
          2018,
          2019,
          2020
         ],
         "xaxis": "x",
         "y": [
          7,
          62,
          7,
          3,
          4,
          65,
          2,
          1,
          1,
          1,
          3,
          1,
          2,
          1,
          11,
          6,
          2,
          2,
          4,
          4,
          2
         ],
         "yaxis": "y"
        },
        {
         "hovertemplate": "Law Class=carrying a concealed weapon (ccw)<br>Year=%{x}<br>Count=%{y}<extra></extra>",
         "legendgroup": "carrying a concealed weapon (ccw)",
         "line": {
          "color": "#EF553B",
          "dash": "solid"
         },
         "marker": {
          "symbol": "circle"
         },
         "mode": "lines",
         "name": "carrying a concealed weapon (ccw)",
         "orientation": "v",
         "showlegend": true,
         "type": "scatter",
         "x": [
          1991,
          1994,
          1995,
          1996,
          2001,
          2003,
          2004,
          2007,
          2010,
          2011,
          2013,
          2015,
          2016,
          2017,
          2018,
          2019
         ],
         "xaxis": "x",
         "y": [
          1,
          3,
          5,
          6,
          1,
          3,
          3,
          2,
          1,
          3,
          1,
          2,
          3,
          4,
          1,
          3
         ],
         "yaxis": "y"
        },
        {
         "hovertemplate": "Law Class=child access laws<br>Year=%{x}<br>Count=%{y}<extra></extra>",
         "legendgroup": "child access laws",
         "line": {
          "color": "#00cc96",
          "dash": "solid"
         },
         "marker": {
          "symbol": "circle"
         },
         "mode": "lines",
         "name": "child access laws",
         "orientation": "v",
         "showlegend": true,
         "type": "scatter",
         "x": [
          1991,
          1992,
          1993,
          1994,
          1995,
          1998,
          2000,
          2001,
          2014,
          2019
         ],
         "xaxis": "x",
         "y": [
          1,
          6,
          4,
          7,
          3,
          1,
          1,
          1,
          1,
          2
         ],
         "yaxis": "y"
        },
        {
         "hovertemplate": "Law Class=minimum age<br>Year=%{x}<br>Count=%{y}<extra></extra>",
         "legendgroup": "minimum age",
         "line": {
          "color": "#ab63fa",
          "dash": "solid"
         },
         "marker": {
          "symbol": "circle"
         },
         "mode": "lines",
         "name": "minimum age",
         "orientation": "v",
         "showlegend": true,
         "type": "scatter",
         "x": [
          1991,
          1992,
          1993,
          1994,
          1995,
          1996,
          1997,
          1998,
          1999,
          2000,
          2001,
          2003,
          2007,
          2010,
          2013,
          2015,
          2018,
          2019
         ],
         "xaxis": "x",
         "y": [
          4,
          2,
          9,
          30,
          4,
          1,
          1,
          5,
          3,
          2,
          2,
          1,
          1,
          2,
          1,
          1,
          4,
          2
         ],
         "yaxis": "y"
        },
        {
         "hovertemplate": "Law Class=open carry<br>Year=%{x}<br>Count=%{y}<extra></extra>",
         "legendgroup": "open carry",
         "line": {
          "color": "#FFA15A",
          "dash": "solid"
         },
         "marker": {
          "symbol": "circle"
         },
         "mode": "lines",
         "name": "open carry",
         "orientation": "v",
         "showlegend": true,
         "type": "scatter",
         "x": [
          1991,
          1993,
          1994,
          1995,
          1997,
          2006,
          2012,
          2013,
          2015
         ],
         "xaxis": "x",
         "y": [
          2,
          1,
          1,
          1,
          2,
          1,
          2,
          1,
          1
         ],
         "yaxis": "y"
        },
        {
         "hovertemplate": "Law Class=prohibited possessor<br>Year=%{x}<br>Count=%{y}<extra></extra>",
         "legendgroup": "prohibited possessor",
         "line": {
          "color": "#19d3f3",
          "dash": "solid"
         },
         "marker": {
          "symbol": "circle"
         },
         "mode": "lines",
         "name": "prohibited possessor",
         "orientation": "v",
         "showlegend": true,
         "type": "scatter",
         "x": [
          1991,
          1992,
          1993,
          1994,
          1995,
          1996,
          1997,
          1998,
          1999,
          2000,
          2001,
          2002,
          2003,
          2004,
          2005,
          2006,
          2007,
          2008,
          2009,
          2010,
          2011,
          2012,
          2013,
          2014,
          2015,
          2016,
          2017,
          2018,
          2019,
          2020
         ],
         "xaxis": "x",
         "y": [
          3,
          1,
          1,
          10,
          7,
          8,
          4,
          1,
          5,
          7,
          3,
          6,
          6,
          5,
          3,
          2,
          2,
          8,
          6,
          5,
          1,
          3,
          12,
          5,
          7,
          7,
          6,
          23,
          12,
          5
         ],
         "yaxis": "y"
        },
        {
         "hovertemplate": "Law Class=waiting period<br>Year=%{x}<br>Count=%{y}<extra></extra>",
         "legendgroup": "waiting period",
         "line": {
          "color": "#FF6692",
          "dash": "solid"
         },
         "marker": {
          "symbol": "circle"
         },
         "mode": "lines",
         "name": "waiting period",
         "orientation": "v",
         "showlegend": true,
         "type": "scatter",
         "x": [
          1991,
          1992,
          1994,
          1995,
          1996,
          1997,
          1998,
          2000,
          2009,
          2013,
          2014,
          2015,
          2018,
          2019
         ],
         "xaxis": "x",
         "y": [
          1,
          1,
          21,
          2,
          2,
          3,
          17,
          1,
          3,
          1,
          2,
          1,
          1,
          1
         ],
         "yaxis": "y"
        },
        {
         "hovertemplate": "Law Class=castle doctrine<br>Year=%{x}<br>Count=%{y}<extra></extra>",
         "legendgroup": "castle doctrine",
         "line": {
          "color": "#B6E880",
          "dash": "solid"
         },
         "marker": {
          "symbol": "circle"
         },
         "mode": "lines",
         "name": "castle doctrine",
         "orientation": "v",
         "showlegend": true,
         "type": "scatter",
         "x": [
          1994,
          2005,
          2006,
          2007,
          2008,
          2009,
          2011,
          2013,
          2016,
          2017,
          2018
         ],
         "xaxis": "x",
         "y": [
          1,
          1,
          13,
          3,
          3,
          1,
          5,
          1,
          1,
          1,
          2
         ],
         "yaxis": "y"
        }
       ],
       "layout": {
        "legend": {
         "title": {
          "text": "Law Class"
         },
         "tracegroupgap": 0
        },
        "margin": {
         "t": 60
        },
        "template": {
         "data": {
          "bar": [
           {
            "error_x": {
             "color": "#2a3f5f"
            },
            "error_y": {
             "color": "#2a3f5f"
            },
            "marker": {
             "line": {
              "color": "#E5ECF6",
              "width": 0.5
             },
             "pattern": {
              "fillmode": "overlay",
              "size": 10,
              "solidity": 0.2
             }
            },
            "type": "bar"
           }
          ],
          "barpolar": [
           {
            "marker": {
             "line": {
              "color": "#E5ECF6",
              "width": 0.5
             },
             "pattern": {
              "fillmode": "overlay",
              "size": 10,
              "solidity": 0.2
             }
            },
            "type": "barpolar"
           }
          ],
          "carpet": [
           {
            "aaxis": {
             "endlinecolor": "#2a3f5f",
             "gridcolor": "white",
             "linecolor": "white",
             "minorgridcolor": "white",
             "startlinecolor": "#2a3f5f"
            },
            "baxis": {
             "endlinecolor": "#2a3f5f",
             "gridcolor": "white",
             "linecolor": "white",
             "minorgridcolor": "white",
             "startlinecolor": "#2a3f5f"
            },
            "type": "carpet"
           }
          ],
          "choropleth": [
           {
            "colorbar": {
             "outlinewidth": 0,
             "ticks": ""
            },
            "type": "choropleth"
           }
          ],
          "contour": [
           {
            "colorbar": {
             "outlinewidth": 0,
             "ticks": ""
            },
            "colorscale": [
             [
              0,
              "#0d0887"
             ],
             [
              0.1111111111111111,
              "#46039f"
             ],
             [
              0.2222222222222222,
              "#7201a8"
             ],
             [
              0.3333333333333333,
              "#9c179e"
             ],
             [
              0.4444444444444444,
              "#bd3786"
             ],
             [
              0.5555555555555556,
              "#d8576b"
             ],
             [
              0.6666666666666666,
              "#ed7953"
             ],
             [
              0.7777777777777778,
              "#fb9f3a"
             ],
             [
              0.8888888888888888,
              "#fdca26"
             ],
             [
              1,
              "#f0f921"
             ]
            ],
            "type": "contour"
           }
          ],
          "contourcarpet": [
           {
            "colorbar": {
             "outlinewidth": 0,
             "ticks": ""
            },
            "type": "contourcarpet"
           }
          ],
          "heatmap": [
           {
            "colorbar": {
             "outlinewidth": 0,
             "ticks": ""
            },
            "colorscale": [
             [
              0,
              "#0d0887"
             ],
             [
              0.1111111111111111,
              "#46039f"
             ],
             [
              0.2222222222222222,
              "#7201a8"
             ],
             [
              0.3333333333333333,
              "#9c179e"
             ],
             [
              0.4444444444444444,
              "#bd3786"
             ],
             [
              0.5555555555555556,
              "#d8576b"
             ],
             [
              0.6666666666666666,
              "#ed7953"
             ],
             [
              0.7777777777777778,
              "#fb9f3a"
             ],
             [
              0.8888888888888888,
              "#fdca26"
             ],
             [
              1,
              "#f0f921"
             ]
            ],
            "type": "heatmap"
           }
          ],
          "heatmapgl": [
           {
            "colorbar": {
             "outlinewidth": 0,
             "ticks": ""
            },
            "colorscale": [
             [
              0,
              "#0d0887"
             ],
             [
              0.1111111111111111,
              "#46039f"
             ],
             [
              0.2222222222222222,
              "#7201a8"
             ],
             [
              0.3333333333333333,
              "#9c179e"
             ],
             [
              0.4444444444444444,
              "#bd3786"
             ],
             [
              0.5555555555555556,
              "#d8576b"
             ],
             [
              0.6666666666666666,
              "#ed7953"
             ],
             [
              0.7777777777777778,
              "#fb9f3a"
             ],
             [
              0.8888888888888888,
              "#fdca26"
             ],
             [
              1,
              "#f0f921"
             ]
            ],
            "type": "heatmapgl"
           }
          ],
          "histogram": [
           {
            "marker": {
             "pattern": {
              "fillmode": "overlay",
              "size": 10,
              "solidity": 0.2
             }
            },
            "type": "histogram"
           }
          ],
          "histogram2d": [
           {
            "colorbar": {
             "outlinewidth": 0,
             "ticks": ""
            },
            "colorscale": [
             [
              0,
              "#0d0887"
             ],
             [
              0.1111111111111111,
              "#46039f"
             ],
             [
              0.2222222222222222,
              "#7201a8"
             ],
             [
              0.3333333333333333,
              "#9c179e"
             ],
             [
              0.4444444444444444,
              "#bd3786"
             ],
             [
              0.5555555555555556,
              "#d8576b"
             ],
             [
              0.6666666666666666,
              "#ed7953"
             ],
             [
              0.7777777777777778,
              "#fb9f3a"
             ],
             [
              0.8888888888888888,
              "#fdca26"
             ],
             [
              1,
              "#f0f921"
             ]
            ],
            "type": "histogram2d"
           }
          ],
          "histogram2dcontour": [
           {
            "colorbar": {
             "outlinewidth": 0,
             "ticks": ""
            },
            "colorscale": [
             [
              0,
              "#0d0887"
             ],
             [
              0.1111111111111111,
              "#46039f"
             ],
             [
              0.2222222222222222,
              "#7201a8"
             ],
             [
              0.3333333333333333,
              "#9c179e"
             ],
             [
              0.4444444444444444,
              "#bd3786"
             ],
             [
              0.5555555555555556,
              "#d8576b"
             ],
             [
              0.6666666666666666,
              "#ed7953"
             ],
             [
              0.7777777777777778,
              "#fb9f3a"
             ],
             [
              0.8888888888888888,
              "#fdca26"
             ],
             [
              1,
              "#f0f921"
             ]
            ],
            "type": "histogram2dcontour"
           }
          ],
          "mesh3d": [
           {
            "colorbar": {
             "outlinewidth": 0,
             "ticks": ""
            },
            "type": "mesh3d"
           }
          ],
          "parcoords": [
           {
            "line": {
             "colorbar": {
              "outlinewidth": 0,
              "ticks": ""
             }
            },
            "type": "parcoords"
           }
          ],
          "pie": [
           {
            "automargin": true,
            "type": "pie"
           }
          ],
          "scatter": [
           {
            "marker": {
             "colorbar": {
              "outlinewidth": 0,
              "ticks": ""
             }
            },
            "type": "scatter"
           }
          ],
          "scatter3d": [
           {
            "line": {
             "colorbar": {
              "outlinewidth": 0,
              "ticks": ""
             }
            },
            "marker": {
             "colorbar": {
              "outlinewidth": 0,
              "ticks": ""
             }
            },
            "type": "scatter3d"
           }
          ],
          "scattercarpet": [
           {
            "marker": {
             "colorbar": {
              "outlinewidth": 0,
              "ticks": ""
             }
            },
            "type": "scattercarpet"
           }
          ],
          "scattergeo": [
           {
            "marker": {
             "colorbar": {
              "outlinewidth": 0,
              "ticks": ""
             }
            },
            "type": "scattergeo"
           }
          ],
          "scattergl": [
           {
            "marker": {
             "colorbar": {
              "outlinewidth": 0,
              "ticks": ""
             }
            },
            "type": "scattergl"
           }
          ],
          "scattermapbox": [
           {
            "marker": {
             "colorbar": {
              "outlinewidth": 0,
              "ticks": ""
             }
            },
            "type": "scattermapbox"
           }
          ],
          "scatterpolar": [
           {
            "marker": {
             "colorbar": {
              "outlinewidth": 0,
              "ticks": ""
             }
            },
            "type": "scatterpolar"
           }
          ],
          "scatterpolargl": [
           {
            "marker": {
             "colorbar": {
              "outlinewidth": 0,
              "ticks": ""
             }
            },
            "type": "scatterpolargl"
           }
          ],
          "scatterternary": [
           {
            "marker": {
             "colorbar": {
              "outlinewidth": 0,
              "ticks": ""
             }
            },
            "type": "scatterternary"
           }
          ],
          "surface": [
           {
            "colorbar": {
             "outlinewidth": 0,
             "ticks": ""
            },
            "colorscale": [
             [
              0,
              "#0d0887"
             ],
             [
              0.1111111111111111,
              "#46039f"
             ],
             [
              0.2222222222222222,
              "#7201a8"
             ],
             [
              0.3333333333333333,
              "#9c179e"
             ],
             [
              0.4444444444444444,
              "#bd3786"
             ],
             [
              0.5555555555555556,
              "#d8576b"
             ],
             [
              0.6666666666666666,
              "#ed7953"
             ],
             [
              0.7777777777777778,
              "#fb9f3a"
             ],
             [
              0.8888888888888888,
              "#fdca26"
             ],
             [
              1,
              "#f0f921"
             ]
            ],
            "type": "surface"
           }
          ],
          "table": [
           {
            "cells": {
             "fill": {
              "color": "#EBF0F8"
             },
             "line": {
              "color": "white"
             }
            },
            "header": {
             "fill": {
              "color": "#C8D4E3"
             },
             "line": {
              "color": "white"
             }
            },
            "type": "table"
           }
          ]
         },
         "layout": {
          "annotationdefaults": {
           "arrowcolor": "#2a3f5f",
           "arrowhead": 0,
           "arrowwidth": 1
          },
          "autotypenumbers": "strict",
          "coloraxis": {
           "colorbar": {
            "outlinewidth": 0,
            "ticks": ""
           }
          },
          "colorscale": {
           "diverging": [
            [
             0,
             "#8e0152"
            ],
            [
             0.1,
             "#c51b7d"
            ],
            [
             0.2,
             "#de77ae"
            ],
            [
             0.3,
             "#f1b6da"
            ],
            [
             0.4,
             "#fde0ef"
            ],
            [
             0.5,
             "#f7f7f7"
            ],
            [
             0.6,
             "#e6f5d0"
            ],
            [
             0.7,
             "#b8e186"
            ],
            [
             0.8,
             "#7fbc41"
            ],
            [
             0.9,
             "#4d9221"
            ],
            [
             1,
             "#276419"
            ]
           ],
           "sequential": [
            [
             0,
             "#0d0887"
            ],
            [
             0.1111111111111111,
             "#46039f"
            ],
            [
             0.2222222222222222,
             "#7201a8"
            ],
            [
             0.3333333333333333,
             "#9c179e"
            ],
            [
             0.4444444444444444,
             "#bd3786"
            ],
            [
             0.5555555555555556,
             "#d8576b"
            ],
            [
             0.6666666666666666,
             "#ed7953"
            ],
            [
             0.7777777777777778,
             "#fb9f3a"
            ],
            [
             0.8888888888888888,
             "#fdca26"
            ],
            [
             1,
             "#f0f921"
            ]
           ],
           "sequentialminus": [
            [
             0,
             "#0d0887"
            ],
            [
             0.1111111111111111,
             "#46039f"
            ],
            [
             0.2222222222222222,
             "#7201a8"
            ],
            [
             0.3333333333333333,
             "#9c179e"
            ],
            [
             0.4444444444444444,
             "#bd3786"
            ],
            [
             0.5555555555555556,
             "#d8576b"
            ],
            [
             0.6666666666666666,
             "#ed7953"
            ],
            [
             0.7777777777777778,
             "#fb9f3a"
            ],
            [
             0.8888888888888888,
             "#fdca26"
            ],
            [
             1,
             "#f0f921"
            ]
           ]
          },
          "colorway": [
           "#636efa",
           "#EF553B",
           "#00cc96",
           "#ab63fa",
           "#FFA15A",
           "#19d3f3",
           "#FF6692",
           "#B6E880",
           "#FF97FF",
           "#FECB52"
          ],
          "font": {
           "color": "#2a3f5f"
          },
          "geo": {
           "bgcolor": "white",
           "lakecolor": "white",
           "landcolor": "#E5ECF6",
           "showlakes": true,
           "showland": true,
           "subunitcolor": "white"
          },
          "hoverlabel": {
           "align": "left"
          },
          "hovermode": "closest",
          "mapbox": {
           "style": "light"
          },
          "paper_bgcolor": "white",
          "plot_bgcolor": "#E5ECF6",
          "polar": {
           "angularaxis": {
            "gridcolor": "white",
            "linecolor": "white",
            "ticks": ""
           },
           "bgcolor": "#E5ECF6",
           "radialaxis": {
            "gridcolor": "white",
            "linecolor": "white",
            "ticks": ""
           }
          },
          "scene": {
           "xaxis": {
            "backgroundcolor": "#E5ECF6",
            "gridcolor": "white",
            "gridwidth": 2,
            "linecolor": "white",
            "showbackground": true,
            "ticks": "",
            "zerolinecolor": "white"
           },
           "yaxis": {
            "backgroundcolor": "#E5ECF6",
            "gridcolor": "white",
            "gridwidth": 2,
            "linecolor": "white",
            "showbackground": true,
            "ticks": "",
            "zerolinecolor": "white"
           },
           "zaxis": {
            "backgroundcolor": "#E5ECF6",
            "gridcolor": "white",
            "gridwidth": 2,
            "linecolor": "white",
            "showbackground": true,
            "ticks": "",
            "zerolinecolor": "white"
           }
          },
          "shapedefaults": {
           "line": {
            "color": "#2a3f5f"
           }
          },
          "ternary": {
           "aaxis": {
            "gridcolor": "white",
            "linecolor": "white",
            "ticks": ""
           },
           "baxis": {
            "gridcolor": "white",
            "linecolor": "white",
            "ticks": ""
           },
           "bgcolor": "#E5ECF6",
           "caxis": {
            "gridcolor": "white",
            "linecolor": "white",
            "ticks": ""
           }
          },
          "title": {
           "x": 0.05
          },
          "xaxis": {
           "automargin": true,
           "gridcolor": "white",
           "linecolor": "white",
           "ticks": "",
           "title": {
            "standoff": 15
           },
           "zerolinecolor": "white",
           "zerolinewidth": 2
          },
          "yaxis": {
           "automargin": true,
           "gridcolor": "white",
           "linecolor": "white",
           "ticks": "",
           "title": {
            "standoff": 15
           },
           "zerolinecolor": "white",
           "zerolinewidth": 2
          }
         }
        },
        "xaxis": {
         "anchor": "y",
         "domain": [
          0,
          1
         ],
         "title": {
          "text": "Year"
         }
        },
        "yaxis": {
         "anchor": "x",
         "domain": [
          0,
          1
         ],
         "title": {
          "text": "Count"
         }
        }
       }
      },
      "text/html": [
       "<div>                            <div id=\"78014d80-b3da-4741-90ec-0d01ae046b4c\" class=\"plotly-graph-div\" style=\"height:525px; width:100%;\"></div>            <script type=\"text/javascript\">                require([\"plotly\"], function(Plotly) {                    window.PLOTLYENV=window.PLOTLYENV || {};                                    if (document.getElementById(\"78014d80-b3da-4741-90ec-0d01ae046b4c\")) {                    Plotly.newPlot(                        \"78014d80-b3da-4741-90ec-0d01ae046b4c\",                        [{\"hovertemplate\":\"Law Class=background checks<br>Year=%{x}<br>Count=%{y}<extra></extra>\",\"legendgroup\":\"background checks\",\"line\":{\"color\":\"#636efa\",\"dash\":\"solid\"},\"marker\":{\"symbol\":\"circle\"},\"mode\":\"lines\",\"name\":\"background checks\",\"orientation\":\"v\",\"showlegend\":true,\"x\":[1991,1994,1995,1996,1997,1998,1999,2000,2001,2005,2007,2008,2009,2012,2013,2014,2015,2016,2018,2019,2020],\"xaxis\":\"x\",\"y\":[7,62,7,3,4,65,2,1,1,1,3,1,2,1,11,6,2,2,4,4,2],\"yaxis\":\"y\",\"type\":\"scatter\"},{\"hovertemplate\":\"Law Class=carrying a concealed weapon (ccw)<br>Year=%{x}<br>Count=%{y}<extra></extra>\",\"legendgroup\":\"carrying a concealed weapon (ccw)\",\"line\":{\"color\":\"#EF553B\",\"dash\":\"solid\"},\"marker\":{\"symbol\":\"circle\"},\"mode\":\"lines\",\"name\":\"carrying a concealed weapon (ccw)\",\"orientation\":\"v\",\"showlegend\":true,\"x\":[1991,1994,1995,1996,2001,2003,2004,2007,2010,2011,2013,2015,2016,2017,2018,2019],\"xaxis\":\"x\",\"y\":[1,3,5,6,1,3,3,2,1,3,1,2,3,4,1,3],\"yaxis\":\"y\",\"type\":\"scatter\"},{\"hovertemplate\":\"Law Class=child access laws<br>Year=%{x}<br>Count=%{y}<extra></extra>\",\"legendgroup\":\"child access laws\",\"line\":{\"color\":\"#00cc96\",\"dash\":\"solid\"},\"marker\":{\"symbol\":\"circle\"},\"mode\":\"lines\",\"name\":\"child access laws\",\"orientation\":\"v\",\"showlegend\":true,\"x\":[1991,1992,1993,1994,1995,1998,2000,2001,2014,2019],\"xaxis\":\"x\",\"y\":[1,6,4,7,3,1,1,1,1,2],\"yaxis\":\"y\",\"type\":\"scatter\"},{\"hovertemplate\":\"Law Class=minimum age<br>Year=%{x}<br>Count=%{y}<extra></extra>\",\"legendgroup\":\"minimum age\",\"line\":{\"color\":\"#ab63fa\",\"dash\":\"solid\"},\"marker\":{\"symbol\":\"circle\"},\"mode\":\"lines\",\"name\":\"minimum age\",\"orientation\":\"v\",\"showlegend\":true,\"x\":[1991,1992,1993,1994,1995,1996,1997,1998,1999,2000,2001,2003,2007,2010,2013,2015,2018,2019],\"xaxis\":\"x\",\"y\":[4,2,9,30,4,1,1,5,3,2,2,1,1,2,1,1,4,2],\"yaxis\":\"y\",\"type\":\"scatter\"},{\"hovertemplate\":\"Law Class=open carry<br>Year=%{x}<br>Count=%{y}<extra></extra>\",\"legendgroup\":\"open carry\",\"line\":{\"color\":\"#FFA15A\",\"dash\":\"solid\"},\"marker\":{\"symbol\":\"circle\"},\"mode\":\"lines\",\"name\":\"open carry\",\"orientation\":\"v\",\"showlegend\":true,\"x\":[1991,1993,1994,1995,1997,2006,2012,2013,2015],\"xaxis\":\"x\",\"y\":[2,1,1,1,2,1,2,1,1],\"yaxis\":\"y\",\"type\":\"scatter\"},{\"hovertemplate\":\"Law Class=prohibited possessor<br>Year=%{x}<br>Count=%{y}<extra></extra>\",\"legendgroup\":\"prohibited possessor\",\"line\":{\"color\":\"#19d3f3\",\"dash\":\"solid\"},\"marker\":{\"symbol\":\"circle\"},\"mode\":\"lines\",\"name\":\"prohibited possessor\",\"orientation\":\"v\",\"showlegend\":true,\"x\":[1991,1992,1993,1994,1995,1996,1997,1998,1999,2000,2001,2002,2003,2004,2005,2006,2007,2008,2009,2010,2011,2012,2013,2014,2015,2016,2017,2018,2019,2020],\"xaxis\":\"x\",\"y\":[3,1,1,10,7,8,4,1,5,7,3,6,6,5,3,2,2,8,6,5,1,3,12,5,7,7,6,23,12,5],\"yaxis\":\"y\",\"type\":\"scatter\"},{\"hovertemplate\":\"Law Class=waiting period<br>Year=%{x}<br>Count=%{y}<extra></extra>\",\"legendgroup\":\"waiting period\",\"line\":{\"color\":\"#FF6692\",\"dash\":\"solid\"},\"marker\":{\"symbol\":\"circle\"},\"mode\":\"lines\",\"name\":\"waiting period\",\"orientation\":\"v\",\"showlegend\":true,\"x\":[1991,1992,1994,1995,1996,1997,1998,2000,2009,2013,2014,2015,2018,2019],\"xaxis\":\"x\",\"y\":[1,1,21,2,2,3,17,1,3,1,2,1,1,1],\"yaxis\":\"y\",\"type\":\"scatter\"},{\"hovertemplate\":\"Law Class=castle doctrine<br>Year=%{x}<br>Count=%{y}<extra></extra>\",\"legendgroup\":\"castle doctrine\",\"line\":{\"color\":\"#B6E880\",\"dash\":\"solid\"},\"marker\":{\"symbol\":\"circle\"},\"mode\":\"lines\",\"name\":\"castle doctrine\",\"orientation\":\"v\",\"showlegend\":true,\"x\":[1994,2005,2006,2007,2008,2009,2011,2013,2016,2017,2018],\"xaxis\":\"x\",\"y\":[1,1,13,3,3,1,5,1,1,1,2],\"yaxis\":\"y\",\"type\":\"scatter\"}],                        {\"template\":{\"data\":{\"bar\":[{\"error_x\":{\"color\":\"#2a3f5f\"},\"error_y\":{\"color\":\"#2a3f5f\"},\"marker\":{\"line\":{\"color\":\"#E5ECF6\",\"width\":0.5},\"pattern\":{\"fillmode\":\"overlay\",\"size\":10,\"solidity\":0.2}},\"type\":\"bar\"}],\"barpolar\":[{\"marker\":{\"line\":{\"color\":\"#E5ECF6\",\"width\":0.5},\"pattern\":{\"fillmode\":\"overlay\",\"size\":10,\"solidity\":0.2}},\"type\":\"barpolar\"}],\"carpet\":[{\"aaxis\":{\"endlinecolor\":\"#2a3f5f\",\"gridcolor\":\"white\",\"linecolor\":\"white\",\"minorgridcolor\":\"white\",\"startlinecolor\":\"#2a3f5f\"},\"baxis\":{\"endlinecolor\":\"#2a3f5f\",\"gridcolor\":\"white\",\"linecolor\":\"white\",\"minorgridcolor\":\"white\",\"startlinecolor\":\"#2a3f5f\"},\"type\":\"carpet\"}],\"choropleth\":[{\"colorbar\":{\"outlinewidth\":0,\"ticks\":\"\"},\"type\":\"choropleth\"}],\"contour\":[{\"colorbar\":{\"outlinewidth\":0,\"ticks\":\"\"},\"colorscale\":[[0.0,\"#0d0887\"],[0.1111111111111111,\"#46039f\"],[0.2222222222222222,\"#7201a8\"],[0.3333333333333333,\"#9c179e\"],[0.4444444444444444,\"#bd3786\"],[0.5555555555555556,\"#d8576b\"],[0.6666666666666666,\"#ed7953\"],[0.7777777777777778,\"#fb9f3a\"],[0.8888888888888888,\"#fdca26\"],[1.0,\"#f0f921\"]],\"type\":\"contour\"}],\"contourcarpet\":[{\"colorbar\":{\"outlinewidth\":0,\"ticks\":\"\"},\"type\":\"contourcarpet\"}],\"heatmap\":[{\"colorbar\":{\"outlinewidth\":0,\"ticks\":\"\"},\"colorscale\":[[0.0,\"#0d0887\"],[0.1111111111111111,\"#46039f\"],[0.2222222222222222,\"#7201a8\"],[0.3333333333333333,\"#9c179e\"],[0.4444444444444444,\"#bd3786\"],[0.5555555555555556,\"#d8576b\"],[0.6666666666666666,\"#ed7953\"],[0.7777777777777778,\"#fb9f3a\"],[0.8888888888888888,\"#fdca26\"],[1.0,\"#f0f921\"]],\"type\":\"heatmap\"}],\"heatmapgl\":[{\"colorbar\":{\"outlinewidth\":0,\"ticks\":\"\"},\"colorscale\":[[0.0,\"#0d0887\"],[0.1111111111111111,\"#46039f\"],[0.2222222222222222,\"#7201a8\"],[0.3333333333333333,\"#9c179e\"],[0.4444444444444444,\"#bd3786\"],[0.5555555555555556,\"#d8576b\"],[0.6666666666666666,\"#ed7953\"],[0.7777777777777778,\"#fb9f3a\"],[0.8888888888888888,\"#fdca26\"],[1.0,\"#f0f921\"]],\"type\":\"heatmapgl\"}],\"histogram\":[{\"marker\":{\"pattern\":{\"fillmode\":\"overlay\",\"size\":10,\"solidity\":0.2}},\"type\":\"histogram\"}],\"histogram2d\":[{\"colorbar\":{\"outlinewidth\":0,\"ticks\":\"\"},\"colorscale\":[[0.0,\"#0d0887\"],[0.1111111111111111,\"#46039f\"],[0.2222222222222222,\"#7201a8\"],[0.3333333333333333,\"#9c179e\"],[0.4444444444444444,\"#bd3786\"],[0.5555555555555556,\"#d8576b\"],[0.6666666666666666,\"#ed7953\"],[0.7777777777777778,\"#fb9f3a\"],[0.8888888888888888,\"#fdca26\"],[1.0,\"#f0f921\"]],\"type\":\"histogram2d\"}],\"histogram2dcontour\":[{\"colorbar\":{\"outlinewidth\":0,\"ticks\":\"\"},\"colorscale\":[[0.0,\"#0d0887\"],[0.1111111111111111,\"#46039f\"],[0.2222222222222222,\"#7201a8\"],[0.3333333333333333,\"#9c179e\"],[0.4444444444444444,\"#bd3786\"],[0.5555555555555556,\"#d8576b\"],[0.6666666666666666,\"#ed7953\"],[0.7777777777777778,\"#fb9f3a\"],[0.8888888888888888,\"#fdca26\"],[1.0,\"#f0f921\"]],\"type\":\"histogram2dcontour\"}],\"mesh3d\":[{\"colorbar\":{\"outlinewidth\":0,\"ticks\":\"\"},\"type\":\"mesh3d\"}],\"parcoords\":[{\"line\":{\"colorbar\":{\"outlinewidth\":0,\"ticks\":\"\"}},\"type\":\"parcoords\"}],\"pie\":[{\"automargin\":true,\"type\":\"pie\"}],\"scatter\":[{\"marker\":{\"colorbar\":{\"outlinewidth\":0,\"ticks\":\"\"}},\"type\":\"scatter\"}],\"scatter3d\":[{\"line\":{\"colorbar\":{\"outlinewidth\":0,\"ticks\":\"\"}},\"marker\":{\"colorbar\":{\"outlinewidth\":0,\"ticks\":\"\"}},\"type\":\"scatter3d\"}],\"scattercarpet\":[{\"marker\":{\"colorbar\":{\"outlinewidth\":0,\"ticks\":\"\"}},\"type\":\"scattercarpet\"}],\"scattergeo\":[{\"marker\":{\"colorbar\":{\"outlinewidth\":0,\"ticks\":\"\"}},\"type\":\"scattergeo\"}],\"scattergl\":[{\"marker\":{\"colorbar\":{\"outlinewidth\":0,\"ticks\":\"\"}},\"type\":\"scattergl\"}],\"scattermapbox\":[{\"marker\":{\"colorbar\":{\"outlinewidth\":0,\"ticks\":\"\"}},\"type\":\"scattermapbox\"}],\"scatterpolar\":[{\"marker\":{\"colorbar\":{\"outlinewidth\":0,\"ticks\":\"\"}},\"type\":\"scatterpolar\"}],\"scatterpolargl\":[{\"marker\":{\"colorbar\":{\"outlinewidth\":0,\"ticks\":\"\"}},\"type\":\"scatterpolargl\"}],\"scatterternary\":[{\"marker\":{\"colorbar\":{\"outlinewidth\":0,\"ticks\":\"\"}},\"type\":\"scatterternary\"}],\"surface\":[{\"colorbar\":{\"outlinewidth\":0,\"ticks\":\"\"},\"colorscale\":[[0.0,\"#0d0887\"],[0.1111111111111111,\"#46039f\"],[0.2222222222222222,\"#7201a8\"],[0.3333333333333333,\"#9c179e\"],[0.4444444444444444,\"#bd3786\"],[0.5555555555555556,\"#d8576b\"],[0.6666666666666666,\"#ed7953\"],[0.7777777777777778,\"#fb9f3a\"],[0.8888888888888888,\"#fdca26\"],[1.0,\"#f0f921\"]],\"type\":\"surface\"}],\"table\":[{\"cells\":{\"fill\":{\"color\":\"#EBF0F8\"},\"line\":{\"color\":\"white\"}},\"header\":{\"fill\":{\"color\":\"#C8D4E3\"},\"line\":{\"color\":\"white\"}},\"type\":\"table\"}]},\"layout\":{\"annotationdefaults\":{\"arrowcolor\":\"#2a3f5f\",\"arrowhead\":0,\"arrowwidth\":1},\"autotypenumbers\":\"strict\",\"coloraxis\":{\"colorbar\":{\"outlinewidth\":0,\"ticks\":\"\"}},\"colorscale\":{\"diverging\":[[0,\"#8e0152\"],[0.1,\"#c51b7d\"],[0.2,\"#de77ae\"],[0.3,\"#f1b6da\"],[0.4,\"#fde0ef\"],[0.5,\"#f7f7f7\"],[0.6,\"#e6f5d0\"],[0.7,\"#b8e186\"],[0.8,\"#7fbc41\"],[0.9,\"#4d9221\"],[1,\"#276419\"]],\"sequential\":[[0.0,\"#0d0887\"],[0.1111111111111111,\"#46039f\"],[0.2222222222222222,\"#7201a8\"],[0.3333333333333333,\"#9c179e\"],[0.4444444444444444,\"#bd3786\"],[0.5555555555555556,\"#d8576b\"],[0.6666666666666666,\"#ed7953\"],[0.7777777777777778,\"#fb9f3a\"],[0.8888888888888888,\"#fdca26\"],[1.0,\"#f0f921\"]],\"sequentialminus\":[[0.0,\"#0d0887\"],[0.1111111111111111,\"#46039f\"],[0.2222222222222222,\"#7201a8\"],[0.3333333333333333,\"#9c179e\"],[0.4444444444444444,\"#bd3786\"],[0.5555555555555556,\"#d8576b\"],[0.6666666666666666,\"#ed7953\"],[0.7777777777777778,\"#fb9f3a\"],[0.8888888888888888,\"#fdca26\"],[1.0,\"#f0f921\"]]},\"colorway\":[\"#636efa\",\"#EF553B\",\"#00cc96\",\"#ab63fa\",\"#FFA15A\",\"#19d3f3\",\"#FF6692\",\"#B6E880\",\"#FF97FF\",\"#FECB52\"],\"font\":{\"color\":\"#2a3f5f\"},\"geo\":{\"bgcolor\":\"white\",\"lakecolor\":\"white\",\"landcolor\":\"#E5ECF6\",\"showlakes\":true,\"showland\":true,\"subunitcolor\":\"white\"},\"hoverlabel\":{\"align\":\"left\"},\"hovermode\":\"closest\",\"mapbox\":{\"style\":\"light\"},\"paper_bgcolor\":\"white\",\"plot_bgcolor\":\"#E5ECF6\",\"polar\":{\"angularaxis\":{\"gridcolor\":\"white\",\"linecolor\":\"white\",\"ticks\":\"\"},\"bgcolor\":\"#E5ECF6\",\"radialaxis\":{\"gridcolor\":\"white\",\"linecolor\":\"white\",\"ticks\":\"\"}},\"scene\":{\"xaxis\":{\"backgroundcolor\":\"#E5ECF6\",\"gridcolor\":\"white\",\"gridwidth\":2,\"linecolor\":\"white\",\"showbackground\":true,\"ticks\":\"\",\"zerolinecolor\":\"white\"},\"yaxis\":{\"backgroundcolor\":\"#E5ECF6\",\"gridcolor\":\"white\",\"gridwidth\":2,\"linecolor\":\"white\",\"showbackground\":true,\"ticks\":\"\",\"zerolinecolor\":\"white\"},\"zaxis\":{\"backgroundcolor\":\"#E5ECF6\",\"gridcolor\":\"white\",\"gridwidth\":2,\"linecolor\":\"white\",\"showbackground\":true,\"ticks\":\"\",\"zerolinecolor\":\"white\"}},\"shapedefaults\":{\"line\":{\"color\":\"#2a3f5f\"}},\"ternary\":{\"aaxis\":{\"gridcolor\":\"white\",\"linecolor\":\"white\",\"ticks\":\"\"},\"baxis\":{\"gridcolor\":\"white\",\"linecolor\":\"white\",\"ticks\":\"\"},\"bgcolor\":\"#E5ECF6\",\"caxis\":{\"gridcolor\":\"white\",\"linecolor\":\"white\",\"ticks\":\"\"}},\"title\":{\"x\":0.05},\"xaxis\":{\"automargin\":true,\"gridcolor\":\"white\",\"linecolor\":\"white\",\"ticks\":\"\",\"title\":{\"standoff\":15},\"zerolinecolor\":\"white\",\"zerolinewidth\":2},\"yaxis\":{\"automargin\":true,\"gridcolor\":\"white\",\"linecolor\":\"white\",\"ticks\":\"\",\"title\":{\"standoff\":15},\"zerolinecolor\":\"white\",\"zerolinewidth\":2}}},\"xaxis\":{\"anchor\":\"y\",\"domain\":[0.0,1.0],\"title\":{\"text\":\"Year\"}},\"yaxis\":{\"anchor\":\"x\",\"domain\":[0.0,1.0],\"title\":{\"text\":\"Count\"}},\"legend\":{\"title\":{\"text\":\"Law Class\"},\"tracegroupgap\":0},\"margin\":{\"t\":60}},                        {\"responsive\": true}                    ).then(function(){\n",
       "                            \n",
       "var gd = document.getElementById('78014d80-b3da-4741-90ec-0d01ae046b4c');\n",
       "var x = new MutationObserver(function (mutations, observer) {{\n",
       "        var display = window.getComputedStyle(gd).display;\n",
       "        if (!display || display === 'none') {{\n",
       "            console.log([gd, 'removed!']);\n",
       "            Plotly.purge(gd);\n",
       "            observer.disconnect();\n",
       "        }}\n",
       "}});\n",
       "\n",
       "// Listen for the removal of the full notebook cells\n",
       "var notebookContainer = gd.closest('#notebook-container');\n",
       "if (notebookContainer) {{\n",
       "    x.observe(notebookContainer, {childList: true});\n",
       "}}\n",
       "\n",
       "// Listen for the clearing of the current output cell\n",
       "var outputEl = gd.closest('.output');\n",
       "if (outputEl) {{\n",
       "    x.observe(outputEl, {childList: true});\n",
       "}}\n",
       "\n",
       "                        })                };                });            </script>        </div>"
      ]
     },
     "metadata": {},
     "output_type": "display_data"
    }
   ],
   "source": [
    "test = laws[['Law Class','Year']]\n",
    "classes = [\n",
    "    'registration',\n",
    "    'safety training required',\n",
    "    'dealer license',\n",
    "    'firearm sales restrictions',\n",
    "    'permit to purchase'\n",
    "]\n",
    "test = test[~test['Law Class'].isin(classes)]\n",
    "#test = test[test['Law Class']=='waiting period']\n",
    "test = test.groupby(['Year','Law Class']).size().reset_index()\n",
    "test = test.rename(columns={0: 'Count'})\n",
    "test.head()\n",
    "fig = px.line(test,x=\"Year\",y='Count',color='Law Class')\n",
    "\n",
    "fig.show()"
   ]
  },
  {
   "cell_type": "markdown",
   "metadata": {},
   "source": [
    "# Part 2: Clean up and join datasets"
   ]
  },
  {
   "cell_type": "code",
   "execution_count": 21,
   "metadata": {},
   "outputs": [
    {
     "name": "stdout",
     "output_type": "stream",
     "text": [
      "Dataset 1 Dimensions:  (679, 11)\n",
      "Dataset 2 Dimensions:  (1400, 4)\n",
      "Dataset 3 Dimensions:  (679, 14)\n"
     ]
    }
   ],
   "source": [
    "#Join death data on laws data\n",
    "full_law = pd.merge(\n",
    "    laws,\n",
    "    deaths,\n",
    "    how='left',\n",
    "    left_on =['ST','Year'],\n",
    "    right_on=['State','Year']\n",
    ")\n",
    "print(\"Dataset 1 Dimensions: \", laws.shape)\n",
    "print(\"Dataset 2 Dimensions: \", deaths.shape)\n",
    "print(\"Dataset 3 Dimensions: \", full_law.shape)"
   ]
  },
  {
   "cell_type": "code",
   "execution_count": 22,
   "metadata": {
    "scrolled": false
   },
   "outputs": [
    {
     "data": {
      "text/html": [
       "<div>\n",
       "<style scoped>\n",
       "    .dataframe tbody tr th:only-of-type {\n",
       "        vertical-align: middle;\n",
       "    }\n",
       "\n",
       "    .dataframe tbody tr th {\n",
       "        vertical-align: top;\n",
       "    }\n",
       "\n",
       "    .dataframe thead th {\n",
       "        text-align: right;\n",
       "    }\n",
       "</style>\n",
       "<table border=\"1\" class=\"dataframe\">\n",
       "  <thead>\n",
       "    <tr style=\"text-align: right;\">\n",
       "      <th></th>\n",
       "      <th>Law ID</th>\n",
       "      <th>State</th>\n",
       "      <th>ST</th>\n",
       "      <th>Law Class</th>\n",
       "      <th>Effect</th>\n",
       "      <th>Type of Change</th>\n",
       "      <th>Effective Date</th>\n",
       "      <th>Year</th>\n",
       "      <th>Content</th>\n",
       "      <th>min_age</th>\n",
       "      <th>wait_days</th>\n",
       "      <th>Suicides</th>\n",
       "      <th>Homicides</th>\n",
       "    </tr>\n",
       "  </thead>\n",
       "  <tbody>\n",
       "    <tr>\n",
       "      <th>0</th>\n",
       "      <td>AL1005</td>\n",
       "      <td>Alabama</td>\n",
       "      <td>AL</td>\n",
       "      <td>castle doctrine</td>\n",
       "      <td>Permissive</td>\n",
       "      <td>Modify</td>\n",
       "      <td>2006-06-01</td>\n",
       "      <td>2006</td>\n",
       "      <td>A person who is justified under subsection (a)...</td>\n",
       "      <td>NaN</td>\n",
       "      <td>NaN</td>\n",
       "      <td>8.42</td>\n",
       "      <td>7.27</td>\n",
       "    </tr>\n",
       "    <tr>\n",
       "      <th>1</th>\n",
       "      <td>AL1012</td>\n",
       "      <td>Alabama</td>\n",
       "      <td>AL</td>\n",
       "      <td>minimum age</td>\n",
       "      <td>Restrictive</td>\n",
       "      <td>Implement</td>\n",
       "      <td>2015-10-01</td>\n",
       "      <td>2015</td>\n",
       "      <td>No person who is a minor, except under the cir...</td>\n",
       "      <td>18</td>\n",
       "      <td>NaN</td>\n",
       "      <td>10.34</td>\n",
       "      <td>8.43</td>\n",
       "    </tr>\n",
       "  </tbody>\n",
       "</table>\n",
       "</div>"
      ],
      "text/plain": [
       "   Law ID    State  ST        Law Class       Effect Type of Change  \\\n",
       "0  AL1005  Alabama  AL  castle doctrine   Permissive         Modify   \n",
       "1  AL1012  Alabama  AL      minimum age  Restrictive      Implement   \n",
       "\n",
       "  Effective Date  Year                                            Content  \\\n",
       "0     2006-06-01  2006  A person who is justified under subsection (a)...   \n",
       "1     2015-10-01  2015  No person who is a minor, except under the cir...   \n",
       "\n",
       "  min_age wait_days  Suicides  Homicides  \n",
       "0     NaN       NaN      8.42       7.27  \n",
       "1      18       NaN     10.34       8.43  "
      ]
     },
     "execution_count": 22,
     "metadata": {},
     "output_type": "execute_result"
    }
   ],
   "source": [
    "#Clean up state after join\n",
    "del full_law['State_y']\n",
    "full_law = full_law.rename(\n",
    "    columns={\n",
    "        'State_x': 'State'\n",
    "    }\n",
    ")\n",
    "full_law.head(2)"
   ]
  },
  {
   "cell_type": "code",
   "execution_count": 23,
   "metadata": {
    "scrolled": false
   },
   "outputs": [
    {
     "data": {
      "text/plain": [
       "'Repealed.'"
      ]
     },
     "execution_count": 23,
     "metadata": {},
     "output_type": "execute_result"
    }
   ],
   "source": [
    "full_law['Content'][3]"
   ]
  },
  {
   "cell_type": "code",
   "execution_count": 38,
   "metadata": {
    "scrolled": false
   },
   "outputs": [
    {
     "name": "stderr",
     "output_type": "stream",
     "text": [
      "<ipython-input-38-c26084a17082>:17: FutureWarning:\n",
      "\n",
      "The default value of regex will change from True to False in a future version.\n",
      "\n",
      "<ipython-input-38-c26084a17082>:35: FutureWarning:\n",
      "\n",
      "The default value of regex will change from True to False in a future version.\n",
      "\n"
     ]
    }
   ],
   "source": [
    "#Clean up content\n",
    "#1.) Lower case\n",
    "full_law['Content_cleaned'] = full_law['Content'].str.lower()\n",
    "\n",
    "#2.) Remove legalese\n",
    "full_law['Content_cleaned'] = full_law['Content_cleaned'].replace('ch. ',\"\",regex=True)\n",
    "# full_law['Content_cleaned'] = full_law['Content_cleaned'].replace('p. ',\"\",regex=True)\n",
    "full_law['Content_cleaned'] = full_law['Content_cleaned'].replace('§',\"\",regex=True)\n",
    "\n",
    "#3.) Remove \\n\n",
    "full_law['Content_cleaned'] = full_law['Content_cleaned'].replace('\\n',\"\",regex=True)\n",
    "\n",
    "#4.) Remove specific punctuation\n",
    "full_law['Content_cleaned'] = full_law['Content_cleaned'].replace(',',\"\",regex=True)\n",
    "full_law['Content_cleaned'] = full_law['Content_cleaned'].replace(';',\"\",regex=True)\n",
    "full_law['Content_cleaned'] = full_law['Content_cleaned'].replace(':',\"\",regex=True)\n",
    "full_law['Content_cleaned'] = full_law['Content_cleaned'].str.replace(r'[^\\w\\s]+', \" \")\n",
    "\n",
    "#5.) Remove stranded letters\n",
    "full_law['Content_cleaned'] = full_law['Content_cleaned'].str.replace(' a ', \" \")\n",
    "full_law['Content_cleaned'] = full_law['Content_cleaned'].str.replace(' b ', \" \")\n",
    "full_law['Content_cleaned'] = full_law['Content_cleaned'].str.replace(' c ', \" \")\n",
    "full_law['Content_cleaned'] = full_law['Content_cleaned'].str.replace(' d ', \" \")\n",
    "full_law['Content_cleaned'] = full_law['Content_cleaned'].str.replace(' i ', \" \")\n",
    "full_law['Content_cleaned'] = full_law['Content_cleaned'].str.replace(' ii ', \" \")\n",
    "full_law['Content_cleaned'] = full_law['Content_cleaned'].str.replace(' iii ', \" \")\n",
    "full_law['Content_cleaned'] = full_law['Content_cleaned'].str.replace(' p ', \" \")\n",
    "\n",
    "\n",
    "\n",
    "#6.) Remove the \\n next line symbol\n",
    "full_law['Content_cleaned'] = full_law['Content_cleaned'].replace(r'\\n',\" \", regex=True) \n",
    "\n",
    "#7.) Remove numbers\n",
    "full_law['Content_cleaned'] = full_law['Content_cleaned'].str.replace('\\d+', \" \")\n",
    "\n",
    "#8.) Remove dashes\n",
    "full_law['Content_cleaned'] = full_law['Content_cleaned'].replace('-', \" \", regex=True)\n",
    "\n",
    "\n",
    "\n",
    "#9.) Remove names of months\n",
    "full_law = full_law.replace(\n",
    "    {'Content_cleaned' : \n",
    "     {'january' : '', \n",
    "      'february' : '', \n",
    "      'march' : '', \n",
    "      'april' : '', \n",
    "      'may' : '', \n",
    "      'june' : '', \n",
    "      'july' : '', \n",
    "      'august' : '', \n",
    "      'september' : '', \n",
    "      'october' : '', \n",
    "      'november' : '', \n",
    "      'december' : '' \n",
    "     }\n",
    "    }\n",
    ")\n",
    "\n",
    "#10.) Excessive spaces\n",
    "full_law['Content_cleaned'] = full_law['Content_cleaned'].replace(r'\\s+', ' ', regex=True)\n",
    "\n",
    "#11.) Remove stop words\n",
    "from nltk.corpus import stopwords\n",
    "stop = stopwords.words('english')\n",
    "full_law['Content_cleaned'] = full_law['Content_cleaned'].apply(lambda x: ' '.join([word for word in x.split() if word not in (stop)]))\n"
   ]
  },
  {
   "cell_type": "code",
   "execution_count": 39,
   "metadata": {},
   "outputs": [
    {
     "data": {
      "text/plain": [
       "'private person authorized obtain background check person wishes obtain firearm fee charged background check immunity civil liability private person wishes transfer firearm another person may transferring firearm request central repository nevada records criminal history perform background check person wishes acquire firearm person requests information pursuant subsection shall provide central repository identifying information person wishes acquire firearm upon receiving request private person pursuant subsection identifying information required pursuant subsection central repository shall within business days receiving request perform background check person wishes acquire firearm notify person requests information whether information available central repository indicates receipt firearm person wishes acquire firearm would violate state federal law person requests information receive notification central repository regarding request within business days making request person may presume receipt firearm person wishes acquire firearm would violate state federal law central repository may charge fee performing background check notifying person results background check pursuant section private person transfers firearm another person immune civil liability failing request background check pursuant section act omission relating background check requested pursuant section act omission taken good faith without malicious intent director department public safety may request allocation contingency account pursuant nrs cover costs incurred department carry provisions subsection'"
      ]
     },
     "execution_count": 39,
     "metadata": {},
     "output_type": "execute_result"
    }
   ],
   "source": [
    "# test_df = full_law[full_law['Law ID']==\"AL1012\"]\n",
    "# test_df['Content_cleaned'].values\n",
    "full_law['Content_cleaned'][400]"
   ]
  },
  {
   "cell_type": "code",
   "execution_count": 40,
   "metadata": {
    "scrolled": false
   },
   "outputs": [
    {
     "data": {
      "text/plain": [
       "'person convicted state elsewhere committing attempting commit crime violence misdemeanor offense domestic violence violent offense listed section anyone subject valid protection order domestic abuse anyone unsound mind shall pistol firearm one possession control'"
      ]
     },
     "execution_count": 40,
     "metadata": {},
     "output_type": "execute_result"
    }
   ],
   "source": [
    "full_law['Content_cleaned'][4]"
   ]
  },
  {
   "cell_type": "code",
   "execution_count": 41,
   "metadata": {
    "scrolled": false
   },
   "outputs": [
    {
     "name": "stderr",
     "output_type": "stream",
     "text": [
      "All model checkpoint layers were used when initializing TFBertForSequenceClassification.\n",
      "\n",
      "Some layers of TFBertForSequenceClassification were not initialized from the model checkpoint at nlpaueb/legal-bert-small-uncased and are newly initialized: ['classifier']\n",
      "You should probably TRAIN this model on a down-stream task to be able to use it for predictions and inference.\n"
     ]
    }
   ],
   "source": [
    "#Get the hugging face sentiment analysis model going - LEGAL BERT\n",
    "\n",
    "#!pip install transformers\n",
    "from transformers import pipeline\n",
    "sentiment_pipeline = pipeline(\"sentiment-analysis\", model=\"nlpaueb/legal-bert-small-uncased\")"
   ]
  },
  {
   "cell_type": "code",
   "execution_count": 42,
   "metadata": {
    "scrolled": true
   },
   "outputs": [
    {
     "data": {
      "text/plain": [
       "0    {'label': 'LABEL_0', 'score': 0.5286481976509094}\n",
       "1     {'label': 'LABEL_0', 'score': 0.554276704788208}\n",
       "2      {'label': 'LABEL_0', 'score': 0.50887531042099}\n",
       "3    {'label': 'LABEL_0', 'score': 0.5334082245826721}\n",
       "4    {'label': 'LABEL_0', 'score': 0.5689073204994202}\n",
       "Name: sentiment, dtype: object"
      ]
     },
     "execution_count": 42,
     "metadata": {},
     "output_type": "execute_result"
    }
   ],
   "source": [
    "#Sentiment Analysis\n",
    "#1.) Issues with BERT processing text over 2500 characters long, so just cut it down\n",
    "full_law['len_text'] = full_law['Content_cleaned'].apply(lambda x: len(x))\n",
    "full_law = full_law[full_law['len_text']<2500]\n",
    "\n",
    "#2.) Convert to list since BERT will only work lists\n",
    "col_list = full_law['Content_cleaned'].values.tolist()\n",
    "\n",
    "#3.) Process sentiment analysis and place back into dataframe\n",
    "full_law['sentiment'] = sentiment_pipeline(col_list)\n",
    "\n",
    "#4.) Display results\n",
    "full_law['sentiment'].head()"
   ]
  },
  {
   "cell_type": "code",
   "execution_count": 43,
   "metadata": {},
   "outputs": [
    {
     "data": {
      "text/plain": [
       "671"
      ]
     },
     "execution_count": 43,
     "metadata": {},
     "output_type": "execute_result"
    }
   ],
   "source": [
    "#Check # rows after we cut out some overly long texts\n",
    "test = full_law[full_law['len_text']<2500]\n",
    "test.shape[0]\n",
    "#test.head()"
   ]
  },
  {
   "cell_type": "code",
   "execution_count": 44,
   "metadata": {
    "scrolled": true
   },
   "outputs": [
    {
     "name": "stdout",
     "output_type": "stream",
     "text": [
      "0    0.528648\n",
      "1    0.554277\n",
      "Name: sentiment_score, dtype: float64\n"
     ]
    }
   ],
   "source": [
    "#Parse out pieces we want from sentiment column\n",
    "# full_law['sentiment_label'] = [x['label'] for x in full_law['sentiment']]\n",
    "full_law['sentiment_score'] = [x['score'] for x in full_law['sentiment']]\n",
    "\n",
    "# #Display results\n",
    "# print(full_law['sentiment_label'].head(2))\n",
    "print(full_law['sentiment_score'].head(2))"
   ]
  },
  {
   "cell_type": "code",
   "execution_count": 45,
   "metadata": {},
   "outputs": [
    {
     "data": {
      "text/plain": [
       "<AxesSubplot:>"
      ]
     },
     "execution_count": 45,
     "metadata": {},
     "output_type": "execute_result"
    },
    {
     "data": {
      "image/png": "[encoded data removed]",
      "text/plain": [
       "<Figure size 864x576 with 1 Axes>"
      ]
     },
     "metadata": {
      "needs_background": "light"
     },
     "output_type": "display_data"
    }
   ],
   "source": [
    "#Check out distribution of sentiment score using LEGAL BERT\n",
    "full_law['sentiment_score'].hist()"
   ]
  },
  {
   "cell_type": "code",
   "execution_count": 46,
   "metadata": {},
   "outputs": [
    {
     "data": {
      "text/plain": [
       "(9, 18)"
      ]
     },
     "execution_count": 46,
     "metadata": {},
     "output_type": "execute_result"
    }
   ],
   "source": [
    "#Test this out for Alabama\n",
    "state = full_law[full_law['State']==\"Alabama\"]\n",
    "state.shape"
   ]
  },
  {
   "cell_type": "code",
   "execution_count": 47,
   "metadata": {},
   "outputs": [
    {
     "data": {
      "text/plain": [
       "'person minor except circumstances provided section drug addict habitual drunkard shall pistol one possession control'"
      ]
     },
     "execution_count": 47,
     "metadata": {},
     "output_type": "execute_result"
    }
   ],
   "source": [
    "#Take content column and convert to a list\n",
    "state_docs = state['Content_cleaned'].tolist()\n",
    "state_docs[1]"
   ]
  },
  {
   "cell_type": "code",
   "execution_count": 48,
   "metadata": {},
   "outputs": [
    {
     "data": {
      "text/html": [
       "<div>\n",
       "<style scoped>\n",
       "    .dataframe tbody tr th:only-of-type {\n",
       "        vertical-align: middle;\n",
       "    }\n",
       "\n",
       "    .dataframe tbody tr th {\n",
       "        vertical-align: top;\n",
       "    }\n",
       "\n",
       "    .dataframe thead th {\n",
       "        text-align: right;\n",
       "    }\n",
       "</style>\n",
       "<table border=\"1\" class=\"dataframe\">\n",
       "  <thead>\n",
       "    <tr style=\"text-align: right;\">\n",
       "      <th></th>\n",
       "      <th>abuse</th>\n",
       "      <th>act</th>\n",
       "      <th>active</th>\n",
       "      <th>activity</th>\n",
       "      <th>addict</th>\n",
       "      <th>administration</th>\n",
       "      <th>affairs</th>\n",
       "      <th>anyone</th>\n",
       "      <th>apply</th>\n",
       "      <th>attempting</th>\n",
       "      <th>...</th>\n",
       "      <th>valid</th>\n",
       "      <th>verified</th>\n",
       "      <th>veterans</th>\n",
       "      <th>violate</th>\n",
       "      <th>violation</th>\n",
       "      <th>violence</th>\n",
       "      <th>violent</th>\n",
       "      <th>within</th>\n",
       "      <th>without</th>\n",
       "      <th>would</th>\n",
       "    </tr>\n",
       "  </thead>\n",
       "  <tbody>\n",
       "    <tr>\n",
       "      <th>0</th>\n",
       "      <td>0</td>\n",
       "      <td>0</td>\n",
       "      <td>0</td>\n",
       "      <td>1</td>\n",
       "      <td>0</td>\n",
       "      <td>0</td>\n",
       "      <td>0</td>\n",
       "      <td>0</td>\n",
       "      <td>0</td>\n",
       "      <td>0</td>\n",
       "      <td>...</td>\n",
       "      <td>0</td>\n",
       "      <td>0</td>\n",
       "      <td>0</td>\n",
       "      <td>0</td>\n",
       "      <td>0</td>\n",
       "      <td>0</td>\n",
       "      <td>0</td>\n",
       "      <td>0</td>\n",
       "      <td>0</td>\n",
       "      <td>0</td>\n",
       "    </tr>\n",
       "    <tr>\n",
       "      <th>1</th>\n",
       "      <td>0</td>\n",
       "      <td>0</td>\n",
       "      <td>0</td>\n",
       "      <td>0</td>\n",
       "      <td>1</td>\n",
       "      <td>0</td>\n",
       "      <td>0</td>\n",
       "      <td>0</td>\n",
       "      <td>0</td>\n",
       "      <td>0</td>\n",
       "      <td>...</td>\n",
       "      <td>0</td>\n",
       "      <td>0</td>\n",
       "      <td>0</td>\n",
       "      <td>0</td>\n",
       "      <td>0</td>\n",
       "      <td>0</td>\n",
       "      <td>0</td>\n",
       "      <td>0</td>\n",
       "      <td>0</td>\n",
       "      <td>0</td>\n",
       "    </tr>\n",
       "    <tr>\n",
       "      <th>2</th>\n",
       "      <td>0</td>\n",
       "      <td>0</td>\n",
       "      <td>1</td>\n",
       "      <td>0</td>\n",
       "      <td>0</td>\n",
       "      <td>0</td>\n",
       "      <td>0</td>\n",
       "      <td>0</td>\n",
       "      <td>1</td>\n",
       "      <td>0</td>\n",
       "      <td>...</td>\n",
       "      <td>0</td>\n",
       "      <td>0</td>\n",
       "      <td>0</td>\n",
       "      <td>0</td>\n",
       "      <td>0</td>\n",
       "      <td>0</td>\n",
       "      <td>0</td>\n",
       "      <td>0</td>\n",
       "      <td>1</td>\n",
       "      <td>0</td>\n",
       "    </tr>\n",
       "    <tr>\n",
       "      <th>3</th>\n",
       "      <td>0</td>\n",
       "      <td>0</td>\n",
       "      <td>0</td>\n",
       "      <td>0</td>\n",
       "      <td>0</td>\n",
       "      <td>0</td>\n",
       "      <td>0</td>\n",
       "      <td>0</td>\n",
       "      <td>0</td>\n",
       "      <td>0</td>\n",
       "      <td>...</td>\n",
       "      <td>0</td>\n",
       "      <td>0</td>\n",
       "      <td>0</td>\n",
       "      <td>0</td>\n",
       "      <td>0</td>\n",
       "      <td>0</td>\n",
       "      <td>0</td>\n",
       "      <td>0</td>\n",
       "      <td>0</td>\n",
       "      <td>0</td>\n",
       "    </tr>\n",
       "    <tr>\n",
       "      <th>4</th>\n",
       "      <td>1</td>\n",
       "      <td>0</td>\n",
       "      <td>0</td>\n",
       "      <td>0</td>\n",
       "      <td>0</td>\n",
       "      <td>0</td>\n",
       "      <td>0</td>\n",
       "      <td>2</td>\n",
       "      <td>0</td>\n",
       "      <td>1</td>\n",
       "      <td>...</td>\n",
       "      <td>1</td>\n",
       "      <td>0</td>\n",
       "      <td>0</td>\n",
       "      <td>0</td>\n",
       "      <td>0</td>\n",
       "      <td>2</td>\n",
       "      <td>1</td>\n",
       "      <td>0</td>\n",
       "      <td>0</td>\n",
       "      <td>0</td>\n",
       "    </tr>\n",
       "  </tbody>\n",
       "</table>\n",
       "<p>5 rows × 229 columns</p>\n",
       "</div>"
      ],
      "text/plain": [
       "   abuse  act  active  activity  addict  administration  affairs  anyone  \\\n",
       "0      0    0       0         1       0               0        0       0   \n",
       "1      0    0       0         0       1               0        0       0   \n",
       "2      0    0       1         0       0               0        0       0   \n",
       "3      0    0       0         0       0               0        0       0   \n",
       "4      1    0       0         0       0               0        0       2   \n",
       "\n",
       "   apply  attempting  ...  valid  verified  veterans  violate  violation  \\\n",
       "0      0           0  ...      0         0         0        0          0   \n",
       "1      0           0  ...      0         0         0        0          0   \n",
       "2      1           0  ...      0         0         0        0          0   \n",
       "3      0           0  ...      0         0         0        0          0   \n",
       "4      0           1  ...      1         0         0        0          0   \n",
       "\n",
       "   violence  violent  within  without  would  \n",
       "0         0        0       0        0      0  \n",
       "1         0        0       0        0      0  \n",
       "2         0        0       0        1      0  \n",
       "3         0        0       0        0      0  \n",
       "4         2        1       0        0      0  \n",
       "\n",
       "[5 rows x 229 columns]"
      ]
     },
     "execution_count": 48,
     "metadata": {},
     "output_type": "execute_result"
    }
   ],
   "source": [
    "# Create the Document Term Matrix\n",
    "from sklearn.feature_extraction.text import CountVectorizer\n",
    "\n",
    "count_vectorizer = CountVectorizer(stop_words='english')\n",
    "count_vectorizer = CountVectorizer()\n",
    "sparse_matrix = count_vectorizer.fit_transform(state_docs)\n",
    "\n",
    "# OPTIONAL: Convert Sparse Matrix to Pandas Dataframe if you want to see the word frequencies.\n",
    "doc_term_matrix = sparse_matrix.todense()\n",
    "df_test = pd.DataFrame(doc_term_matrix, \n",
    "                  columns=count_vectorizer.get_feature_names(), \n",
    "                  #index=['text_1', 'text_2', 'text_3']\n",
    "                      )\n",
    "df_test.head()"
   ]
  },
  {
   "cell_type": "code",
   "execution_count": 49,
   "metadata": {},
   "outputs": [
    {
     "data": {
      "text/html": [
       "<div>\n",
       "<style scoped>\n",
       "    .dataframe tbody tr th:only-of-type {\n",
       "        vertical-align: middle;\n",
       "    }\n",
       "\n",
       "    .dataframe tbody tr th {\n",
       "        vertical-align: top;\n",
       "    }\n",
       "\n",
       "    .dataframe thead th {\n",
       "        text-align: right;\n",
       "    }\n",
       "</style>\n",
       "<table border=\"1\" class=\"dataframe\">\n",
       "  <thead>\n",
       "    <tr style=\"text-align: right;\">\n",
       "      <th></th>\n",
       "      <th>AL1005</th>\n",
       "      <th>AL1012</th>\n",
       "      <th>AL1016</th>\n",
       "      <th>AL1019</th>\n",
       "      <th>AL1023</th>\n",
       "      <th>AL1024</th>\n",
       "      <th>AL1025</th>\n",
       "      <th>AL1031</th>\n",
       "      <th>AL1032</th>\n",
       "    </tr>\n",
       "  </thead>\n",
       "  <tbody>\n",
       "    <tr>\n",
       "      <th>0</th>\n",
       "      <td>1.000000</td>\n",
       "      <td>0.050637</td>\n",
       "      <td>0.026688</td>\n",
       "      <td>0.0</td>\n",
       "      <td>0.030628</td>\n",
       "      <td>0.039825</td>\n",
       "      <td>0.051209</td>\n",
       "      <td>0.035881</td>\n",
       "      <td>0.044475</td>\n",
       "    </tr>\n",
       "    <tr>\n",
       "      <th>1</th>\n",
       "      <td>0.050637</td>\n",
       "      <td>1.000000</td>\n",
       "      <td>0.140546</td>\n",
       "      <td>0.0</td>\n",
       "      <td>0.282267</td>\n",
       "      <td>0.209729</td>\n",
       "      <td>0.179787</td>\n",
       "      <td>0.059049</td>\n",
       "      <td>0.136626</td>\n",
       "    </tr>\n",
       "    <tr>\n",
       "      <th>2</th>\n",
       "      <td>0.026688</td>\n",
       "      <td>0.140546</td>\n",
       "      <td>1.000000</td>\n",
       "      <td>0.0</td>\n",
       "      <td>0.106263</td>\n",
       "      <td>0.096720</td>\n",
       "      <td>0.082911</td>\n",
       "      <td>0.074691</td>\n",
       "      <td>0.102869</td>\n",
       "    </tr>\n",
       "    <tr>\n",
       "      <th>3</th>\n",
       "      <td>0.000000</td>\n",
       "      <td>0.000000</td>\n",
       "      <td>0.000000</td>\n",
       "      <td>1.0</td>\n",
       "      <td>0.000000</td>\n",
       "      <td>0.000000</td>\n",
       "      <td>0.000000</td>\n",
       "      <td>0.000000</td>\n",
       "      <td>0.000000</td>\n",
       "    </tr>\n",
       "    <tr>\n",
       "      <th>4</th>\n",
       "      <td>0.030628</td>\n",
       "      <td>0.282267</td>\n",
       "      <td>0.106263</td>\n",
       "      <td>0.0</td>\n",
       "      <td>1.000000</td>\n",
       "      <td>0.745281</td>\n",
       "      <td>0.652473</td>\n",
       "      <td>0.050003</td>\n",
       "      <td>0.153473</td>\n",
       "    </tr>\n",
       "    <tr>\n",
       "      <th>5</th>\n",
       "      <td>0.039825</td>\n",
       "      <td>0.209729</td>\n",
       "      <td>0.096720</td>\n",
       "      <td>0.0</td>\n",
       "      <td>0.745281</td>\n",
       "      <td>1.000000</td>\n",
       "      <td>0.751184</td>\n",
       "      <td>0.069661</td>\n",
       "      <td>0.161181</td>\n",
       "    </tr>\n",
       "    <tr>\n",
       "      <th>6</th>\n",
       "      <td>0.051209</td>\n",
       "      <td>0.179787</td>\n",
       "      <td>0.082911</td>\n",
       "      <td>0.0</td>\n",
       "      <td>0.652473</td>\n",
       "      <td>0.751184</td>\n",
       "      <td>1.000000</td>\n",
       "      <td>0.079621</td>\n",
       "      <td>0.157908</td>\n",
       "    </tr>\n",
       "    <tr>\n",
       "      <th>7</th>\n",
       "      <td>0.035881</td>\n",
       "      <td>0.059049</td>\n",
       "      <td>0.074691</td>\n",
       "      <td>0.0</td>\n",
       "      <td>0.050003</td>\n",
       "      <td>0.069661</td>\n",
       "      <td>0.079621</td>\n",
       "      <td>1.000000</td>\n",
       "      <td>0.352669</td>\n",
       "    </tr>\n",
       "    <tr>\n",
       "      <th>8</th>\n",
       "      <td>0.044475</td>\n",
       "      <td>0.136626</td>\n",
       "      <td>0.102869</td>\n",
       "      <td>0.0</td>\n",
       "      <td>0.153473</td>\n",
       "      <td>0.161181</td>\n",
       "      <td>0.157908</td>\n",
       "      <td>0.352669</td>\n",
       "      <td>1.000000</td>\n",
       "    </tr>\n",
       "  </tbody>\n",
       "</table>\n",
       "</div>"
      ],
      "text/plain": [
       "     AL1005    AL1012    AL1016  AL1019    AL1023    AL1024    AL1025  \\\n",
       "0  1.000000  0.050637  0.026688     0.0  0.030628  0.039825  0.051209   \n",
       "1  0.050637  1.000000  0.140546     0.0  0.282267  0.209729  0.179787   \n",
       "2  0.026688  0.140546  1.000000     0.0  0.106263  0.096720  0.082911   \n",
       "3  0.000000  0.000000  0.000000     1.0  0.000000  0.000000  0.000000   \n",
       "4  0.030628  0.282267  0.106263     0.0  1.000000  0.745281  0.652473   \n",
       "5  0.039825  0.209729  0.096720     0.0  0.745281  1.000000  0.751184   \n",
       "6  0.051209  0.179787  0.082911     0.0  0.652473  0.751184  1.000000   \n",
       "7  0.035881  0.059049  0.074691     0.0  0.050003  0.069661  0.079621   \n",
       "8  0.044475  0.136626  0.102869     0.0  0.153473  0.161181  0.157908   \n",
       "\n",
       "     AL1031    AL1032  \n",
       "0  0.035881  0.044475  \n",
       "1  0.059049  0.136626  \n",
       "2  0.074691  0.102869  \n",
       "3  0.000000  0.000000  \n",
       "4  0.050003  0.153473  \n",
       "5  0.069661  0.161181  \n",
       "6  0.079621  0.157908  \n",
       "7  1.000000  0.352669  \n",
       "8  0.352669  1.000000  "
      ]
     },
     "execution_count": 49,
     "metadata": {},
     "output_type": "execute_result"
    }
   ],
   "source": [
    "from sklearn.metrics.pairwise import cosine_similarity\n",
    "array = cosine_similarity(df_test, df_test)\n",
    "\n",
    "matrix = pd.DataFrame(array,columns=state['Law ID'].tolist()) \n",
    "matrix"
   ]
  },
  {
   "cell_type": "code",
   "execution_count": 50,
   "metadata": {
    "scrolled": true
   },
   "outputs": [
    {
     "data": {
      "image/png": "[encoded data removed]",
      "text/plain": [
       "<Figure size 864x576 with 2 Axes>"
      ]
     },
     "metadata": {
      "needs_background": "light"
     },
     "output_type": "display_data"
    }
   ],
   "source": [
    "#Cosine similarity matrix of text of laws in Alabama\n",
    "import seaborn as sn\n",
    "import matplotlib.pyplot as plt\n",
    "plt.rcParams[\"figure.figsize\"] = [12,8]\n",
    "\n",
    "corrMatrix = matrix.corr()\n",
    "sn.heatmap(corrMatrix, annot=True,cmap=\"RdBu\",vmax=1,vmin=-1)\n",
    "plt.show()"
   ]
  },
  {
   "cell_type": "code",
   "execution_count": null,
   "metadata": {},
   "outputs": [],
   "source": [
    "test1 = full_law[full_law['Law ID']==\"AL1023\"]\n",
    "test2 = full_law[full_law['Law ID']==\"AL1024\"]"
   ]
  }
 ],
 "metadata": {
  "kernelspec": {
   "display_name": "Python 3",
   "language": "python",
   "name": "python3"
  },
  "language_info": {
   "codemirror_mode": {
    "name": "ipython",
    "version": 3
   },
   "file_extension": ".py",
   "mimetype": "text/x-python",
   "name": "python",
   "nbconvert_exporter": "python",
   "pygments_lexer": "ipython3",
   "version": "3.8.3"
  }
 },
 "nbformat": 4,
 "nbformat_minor": 2
}
